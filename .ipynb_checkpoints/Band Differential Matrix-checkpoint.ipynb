{
 "cells": [
  {
   "cell_type": "markdown",
   "metadata": {},
   "source": [
    "In this file, we make a banded second differential matrix using julia, with an optional argument for boundary conditions. "
   ]
  },
  {
   "cell_type": "code",
   "execution_count": 15,
   "metadata": {},
   "outputs": [
    {
     "name": "stdout",
     "output_type": "stream",
     "text": [
      "[-2.0 1.0 0.0 0.0 0.0 0.0; 1.0 -2.0 1.0 0.0 0.0 0.0; 0.0 1.0 -2.0 1.0 0.0 0.0; 0.0 0.0 1.0 -2.0 1.0 0.0; 0.0 0.0 0.0 1.0 -2.0 0.0; 0.0 0.0 0.0 0.0 0.0 -2.0]\n",
      "[-2.0 1.0 0.0 0.0 0.0 0.0 0.0 0.0 0.0 0.0; 1.0 -2.0 1.0 0.0 0.0 0.0 0.0 0.0 0.0 0.0; 0.0 1.0 -2.0 1.0 0.0 0.0 0.0 0.0 0.0 0.0; 0.0 0.0 1.0 -2.0 1.0 0.0 0.0 0.0 0.0 0.0; 0.0 0.0 0.0 1.0 -2.0 1.0 0.0 0.0 0.0 0.0; 0.0 0.0 0.0 0.0 1.0 -2.0 1.0 0.0 0.0 0.0; 0.0 0.0 0.0 0.0 0.0 1.0 -2.0 1.0 0.0 0.0; 0.0 0.0 0.0 0.0 0.0 0.0 1.0 -2.0 1.0 0.0; 0.0 0.0 0.0 0.0 0.0 0.0 0.0 1.0 -2.0 0.0; 0.0 0.0 0.0 0.0 0.0 0.0 0.0 0.0 0.0 -2.0]\n"
     ]
    }
   ],
   "source": [
    "function GetDiffMatrix(n; z = 0) \n",
    "    # when z is zero, there boundary is not set at all.\n",
    "    A = zeros(n, n)\n",
    "        if z == 0\n",
    "        for II = 1: n - 1\n",
    "           A[II, II]  = -2\n",
    "        end\n",
    "        for II = 1: n-2\n",
    "           A[II + 1, II]  = 1\n",
    "           A[II, II + 1] = 1\n",
    "        end\n",
    "    end\n",
    "    return A\n",
    "end\n",
    "\n",
    "println(GetDiffMatrix(6))\n",
    "println(GetDiffMatrix(10))"
   ]
  }
 ],
 "metadata": {
  "kernelspec": {
   "display_name": "Julia 1.5.3",
   "language": "julia",
   "name": "julia-1.5"
  },
  "language_info": {
   "file_extension": ".jl",
   "mimetype": "application/julia",
   "name": "julia",
   "version": "1.5.3"
  }
 },
 "nbformat": 4,
 "nbformat_minor": 4
}
