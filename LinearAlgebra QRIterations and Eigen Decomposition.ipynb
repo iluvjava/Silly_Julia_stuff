{
 "metadata": {
  "language_info": {
   "codemirror_mode": {
    "name": "ipython",
    "version": 3
   },
   "file_extension": ".py",
   "mimetype": "text/x-python",
   "name": "python",
   "nbconvert_exporter": "python",
   "pygments_lexer": "ipython3",
   "version": "3.7.7-final"
  },
  "orig_nbformat": 2,
  "kernelspec": {
   "name": "julia-1.5",
   "display_name": "Julia 1.5.3",
   "language": "julia"
  }
 },
 "nbformat": 4,
 "nbformat_minor": 2,
 "cells": [
  {
   "source": [
    "The Pure QR algorithm is a way of doing similarity transform on a matrix to a Hessenberg Triangular form. \n"
   ],
   "cell_type": "markdown",
   "metadata": {}
  },
  {
   "cell_type": "code",
   "execution_count": 1,
   "metadata": {},
   "outputs": [
    {
     "output_type": "execute_result",
     "data": {
      "text/plain": [
       "pureQR (generic function with 1 method)"
      ]
     },
     "metadata": {},
     "execution_count": 1
    }
   ],
   "source": [
    "using LinearAlgebra\n",
    "function pureQR(itr::Int64, m::AbstractArray{<: Number})\n",
    "    Ak = copy(m)\n",
    "    for k = 1: itr\n",
    "        F = qr(Ak)\n",
    "        Ak = F.R*F.Q\n",
    "    end\n",
    "    return Ak\n",
    "end"
   ]
  },
  {
   "cell_type": "code",
   "execution_count": 5,
   "metadata": {},
   "outputs": [
    {
     "output_type": "display_data",
     "data": {
      "text/plain": "4×4 Array{Float64,2}:\n 2.05396      -0.377067    -0.347036    0.206719\n 1.00221e-7    0.211567     0.6091      0.328255\n 1.41448e-8   -0.0624736    0.373266    0.234181\n 2.25223e-12  -9.36105e-6   4.58362e-5  0.138509"
     },
     "metadata": {}
    },
    {
     "output_type": "display_data",
     "data": {
      "text/plain": "4×4 Array{Float64,2}:\n 2.05396       0.212472     0.466309      0.20678\n 3.42025e-31   0.0401855    0.468567     -0.211292\n 1.13107e-31  -0.203057     0.54469      -0.343313\n 1.64131e-47  -2.77291e-17  6.51825e-17   0.138466"
     },
     "metadata": {}
    }
   ],
   "source": [
    "M = rand(4, 4)\n",
    "display(pureQR(10, M))\n",
    "display(pureQR(40, M))\n"
   ]
  },
  {
   "source": [
    "As we can see, we have the matrix approaching HessenBurg Triagular form after the iteration. \n",
    "\n",
    "But the interesting thing is, this QR algorithm is actually equivalent to simultaneous iteration! \n",
    "\n"
   ],
   "cell_type": "markdown",
   "metadata": {}
  }
 ]
}