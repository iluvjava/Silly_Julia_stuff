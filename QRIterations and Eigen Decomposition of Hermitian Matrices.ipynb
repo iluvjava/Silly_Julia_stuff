{
 "metadata": {
  "language_info": {
   "codemirror_mode": {
    "name": "ipython",
    "version": 3
   },
   "file_extension": ".py",
   "mimetype": "text/x-python",
   "name": "python",
   "nbconvert_exporter": "python",
   "pygments_lexer": "ipython3",
   "version": "3.7.7-final"
  },
  "orig_nbformat": 2,
  "kernelspec": {
   "name": "julia-1.5",
   "display_name": "Julia 1.5.3",
   "language": "julia"
  }
 },
 "nbformat": 4,
 "nbformat_minor": 2,
 "cells": [
  {
   "source": [
    "The Pure QR algorithm is a way of doing similarity transform on a matrix to a Hessenberg Triangular form. \n"
   ],
   "cell_type": "markdown",
   "metadata": {}
  },
  {
   "cell_type": "code",
   "execution_count": 25,
   "metadata": {},
   "outputs": [
    {
     "output_type": "execute_result",
     "data": {
      "text/plain": [
       "SimultaneousItr (generic function with 1 method)"
      ]
     },
     "metadata": {},
     "execution_count": 25
    }
   ],
   "source": [
    "using LinearAlgebra\n",
    "function RandHermitianMatrix(n)\n",
    "    M = rand(n, n)\n",
    "    M = triu(M)\n",
    "    M = M + M'\n",
    "    return M\n",
    "end\n",
    "\n",
    "function pureQR(itr::Int64, m::AbstractArray{<: Number})\n",
    "    Ak = copy(m)\n",
    "    for k = 1: itr\n",
    "        F = qr(Ak)\n",
    "        Ak = F.R*F.Q\n",
    "    end\n",
    "    return Ak\n",
    "end\n",
    "\n",
    "function SimultaneousItr(itr::Int64, m::AbstractArray{<:Number}) \n",
    "    Q = I\n",
    "    A = copy(m)\n",
    "    for II = 1: itr\n",
    "        Z = A*Q\n",
    "        F = qr(Z)  # Not Modified Gram schimt, will it still work?\n",
    "        Q = F.Q        \n",
    "    end\n",
    "    return Q'*A*Q, Q\n",
    "end"
   ]
  },
  {
   "cell_type": "code",
   "execution_count": 5,
   "metadata": {},
   "outputs": [
    {
     "output_type": "display_data",
     "data": {
      "text/plain": "4×4 Array{Float64,2}:\n 2.05396      -0.377067    -0.347036    0.206719\n 1.00221e-7    0.211567     0.6091      0.328255\n 1.41448e-8   -0.0624736    0.373266    0.234181\n 2.25223e-12  -9.36105e-6   4.58362e-5  0.138509"
     },
     "metadata": {}
    },
    {
     "output_type": "display_data",
     "data": {
      "text/plain": "4×4 Array{Float64,2}:\n 2.05396       0.212472     0.466309      0.20678\n 3.42025e-31   0.0401855    0.468567     -0.211292\n 1.13107e-31  -0.203057     0.54469      -0.343313\n 1.64131e-47  -2.77291e-17  6.51825e-17   0.138466"
     },
     "metadata": {}
    }
   ],
   "source": [
    "M = rand(4, 4)\n",
    "display(pureQR(10, M))\n",
    "display(pureQR(40, M))\n"
   ]
  },
  {
   "source": [
    "As we can see, we have the matrix approaching HessenBurg Triagular form after the iteration. But the interesting thing is, this QR algorithm is actually equivalent to simultaneous iteration! \n",
    "\n",
    "The simualtenous iterations is an augmentation of the power iteration method, it exploit the fact that, the magnitude of the eigenvalues can be different, which adds to its speed of convergence. The rate of convergen is 1st order tho. \n",
    "\n",
    "The key is to project the iterations vectors onto itself and keep them orthogonal. However it only really applies to Hermitian Matrix...\n",
    "\n",
    "\n"
   ],
   "cell_type": "markdown",
   "metadata": {}
  },
  {
   "cell_type": "code",
   "execution_count": 29,
   "metadata": {},
   "outputs": [
    {
     "output_type": "display_data",
     "data": {
      "text/plain": "\"SimultaneousItr Eigenvalues: \""
     },
     "metadata": {}
    },
    {
     "output_type": "display_data",
     "data": {
      "text/plain": "5-element Array{Float64,1}:\n  3.315803357210551\n -0.7322953712917605\n  0.5906386696556647\n  0.44400063231713405\n -0.23714136184611365"
     },
     "metadata": {}
    },
    {
     "output_type": "display_data",
     "data": {
      "text/plain": "\"SimultaneousItr Eigenvectors: \""
     },
     "metadata": {}
    },
    {
     "output_type": "display_data",
     "data": {
      "text/plain": "5×5 LinearAlgebra.QRCompactWYQ{Float64,Array{Float64,2}}:\n -0.191311  -0.357417  -0.0879577   0.893536  -0.171787\n -0.480036  -0.233159   0.769215   -0.178522  -0.302721\n -0.21577    0.267962  -0.413083   -0.13955   -0.831581\n -0.372275   0.826696   0.177993    0.311241   0.222335\n -0.740149  -0.25032   -0.445256   -0.231038   0.371334"
     },
     "metadata": {}
    },
    {
     "output_type": "display_data",
     "data": {
      "text/plain": "\"The correct answer from julia: \""
     },
     "metadata": {}
    },
    {
     "output_type": "display_data",
     "data": {
      "text/plain": "Eigen{Float64,Float64,Array{Float64,2},Array{Float64,1}}\nvalues:\n5-element Array{Float64,1}:\n -0.7322954713315954\n -0.2371413618461145\n  0.4440006322996741\n  0.590638769712958\n  3.315803357210548\nvectors:\n5×5 Array{Float64,2}:\n  0.357393  -0.171787   0.893537  -0.0880463  0.191311\n  0.23337   -0.302721  -0.178531   0.769149   0.480036\n -0.268076  -0.831581  -0.139546  -0.413011   0.21577\n -0.826647   0.222335   0.311239   0.178224   0.372275\n  0.250198   0.371334  -0.231033  -0.445327   0.740149"
     },
     "metadata": {}
    }
   ],
   "source": [
    "M = RandHermitianMatrix(5)\n",
    "D, V = SimultaneousItr(40, M)\n",
    "display(\"SimultaneousItr Eigenvalues: \")\n",
    "display(diag(D))\n",
    "display(\"SimultaneousItr Eigenvectors: \")\n",
    "display(V)\n",
    "display(\"The correct answer from julia: \")\n",
    "display(eigen(M))"
   ]
  },
  {
   "source": [
    "### Tridiagonal Hermitian Matrices \n",
    "\n",
    "* If the matrix is Hermitian and it's Tridiagonal and it has non-zero sub diagonals, then the matrix has unique engen values and each eigen values has geometric multiplicity of one. It also has the properties of Hermitian Matrix. "
   ],
   "cell_type": "markdown",
   "metadata": {}
  }
 ]
}