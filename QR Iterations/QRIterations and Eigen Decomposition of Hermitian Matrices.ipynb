{
 "metadata": {
  "language_info": {
   "codemirror_mode": {
    "name": "ipython",
    "version": 3
   },
   "file_extension": ".py",
   "mimetype": "text/x-python",
   "name": "python",
   "nbconvert_exporter": "python",
   "pygments_lexer": "ipython3",
   "version": "3.7.7-final"
  },
  "orig_nbformat": 2,
  "kernelspec": {
   "name": "julia-1.5",
   "display_name": "Julia 1.5.3",
   "language": "julia"
  }
 },
 "nbformat": 4,
 "nbformat_minor": 2,
 "cells": [
  {
   "source": [
    "The Pure QR algorithm is a way of doing similarity transform on a matrix to a Hessenberg Triangular form. \n"
   ],
   "cell_type": "markdown",
   "metadata": {}
  },
  {
   "source": [
    "As we can see, we have the matrix approaching HessenBurg Triagular form after the iteration. But the interesting thing is, this QR algorithm is actually equivalent to simultaneous iteration! \n",
    "\n",
    "The simualtenous iterations is an augmentation of the power iteration method, it exploit the fact that, the magnitude of the eigenvalues can be different, which adds to its speed of convergence. The rate of convergen is 1st order tho. \n",
    "\n",
    "The key is to project the iterations vectors onto itself and keep them orthogonal. However it only really applies to Hermitian Matrix...\n",
    "\n",
    "\n"
   ],
   "cell_type": "markdown",
   "metadata": {}
  },
  {
   "source": [
    "### This is a collections of all the methods we are going to use for this file. "
   ],
   "cell_type": "markdown",
   "metadata": {}
  },
  {
   "cell_type": "code",
   "execution_count": 2,
   "metadata": {},
   "outputs": [
    {
     "output_type": "execute_result",
     "data": {
      "text/plain": [
       "PureQRAuto (generic function with 1 method)"
      ]
     },
     "metadata": {},
     "execution_count": 2
    }
   ],
   "source": [
    "using LinearAlgebra\n",
    "function RandHermitianMatrix(n)\n",
    "    M = rand(n, n)\n",
    "    M = triu(M)\n",
    "    M = M + M'\n",
    "    return M\n",
    "end\n",
    "\n",
    "function pureQR(itr::Int64, m::AbstractArray{<: Number})\n",
    "    Ak = copy(m)\n",
    "    Q = I\n",
    "    for k = 1: itr\n",
    "        F = qr(Ak)\n",
    "        Ak = F.R*F.Q\n",
    "        Q *= Q*F.Q\n",
    "    end\n",
    "    return Ak, Q\n",
    "end\n",
    "\n",
    "function SimultaneousItr(itr::Int64, m::AbstractArray{<:Number}) \n",
    "    Q = I\n",
    "    A = copy(m)\n",
    "    for II = 1: itr\n",
    "        Z = A*Q\n",
    "        F = qr(Z)  # Not Modified Gram schimt, will it still work?\n",
    "        Q = F.Q        \n",
    "    end\n",
    "    return Q'*A*Q, Q\n",
    "end\n",
    "\n",
    "function RandTridiognalHermitian(n:: Int64)\n",
    "    Result = zeros(n, n)\n",
    "    for II = 1: n\n",
    "        Result[II, II] = rand()\n",
    "    end\n",
    "    RandomArray = rand(1, n - 1)\n",
    "    for JJ = 1: n - 1\n",
    "        Result[JJ, JJ + 1] = RandomArray[JJ]\n",
    "        Result[JJ + 1, JJ] = RandomArray[JJ]\n",
    "    end\n",
    "    return Result\n",
    "end\n",
    "\n",
    "function PureQRAuto(m::AbstractArray{<:Number}; Abstol:: Number=1e-6)\n",
    "    if m' != m\n",
    "        throw(\"Matrix is not hermitial, don't use PureQRAuto.\")\n",
    "    end \n",
    "    MaxItr = 1e4; Counter = 0;\n",
    "    A = copy(m)\n",
    "    Q = I\n",
    "    while norm(A - Diagonal(A), Inf) > Abstol && Counter < MaxItr\n",
    "        Decomp = qr(A)\n",
    "        Q     *= Q*Decomp.Q\n",
    "        A      = Decomp.R*Decomp.Q\n",
    "        Counter += 1\n",
    "    end\n",
    "    print(\"Error infinity norm: \", norm(A - Diagonal(A), Inf))\n",
    "    return diag(A), Q\n",
    "end\n"
   ]
  },
  {
   "cell_type": "code",
   "execution_count": 34,
   "metadata": {},
   "outputs": [
    {
     "output_type": "display_data",
     "data": {
      "text/plain": "4×4 Array{Float64,2}:\n  2.04018      -0.123925    -0.318286    -0.00543013\n  7.93811e-5    0.725978     0.315815    -0.195839\n -1.80078e-10   2.93742e-5  -0.261866    -0.691081\n -3.06615e-12  -5.49906e-8   0.00119709   0.149206"
     },
     "metadata": {}
    },
    {
     "output_type": "display_data",
     "data": {
      "text/plain": "4×4 Array{Float64,2}:\n  2.04017      -0.124014     -0.318246     -0.00637333\n  2.73976e-18   0.725995      0.316376     -0.194934\n -2.64104e-37   1.20946e-18  -0.259853     -0.692272\n -1.69915e-46  -8.82944e-29   4.65343e-11   0.147184"
     },
     "metadata": {}
    }
   ],
   "source": [
    "M = rand(4, 4)\n",
    "display(pureQR(10, M)[1])\n",
    "display(pureQR(40, M)[1])\n"
   ]
  },
  {
   "cell_type": "code",
   "execution_count": 22,
   "metadata": {},
   "outputs": [
    {
     "output_type": "display_data",
     "data": {
      "text/plain": "\"SimultaneousItr Eigenvalues: \""
     },
     "metadata": {}
    },
    {
     "output_type": "display_data",
     "data": {
      "text/plain": "5-element Array{Float64,1}:\n  2.5663651689132605\n  1.2071520897836183\n  0.6664262537374328\n -0.45854841833765525\n -0.06428848684924954"
     },
     "metadata": {}
    },
    {
     "output_type": "display_data",
     "data": {
      "text/plain": "\"SimultaneousItr Eigenvectors: \""
     },
     "metadata": {}
    },
    {
     "output_type": "display_data",
     "data": {
      "text/plain": "5×5 LinearAlgebra.QRCompactWYQ{Float64,Array{Float64,2}}:\n -0.424221  -0.178875   0.305945    0.154959     -0.818795\n -0.624608  -0.609728   0.0695223   0.000965087   0.482973\n -0.28528    0.138596  -0.792146    0.515125     -0.0809725\n -0.326829   0.159171  -0.38008    -0.834294     -0.165351\n -0.49163    0.742759   0.360011    0.120776      0.249827"
     },
     "metadata": {}
    },
    {
     "output_type": "display_data",
     "data": {
      "text/plain": "\"The correct answer from julia: \""
     },
     "metadata": {}
    },
    {
     "output_type": "display_data",
     "data": {
      "text/plain": "Eigen{Float64,Float64,Array{Float64,2},Array{Float64,1}}\nvalues:\n5-element Array{Float64,1}:\n -0.45854841833765914\n -0.0642884868492502\n  0.6664262537374357\n  1.207152089783617\n  2.5663651689132587\nvectors:\n5×5 Array{Float64,2}:\n  0.154959      0.818795   -0.305945   -0.178875  -0.424221\n  0.000965083  -0.482973   -0.0695223  -0.609728  -0.624608\n  0.515126      0.0809725   0.792146    0.138596  -0.28528\n -0.834294      0.165351    0.38008     0.159171  -0.326829\n  0.120776     -0.249827   -0.360011    0.742759  -0.49163"
     },
     "metadata": {}
    }
   ],
   "source": [
    "M    = RandHermitianMatrix(5)\n",
    "D, V = SimultaneousItr(40, M)\n",
    "\n",
    "display(\"SimultaneousItr Eigenvalues: \")\n",
    "display(diag(D))\n",
    "display(\"SimultaneousItr Eigenvectors: \")\n",
    "display(V)\n",
    "display(\"The correct answer from julia: \")\n",
    "display(eigen(M))\n",
    "\n"
   ]
  },
  {
   "cell_type": "code",
   "execution_count": 44,
   "metadata": {},
   "outputs": [
    {
     "output_type": "display_data",
     "data": {
      "text/plain": "5×5 Array{Float64,2}:\n 0.874553  0.111751  0.0       0.0       0.0\n 0.111751  0.90972   0.766485  0.0       0.0\n 0.0       0.766485  0.362628  0.412029  0.0\n 0.0       0.0       0.412029  0.833455  0.707387\n 0.0       0.0       0.0       0.707387  0.303411"
     },
     "metadata": {}
    },
    {
     "output_type": "display_data",
     "data": {
      "text/plain": "5×5 Array{Float64,2}:\n  1.62208      -8.0205e-7    3.33067e-16   5.55112e-16   2.77556e-16\n -8.0205e-7     1.23045      6.77865e-8    0.0           1.11022e-16\n -6.66134e-16   6.77865e-8   0.86063       0.0           1.11022e-16\n  2.02963e-16  -8.32667e-17  5.55112e-17  -0.405643      5.55112e-17\n -5.20417e-18  -1.73472e-18  1.82146e-16   1.31839e-16  -0.0237483"
     },
     "metadata": {}
    },
    {
     "output_type": "display_data",
     "data": {
      "text/plain": "Eigen{Float64,Float64,Array{Float64,2},Array{Float64,1}}\nvalues:\n5-element Array{Float64,1}:\n -0.4056434362624408\n -0.023748345796204884\n  0.8606296313406394\n  1.2304491067142749\n  1.6220800100758561\nvectors:\n5×5 Array{Float64,2}:\n  0.0321679  -0.0529362   0.977941   -0.17929   0.0874581\n -0.368509    0.425524   -0.121846   -0.570989  0.585027\n  0.627706   -0.510508   -0.134777   -0.212786  0.530964\n -0.4849     -0.312865    0.0637674   0.614022  0.534695\n  0.48376     0.676479    0.0809525   0.468537  0.286832"
     },
     "metadata": {}
    }
   ],
   "source": [
    "TridMatrix = RandTridiognalHermitian(5)\n",
    "display(TridMatrix)\n",
    "V, Q = SimultaneousItr(50, TridMatrix)\n",
    "display(V)\n",
    "display(eigen(TridMatrix))"
   ]
  },
  {
   "cell_type": "code",
   "execution_count": 47,
   "metadata": {},
   "outputs": [
    {
     "output_type": "display_data",
     "data": {
      "text/plain": "5×5 Array{Float64,2}:\n 0.426829  0.281821   0.0       0.0       0.0\n 0.281821  0.0978248  0.498723  0.0       0.0\n 0.0       0.498723   0.770544  0.494067  0.0\n 0.0       0.0        0.494067  0.813606  0.405266\n 0.0       0.0        0.0       0.405266  0.595717"
     },
     "metadata": {}
    },
    {
     "output_type": "display_data",
     "data": {
      "text/plain": "5×5 Array{Float64,2}:\n  1.4754       -1.77873e-12   3.29946e-16  -1.1238e-16   -4.08299e-17\n -1.77849e-12   0.841116      1.41126e-11  -8.49139e-17   5.28133e-17\n  0.0           1.41124e-11   0.506526     -5.31458e-11  -1.27755e-17\n  0.0           0.0          -5.31454e-11  -0.311676      3.78059e-12\n  0.0           0.0           0.0           3.78057e-12   0.193153"
     },
     "metadata": {}
    },
    {
     "output_type": "display_data",
     "data": {
      "text/plain": "Eigen{Float64,Float64,Array{Float64,2},Array{Float64,1}}\nvalues:\n5-element Array{Float64,1}:\n -0.31167591187641275\n  0.19315283824690033\n  0.5065264109453169\n  0.8411160011836564\n  1.4754013195480111\nvectors:\n5×5 Array{Float64,2}:\n -0.298664  -0.355528   0.8332     -0.293058  0.065535\n  0.782642   0.294792   0.235625   -0.430806  0.243837\n -0.473856   0.257251  -0.277735   -0.476467  0.636494\n  0.247931  -0.598206  -0.0894304   0.366808  0.661917\n -0.110733   0.602221   0.406355    0.605768  0.304942"
     },
     "metadata": {}
    }
   ],
   "source": [
    "TridMatrix = RandTridiognalHermitian(5)\n",
    "display(TridMatrix)\n",
    "V, Q = pureQR(50, TridMatrix)\n",
    "display(V)\n",
    "display(eigen(TridMatrix))"
   ]
  },
  {
   "cell_type": "code",
   "execution_count": 10,
   "metadata": {},
   "outputs": [
    {
     "output_type": "display_data",
     "data": {
      "text/plain": "100-element Array{Float64,1}:\n  2.1542220720583996\n  2.0411226916509504\n  1.815244823372171\n  1.756464501353936\n  1.7444948094339803\n  1.6950430809568315\n  1.667593924551519\n  1.6479687168751593\n  1.6135627193779745\n  1.5902112218348512\n  1.5832249864744765\n  1.5508234129569132\n  1.4899651204135802\n  ⋮\n  0.18066581433023388\n  0.17008663003718064\n  0.15711483879191396\n -0.13031871639900122\n -0.11813522528562191\n  0.10565700268284195\n -0.07574145735735949\n -0.07200593275778314\n  0.032102424845557774\n  0.02532465275746051\n  0.016728086261432625\n  0.0018086929058987848"
     },
     "metadata": {}
    },
    {
     "output_type": "stream",
     "name": "stdout",
     "text": [
      "Error infinity norm: 1.110988203134551e-6"
     ]
    }
   ],
   "source": [
    "TridMatrix = RandTridiognalHermitian(100)\n",
    "m = TridMatrix\n",
    "D, Q = PureQRAuto(TridMatrix)\n",
    "display(D)"
   ]
  },
  {
   "source": [
    "However, the pure QR algorithm is hardly an improvement from the Power iterations. And here, we will present the Invers poewr equivalent to the pure QR algorithm. \n",
    "\n",
    "The Shifted QR algorithm. "
   ],
   "cell_type": "markdown",
   "metadata": {}
  }
 ]
}