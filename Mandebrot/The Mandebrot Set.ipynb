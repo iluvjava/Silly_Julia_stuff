{
 "metadata": {
  "language_info": {
   "codemirror_mode": {
    "name": "ipython",
    "version": 3
   },
   "file_extension": ".py",
   "mimetype": "text/x-python",
   "name": "python",
   "nbconvert_exporter": "python",
   "pygments_lexer": "ipython3",
   "version": "3.7.7-final"
  },
  "orig_nbformat": 2,
  "kernelspec": {
   "name": "julia-1.5",
   "display_name": "Julia 1.5.3",
   "language": "julia"
  }
 },
 "nbformat": 4,
 "nbformat_minor": 2,
 "cells": [
  {
   "source": [
    "Let's visualize the Mandebrot set. \n",
    "\n",
    "The Mandebrot set is the set of $c$ such that the function $f(z) = z^2 + c$ won't diverge when starting it with $z = 0$.\n",
    "\n",
    "Let's be precies and define diverge means that the number goes out of the circle $|z| < R$ under $N$ iterations. \n",
    "\n",
    "**Is there an easier way to simplify this instead of just iterating all the numbers we are intersted in**? \n",
    "* Consder Dynamic Programming\n",
    "* if $c_0$ diverges from previous iterations, then whenever we get close to that point, in another iterations of $k_0$, we mark this iterations as divergence as well. \n",
    "* This is bad, for 2 reasons: \n",
    "    1. It's a fractal. \n",
    "    2. How many iterations until divergence when we last iterated near the point $c_0$? How many iteration remains for $k_0$ when it gets into the region of $c_0$? If iterations starts at $c_0, c_1, c_2...$, and it diverges, we might need to record the number of iterations until it diverges for all those points. It's just complicated to code it. And we need a very fine discretization of the complex plane to make this works. \n",
    "    \n",
    "\n"
   ],
   "cell_type": "markdown",
   "metadata": {}
  },
  {
   "cell_type": "code",
   "execution_count": 1,
   "metadata": {},
   "outputs": [
    {
     "output_type": "execute_result",
     "data": {
      "text/plain": [
       "Offset_Gridpoints"
      ]
     },
     "metadata": {},
     "execution_count": 1
    }
   ],
   "source": [
    "using Colors, Images, ImageView\n",
    "\n",
    "function Manderbrot_Iterate(c0::Complex{Float64}; maxItr::Int64 = 1024, radius::Number = 2)\n",
    "    zk = c0\n",
    "    counter = 0\n",
    "    while(abs(zk) < radius &&  counter < maxItr)\n",
    "        zk = zk^2 + c0\n",
    "        counter += 1\n",
    "    end\n",
    "    return counter # maxtr means in the set, else it's... not quiet in the set. \n",
    "end\n",
    "\n",
    "\"\"\"\n",
    "Given a region in the complex plane, discritized into a grids of a certain height, and width. \n",
    "We are interested in iterating all of them and make a coordinate iteration matrix \n",
    "out of it. \n",
    "\"\"\"\n",
    "function Offset_Gridpoints(topLeft:: Tuple, bottomRight:: Tuple; \n",
    "                                width::Int64 = 1080, height::Int64 = 1920)\n",
    "    \n",
    "    dx = (bottomRight[1] - topLeft[1])/width\n",
    "    dy = (topLeft[2] - bottomRight[2])/height\n",
    "    Ygrid = topLeft[2] - dy/2: -dy: bottomRight[2] + dy/2\n",
    "    Xgrid = topLeft[1] + dx/2: dx: bottomRight[1] - dx/2\n",
    "    Xgrid = collect(Xgrid)\n",
    "    Ygrid = collect(Ygrid)\n",
    "    \n",
    "    Ygrid = reshape(Ygrid, length(Ygrid), 1)\n",
    "    Xgrid = reshape(Xgrid, 1, length(Xgrid))\n",
    "\n",
    "    Ygrid = Ygrid .+ zeros(width, height)\n",
    "    Xgrid = Xgrid .+ zeros(width, height)\n",
    "    Plane = Xgrid + Ygrid.*im\n",
    "    return Plane\n",
    "end"
   ]
  },
  {
   "cell_type": "code",
   "execution_count": 52,
   "metadata": {
    "tags": []
   },
   "outputs": [],
   "source": [
    "ComplexPlane = Offset_Gridpoints((-2.5, 2), (1.5, -2); width=4000, height=4000)\n",
    "ItrMatrix = Manderbrot_Iterate.(ComplexPlane; radius=4)\n",
    "ItrMatrix = abs.(log.(ItrMatrix))\n",
    "ItrMatrix = ItrMatrix./maximum(ItrMatrix)\n",
    "\n",
    "img = Gray.(ItrMatrix)\n",
    "save(\"Manderbrot.png\", img)"
   ]
  },
  {
   "cell_type": "code",
   "execution_count": 5,
   "metadata": {},
   "outputs": [],
   "source": [
    "ComplexPlane = Offset_Gridpoints((-2.5, 2), (1.5, -2); width=5000, height=5000)\n",
    "ItrMatrix = Array{Int64}(undef, size(ComplexPlane))\n",
    "\n",
    "Threads.@threads for II = eachindex(ItrMatrix)\n",
    "    ItrMatrix[II] = Manderbrot_Iterate(ComplexPlane[II], radius=4)\n",
    "end\n",
    "\n",
    "ItrMatrix = abs.(log.(ItrMatrix))\n",
    "ItrMatrix = ItrMatrix./maximum(ItrMatrix)\n",
    "\n",
    "img = Gray.(ItrMatrix)\n",
    "save(\"Manderbrot.png\", img)"
   ]
  }
 ]
}