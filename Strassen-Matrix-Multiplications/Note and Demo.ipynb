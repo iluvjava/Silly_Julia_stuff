{
 "metadata": {
  "language_info": {
   "codemirror_mode": {
    "name": "ipython",
    "version": 3
   },
   "file_extension": ".py",
   "mimetype": "text/x-python",
   "name": "python",
   "nbconvert_exporter": "python",
   "pygments_lexer": "ipython3",
   "version": 3
  },
  "orig_nbformat": 2,
  "kernelspec": {
   "name": "julia-1.5",
   "display_name": "Julia 1.5.3",
   "language": "julia"
  }
 },
 "nbformat": 4,
 "nbformat_minor": 2,
 "cells": [
  {
   "source": [
    "In today's notes, we are going to focus on the following: \n",
    "\n",
    "1. Strassen's Matrix Multiplication algorithm. \n",
    "2. Optimizing the implementation of the algorithm in Julia. \n",
    "3. Paralellizing the algorithm in Julia while keeping the efficiecy. \n",
    "4. Benchmark and show that the algorithm is indeed having a complexity less than $O(N^3)$, assuming the matrices are $N \\times N$. \n",
    "\n",
    "---\n",
    "### Strassen's Matrix Multiplication Algorithm\n",
    "\n",
    "The objective of the algorithm is to compute the product of 2 matrices: $A$, $B$. The algorithm uses an recursive approach, here we consider the recursive structure of the matrix in the following ways: \n",
    "\n",
    "$$\n",
    "A = \\begin{bmatrix}\n",
    "A_{1, 1} & A_{1, 2} \\\\\n",
    "A_{2, 1} & A_{2, 2} \n",
    "\\end{bmatrix}\n",
    "\\quad \n",
    "B = \\begin{bmatrix}\n",
    "B_{1, 1} & B_{1, 2}\\\\\n",
    "B_{2, 1} & B_{2, 2}\n",
    "\\end{bmatrix}\n",
    "\\quad \n",
    "C = \\begin{bmatrix}\n",
    "C_{1, 1} & C_{1, 2}\\\\\n",
    "C_{2, 1} & C_{2, 2}\n",
    "\\end{bmatrix}\n",
    "$$\n",
    "\n",
    "And then, we use these submatrices to compute some intermediate matrices:\n",
    "$$M_1 = (A_{1, 1}+ A_{2,2})(B_{1, 1} + B_{2,2})$$\n",
    "$$M_2 = (A_{2, 1} + A_{2,2})B_{1,1}$$\n",
    "$$M_3 = A_{1,1}(B_{1,2} - B_{2,2})$$\n",
    "$$M_4 = A_{2,2}(B_{2,1} - B_{1,1})$$\n",
    "$$M_5 = (A_{1,1} + A_{1,2})B_{2,2}$$\n",
    "$$M_6 = (A_{2,1} - A_{1,1})(B_{1,1} + B_{1,2})$$\n",
    "$$M_7 = (A_{1,2} - A_{2,2})(B_{2,1} + B_{2,2})$$\n",
    "\n",
    "Using these 7 intermediate matrices which are computed using only 7 multiplications, we will get sub-matrices for the $C$ matrix:\n",
    "\n",
    "$$\n",
    "C_{1, 1} = M_1 + M_4 - M_5 + M_7\n",
    "$$\n",
    "$$\n",
    "C_{1, 2} = M_3 + M_5\n",
    "$$\n",
    "$$\n",
    "C_{2, 1} = M_2 + M_4\n",
    "$$\n",
    "$$\n",
    "C_{2,2} = M_1 - M_2 + M_3 + M_6\n",
    "$$\n",
    "\n",
    "\n",
    "\n"
   ],
   "cell_type": "markdown",
   "metadata": {}
  },
  {
   "source": [
    "### Extra Rows or Columns that cannot be partitioned\n",
    "The matrices need to be equally partitioned, meaning that they have size equals to $2^N$. Is it possible to bypass this? \n",
    "\n",
    "#### Considering Remainder of Partitioning\n",
    "Let $A$ be $m\\times n$ and $B$ be $n \\times k$. Consider the case where $m, n, k$ are all not divisible by 2, then after partitioning the submatrices, we take the last row and column of the matrices as the remainding rows/columns. Then the matrices can be structurally represented as the following: \n",
    "\n",
    "$$\n",
    "A = \\begin{bmatrix}\n",
    "    \\widehat{A} & b \\\\\n",
    "    a^T & x\n",
    "\\end{bmatrix} \n",
    "\\quad \n",
    "B = \\begin{bmatrix}\n",
    "    \\widehat{B} & c \\\\\n",
    "    d^T & y\n",
    "\\end{bmatrix}\n",
    "$$\n",
    "\n",
    "Then, conveniently, we can write the produce $AB$ to be: \n",
    "\n",
    "$$\n",
    "\\begin{bmatrix}\n",
    "    \\widehat{A} & b \\\\\n",
    "    a^T & x\n",
    "\\end{bmatrix} \n",
    "\\begin{bmatrix}\n",
    "    \\widehat{B} & c \\\\\n",
    "    d^T & y\n",
    "\\end{bmatrix}\n",
    "=\\begin{bmatrix}\n",
    "\\widehat{A}\\widehat{B} + bd^T & \\widehat{A}c + by \\\\ \n",
    "a^T\\widehat{B} + xd^T & a^Tc + xy\n",
    "\\end{bmatrix}\n",
    "$$\n",
    "\n",
    "And the only sub-matrices that require the Strassen's multiplications is the sub-matrix at top left corner. \n",
    "\n",
    "When any of the extra vectors, $a, b, c, d$ are not present, then it can be treated as zero vector, and then we need to shrink the boundary of the resulting matrix into its sub-matrix located at the top left corner. "
   ],
   "cell_type": "markdown",
   "metadata": {}
  },
  {
   "source": [
    "### More implementation Notes\n",
    "\n",
    "1. Garbage collection time. \n",
    "2. Multi-threading.\n",
    "3. DFS compute tree or BFS compute tree? \n",
    "    3.1. For DFS, single thread can achieve without much use of GC. \n",
    "    3.2. For BFS, a buttom up algorithm can ahieve without much use of GC with multi-threading. (**Hard to Implement, needs topolotical sorting on the compute tree**)"
   ],
   "cell_type": "markdown",
   "metadata": {}
  },
  {
   "cell_type": "code",
   "execution_count": 16,
   "metadata": {},
   "outputs": [
    {
     "output_type": "display_data",
     "data": {
      "text/plain": "3×3 Array{Float64,2}:\n 0.406059    0.28012   0.417667\n 0.786407    0.490074  0.757986\n 0.00143017  0.232561  0.289402"
     },
     "metadata": {}
    },
    {
     "output_type": "display_data",
     "data": {
      "text/plain": "3×3 Array{Float64,2}:\n 0.534398  0.295209  0.77953\n 0.625349  0.291282  0.180967\n 0.861469  0.84314   0.682705"
     },
     "metadata": {}
    },
    {
     "output_type": "display_data",
     "data": {
      "text/plain": "2×2 Array{Float64,2}:\n 0.940457  0.575329\n 1.41176   0.781356"
     },
     "metadata": {}
    },
    {
     "output_type": "display_data",
     "data": {
      "text/plain": "3×3 Array{Float64,2}:\n 0.406059    0.28012   0.417667\n 0.786407    0.490074  0.757986\n 0.00143017  0.232561  0.289402"
     },
     "metadata": {}
    },
    {
     "output_type": "display_data",
     "data": {
      "text/plain": "3×3 Array{Float64,2}:\n 0.534398  0.295209  0.77953\n 0.625349  0.291282  0.180967\n 0.861469  0.84314   0.682705"
     },
     "metadata": {}
    },
    {
     "output_type": "stream",
     "name": "stdout",
     "text": [
      "\n"
     ]
    },
    {
     "output_type": "execute_result",
     "data": {
      "text/plain": [
       "SubArray{Float64,2,Array{Float64,2},Tuple{UnitRange{Int64},UnitRange{Int64}},false}"
      ]
     },
     "metadata": {},
     "execution_count": 16
    }
   ],
   "source": [
    "A = rand(3, 3); B = rand(3, 3)\n",
    "display(A)\n",
    "display(B)\n",
    "C = view(A, 1:2, 1:2) + view(B, 1:2, 1:2)\n",
    "display(C)\n",
    "display(A)\n",
    "display(B)\n",
    "typeof(C)\n",
    "println(\"\")\n",
    "typeof(view(A, 1:2, 1:2))\n"
   ]
  },
  {
   "cell_type": "code",
   "execution_count": 11,
   "metadata": {},
   "outputs": [
    {
     "output_type": "execute_result",
     "data": {
      "text/plain": [
       "1-element Array{Array{Float64,N} where N,1}:\n",
       " [0.0 0.0 0.0 0.0; 0.0 0.0 0.0 0.0; 0.0 0.0 0.0 0.0; 0.0 0.0 0.0 0.0]"
      ]
     },
     "metadata": {},
     "execution_count": 11
    }
   ],
   "source": [
    "Arr = Array{Array{Float64}}(undef, 0)\n",
    "append!(Arr, [zeros(4,4)])"
   ]
  },
  {
   "cell_type": "code",
   "execution_count": null,
   "metadata": {},
   "outputs": [],
   "source": []
  }
 ]
}