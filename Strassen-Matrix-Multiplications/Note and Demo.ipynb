{
 "metadata": {
  "language_info": {
   "codemirror_mode": {
    "name": "ipython",
    "version": 3
   },
   "file_extension": ".py",
   "mimetype": "text/x-python",
   "name": "python",
   "nbconvert_exporter": "python",
   "pygments_lexer": "ipython3",
   "version": 3
  },
  "orig_nbformat": 2,
  "kernelspec": {
   "name": "julia-1.5",
   "display_name": "Julia 1.5.3",
   "language": "julia"
  }
 },
 "nbformat": 4,
 "nbformat_minor": 2,
 "cells": [
  {
   "source": [
    "In today's notes, we are going to focus on the following: \n",
    "\n",
    "1. Strassen's Matrix Multiplication algorithm. \n",
    "2. Optimizing the implementation of the algorithm in Julia. \n",
    "3. Paralellizing the algorithm in Julia while keeping the efficiecy. \n",
    "4. Benchmark and show that the algorithm is indeed having a complexity less than $O(N^3)$, assuming the matrices are $N \\times N$. \n",
    "\n",
    "---\n",
    "### Strassen's Matrix Multiplication Algorithm\n",
    "\n",
    "The objective of the algorithm is to compute the product of 2 matrices: $A$, $B$. The algorithm uses an recursive approach, here we consider the recursive structure of the matrix in the following ways: \n",
    "\n",
    "$$\n",
    "A = \\begin{bmatrix}\n",
    "A_{1, 1} & A_{1, 2} \\\\\n",
    "A_{2, 1} & A_{2, 2} \n",
    "\\end{bmatrix}\n",
    "\\quad \n",
    "B = \\begin{bmatrix}\n",
    "B_{1, 1} & B_{1, 2}\\\\\n",
    "B_{2, 1} & B_{2, 2}\n",
    "\\end{bmatrix}\n",
    "\\quad \n",
    "C = \\begin{bmatrix}\n",
    "C_{1, 1} & C_{1, 2}\\\\\n",
    "C_{2, 1} & C_{2, 2}\n",
    "\\end{bmatrix}\n",
    "$$\n",
    "\n",
    "And then, we use these submatrices to compute some intermediate matrices:\n",
    "$$M_1 = (A_{1, 1}+ A_{2,2})(B_{1, 1} + B_{2,2})$$\n",
    "$$M_2 = (A_{2, 1} + A_{2,2})B_{1,1}$$\n",
    "$$M_3 = A_{1,1}(B_{1,2} - B_{2,2})$$\n",
    "$$M_4 = A_{2,2}(B_{2,1} - B_{1,1})$$\n",
    "$$M_5 = (A_{1,1} + A_{1,2})B_{2,2}$$\n",
    "$$M_6 = (A_{2,1} - A_{1,1})(B_{1,1} + B_{1,2})$$\n",
    "$$M_7 = (A_{1,2} - A_{2,2})(B_{2,1} + B_{2,2})$$\n",
    "\n",
    "Using these 7 intermediate matrices which are computed using only 7 multiplications, we will get sub-matrices for the $C$ matrix:\n",
    "\n",
    "$$\n",
    "C_{1, 1} = M_1 + M_4 - M_5 + M_7\n",
    "$$\n",
    "$$\n",
    "C_{1, 2} = M_3 + M_5\n",
    "$$\n",
    "$$\n",
    "C_{2, 1} = M_2 + M_4\n",
    "$$\n",
    "$$\n",
    "C_{2,2} = M_1 - M_2 + M_3 + M_6\n",
    "$$\n",
    "\n",
    "\n",
    "\n"
   ],
   "cell_type": "markdown",
   "metadata": {}
  },
  {
   "source": [
    "### Extra Rows or Columns that cannot be partitioned\n",
    "The matrices need to be equally partitioned, meaning that they have size equals to $2^N$. Is it possible to bypass this? \n",
    "\n",
    "#### Considering Remainder of Partitioning\n",
    "Let $A$ be $m\\times n$ and $B$ be $n \\times k$. Consider the case where $m, n, k$ are all not divisible by 2, then after partitioning the submatrices, we take the last row and column of the matrices as the remainding rows/columns. Then the matrices can be structurally represented as the following: \n",
    "\n",
    "$$\n",
    "A = \\begin{bmatrix}\n",
    "    \\widehat{A} & b \\\\\n",
    "    a^T & x\n",
    "\\end{bmatrix} \n",
    "\\quad \n",
    "B = \\begin{bmatrix}\n",
    "    \\widehat{B} & c \\\\\n",
    "    d^T & y\n",
    "\\end{bmatrix}\n",
    "$$\n",
    "\n",
    "Then, conveniently, we can write the produce $AB$ to be: \n",
    "\n",
    "$$\n",
    "\\begin{bmatrix}\n",
    "    \\widehat{A} & b \\\\\n",
    "    a^T & x\n",
    "\\end{bmatrix} \n",
    "\\begin{bmatrix}\n",
    "    \\widehat{B} & c \\\\\n",
    "    d^T & y\n",
    "\\end{bmatrix}\n",
    "=\\begin{bmatrix}\n",
    "\\widehat{A}\\widehat{B} + bd^T & \\widehat{A}c + by \\\\ \n",
    "a^T\\widehat{B} + xd^T & a^Tc + xy\n",
    "\\end{bmatrix}\n",
    "$$\n",
    "\n",
    "And the only sub-matrices that require the Strassen's multiplications is the sub-matrix at top left corner. \n",
    "\n",
    "When any of the extra vectors, $a, b, c, d$ are not present, then it can be treated as zero vector, and then we need to shrink the boundary of the resulting matrix into its sub-matrix located at the top left corner. \n",
    "\n",
    "The scalar $x, y$ are only present when both the boundary row and column of the matrix exists. "
   ],
   "cell_type": "markdown",
   "metadata": {}
  },
  {
   "source": [
    "### More implementation Notes\n",
    "\n",
    "1. Garbage collection time. \n",
    "2. Multi-threading.\n",
    "3. DFS compute tree or BFS compute tree? \n",
    "    3.1. For DFS, single thread can achieve without much use of GC. \n",
    "    3.2. For BFS, a buttom up algorithm can ahieve without much use of GC with multi-threading. (**Hard to Implement, needs topolotical sorting on the compute tree**)"
   ],
   "cell_type": "markdown",
   "metadata": {}
  },
  {
   "source": [
    "### Something Awkarwd About This Algorithm\n",
    "\n",
    "The memory usage is higher than expected when I first implemented the recursive algorithm in the naive way. The algorithm branches off by 7 with depth $\\log_2(N)$, and the size of the matrices are cut in $1/4$ each time it recurses.\n",
    "\n",
    "The assumption here we are going to make is that, the memory is just enough for the algorithm to run recusively all the way to the base case, and temperary data we made use of will be garbage collecte afterwards. \n",
    "\n",
    "Then we can sum this up using the master theorem, but this time for memroy usage: \n",
    "\n",
    "$$\n",
    "\\sum_{k = 0}^{\\lfloor\\log_2(N)\\rfloor} 7^k\n",
    "    \\left( \n",
    "        \\frac{N^2}{4^k}\n",
    "    \\right)\n",
    "= N^2\n",
    "\\sum_{k = 0}^{\\lfloor\\log_2(N)\\rfloor}\n",
    "    \\left( \n",
    "        \\frac{7}{4}\n",
    "    \\right)^k\n",
    "$$\n",
    "\n",
    "And using the formula for Geometric sum, and set the number of terms to be: $m$, then we have: \n",
    "\n",
    "$$\n",
    "\\frac{1 - \\left(\\frac{7}{4}\\right)^m}{1 - \\left(\\frac{7}{4}\\right)}\n",
    "=\n",
    "\\frac{4 - 4\\left(\\frac{7}{4}\\right)^m}{3}\n",
    "$$\n",
    "\n",
    "and simplifying the term $(7/4)^{\\log_2(N)}$ gives $N^{log_2(7/4)}$ and hence the leading memory usage is going to be: $\\mathcal{O}(N^{2 + log_2{7/4}})$, which is the same as the time complexity for the algorithm. \n",
    "\n",
    "However, do take notice that, compare the the traditional way of computing matrix multiplcations, which only requires $\\mathcal{O}(N^2)$\n",
    "\n",
    "It's not hard to see the memory usage for a certain code snippets in julia, take a look at the code cell below: \n",
    "\n"
   ],
   "cell_type": "markdown",
   "metadata": {}
  },
  {
   "cell_type": "code",
   "execution_count": 1,
   "metadata": {},
   "outputs": [
    {
     "output_type": "stream",
     "name": "stdout",
     "text": [
      "  0.035913 seconds (2 allocations: 128.000 MiB, 24.10% gc time)\n"
     ]
    },
    {
     "output_type": "execute_result",
     "data": {
      "text/plain": [
       "4096×4096 Array{Float64,2}:\n",
       " 0.0  0.0  0.0  0.0  0.0  0.0  0.0  0.0  …  0.0  0.0  0.0  0.0  0.0  0.0  0.0\n",
       " 0.0  0.0  0.0  0.0  0.0  0.0  0.0  0.0     0.0  0.0  0.0  0.0  0.0  0.0  0.0\n",
       " 0.0  0.0  0.0  0.0  0.0  0.0  0.0  0.0     0.0  0.0  0.0  0.0  0.0  0.0  0.0\n",
       " 0.0  0.0  0.0  0.0  0.0  0.0  0.0  0.0     0.0  0.0  0.0  0.0  0.0  0.0  0.0\n",
       " 0.0  0.0  0.0  0.0  0.0  0.0  0.0  0.0     0.0  0.0  0.0  0.0  0.0  0.0  0.0\n",
       " 0.0  0.0  0.0  0.0  0.0  0.0  0.0  0.0  …  0.0  0.0  0.0  0.0  0.0  0.0  0.0\n",
       " 0.0  0.0  0.0  0.0  0.0  0.0  0.0  0.0     0.0  0.0  0.0  0.0  0.0  0.0  0.0\n",
       " 0.0  0.0  0.0  0.0  0.0  0.0  0.0  0.0     0.0  0.0  0.0  0.0  0.0  0.0  0.0\n",
       " 0.0  0.0  0.0  0.0  0.0  0.0  0.0  0.0     0.0  0.0  0.0  0.0  0.0  0.0  0.0\n",
       " 0.0  0.0  0.0  0.0  0.0  0.0  0.0  0.0     0.0  0.0  0.0  0.0  0.0  0.0  0.0\n",
       " 0.0  0.0  0.0  0.0  0.0  0.0  0.0  0.0  …  0.0  0.0  0.0  0.0  0.0  0.0  0.0\n",
       " 0.0  0.0  0.0  0.0  0.0  0.0  0.0  0.0     0.0  0.0  0.0  0.0  0.0  0.0  0.0\n",
       " 0.0  0.0  0.0  0.0  0.0  0.0  0.0  0.0     0.0  0.0  0.0  0.0  0.0  0.0  0.0\n",
       " ⋮                        ⋮              ⋱       ⋮                        ⋮\n",
       " 0.0  0.0  0.0  0.0  0.0  0.0  0.0  0.0     0.0  0.0  0.0  0.0  0.0  0.0  0.0\n",
       " 0.0  0.0  0.0  0.0  0.0  0.0  0.0  0.0  …  0.0  0.0  0.0  0.0  0.0  0.0  0.0\n",
       " 0.0  0.0  0.0  0.0  0.0  0.0  0.0  0.0     0.0  0.0  0.0  0.0  0.0  0.0  0.0\n",
       " 0.0  0.0  0.0  0.0  0.0  0.0  0.0  0.0     0.0  0.0  0.0  0.0  0.0  0.0  0.0\n",
       " 0.0  0.0  0.0  0.0  0.0  0.0  0.0  0.0     0.0  0.0  0.0  0.0  0.0  0.0  0.0\n",
       " 0.0  0.0  0.0  0.0  0.0  0.0  0.0  0.0     0.0  0.0  0.0  0.0  0.0  0.0  0.0\n",
       " 0.0  0.0  0.0  0.0  0.0  0.0  0.0  0.0  …  0.0  0.0  0.0  0.0  0.0  0.0  0.0\n",
       " 0.0  0.0  0.0  0.0  0.0  0.0  0.0  0.0     0.0  0.0  0.0  0.0  0.0  0.0  0.0\n",
       " 0.0  0.0  0.0  0.0  0.0  0.0  0.0  0.0     0.0  0.0  0.0  0.0  0.0  0.0  0.0\n",
       " 0.0  0.0  0.0  0.0  0.0  0.0  0.0  0.0     0.0  0.0  0.0  0.0  0.0  0.0  0.0\n",
       " 0.0  0.0  0.0  0.0  0.0  0.0  0.0  0.0     0.0  0.0  0.0  0.0  0.0  0.0  0.0\n",
       " 0.0  0.0  0.0  0.0  0.0  0.0  0.0  0.0  …  0.0  0.0  0.0  0.0  0.0  0.0  0.0"
      ]
     },
     "metadata": {},
     "execution_count": 1
    }
   ],
   "source": [
    "@time zeros(2^12, 2^12)"
   ]
  },
  {
   "source": [
    "And that will be the extra memory needed for computing it using the tranditional naive method, but in the case when it's Strassen, the memory usage will be: \n",
    "$$\n",
    "128^{\\frac{\\log_2{7/4}}{2}}\n",
    "$$"
   ],
   "cell_type": "markdown",
   "metadata": {}
  },
  {
   "cell_type": "code",
   "execution_count": 3,
   "metadata": {},
   "outputs": [
    {
     "output_type": "execute_result",
     "data": {
      "text/plain": [
       "907.4926996951547"
      ]
     },
     "metadata": {},
     "execution_count": 3
    }
   ],
   "source": [
    "128^((2 + log(2, 7/4))/2)"
   ]
  },
  {
   "source": [
    "And that means it uses a lot more memory, it allocates a lot of memory. This is especially bad when it needs to call for the Garbage Collector. So I would suggest that, the algorithm is pretty useless because it's **bounded above by the Memory Complexity**, and it's **bounded below by a huge constant offset for the quadratic terms** (So MANY ADDING AND STUFF LIKE THAT IN THE ALGO.) \n",
    "\n",
    "That is, if we are not smart enough of course. \n",
    "\n"
   ],
   "cell_type": "markdown",
   "metadata": {}
  },
  {
   "source": [
    "Here, I imported a self-implemented Strssen's algorithm in file `StrassenMultiply.jl` under this directory, and here are some of its features: \n",
    "\n",
    "1. It's recursive single threaded. \n",
    "2. It's as memory efficient as possible for this recursive algorithm. \n",
    "3. It can compute matrices multiplications of all compatible sizes. \n",
    "\n",
    "Let's see how this behaves. \n",
    "\n",
    "---\n",
    "### Bench Marking Below: \n",
    "\n",
    "1. The benchmark macro doesn't work well with multiple-threads. \n",
    "2. The size has to be $2^N$ or it's going to create overhead for the Strassen's multiplications algorithm. "
   ],
   "cell_type": "markdown",
   "metadata": {}
  },
  {
   "cell_type": "code",
   "execution_count": 9,
   "metadata": {
    "tags": []
   },
   "outputs": [
    {
     "output_type": "stream",
     "name": "stderr",
     "text": [
      "WARNING: replacing module Strassen.\nWARNING: using Strassen.StrassenMultiply in module Main conflicts with an existing identifier.\nWARNING: using Strassen.NaiveMultiply in module Main conflicts with an existing identifier.\n"
     ]
    }
   ],
   "source": [
    "include(\"Strassen.jl\")\n",
    "using .Strassen\n",
    "using BenchmarkTools\n",
    "using DataStructures\n",
    "using Plots\n",
    "using Base.Threads\n",
    "\n",
    "function RunOnceForsize(N, func)\n",
    "    A, B = rand(N, N), rand(N, N)\n",
    "    C = func(A, B)\n",
    "end\n",
    "\n",
    "MatrixSizes = 2 .^ collect(5:10)\n",
    "\n",
    "Trials = Array{Any}(undef, 2*length(MatrixSizes))\n",
    "Counter = 1\n",
    "for II = 1: length(MatrixSizes)\n",
    "    Trial = @benchmark RunOnceForsize(MatrixSizes[Counter], StrassenMultiply)\n",
    "    Trials[2II - 1] = Trial\n",
    "    Trial = @benchmark RunOnceForsize(MatrixSizes[Counter], NaiveMultiply)\n",
    "    Trials[2II] = Trial\n",
    "    Counter += 1\n",
    "end"
   ]
  },
  {
   "source": [
    "### Flushing over the Important Statistics"
   ],
   "cell_type": "markdown",
   "metadata": {}
  },
  {
   "cell_type": "code",
   "execution_count": 10,
   "metadata": {},
   "outputs": [],
   "source": [
    "Meantimes = Array{Float64}(undef, length(Trials))\n",
    "for II = 1: length(Trials)\n",
    "    Meantimes[II] = mean(Trials[II]).time\n",
    "end"
   ]
  },
  {
   "source": [
    "### Let's Visualize this\n",
    "\n",
    "1. This is a log log plot so the polynomial relation can be mapped to a straight line of some sort. \n",
    "2. Observe the growth of the trend. \n"
   ],
   "cell_type": "markdown",
   "metadata": {}
  },
  {
   "cell_type": "code",
   "execution_count": 13,
   "metadata": {},
   "outputs": [
    {
     "output_type": "execute_result",
     "data": {
      "image/svg+xml": "<?xml version=\"1.0\" encoding=\"utf-8\"?>\n<svg xmlns=\"http://www.w3.org/2000/svg\" xmlns:xlink=\"http://www.w3.org/1999/xlink\" width=\"600\" height=\"400\" viewBox=\"0 0 2400 1600\">\n<defs>\n  <clipPath id=\"clip720\">\n    <rect x=\"0\" y=\"0\" width=\"2400\" height=\"1600\"/>\n  </clipPath>\n</defs>\n<path clip-path=\"url(#clip720)\" d=\"\nM0 1600 L2400 1600 L2400 0 L0 0  Z\n  \" fill=\"#ffffff\" fill-rule=\"evenodd\" fill-opacity=\"1\"/>\n<defs>\n  <clipPath id=\"clip721\">\n    <rect x=\"480\" y=\"0\" width=\"1681\" height=\"1600\"/>\n  </clipPath>\n</defs>\n<path clip-path=\"url(#clip720)\" d=\"\nM135.95 1486.45 L2352.76 1486.45 L2352.76 47.2441 L135.95 47.2441  Z\n  \" fill=\"#ffffff\" fill-rule=\"evenodd\" fill-opacity=\"1\"/>\n<defs>\n  <clipPath id=\"clip722\">\n    <rect x=\"135\" y=\"47\" width=\"2218\" height=\"1440\"/>\n  </clipPath>\n</defs>\n<polyline clip-path=\"url(#clip722)\" style=\"stroke:#000000; stroke-width:2; stroke-opacity:0.1; fill:none\" points=\"\n  455.99,1486.45 455.99,47.2441 \n  \"/>\n<polyline clip-path=\"url(#clip722)\" style=\"stroke:#000000; stroke-width:2; stroke-opacity:0.1; fill:none\" points=\"\n  833.133,1486.45 833.133,47.2441 \n  \"/>\n<polyline clip-path=\"url(#clip722)\" style=\"stroke:#000000; stroke-width:2; stroke-opacity:0.1; fill:none\" points=\"\n  1210.28,1486.45 1210.28,47.2441 \n  \"/>\n<polyline clip-path=\"url(#clip722)\" style=\"stroke:#000000; stroke-width:2; stroke-opacity:0.1; fill:none\" points=\"\n  1587.42,1486.45 1587.42,47.2441 \n  \"/>\n<polyline clip-path=\"url(#clip722)\" style=\"stroke:#000000; stroke-width:2; stroke-opacity:0.1; fill:none\" points=\"\n  1964.56,1486.45 1964.56,47.2441 \n  \"/>\n<polyline clip-path=\"url(#clip722)\" style=\"stroke:#000000; stroke-width:2; stroke-opacity:0.1; fill:none\" points=\"\n  2341.71,1486.45 2341.71,47.2441 \n  \"/>\n<polyline clip-path=\"url(#clip720)\" style=\"stroke:#000000; stroke-width:4; stroke-opacity:1; fill:none\" points=\"\n  135.95,1486.45 2352.76,1486.45 \n  \"/>\n<polyline clip-path=\"url(#clip720)\" style=\"stroke:#000000; stroke-width:4; stroke-opacity:1; fill:none\" points=\"\n  455.99,1486.45 455.99,1469.18 \n  \"/>\n<polyline clip-path=\"url(#clip720)\" style=\"stroke:#000000; stroke-width:4; stroke-opacity:1; fill:none\" points=\"\n  833.133,1486.45 833.133,1469.18 \n  \"/>\n<polyline clip-path=\"url(#clip720)\" style=\"stroke:#000000; stroke-width:4; stroke-opacity:1; fill:none\" points=\"\n  1210.28,1486.45 1210.28,1469.18 \n  \"/>\n<polyline clip-path=\"url(#clip720)\" style=\"stroke:#000000; stroke-width:4; stroke-opacity:1; fill:none\" points=\"\n  1587.42,1486.45 1587.42,1469.18 \n  \"/>\n<polyline clip-path=\"url(#clip720)\" style=\"stroke:#000000; stroke-width:4; stroke-opacity:1; fill:none\" points=\"\n  1964.56,1486.45 1964.56,1469.18 \n  \"/>\n<polyline clip-path=\"url(#clip720)\" style=\"stroke:#000000; stroke-width:4; stroke-opacity:1; fill:none\" points=\"\n  2341.71,1486.45 2341.71,1469.18 \n  \"/>\n<path clip-path=\"url(#clip720)\" d=\"M 0 0 M441.013 1516.63 L429.208 1535.08 L441.013 1535.08 L441.013 1516.63 M439.786 1512.56 L445.666 1512.56 L445.666 1535.08 L450.596 1535.08 L450.596 1538.97 L445.666 1538.97 L445.666 1547.12 L441.013 1547.12 L441.013 1538.97 L425.411 1538.97 L425.411 1534.46 L439.786 1512.56 Z\" fill=\"#000000\" fill-rule=\"evenodd\" fill-opacity=\"1\" /><path clip-path=\"url(#clip720)\" d=\"M 0 0 M455.666 1541.24 L460.55 1541.24 L460.55 1547.12 L455.666 1547.12 L455.666 1541.24 Z\" fill=\"#000000\" fill-rule=\"evenodd\" fill-opacity=\"1\" /><path clip-path=\"url(#clip720)\" d=\"M 0 0 M465.666 1512.56 L484.022 1512.56 L484.022 1516.5 L469.948 1516.5 L469.948 1524.97 Q470.967 1524.62 471.985 1524.46 Q473.004 1524.27 474.022 1524.27 Q479.809 1524.27 483.189 1527.44 Q486.568 1530.62 486.568 1536.03 Q486.568 1541.61 483.096 1544.71 Q479.624 1547.79 473.305 1547.79 Q471.129 1547.79 468.86 1547.42 Q466.615 1547.05 464.207 1546.31 L464.207 1541.61 Q466.291 1542.74 468.513 1543.3 Q470.735 1543.86 473.212 1543.86 Q477.217 1543.86 479.555 1541.75 Q481.892 1539.64 481.892 1536.03 Q481.892 1532.42 479.555 1530.31 Q477.217 1528.21 473.212 1528.21 Q471.337 1528.21 469.462 1528.62 Q467.61 1529.04 465.666 1529.92 L465.666 1512.56 Z\" fill=\"#000000\" fill-rule=\"evenodd\" fill-opacity=\"1\" /><path clip-path=\"url(#clip720)\" d=\"M 0 0 M804.927 1512.56 L823.284 1512.56 L823.284 1516.5 L809.21 1516.5 L809.21 1524.97 Q810.228 1524.62 811.247 1524.46 Q812.265 1524.27 813.284 1524.27 Q819.071 1524.27 822.45 1527.44 Q825.83 1530.62 825.83 1536.03 Q825.83 1541.61 822.358 1544.71 Q818.885 1547.79 812.566 1547.79 Q810.39 1547.79 808.122 1547.42 Q805.876 1547.05 803.469 1546.31 L803.469 1541.61 Q805.552 1542.74 807.774 1543.3 Q809.997 1543.86 812.473 1543.86 Q816.478 1543.86 818.816 1541.75 Q821.154 1539.64 821.154 1536.03 Q821.154 1532.42 818.816 1530.31 Q816.478 1528.21 812.473 1528.21 Q810.598 1528.21 808.723 1528.62 Q806.872 1529.04 804.927 1529.92 L804.927 1512.56 Z\" fill=\"#000000\" fill-rule=\"evenodd\" fill-opacity=\"1\" /><path clip-path=\"url(#clip720)\" d=\"M 0 0 M830.899 1541.24 L835.784 1541.24 L835.784 1547.12 L830.899 1547.12 L830.899 1541.24 Z\" fill=\"#000000\" fill-rule=\"evenodd\" fill-opacity=\"1\" /><path clip-path=\"url(#clip720)\" d=\"M 0 0 M850.853 1515.64 Q847.242 1515.64 845.413 1519.2 Q843.608 1522.75 843.608 1529.87 Q843.608 1536.98 845.413 1540.55 Q847.242 1544.09 850.853 1544.09 Q854.487 1544.09 856.293 1540.55 Q858.121 1536.98 858.121 1529.87 Q858.121 1522.75 856.293 1519.2 Q854.487 1515.64 850.853 1515.64 M850.853 1511.93 Q856.663 1511.93 859.719 1516.54 Q862.797 1521.12 862.797 1529.87 Q862.797 1538.6 859.719 1543.21 Q856.663 1547.79 850.853 1547.79 Q845.043 1547.79 841.964 1543.21 Q838.909 1538.6 838.909 1529.87 Q838.909 1521.12 841.964 1516.54 Q845.043 1511.93 850.853 1511.93 Z\" fill=\"#000000\" fill-rule=\"evenodd\" fill-opacity=\"1\" /><path clip-path=\"url(#clip720)\" d=\"M 0 0 M1182.57 1512.56 L1200.92 1512.56 L1200.92 1516.5 L1186.85 1516.5 L1186.85 1524.97 Q1187.87 1524.62 1188.89 1524.46 Q1189.91 1524.27 1190.92 1524.27 Q1196.71 1524.27 1200.09 1527.44 Q1203.47 1530.62 1203.47 1536.03 Q1203.47 1541.61 1200 1544.71 Q1196.53 1547.79 1190.21 1547.79 Q1188.03 1547.79 1185.76 1547.42 Q1183.52 1547.05 1181.11 1546.31 L1181.11 1541.61 Q1183.19 1542.74 1185.42 1543.3 Q1187.64 1543.86 1190.11 1543.86 Q1194.12 1543.86 1196.46 1541.75 Q1198.79 1539.64 1198.79 1536.03 Q1198.79 1532.42 1196.46 1530.31 Q1194.12 1528.21 1190.11 1528.21 Q1188.24 1528.21 1186.36 1528.62 Q1184.51 1529.04 1182.57 1529.92 L1182.57 1512.56 Z\" fill=\"#000000\" fill-rule=\"evenodd\" fill-opacity=\"1\" /><path clip-path=\"url(#clip720)\" d=\"M 0 0 M1208.54 1541.24 L1213.42 1541.24 L1213.42 1547.12 L1208.54 1547.12 L1208.54 1541.24 Z\" fill=\"#000000\" fill-rule=\"evenodd\" fill-opacity=\"1\" /><path clip-path=\"url(#clip720)\" d=\"M 0 0 M1218.54 1512.56 L1236.9 1512.56 L1236.9 1516.5 L1222.82 1516.5 L1222.82 1524.97 Q1223.84 1524.62 1224.86 1524.46 Q1225.88 1524.27 1226.9 1524.27 Q1232.68 1524.27 1236.06 1527.44 Q1239.44 1530.62 1239.44 1536.03 Q1239.44 1541.61 1235.97 1544.71 Q1232.5 1547.79 1226.18 1547.79 Q1224 1547.79 1221.73 1547.42 Q1219.49 1547.05 1217.08 1546.31 L1217.08 1541.61 Q1219.17 1542.74 1221.39 1543.3 Q1223.61 1543.86 1226.09 1543.86 Q1230.09 1543.86 1232.43 1541.75 Q1234.77 1539.64 1234.77 1536.03 Q1234.77 1532.42 1232.43 1530.31 Q1230.09 1528.21 1226.09 1528.21 Q1224.21 1528.21 1222.34 1528.62 Q1220.48 1529.04 1218.54 1529.92 L1218.54 1512.56 Z\" fill=\"#000000\" fill-rule=\"evenodd\" fill-opacity=\"1\" /><path clip-path=\"url(#clip720)\" d=\"M 0 0 M1569.34 1527.98 Q1566.19 1527.98 1564.34 1530.13 Q1562.51 1532.28 1562.51 1536.03 Q1562.51 1539.76 1564.34 1541.93 Q1566.19 1544.09 1569.34 1544.09 Q1572.49 1544.09 1574.32 1541.93 Q1576.17 1539.76 1576.17 1536.03 Q1576.17 1532.28 1574.32 1530.13 Q1572.49 1527.98 1569.34 1527.98 M1578.62 1513.32 L1578.62 1517.58 Q1576.86 1516.75 1575.06 1516.31 Q1573.28 1515.87 1571.52 1515.87 Q1566.89 1515.87 1564.43 1519 Q1562 1522.12 1561.66 1528.44 Q1563.02 1526.43 1565.08 1525.36 Q1567.14 1524.27 1569.62 1524.27 Q1574.83 1524.27 1577.84 1527.44 Q1580.87 1530.59 1580.87 1536.03 Q1580.87 1541.36 1577.72 1544.57 Q1574.57 1547.79 1569.34 1547.79 Q1563.35 1547.79 1560.17 1543.21 Q1557 1538.6 1557 1529.87 Q1557 1521.68 1560.89 1516.82 Q1564.78 1511.93 1571.33 1511.93 Q1573.09 1511.93 1574.87 1512.28 Q1576.68 1512.63 1578.62 1513.32 Z\" fill=\"#000000\" fill-rule=\"evenodd\" fill-opacity=\"1\" /><path clip-path=\"url(#clip720)\" d=\"M 0 0 M1585.94 1541.24 L1590.82 1541.24 L1590.82 1547.12 L1585.94 1547.12 L1585.94 1541.24 Z\" fill=\"#000000\" fill-rule=\"evenodd\" fill-opacity=\"1\" /><path clip-path=\"url(#clip720)\" d=\"M 0 0 M1605.89 1515.64 Q1602.28 1515.64 1600.45 1519.2 Q1598.65 1522.75 1598.65 1529.87 Q1598.65 1536.98 1600.45 1540.55 Q1602.28 1544.09 1605.89 1544.09 Q1609.53 1544.09 1611.33 1540.55 Q1613.16 1536.98 1613.16 1529.87 Q1613.16 1522.75 1611.33 1519.2 Q1609.53 1515.64 1605.89 1515.64 M1605.89 1511.93 Q1611.7 1511.93 1614.76 1516.54 Q1617.84 1521.12 1617.84 1529.87 Q1617.84 1538.6 1614.76 1543.21 Q1611.7 1547.79 1605.89 1547.79 Q1600.08 1547.79 1597 1543.21 Q1593.95 1538.6 1593.95 1529.87 Q1593.95 1521.12 1597 1516.54 Q1600.08 1511.93 1605.89 1511.93 Z\" fill=\"#000000\" fill-rule=\"evenodd\" fill-opacity=\"1\" /><path clip-path=\"url(#clip720)\" d=\"M 0 0 M1946.98 1527.98 Q1943.83 1527.98 1941.98 1530.13 Q1940.15 1532.28 1940.15 1536.03 Q1940.15 1539.76 1941.98 1541.93 Q1943.83 1544.09 1946.98 1544.09 Q1950.13 1544.09 1951.96 1541.93 Q1953.81 1539.76 1953.81 1536.03 Q1953.81 1532.28 1951.96 1530.13 Q1950.13 1527.98 1946.98 1527.98 M1956.26 1513.32 L1956.26 1517.58 Q1954.5 1516.75 1952.7 1516.31 Q1950.92 1515.87 1949.16 1515.87 Q1944.53 1515.87 1942.07 1519 Q1939.64 1522.12 1939.3 1528.44 Q1940.66 1526.43 1942.72 1525.36 Q1944.78 1524.27 1947.26 1524.27 Q1952.47 1524.27 1955.48 1527.44 Q1958.51 1530.59 1958.51 1536.03 Q1958.51 1541.36 1955.36 1544.57 Q1952.21 1547.79 1946.98 1547.79 Q1940.99 1547.79 1937.82 1543.21 Q1934.64 1538.6 1934.64 1529.87 Q1934.64 1521.68 1938.53 1516.82 Q1942.42 1511.93 1948.97 1511.93 Q1950.73 1511.93 1952.51 1512.28 Q1954.32 1512.63 1956.26 1513.32 Z\" fill=\"#000000\" fill-rule=\"evenodd\" fill-opacity=\"1\" /><path clip-path=\"url(#clip720)\" d=\"M 0 0 M1963.58 1541.24 L1968.46 1541.24 L1968.46 1547.12 L1963.58 1547.12 L1963.58 1541.24 Z\" fill=\"#000000\" fill-rule=\"evenodd\" fill-opacity=\"1\" /><path clip-path=\"url(#clip720)\" d=\"M 0 0 M1973.58 1512.56 L1991.94 1512.56 L1991.94 1516.5 L1977.86 1516.5 L1977.86 1524.97 Q1978.88 1524.62 1979.9 1524.46 Q1980.92 1524.27 1981.94 1524.27 Q1987.72 1524.27 1991.1 1527.44 Q1994.48 1530.62 1994.48 1536.03 Q1994.48 1541.61 1991.01 1544.71 Q1987.54 1547.79 1981.22 1547.79 Q1979.04 1547.79 1976.77 1547.42 Q1974.53 1547.05 1972.12 1546.31 L1972.12 1541.61 Q1974.2 1542.74 1976.43 1543.3 Q1978.65 1543.86 1981.13 1543.86 Q1985.13 1543.86 1987.47 1541.75 Q1989.81 1539.64 1989.81 1536.03 Q1989.81 1532.42 1987.47 1530.31 Q1985.13 1528.21 1981.13 1528.21 Q1979.25 1528.21 1977.38 1528.62 Q1975.52 1529.04 1973.58 1529.92 L1973.58 1512.56 Z\" fill=\"#000000\" fill-rule=\"evenodd\" fill-opacity=\"1\" /><path clip-path=\"url(#clip720)\" d=\"M 0 0 M2312.11 1512.56 L2334.33 1512.56 L2334.33 1514.55 L2321.79 1547.12 L2316.9 1547.12 L2328.71 1516.5 L2312.11 1516.5 L2312.11 1512.56 Z\" fill=\"#000000\" fill-rule=\"evenodd\" fill-opacity=\"1\" /><path clip-path=\"url(#clip720)\" d=\"M 0 0 M2339.4 1541.24 L2344.29 1541.24 L2344.29 1547.12 L2339.4 1547.12 L2339.4 1541.24 Z\" fill=\"#000000\" fill-rule=\"evenodd\" fill-opacity=\"1\" /><path clip-path=\"url(#clip720)\" d=\"M 0 0 M2359.36 1515.64 Q2355.75 1515.64 2353.92 1519.2 Q2352.11 1522.75 2352.11 1529.87 Q2352.11 1536.98 2353.92 1540.55 Q2355.75 1544.09 2359.36 1544.09 Q2362.99 1544.09 2364.8 1540.55 Q2366.62 1536.98 2366.62 1529.87 Q2366.62 1522.75 2364.8 1519.2 Q2362.99 1515.64 2359.36 1515.64 M2359.36 1511.93 Q2365.17 1511.93 2368.22 1516.54 Q2371.3 1521.12 2371.3 1529.87 Q2371.3 1538.6 2368.22 1543.21 Q2365.17 1547.79 2359.36 1547.79 Q2353.55 1547.79 2350.47 1543.21 Q2347.41 1538.6 2347.41 1529.87 Q2347.41 1521.12 2350.47 1516.54 Q2353.55 1511.93 2359.36 1511.93 Z\" fill=\"#000000\" fill-rule=\"evenodd\" fill-opacity=\"1\" /><polyline clip-path=\"url(#clip722)\" style=\"stroke:#000000; stroke-width:2; stroke-opacity:0.1; fill:none\" points=\"\n  135.95,1354.12 2352.76,1354.12 \n  \"/>\n<polyline clip-path=\"url(#clip722)\" style=\"stroke:#000000; stroke-width:2; stroke-opacity:0.1; fill:none\" points=\"\n  135.95,1086.42 2352.76,1086.42 \n  \"/>\n<polyline clip-path=\"url(#clip722)\" style=\"stroke:#000000; stroke-width:2; stroke-opacity:0.1; fill:none\" points=\"\n  135.95,818.718 2352.76,818.718 \n  \"/>\n<polyline clip-path=\"url(#clip722)\" style=\"stroke:#000000; stroke-width:2; stroke-opacity:0.1; fill:none\" points=\"\n  135.95,551.017 2352.76,551.017 \n  \"/>\n<polyline clip-path=\"url(#clip722)\" style=\"stroke:#000000; stroke-width:2; stroke-opacity:0.1; fill:none\" points=\"\n  135.95,283.316 2352.76,283.316 \n  \"/>\n<polyline clip-path=\"url(#clip720)\" style=\"stroke:#000000; stroke-width:4; stroke-opacity:1; fill:none\" points=\"\n  135.95,1486.45 135.95,47.2441 \n  \"/>\n<polyline clip-path=\"url(#clip720)\" style=\"stroke:#000000; stroke-width:4; stroke-opacity:1; fill:none\" points=\"\n  135.95,1354.12 162.552,1354.12 \n  \"/>\n<polyline clip-path=\"url(#clip720)\" style=\"stroke:#000000; stroke-width:4; stroke-opacity:1; fill:none\" points=\"\n  135.95,1086.42 162.552,1086.42 \n  \"/>\n<polyline clip-path=\"url(#clip720)\" style=\"stroke:#000000; stroke-width:4; stroke-opacity:1; fill:none\" points=\"\n  135.95,818.718 162.552,818.718 \n  \"/>\n<polyline clip-path=\"url(#clip720)\" style=\"stroke:#000000; stroke-width:4; stroke-opacity:1; fill:none\" points=\"\n  135.95,551.017 162.552,551.017 \n  \"/>\n<polyline clip-path=\"url(#clip720)\" style=\"stroke:#000000; stroke-width:4; stroke-opacity:1; fill:none\" points=\"\n  135.95,283.316 162.552,283.316 \n  \"/>\n<path clip-path=\"url(#clip720)\" d=\"M 0 0 M54.6264 1367.46 L62.2652 1367.46 L62.2652 1341.1 L53.9551 1342.77 L53.9551 1338.51 L62.2189 1336.84 L66.8948 1336.84 L66.8948 1367.46 L74.5337 1367.46 L74.5337 1371.4 L54.6264 1371.4 L54.6264 1367.46 Z\" fill=\"#000000\" fill-rule=\"evenodd\" fill-opacity=\"1\" /><path clip-path=\"url(#clip720)\" d=\"M 0 0 M83.6308 1367.46 L99.9502 1367.46 L99.9502 1371.4 L78.0059 1371.4 L78.0059 1367.46 Q80.6679 1364.71 85.2512 1360.08 Q89.8577 1355.43 91.0382 1354.09 Q93.2836 1351.56 94.1632 1349.83 Q95.066 1348.07 95.066 1346.38 Q95.066 1343.62 93.1215 1341.89 Q91.2002 1340.15 88.0984 1340.15 Q85.8993 1340.15 83.4457 1340.91 Q81.0151 1341.68 78.2374 1343.23 L78.2374 1338.51 Q81.0614 1337.37 83.5151 1336.79 Q85.9688 1336.21 88.0058 1336.21 Q93.3762 1336.21 96.5706 1338.9 Q99.765 1341.59 99.765 1346.08 Q99.765 1348.21 98.9548 1350.13 Q98.1678 1352.03 96.0613 1354.62 Q95.4826 1355.29 92.3808 1358.51 Q89.279 1361.7 83.6308 1367.46 Z\" fill=\"#000000\" fill-rule=\"evenodd\" fill-opacity=\"1\" /><path clip-path=\"url(#clip720)\" d=\"M 0 0 M52.543 1099.76 L60.1819 1099.76 L60.1819 1073.4 L51.8718 1075.06 L51.8718 1070.81 L60.1356 1069.14 L64.8115 1069.14 L64.8115 1099.76 L72.4503 1099.76 L72.4503 1103.7 L52.543 1103.7 L52.543 1099.76 Z\" fill=\"#000000\" fill-rule=\"evenodd\" fill-opacity=\"1\" /><path clip-path=\"url(#clip720)\" d=\"M 0 0 M90.3669 1073.21 L78.5614 1091.66 L90.3669 1091.66 L90.3669 1073.21 M89.1401 1069.14 L95.0197 1069.14 L95.0197 1091.66 L99.9502 1091.66 L99.9502 1095.55 L95.0197 1095.55 L95.0197 1103.7 L90.3669 1103.7 L90.3669 1095.55 L74.7651 1095.55 L74.7651 1091.04 L89.1401 1069.14 Z\" fill=\"#000000\" fill-rule=\"evenodd\" fill-opacity=\"1\" /><path clip-path=\"url(#clip720)\" d=\"M 0 0 M52.8671 832.063 L60.506 832.063 L60.506 805.697 L52.1958 807.364 L52.1958 803.104 L60.4597 801.438 L65.1356 801.438 L65.1356 832.063 L72.7744 832.063 L72.7744 835.998 L52.8671 835.998 L52.8671 832.063 Z\" fill=\"#000000\" fill-rule=\"evenodd\" fill-opacity=\"1\" /><path clip-path=\"url(#clip720)\" d=\"M 0 0 M88.4225 816.854 Q85.2743 816.854 83.4225 819.007 Q81.5938 821.16 81.5938 824.91 Q81.5938 828.637 83.4225 830.813 Q85.2743 832.965 88.4225 832.965 Q91.5706 832.965 93.3993 830.813 Q95.2511 828.637 95.2511 824.91 Q95.2511 821.16 93.3993 819.007 Q91.5706 816.854 88.4225 816.854 M97.7048 802.202 L97.7048 806.461 Q95.9456 805.628 94.14 805.188 Q92.3576 804.748 90.5984 804.748 Q85.9688 804.748 83.5151 807.873 Q81.0846 810.998 80.7373 817.317 Q82.1031 815.303 84.1632 814.239 Q86.2234 813.151 88.7003 813.151 Q93.9086 813.151 96.9178 816.322 Q99.9502 819.47 99.9502 824.91 Q99.9502 830.234 96.8021 833.451 Q93.6539 836.669 88.4225 836.669 Q82.4271 836.669 79.2559 832.086 Q76.0846 827.479 76.0846 818.752 Q76.0846 810.558 79.9735 805.697 Q83.8623 800.813 90.4132 800.813 Q92.1725 800.813 93.9549 801.16 Q95.7604 801.507 97.7048 802.202 Z\" fill=\"#000000\" fill-rule=\"evenodd\" fill-opacity=\"1\" /><path clip-path=\"url(#clip720)\" d=\"M 0 0 M53.1217 564.361 L60.7606 564.361 L60.7606 537.996 L52.4505 539.663 L52.4505 535.403 L60.7143 533.737 L65.3902 533.737 L65.3902 564.361 L73.029 564.361 L73.029 568.297 L53.1217 568.297 L53.1217 564.361 Z\" fill=\"#000000\" fill-rule=\"evenodd\" fill-opacity=\"1\" /><path clip-path=\"url(#clip720)\" d=\"M 0 0 M88.0984 551.885 Q84.7651 551.885 82.8438 553.667 Q80.9457 555.449 80.9457 558.574 Q80.9457 561.699 82.8438 563.482 Q84.7651 565.264 88.0984 565.264 Q91.4317 565.264 93.353 563.482 Q95.2743 561.676 95.2743 558.574 Q95.2743 555.449 93.353 553.667 Q91.4549 551.885 88.0984 551.885 M83.4225 549.894 Q80.4133 549.153 78.7235 547.093 Q77.0568 545.033 77.0568 542.07 Q77.0568 537.926 79.9966 535.519 Q82.9595 533.112 88.0984 533.112 Q93.2604 533.112 96.2002 535.519 Q99.14 537.926 99.14 542.07 Q99.14 545.033 97.4502 547.093 Q95.7836 549.153 92.7975 549.894 Q96.1771 550.681 98.0521 552.973 Q99.9502 555.264 99.9502 558.574 Q99.9502 563.598 96.8715 566.283 Q93.816 568.968 88.0984 568.968 Q82.3808 568.968 79.3022 566.283 Q76.2466 563.598 76.2466 558.574 Q76.2466 555.264 78.1448 552.973 Q80.0429 550.681 83.4225 549.894 M81.7096 542.51 Q81.7096 545.195 83.3762 546.7 Q85.066 548.204 88.0984 548.204 Q91.1077 548.204 92.7975 546.7 Q94.5104 545.195 94.5104 542.51 Q94.5104 539.825 92.7975 538.32 Q91.1077 536.815 88.0984 536.815 Q85.066 536.815 83.3762 538.32 Q81.7096 539.825 81.7096 542.51 Z\" fill=\"#000000\" fill-rule=\"evenodd\" fill-opacity=\"1\" /><path clip-path=\"url(#clip720)\" d=\"M 0 0 M56.6171 296.66 L72.9365 296.66 L72.9365 300.596 L50.9921 300.596 L50.9921 296.66 Q53.6541 293.906 58.2375 289.276 Q62.8439 284.623 64.0245 283.281 Q66.2698 280.758 67.1494 279.022 Q68.0522 277.262 68.0522 275.573 Q68.0522 272.818 66.1078 271.082 Q64.1865 269.346 61.0847 269.346 Q58.8856 269.346 56.4319 270.11 Q54.0014 270.873 51.2236 272.424 L51.2236 267.702 Q54.0477 266.568 56.5014 265.989 Q58.955 265.411 60.9921 265.411 Q66.3624 265.411 69.5568 268.096 Q72.7513 270.781 72.7513 275.272 Q72.7513 277.401 71.9411 279.322 Q71.1541 281.221 69.0476 283.813 Q68.4689 284.485 65.367 287.702 Q62.2652 290.897 56.6171 296.66 Z\" fill=\"#000000\" fill-rule=\"evenodd\" fill-opacity=\"1\" /><path clip-path=\"url(#clip720)\" d=\"M 0 0 M88.0058 269.114 Q84.3947 269.114 82.566 272.679 Q80.7605 276.221 80.7605 283.35 Q80.7605 290.457 82.566 294.021 Q84.3947 297.563 88.0058 297.563 Q91.6401 297.563 93.4456 294.021 Q95.2743 290.457 95.2743 283.35 Q95.2743 276.221 93.4456 272.679 Q91.6401 269.114 88.0058 269.114 M88.0058 265.411 Q93.816 265.411 96.8715 270.017 Q99.9502 274.6 99.9502 283.35 Q99.9502 292.077 96.8715 296.684 Q93.816 301.267 88.0058 301.267 Q82.1957 301.267 79.117 296.684 Q76.0614 292.077 76.0614 283.35 Q76.0614 274.6 79.117 270.017 Q82.1957 265.411 88.0058 265.411 Z\" fill=\"#000000\" fill-rule=\"evenodd\" fill-opacity=\"1\" /><circle clip-path=\"url(#clip722)\" cx=\"198.69\" cy=\"1369.32\" r=\"14\" fill=\"#009af9\" fill-rule=\"evenodd\" fill-opacity=\"1\" stroke=\"#000000\" stroke-opacity=\"1\" stroke-width=\"3.2\"/>\n<circle clip-path=\"url(#clip722)\" cx=\"721.522\" cy=\"1106.74\" r=\"14\" fill=\"#009af9\" fill-rule=\"evenodd\" fill-opacity=\"1\" stroke=\"#000000\" stroke-opacity=\"1\" stroke-width=\"3.2\"/>\n<circle clip-path=\"url(#clip722)\" cx=\"1244.35\" cy=\"840.727\" r=\"14\" fill=\"#009af9\" fill-rule=\"evenodd\" fill-opacity=\"1\" stroke=\"#000000\" stroke-opacity=\"1\" stroke-width=\"3.2\"/>\n<circle clip-path=\"url(#clip722)\" cx=\"1767.18\" cy=\"571.159\" r=\"14\" fill=\"#009af9\" fill-rule=\"evenodd\" fill-opacity=\"1\" stroke=\"#000000\" stroke-opacity=\"1\" stroke-width=\"3.2\"/>\n<circle clip-path=\"url(#clip722)\" cx=\"2290.02\" cy=\"303.445\" r=\"14\" fill=\"#009af9\" fill-rule=\"evenodd\" fill-opacity=\"1\" stroke=\"#000000\" stroke-opacity=\"1\" stroke-width=\"3.2\"/>\n<circle clip-path=\"url(#clip722)\" cx=\"198.69\" cy=\"1445.72\" r=\"14\" fill=\"#e26f46\" fill-rule=\"evenodd\" fill-opacity=\"1\" stroke=\"#000000\" stroke-opacity=\"1\" stroke-width=\"3.2\"/>\n<circle clip-path=\"url(#clip722)\" cx=\"721.522\" cy=\"1158.77\" r=\"14\" fill=\"#e26f46\" fill-rule=\"evenodd\" fill-opacity=\"1\" stroke=\"#000000\" stroke-opacity=\"1\" stroke-width=\"3.2\"/>\n<circle clip-path=\"url(#clip722)\" cx=\"1244.35\" cy=\"865.872\" r=\"14\" fill=\"#e26f46\" fill-rule=\"evenodd\" fill-opacity=\"1\" stroke=\"#000000\" stroke-opacity=\"1\" stroke-width=\"3.2\"/>\n<circle clip-path=\"url(#clip722)\" cx=\"1767.18\" cy=\"568.7\" r=\"14\" fill=\"#e26f46\" fill-rule=\"evenodd\" fill-opacity=\"1\" stroke=\"#000000\" stroke-opacity=\"1\" stroke-width=\"3.2\"/>\n<circle clip-path=\"url(#clip722)\" cx=\"2290.02\" cy=\"87.9763\" r=\"14\" fill=\"#e26f46\" fill-rule=\"evenodd\" fill-opacity=\"1\" stroke=\"#000000\" stroke-opacity=\"1\" stroke-width=\"3.2\"/>\n<path clip-path=\"url(#clip720)\" d=\"\nM1849.1 276.658 L2278.86 276.658 L2278.86 95.2176 L1849.1 95.2176  Z\n  \" fill=\"#ffffff\" fill-rule=\"evenodd\" fill-opacity=\"1\"/>\n<polyline clip-path=\"url(#clip720)\" style=\"stroke:#000000; stroke-width:4; stroke-opacity:1; fill:none\" points=\"\n  1849.1,276.658 2278.86,276.658 2278.86,95.2176 1849.1,95.2176 1849.1,276.658 \n  \"/>\n<circle clip-path=\"url(#clip720)\" cx=\"1947.63\" cy=\"155.698\" r=\"23\" fill=\"#009af9\" fill-rule=\"evenodd\" fill-opacity=\"1\" stroke=\"#000000\" stroke-opacity=\"1\" stroke-width=\"5.12\"/>\n<path clip-path=\"url(#clip720)\" d=\"M 0 0 M2068.4 139.552 L2068.4 144.112 Q2065.74 142.839 2063.37 142.214 Q2061.01 141.589 2058.81 141.589 Q2054.99 141.589 2052.91 143.07 Q2050.85 144.552 2050.85 147.283 Q2050.85 149.575 2052.22 150.755 Q2053.61 151.913 2057.45 152.63 L2060.27 153.209 Q2065.5 154.205 2067.98 156.728 Q2070.48 159.228 2070.48 163.441 Q2070.48 168.464 2067.1 171.056 Q2063.74 173.649 2057.24 173.649 Q2054.79 173.649 2052.01 173.093 Q2049.25 172.538 2046.29 171.45 L2046.29 166.635 Q2049.14 168.232 2051.87 169.042 Q2054.6 169.853 2057.24 169.853 Q2061.24 169.853 2063.42 168.279 Q2065.6 166.704 2065.6 163.788 Q2065.6 161.242 2064.02 159.806 Q2062.47 158.371 2058.91 157.654 L2056.06 157.098 Q2050.83 156.056 2048.49 153.834 Q2046.15 151.612 2046.15 147.654 Q2046.15 143.07 2049.37 140.431 Q2052.61 137.793 2058.28 137.793 Q2060.71 137.793 2063.24 138.232 Q2065.76 138.672 2068.4 139.552 Z\" fill=\"#000000\" fill-rule=\"evenodd\" fill-opacity=\"1\" /><path clip-path=\"url(#clip720)\" d=\"M 0 0 M2079.16 139.691 L2079.16 147.052 L2087.93 147.052 L2087.93 150.362 L2079.16 150.362 L2079.16 164.436 Q2079.16 167.607 2080.02 168.51 Q2080.9 169.413 2083.56 169.413 L2087.93 169.413 L2087.93 172.978 L2083.56 172.978 Q2078.63 172.978 2076.75 171.149 Q2074.88 169.297 2074.88 164.436 L2074.88 150.362 L2071.75 150.362 L2071.75 147.052 L2074.88 147.052 L2074.88 139.691 L2079.16 139.691 Z\" fill=\"#000000\" fill-rule=\"evenodd\" fill-opacity=\"1\" /><path clip-path=\"url(#clip720)\" d=\"M 0 0 M2107.42 151.033 Q2106.71 150.617 2105.85 150.431 Q2105.02 150.223 2104 150.223 Q2100.39 150.223 2098.44 152.584 Q2096.52 154.922 2096.52 159.32 L2096.52 172.978 L2092.24 172.978 L2092.24 147.052 L2096.52 147.052 L2096.52 151.08 Q2097.86 148.718 2100.02 147.584 Q2102.17 146.427 2105.25 146.427 Q2105.69 146.427 2106.22 146.496 Q2106.75 146.543 2107.4 146.658 L2107.42 151.033 Z\" fill=\"#000000\" fill-rule=\"evenodd\" fill-opacity=\"1\" /><path clip-path=\"url(#clip720)\" d=\"M 0 0 M2123.67 159.945 Q2118.51 159.945 2116.52 161.126 Q2114.53 162.306 2114.53 165.154 Q2114.53 167.422 2116.01 168.765 Q2117.52 170.084 2120.09 170.084 Q2123.63 170.084 2125.76 167.584 Q2127.91 165.061 2127.91 160.894 L2127.91 159.945 L2123.67 159.945 M2132.17 158.186 L2132.17 172.978 L2127.91 172.978 L2127.91 169.042 Q2126.45 171.403 2124.28 172.538 Q2122.1 173.649 2118.95 173.649 Q2114.97 173.649 2112.61 171.427 Q2110.27 169.181 2110.27 165.431 Q2110.27 161.056 2113.19 158.834 Q2116.13 156.612 2121.94 156.612 L2127.91 156.612 L2127.91 156.195 Q2127.91 153.255 2125.97 151.658 Q2124.05 150.038 2120.55 150.038 Q2118.33 150.038 2116.22 150.57 Q2114.11 151.103 2112.17 152.167 L2112.17 148.232 Q2114.51 147.33 2116.71 146.89 Q2118.91 146.427 2120.99 146.427 Q2126.61 146.427 2129.39 149.343 Q2132.17 152.26 2132.17 158.186 Z\" fill=\"#000000\" fill-rule=\"evenodd\" fill-opacity=\"1\" /><path clip-path=\"url(#clip720)\" d=\"M 0 0 M2153.17 147.816 L2153.17 151.843 Q2151.36 150.917 2149.42 150.455 Q2147.47 149.992 2145.39 149.992 Q2142.22 149.992 2140.62 150.964 Q2139.04 151.936 2139.04 153.88 Q2139.04 155.362 2140.18 156.218 Q2141.31 157.052 2144.74 157.816 L2146.2 158.14 Q2150.73 159.112 2152.63 160.894 Q2154.55 162.654 2154.55 165.825 Q2154.55 169.436 2151.68 171.542 Q2148.84 173.649 2143.84 173.649 Q2141.75 173.649 2139.48 173.232 Q2137.24 172.839 2134.74 172.028 L2134.74 167.63 Q2137.1 168.857 2139.39 169.482 Q2141.68 170.084 2143.93 170.084 Q2146.94 170.084 2148.56 169.066 Q2150.18 168.024 2150.18 166.149 Q2150.18 164.413 2149 163.487 Q2147.84 162.561 2143.88 161.704 L2142.4 161.357 Q2138.44 160.524 2136.68 158.811 Q2134.92 157.075 2134.92 154.066 Q2134.92 150.408 2137.52 148.418 Q2140.11 146.427 2144.88 146.427 Q2147.24 146.427 2149.32 146.774 Q2151.41 147.121 2153.17 147.816 Z\" fill=\"#000000\" fill-rule=\"evenodd\" fill-opacity=\"1\" /><path clip-path=\"url(#clip720)\" d=\"M 0 0 M2175.55 147.816 L2175.55 151.843 Q2173.74 150.917 2171.8 150.455 Q2169.85 149.992 2167.77 149.992 Q2164.6 149.992 2163 150.964 Q2161.43 151.936 2161.43 153.88 Q2161.43 155.362 2162.56 156.218 Q2163.7 157.052 2167.12 157.816 L2168.58 158.14 Q2173.12 159.112 2175.02 160.894 Q2176.94 162.654 2176.94 165.825 Q2176.94 169.436 2174.07 171.542 Q2171.22 173.649 2166.22 173.649 Q2164.14 173.649 2161.87 173.232 Q2159.62 172.839 2157.12 172.028 L2157.12 167.63 Q2159.48 168.857 2161.78 169.482 Q2164.07 170.084 2166.31 170.084 Q2169.32 170.084 2170.94 169.066 Q2172.56 168.024 2172.56 166.149 Q2172.56 164.413 2171.38 163.487 Q2170.23 162.561 2166.27 161.704 L2164.79 161.357 Q2160.83 160.524 2159.07 158.811 Q2157.31 157.075 2157.31 154.066 Q2157.31 150.408 2159.9 148.418 Q2162.49 146.427 2167.26 146.427 Q2169.62 146.427 2171.71 146.774 Q2173.79 147.121 2175.55 147.816 Z\" fill=\"#000000\" fill-rule=\"evenodd\" fill-opacity=\"1\" /><path clip-path=\"url(#clip720)\" d=\"M 0 0 M2203.58 158.95 L2203.58 161.033 L2184 161.033 Q2184.28 165.431 2186.64 167.746 Q2189.02 170.038 2193.26 170.038 Q2195.71 170.038 2198 169.436 Q2200.32 168.834 2202.59 167.63 L2202.59 171.658 Q2200.29 172.63 2197.89 173.14 Q2195.48 173.649 2193 173.649 Q2186.8 173.649 2183.17 170.038 Q2179.55 166.427 2179.55 160.269 Q2179.55 153.904 2182.98 150.177 Q2186.43 146.427 2192.26 146.427 Q2197.49 146.427 2200.53 149.806 Q2203.58 153.163 2203.58 158.95 M2199.32 157.7 Q2199.28 154.205 2197.35 152.121 Q2195.46 150.038 2192.31 150.038 Q2188.74 150.038 2186.59 152.052 Q2184.46 154.066 2184.14 157.723 L2199.32 157.7 Z\" fill=\"#000000\" fill-rule=\"evenodd\" fill-opacity=\"1\" /><path clip-path=\"url(#clip720)\" d=\"M 0 0 M2229.6 157.329 L2229.6 172.978 L2225.34 172.978 L2225.34 157.468 Q2225.34 153.788 2223.91 151.959 Q2222.47 150.13 2219.6 150.13 Q2216.15 150.13 2214.16 152.33 Q2212.17 154.529 2212.17 158.325 L2212.17 172.978 L2207.89 172.978 L2207.89 147.052 L2212.17 147.052 L2212.17 151.08 Q2213.7 148.742 2215.76 147.584 Q2217.84 146.427 2220.55 146.427 Q2225.02 146.427 2227.31 149.205 Q2229.6 151.959 2229.6 157.329 Z\" fill=\"#000000\" fill-rule=\"evenodd\" fill-opacity=\"1\" /><circle clip-path=\"url(#clip720)\" cx=\"1947.63\" cy=\"216.178\" r=\"23\" fill=\"#e26f46\" fill-rule=\"evenodd\" fill-opacity=\"1\" stroke=\"#000000\" stroke-opacity=\"1\" stroke-width=\"5.12\"/>\n<path clip-path=\"url(#clip720)\" d=\"M 0 0 M2046.15 198.898 L2052.45 198.898 L2067.77 227.809 L2067.77 198.898 L2072.31 198.898 L2072.31 233.458 L2066.01 233.458 L2050.69 204.546 L2050.69 233.458 L2046.15 233.458 L2046.15 198.898 Z\" fill=\"#000000\" fill-rule=\"evenodd\" fill-opacity=\"1\" /><path clip-path=\"url(#clip720)\" d=\"M 0 0 M2088.56 220.425 Q2083.4 220.425 2081.41 221.606 Q2079.42 222.786 2079.42 225.634 Q2079.42 227.902 2080.9 229.245 Q2082.4 230.564 2084.97 230.564 Q2088.51 230.564 2090.64 228.064 Q2092.8 225.541 2092.8 221.374 L2092.8 220.425 L2088.56 220.425 M2097.05 218.666 L2097.05 233.458 L2092.8 233.458 L2092.8 229.522 Q2091.34 231.883 2089.16 233.018 Q2086.99 234.129 2083.84 234.129 Q2079.86 234.129 2077.49 231.907 Q2075.16 229.661 2075.16 225.911 Q2075.16 221.536 2078.07 219.314 Q2081.01 217.092 2086.82 217.092 L2092.8 217.092 L2092.8 216.675 Q2092.8 213.735 2090.85 212.138 Q2088.93 210.518 2085.43 210.518 Q2083.21 210.518 2081.11 211.05 Q2079 211.583 2077.05 212.647 L2077.05 208.712 Q2079.39 207.81 2081.59 207.37 Q2083.79 206.907 2085.87 206.907 Q2091.5 206.907 2094.28 209.823 Q2097.05 212.74 2097.05 218.666 Z\" fill=\"#000000\" fill-rule=\"evenodd\" fill-opacity=\"1\" /><path clip-path=\"url(#clip720)\" d=\"M 0 0 M2101.52 207.532 L2105.78 207.532 L2105.78 233.458 L2101.52 233.458 L2101.52 207.532 M2101.52 197.439 L2105.78 197.439 L2105.78 202.833 L2101.52 202.833 L2101.52 197.439 Z\" fill=\"#000000\" fill-rule=\"evenodd\" fill-opacity=\"1\" /><path clip-path=\"url(#clip720)\" d=\"M 0 0 M2107.19 207.532 L2111.71 207.532 L2119.81 229.291 L2127.91 207.532 L2132.42 207.532 L2122.7 233.458 L2116.92 233.458 L2107.19 207.532 Z\" fill=\"#000000\" fill-rule=\"evenodd\" fill-opacity=\"1\" /><path clip-path=\"url(#clip720)\" d=\"M 0 0 M2159.07 219.43 L2159.07 221.513 L2139.48 221.513 Q2139.76 225.911 2142.12 228.226 Q2144.51 230.518 2148.74 230.518 Q2151.2 230.518 2153.49 229.916 Q2155.8 229.314 2158.07 228.11 L2158.07 232.138 Q2155.78 233.11 2153.37 233.62 Q2150.97 234.129 2148.49 234.129 Q2142.29 234.129 2138.65 230.518 Q2135.04 226.907 2135.04 220.749 Q2135.04 214.384 2138.47 210.657 Q2141.92 206.907 2147.75 206.907 Q2152.98 206.907 2156.01 210.286 Q2159.07 213.643 2159.07 219.43 M2154.81 218.18 Q2154.76 214.685 2152.84 212.601 Q2150.94 210.518 2147.79 210.518 Q2144.23 210.518 2142.08 212.532 Q2139.95 214.546 2139.62 218.203 L2154.81 218.18 Z\" fill=\"#000000\" fill-rule=\"evenodd\" fill-opacity=\"1\" /></svg>\n"
     },
     "metadata": {},
     "execution_count": 13
    }
   ],
   "source": [
    "Inputsize = 2 .^ collect(6: 10)\n",
    "scatter(log.(Inputsize), log.(Meantimes[1:2:10]), label=\"Strassen\")\n",
    "scatter!(log.(Inputsize), log.(Meantimes[2:2:10]), label=\"Naive\")"
   ]
  },
  {
   "cell_type": "code",
   "execution_count": null,
   "metadata": {},
   "outputs": [],
   "source": []
  }
 ]
}