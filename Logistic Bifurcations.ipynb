{
 "cells": [
  {
   "cell_type": "markdown",
   "metadata": {},
   "source": [
    "This is the logistic iterations formula: \n",
    "\n",
    "$$\n",
    "x_{n + 1} = rx_{n}(1 - x_n)\n",
    "$$\n",
    "\n",
    "The system experience Chaos for certain value of R, find that and plot the infinite bifurcations graphs. "
   ]
  },
  {
   "cell_type": "code",
   "execution_count": null,
   "metadata": {},
   "outputs": [],
   "source": []
  },
  {
   "cell_type": "code",
   "execution_count": null,
   "metadata": {},
   "outputs": [],
   "source": []
  },
  {
   "cell_type": "code",
   "execution_count": null,
   "metadata": {},
   "outputs": [],
   "source": []
  },
  {
   "cell_type": "code",
   "execution_count": null,
   "metadata": {},
   "outputs": [],
   "source": []
  },
  {
   "cell_type": "code",
   "execution_count": null,
   "metadata": {},
   "outputs": [],
   "source": []
  },
  {
   "cell_type": "code",
   "execution_count": 3,
   "metadata": {},
   "outputs": [
    {
     "data": {
      "text/plain": [
       "Dict{Number,Number} with 10 entries:\n",
       "  7  => 7\n",
       "  4  => 4\n",
       "  9  => 9\n",
       "  10 => 10\n",
       "  2  => 2\n",
       "  3  => 3\n",
       "  5  => 5\n",
       "  8  => 8\n",
       "  6  => 6\n",
       "  1  => 1"
      ]
     },
     "execution_count": 3,
     "metadata": {},
     "output_type": "execute_result"
    }
   ],
   "source": [
    "# An identity map\n",
    "TheDic = Dict{Number, Number}(zip(1:10, 1:10))"
   ]
  }
 ],
 "metadata": {
  "kernelspec": {
   "display_name": "Julia 1.5.3",
   "language": "julia",
   "name": "julia-1.5"
  },
  "language_info": {
   "file_extension": ".jl",
   "mimetype": "application/julia",
   "name": "julia",
   "version": "1.5.3"
  }
 },
 "nbformat": 4,
 "nbformat_minor": 4
}
