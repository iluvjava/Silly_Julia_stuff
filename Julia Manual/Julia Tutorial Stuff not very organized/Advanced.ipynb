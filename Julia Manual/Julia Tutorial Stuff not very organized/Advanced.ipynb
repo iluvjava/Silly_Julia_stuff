{
 "cells": [
  {
   "cell_type": "markdown",
   "source": [
    "### **Advanced Function Usage**\r\n",
    "In the introduction part, we know some basics things: \r\n",
    "1. Parametric function \r\n",
    "2. Optional Parameters\r\n",
    "3. Typing\r\n",
    "4. `!` for mutability. \r\n",
    "\r\n",
    "Additional Materials\r\n",
    "1. Mutiple perameters inputs are just tuples. \r\n"
   ],
   "metadata": {}
  },
  {
   "cell_type": "code",
   "execution_count": 5,
   "source": [
    "# multiple parameters\r\n",
    "function Accumulate(m::Number...)\r\n",
    "    sum = 0\r\n",
    "    for n in m\r\n",
    "        sum += n\r\n",
    "    end\r\n",
    "    return sum\r\n",
    "end\r\n",
    "function VargsDemo(a, b, x...)\r\n",
    "    return (a, b, x)\r\n",
    "end"
   ],
   "outputs": [
    {
     "output_type": "execute_result",
     "data": {
      "text/plain": [
       "VargsDemo (generic function with 1 method)"
      ]
     },
     "metadata": {},
     "execution_count": 5
    }
   ],
   "metadata": {}
  },
  {
   "cell_type": "code",
   "execution_count": 8,
   "source": [
    "display(VargsDemo(1, 2, 3, 4))\r\n",
    "display(VargsDemo(1, 2, 3))\r\n",
    "display(VargsDemo(1, 2))\r\n"
   ],
   "outputs": [
    {
     "output_type": "display_data",
     "data": {
      "text/plain": [
       "(1, 2, (3, 4))"
      ]
     },
     "metadata": {}
    },
    {
     "output_type": "display_data",
     "data": {
      "text/plain": [
       "(1, 2, (3,))"
      ]
     },
     "metadata": {}
    },
    {
     "output_type": "display_data",
     "data": {
      "text/plain": [
       "(1, 2, ())"
      ]
     },
     "metadata": {}
    }
   ],
   "metadata": {}
  },
  {
   "cell_type": "code",
   "execution_count": 3,
   "source": [
    "# \r\n",
    "function SumRecursive(v::AbstractVector{T})::T where {T<:Number}\r\n",
    "    if length(v) == 0\r\n",
    "        return 0\r\n",
    "    end\r\n",
    "    if length(v) <= 2\r\n",
    "        return length(v)==2 ? v[1] + v[2] : v[1]\r\n",
    "    end\r\n",
    "    m::Int = length(v)÷2\r\n",
    "    LeftSum::T = SumRecursive(view(v, 1: m))\r\n",
    "    RightSum::T = SumRecursive(view(v, m + 1: length(v)))    \r\n",
    "    return LeftSum + RightSum\r\n",
    "end\r\n"
   ],
   "outputs": [
    {
     "output_type": "execute_result",
     "data": {
      "text/plain": [
       "SumRecursive (generic function with 1 method)"
      ]
     },
     "metadata": {},
     "execution_count": 3
    }
   ],
   "metadata": {}
  },
  {
   "cell_type": "code",
   "execution_count": 43,
   "source": [
    "# Empty array is not Array{T} where T is concrete. it's an instace of array{Any}\r\n",
    "SumRecursive([])\r\n"
   ],
   "outputs": [
    {
     "output_type": "error",
     "ename": "LoadError",
     "evalue": "MethodError: no method matching SumRecursive(::Vector{Any})\n\u001b[0mClosest candidates are:\n\u001b[0m  SumRecursive(\u001b[91m::Vector{T}\u001b[39m) where T<:Number at In[27]:2\n\u001b[0m  SumRecursive(\u001b[91m::AbstractVector{T}\u001b[39m) where T<:Number at In[42]:2\n\u001b[0m  SumRecursive(\u001b[91m::Union{Tuple{Vararg{T, N} where N}, AbstractVector{var\"#s79\"} where var\"#s79\"<:T}\u001b[39m) where T<:Number at In[34]:2",
     "traceback": [
      "MethodError: no method matching SumRecursive(::Vector{Any})\n\u001b[0mClosest candidates are:\n\u001b[0m  SumRecursive(\u001b[91m::Vector{T}\u001b[39m) where T<:Number at In[27]:2\n\u001b[0m  SumRecursive(\u001b[91m::AbstractVector{T}\u001b[39m) where T<:Number at In[42]:2\n\u001b[0m  SumRecursive(\u001b[91m::Union{Tuple{Vararg{T, N} where N}, AbstractVector{var\"#s79\"} where var\"#s79\"<:T}\u001b[39m) where T<:Number at In[34]:2",
      "",
      "Stacktrace:",
      " [1] top-level scope",
      "   @ In[43]:2",
      " [2] eval",
      "   @ .\\boot.jl:360 [inlined]",
      " [3] include_string(mapexpr::typeof(REPL.softscope), mod::Module, code::String, filename::String)",
      "   @ Base .\\loading.jl:1116"
     ]
    }
   ],
   "metadata": {}
  },
  {
   "cell_type": "code",
   "execution_count": 4,
   "source": [
    "SumRecursive([1, 4, 3, 3])"
   ],
   "outputs": [
    {
     "output_type": "execute_result",
     "data": {
      "text/plain": [
       "11"
      ]
     },
     "metadata": {},
     "execution_count": 4
    }
   ],
   "metadata": {}
  },
  {
   "cell_type": "code",
   "execution_count": 5,
   "source": [
    "# Nullable parameters and types\r\n",
    "function Summation(\r\n",
    "    v::Union{AbstractVector{T}, Nothing}\r\n",
    "    ) where {T <: Number}\r\n",
    "    return nothing\r\n",
    "end\r\n",
    "\r\n"
   ],
   "outputs": [
    {
     "output_type": "execute_result",
     "data": {
      "text/plain": [
       "Summation (generic function with 2 methods)"
      ]
     },
     "metadata": {},
     "execution_count": 5
    }
   ],
   "metadata": {}
  },
  {
   "cell_type": "code",
   "execution_count": 6,
   "source": [
    "Summation(nothing)"
   ],
   "outputs": [],
   "metadata": {}
  },
  {
   "cell_type": "code",
   "execution_count": null,
   "source": [
    "# Another way of handling typing\r\n"
   ],
   "outputs": [],
   "metadata": {}
  }
 ],
 "metadata": {
  "orig_nbformat": 4,
  "language_info": {
   "file_extension": ".jl",
   "name": "julia",
   "mimetype": "application/julia",
   "version": "1.6.2"
  },
  "kernelspec": {
   "name": "julia-1.6",
   "display_name": "Julia 1.6.2",
   "language": "julia"
  }
 },
 "nbformat": 4,
 "nbformat_minor": 2
}