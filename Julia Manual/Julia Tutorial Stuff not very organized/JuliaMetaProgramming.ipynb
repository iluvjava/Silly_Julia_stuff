{
 "cells": [
  {
   "cell_type": "markdown",
   "source": [
    "## Intro\r\n",
    "\r\n",
    "* In this file we will be introducing the idea meta programming, and how it works in Julia. \r\n",
    "* It's kinda similar to macros in CPP I think, and function decorator in python, and reflection in java, etc you get the idea. \r\n"
   ],
   "metadata": {}
  }
 ],
 "metadata": {
  "orig_nbformat": 4,
  "language_info": {
   "name": "julia"
  },
  "kernelspec": {
   "name": "julia-1.6",
   "display_name": "Julia 1.6.2"
  }
 },
 "nbformat": 4,
 "nbformat_minor": 2
}