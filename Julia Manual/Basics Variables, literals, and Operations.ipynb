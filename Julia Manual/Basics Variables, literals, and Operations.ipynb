{
 "cells": [
  {
   "cell_type": "markdown",
   "metadata": {},
   "source": [
    "### **Intro**\n",
    "\n",
    "Here, we will be introducing some GOTCHAS for variables and their operations. and we are skipping the basic stuff and will only look at the quirky stuff. \n",
    "\n",
    "* Chained Operations and new lines. "
   ]
  },
  {
   "cell_type": "code",
   "execution_count": 1,
   "metadata": {},
   "outputs": [
    {
     "data": {
      "text/plain": [
       "15"
      ]
     },
     "metadata": {},
     "output_type": "display_data"
    },
    {
     "data": {
      "text/plain": [
       "6"
      ]
     },
     "metadata": {},
     "output_type": "display_data"
    }
   ],
   "source": [
    "s = 1 + 2 + 3 +    # write like this\n",
    "    4 + 5\n",
    "display(s)\n",
    "s = 1 + 2 + 3      # never do this \n",
    "    + 4 + 5\n",
    "display(s)\n"
   ]
  },
  {
   "cell_type": "markdown",
   "metadata": {},
   "source": [
    "### **Numbers**\n",
    "\n",
    "We focus on different literal representation of different form of floats, like hex, binary, bigints, etc, etc. \n",
    "\n",
    "* Ints\n",
    "* Floats\n",
    "\n",
    "Different literal of numbers will get converted to different types of ints and flots. "
   ]
  },
  {
   "cell_type": "code",
   "execution_count": 2,
   "metadata": {},
   "outputs": [
    {
     "name": "stdout",
     "output_type": "stream",
     "text": [
      "17\n",
      "4.5\n",
      "15\n",
      "UInt8\n",
      "Float32\n",
      "UInt8\n"
     ]
    }
   ],
   "source": [
    "a = 0x11\n",
    "b = 4.5f0\n",
    "c = 0b1111\n",
    "println(a)\n",
    "println(b)\n",
    "println(c)\n",
    "\n",
    "println(typeof(a))\n",
    "println(typeof(b))\n",
    "println(typeof(c))\n"
   ]
  },
  {
   "cell_type": "markdown",
   "metadata": {},
   "source": [
    "### **Misc**\n",
    "\n",
    "A bounch of other things that are random, but it's useful. \n"
   ]
  },
  {
   "cell_type": "code",
   "execution_count": 3,
   "metadata": {},
   "outputs": [
    {
     "data": {
      "text/plain": [
       "(24, 80)"
      ]
     },
     "metadata": {},
     "output_type": "display_data"
    }
   ],
   "source": [
    "# Printing out the current work directory: \n",
    "pwd()\n",
    "displaysize(stdout)  # Get the display size out of the console. "
   ]
  },
  {
   "cell_type": "markdown",
   "metadata": {},
   "source": [
    "### **String Interpolations**\n",
    "\n",
    "Let's see how we can make string interpolations in julia. \n",
    "\n",
    "Anyway, here is a list of helpful string functions: \n",
    "\n",
    "|Function Name | Description|\n",
    "| ----------- | ------------|\n",
    "| firstindex(str) | gives the minimal (byte) index that can be used to index into str (always 1 for strings, not necessarily true for other containers).| \n",
    "| lastindex(str) |  gives the maximal (byte) index that can be used to index into str.| \n",
    "| length(str) |  the number of characters in str.| \n",
    "| length(str, i, j) |  the number of valid character indices in str from i to j.| \n",
    "| ncodeunits(str) |  number of code units in a string.| \n",
    "| codeunit(str, i) |  gives the code unit value in the string str at index i.| \n",
    "| thisind(str, i) |  given an arbitrary index into a string find the first index of the character into which the index points.| \n",
    "| nextind(str, i, n=1) |  find the start of the nth character starting after index i.| \n",
    "| prevind(str, i, n=1)  | find the start of the nth character starting before index i.| \n",
    " "
   ]
  },
  {
   "cell_type": "code",
   "execution_count": 6,
   "metadata": {},
   "outputs": [
    {
     "name": "stdout",
     "output_type": "stream",
     "text": [
      "Hello! Izzy Moonblow\n"
     ]
    }
   ],
   "source": [
    "# Boom! Interpolations: \n",
    "name = \"Izzy Moonblow\"\n",
    "println(\"Hello! $name\")"
   ]
  },
  {
   "cell_type": "code",
   "execution_count": 5,
   "metadata": {},
   "outputs": [
    {
     "name": "stdout",
     "output_type": "stream",
     "text": [
      "4 + 9 = 13\n"
     ]
    }
   ],
   "source": [
    "# let's put expression into the interpolations\n",
    "a = 4\n",
    "b = 9\n",
    "println(\"4 + 9 = $(a + b)\")"
   ]
  }
 ],
 "metadata": {
  "kernelspec": {
   "display_name": "Julia 1.7.0",
   "language": "julia",
   "name": "julia-1.7"
  },
  "language_info": {
   "file_extension": ".jl",
   "mimetype": "application/julia",
   "name": "julia",
   "version": "1.7.0"
  },
  "orig_nbformat": 4
 },
 "nbformat": 4,
 "nbformat_minor": 2
}
