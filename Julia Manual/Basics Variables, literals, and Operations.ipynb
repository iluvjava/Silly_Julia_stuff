{
 "cells": [
  {
   "cell_type": "markdown",
   "source": [
    "### **Intro**\r\n",
    "\r\n",
    "Here, we will be introducing some GOTCHAS for variables and their operations. and we are skipping the basic stuff and will only look at the quirky stuff. \r\n",
    "\r\n",
    "* Chained Operations and new lines. "
   ],
   "metadata": {}
  },
  {
   "cell_type": "code",
   "execution_count": 9,
   "source": [
    "s = 1 + 2 + 3 +    # write like this\r\n",
    "    4 + 5\r\n",
    "display(s)\r\n",
    "s = 1 + 2 + 3      # never do this \r\n",
    "    + 4 + 5\r\n",
    "display(s)\r\n"
   ],
   "outputs": [
    {
     "output_type": "display_data",
     "data": {
      "text/plain": [
       "15"
      ]
     },
     "metadata": {}
    },
    {
     "output_type": "display_data",
     "data": {
      "text/plain": [
       "6"
      ]
     },
     "metadata": {}
    }
   ],
   "metadata": {}
  },
  {
   "cell_type": "markdown",
   "source": [
    "### **Numbers**\r\n",
    "\r\n",
    "We focus on different literal representation of different form of floats, like hex, binary, bigints, etc, etc. \r\n",
    "\r\n",
    "* Ints\r\n",
    "* Floats\r\n",
    "\r\n",
    "Different literal of numbers will get converted to different types of ints and flots. "
   ],
   "metadata": {}
  },
  {
   "cell_type": "code",
   "execution_count": 8,
   "source": [
    "a = 0x11\r\n",
    "b = 4.5f0\r\n",
    "c = 0b1111\r\n",
    "println(a)\r\n",
    "println(b)\r\n",
    "println(c)\r\n",
    "\r\n",
    "println(typeof(a))\r\n",
    "println(typeof(b))\r\n",
    "println(typeof(c))\r\n"
   ],
   "outputs": [
    {
     "output_type": "stream",
     "name": "stdout",
     "text": [
      "17\n",
      "4.5\n",
      "15\n",
      "UInt8\n",
      "Float32\n",
      "UInt8\n"
     ]
    }
   ],
   "metadata": {}
  },
  {
   "cell_type": "markdown",
   "source": [
    "### **Misc**\r\n",
    "\r\n",
    "A bounch of other things that are random, but it's useful. \r\n"
   ],
   "metadata": {}
  },
  {
   "cell_type": "code",
   "execution_count": 10,
   "source": [
    "# Printing out the current work directory: \r\n",
    "pwd()\r\n",
    "displaysize(stdout)  # Get the display size out of the console. "
   ],
   "outputs": [
    {
     "output_type": "execute_result",
     "data": {
      "text/plain": [
       "(30, 80)"
      ]
     },
     "metadata": {},
     "execution_count": 10
    }
   ],
   "metadata": {}
  },
  {
   "cell_type": "markdown",
   "source": [
    "### **String Interpolations**\r\n",
    "\r\n",
    "Let's see how we can make string interpolations in julia. \r\n",
    "\r\n",
    "Anyway, here is a list of helpful string functions: \r\n",
    "\r\n",
    "|Function Name | Description|\r\n",
    "| ----------- | ------------|\r\n",
    "| firstindex(str) | gives the minimal (byte) index that can be used to index into str (always 1 for strings, not necessarily true for other containers).| \r\n",
    "| lastindex(str) |  gives the maximal (byte) index that can be used to index into str.| \r\n",
    "| length(str) |  the number of characters in str.| \r\n",
    "| length(str, i, j) |  the number of valid character indices in str from i to j.| \r\n",
    "| ncodeunits(str) |  number of code units in a string.| \r\n",
    "| codeunit(str, i) |  gives the code unit value in the string str at index i.| \r\n",
    "| thisind(str, i) |  given an arbitrary index into a string find the first index of the character into which the index points.| \r\n",
    "| nextind(str, i, n=1) |  find the start of the nth character starting after index i.| \r\n",
    "| prevind(str, i, n=1)  | find the start of the nth character starting before index i.| \r\n",
    " "
   ],
   "metadata": {}
  },
  {
   "cell_type": "code",
   "execution_count": 13,
   "source": [
    "# Boom! Interpolations: \r\n",
    "name = \"Izzy\"\r\n",
    "println(\"Hello! $name\")"
   ],
   "outputs": [
    {
     "output_type": "stream",
     "name": "stdout",
     "text": [
      "Hello! Izzy\n"
     ]
    }
   ],
   "metadata": {}
  },
  {
   "cell_type": "code",
   "execution_count": 14,
   "source": [
    "# let's put expression into the interpolations\r\n",
    "a = 4\r\n",
    "b = 9\r\n",
    "println(\"4 + 9 = $(a + b)\")"
   ],
   "outputs": [
    {
     "output_type": "stream",
     "name": "stdout",
     "text": [
      "4 + 9 = 13\n"
     ]
    }
   ],
   "metadata": {}
  }
 ],
 "metadata": {
  "orig_nbformat": 4,
  "language_info": {
   "file_extension": ".jl",
   "name": "julia",
   "mimetype": "application/julia",
   "version": "1.6.2"
  },
  "kernelspec": {
   "name": "julia-1.6",
   "display_name": "Julia 1.6.2",
   "language": "julia"
  }
 },
 "nbformat": 4,
 "nbformat_minor": 2
}