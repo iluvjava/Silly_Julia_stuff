{
 "cells": [
  {
   "cell_type": "markdown",
   "metadata": {},
   "source": [
    "### **Intro**\n",
    "\n",
    "Using Modules allows us to make big projects in Julia\n",
    "* Basic\n",
    "  * What is a Module? \n",
    "    * A module is just defining a namespace for a bunch of includes statements. \n",
    "    * A module can then, be used using `using ModuleName`, or imported with Alias like `using Module as M`\n",
    "    * When using include, it's literally copying the code. \n",
    "* Compnents\n",
    "* Namespace\n",
    "* How to use modules\n",
    "\n",
    "For an example Module I wrote, check out `./MyModules`, which binds some other files in the directory, defining its namespace. \n",
    "\n",
    "### **Library**\n",
    "\n",
    "For module related library, check out `Revise`. \n",
    "\n"
   ]
  },
  {
   "cell_type": "code",
   "execution_count": 1,
   "metadata": {},
   "outputs": [
    {
     "data": {
      "text/html": [
       "149-element Vector{Method}:<ul><li> serialize(s::<b>Serialization.AbstractSerializer</b>, m::<b>Module</b>) in Serialization at <a href=\"file:///Users/sabae/src/julia/usr/share/julia/stdlib/v1.7/Serialization/src/Serialization.jl\" target=\"_blank\">/Applications/Julia-1.7.app/Contents/Resources/julia/share/julia/stdlib/v1.7/Serialization/src/Serialization.jl:375</a><li> var\"@profile\"(__source__::<b>LineNumberNode</b>, __module__::<b>Module</b>, ex) in Profile at <a href=\"file:///Users/sabae/src/julia/usr/share/julia/stdlib/v1.7/Profile/src/Profile.jl\" target=\"_blank\">/Applications/Julia-1.7.app/Contents/Resources/julia/share/julia/stdlib/v1.7/Profile/src/Profile.jl:21</a><li> var\"@debug\"(__source__::<b>LineNumberNode</b>, __module__::<b>Module</b>, exs...) in Base.CoreLogging at <a href=\"https://github.com/JuliaLang/julia/tree/ac5cc99908d463582e66db3368b9b48fae1e2525/base/logging.jl#L257\" target=\"_blank\">logging.jl:257</a><li> var\"@error\"(__source__::<b>LineNumberNode</b>, __module__::<b>Module</b>, exs...) in Base.CoreLogging at <a href=\"https://github.com/JuliaLang/julia/tree/ac5cc99908d463582e66db3368b9b48fae1e2525/base/logging.jl#L260\" target=\"_blank\">logging.jl:260</a><li> var\"@info\"(__source__::<b>LineNumberNode</b>, __module__::<b>Module</b>, exs...) in Base.CoreLogging at <a href=\"https://github.com/JuliaLang/julia/tree/ac5cc99908d463582e66db3368b9b48fae1e2525/base/logging.jl#L258\" target=\"_blank\">logging.jl:258</a><li> var\"@logmsg\"(__source__::<b>LineNumberNode</b>, __module__::<b>Module</b>, level, exs...) in Base.CoreLogging at <a href=\"https://github.com/JuliaLang/julia/tree/ac5cc99908d463582e66db3368b9b48fae1e2525/base/logging.jl#L256\" target=\"_blank\">logging.jl:256</a><li> var\"@warn\"(__source__::<b>LineNumberNode</b>, __module__::<b>Module</b>, exs...) in Base.CoreLogging at <a href=\"https://github.com/JuliaLang/julia/tree/ac5cc99908d463582e66db3368b9b48fae1e2525/base/logging.jl#L259\" target=\"_blank\">logging.jl:259</a><li> var\"@printf\"(__source__::<b>LineNumberNode</b>, __module__::<b>Module</b>, io_or_fmt, args...) in Printf at <a href=\"file:///Users/sabae/src/julia/usr/share/julia/stdlib/v1.7/Printf/src/Printf.jl\" target=\"_blank\">/Applications/Julia-1.7.app/Contents/Resources/julia/share/julia/stdlib/v1.7/Printf/src/Printf.jl:876</a><li> var\"@sprintf\"(__source__::<b>LineNumberNode</b>, __module__::<b>Module</b>, fmt, args...) in Printf at <a href=\"file:///Users/sabae/src/julia/usr/share/julia/stdlib/v1.7/Printf/src/Printf.jl\" target=\"_blank\">/Applications/Julia-1.7.app/Contents/Resources/julia/share/julia/stdlib/v1.7/Printf/src/Printf.jl:899</a><li> var\"@arg_test\"(__source__::<b>LineNumberNode</b>, __module__::<b>Module</b>, args...) in ArgTools at <a href=\"file:///Users/sabae/src/julia/usr/share/julia/stdlib/v1.7/ArgTools/src/ArgTools.jl\" target=\"_blank\">/Applications/Julia-1.7.app/Contents/Resources/julia/share/julia/stdlib/v1.7/ArgTools/src/ArgTools.jl:304</a><li> var\"@doc_str\"(__source__::<b>LineNumberNode</b>, __module__::<b>Module</b>, s::<b>AbstractString</b>, t...) in Markdown at <a href=\"file:///Users/sabae/src/julia/usr/share/julia/stdlib/v1.7/Markdown/src/Markdown.jl\" target=\"_blank\">/Applications/Julia-1.7.app/Contents/Resources/julia/share/julia/stdlib/v1.7/Markdown/src/Markdown.jl:54</a><li> var\"@md_str\"(__source__::<b>LineNumberNode</b>, __module__::<b>Module</b>, s, t...) in Markdown at <a href=\"file:///Users/sabae/src/julia/usr/share/julia/stdlib/v1.7/Markdown/src/Markdown.jl\" target=\"_blank\">/Applications/Julia-1.7.app/Contents/Resources/julia/share/julia/stdlib/v1.7/Markdown/src/Markdown.jl:43</a><li> var\"@distributed\"(__source__::<b>LineNumberNode</b>, __module__::<b>Module</b>, args...) in Distributed at <a href=\"file:///Users/sabae/src/julia/usr/share/julia/stdlib/v1.7/Distributed/src/macros.jl\" target=\"_blank\">/Applications/Julia-1.7.app/Contents/Resources/julia/share/julia/stdlib/v1.7/Distributed/src/macros.jl:330</a><li> var\"@everywhere\"(__source__::<b>LineNumberNode</b>, __module__::<b>Module</b>, ex) in Distributed at <a href=\"file:///Users/sabae/src/julia/usr/share/julia/stdlib/v1.7/Distributed/src/macros.jl\" target=\"_blank\">/Applications/Julia-1.7.app/Contents/Resources/julia/share/julia/stdlib/v1.7/Distributed/src/macros.jl:192</a><li> var\"@everywhere\"(__source__::<b>LineNumberNode</b>, __module__::<b>Module</b>, procs, ex) in Distributed at <a href=\"file:///Users/sabae/src/julia/usr/share/julia/stdlib/v1.7/Distributed/src/macros.jl\" target=\"_blank\">/Applications/Julia-1.7.app/Contents/Resources/julia/share/julia/stdlib/v1.7/Distributed/src/macros.jl:197</a><li> var\"@fetch\"(__source__::<b>LineNumberNode</b>, __module__::<b>Module</b>, expr) in Distributed at <a href=\"file:///Users/sabae/src/julia/usr/share/julia/stdlib/v1.7/Distributed/src/macros.jl\" target=\"_blank\">/Applications/Julia-1.7.app/Contents/Resources/julia/share/julia/stdlib/v1.7/Distributed/src/macros.jl:122</a><li> var\"@fetchfrom\"(__source__::<b>LineNumberNode</b>, __module__::<b>Module</b>, p, expr) in Distributed at <a href=\"file:///Users/sabae/src/julia/usr/share/julia/stdlib/v1.7/Distributed/src/macros.jl\" target=\"_blank\">/Applications/Julia-1.7.app/Contents/Resources/julia/share/julia/stdlib/v1.7/Distributed/src/macros.jl:144</a><li> var\"@spawn\"(__source__::<b>LineNumberNode</b>, __module__::<b>Module</b>, expr) in Distributed at <a href=\"file:///Users/sabae/src/julia/usr/share/julia/stdlib/v1.7/Distributed/src/macros.jl\" target=\"_blank\">/Applications/Julia-1.7.app/Contents/Resources/julia/share/julia/stdlib/v1.7/Distributed/src/macros.jl:42</a><li> var\"@spawnat\"(__source__::<b>LineNumberNode</b>, __module__::<b>Module</b>, p, expr) in Distributed at <a href=\"file:///Users/sabae/src/julia/usr/share/julia/stdlib/v1.7/Distributed/src/macros.jl\" target=\"_blank\">/Applications/Julia-1.7.app/Contents/Resources/julia/share/julia/stdlib/v1.7/Distributed/src/macros.jl:82</a><li> var\"@enter\"(__source__::<b>LineNumberNode</b>, __module__::<b>Module</b>, command) in VSCodeServer at <a href=\"file:///Users/hongdali/.vscode/extensions/julialang.language-julia-1.5.8/scripts/packages/VSCodeServer/src/debugger.jl\" target=\"_blank\">/Users/hongdali/.vscode/extensions/julialang.language-julia-1.5.8/scripts/packages/VSCodeServer/src/debugger.jl:96</a><li> var\"@profview\"(__source__::<b>LineNumberNode</b>, __module__::<b>Module</b>, ex, args...) in VSCodeServer at <a href=\"file:///Users/hongdali/.vscode/extensions/julialang.language-julia-1.5.8/scripts/packages/VSCodeServer/src/profiler.jl\" target=\"_blank\">/Users/hongdali/.vscode/extensions/julialang.language-julia-1.5.8/scripts/packages/VSCodeServer/src/profiler.jl:20</a><li> var\"@run\"(__source__::<b>LineNumberNode</b>, __module__::<b>Module</b>, command) in VSCodeServer at <a href=\"file:///Users/hongdali/.vscode/extensions/julialang.language-julia-1.5.8/scripts/packages/VSCodeServer/src/debugger.jl\" target=\"_blank\">/Users/hongdali/.vscode/extensions/julialang.language-julia-1.5.8/scripts/packages/VSCodeServer/src/debugger.jl:101</a><li> var\"@vscodedisplay\"(__source__::<b>LineNumberNode</b>, __module__::<b>Module</b>, x) in VSCodeServer at <a href=\"file:///Users/hongdali/.vscode/extensions/julialang.language-julia-1.5.8/scripts/packages/VSCodeServer/src/display.jl\" target=\"_blank\">/Users/hongdali/.vscode/extensions/julialang.language-julia-1.5.8/scripts/packages/VSCodeServer/src/display.jl:202</a><li> GlobalRef(m::<b>Module</b>, s::<b>Symbol</b>) in Core at <a href=\"file:///Applications/Julia-1.7.app/Contents/Resources/julia/share/julia/base/boot.jl\" target=\"_blank\">boot.jl:414</a><li> eval(m::<b>Module</b>, e) in Core at <a href=\"file:///Applications/Julia-1.7.app/Contents/Resources/julia/share/julia/base/boot.jl\" target=\"_blank\">boot.jl:373</a><li> var\"@artifact_str\"(__source__::<b>LineNumberNode</b>, __module__::<b>Module</b>, name) in Artifacts at <a href=\"file:///Users/sabae/src/julia/usr/share/julia/stdlib/v1.7/Artifacts/src/Artifacts.jl\" target=\"_blank\">/Applications/Julia-1.7.app/Contents/Resources/julia/share/julia/stdlib/v1.7/Artifacts/src/Artifacts.jl:639</a><li> var\"@artifact_str\"(__source__::<b>LineNumberNode</b>, __module__::<b>Module</b>, name, platform) in Artifacts at <a href=\"file:///Users/sabae/src/julia/usr/share/julia/stdlib/v1.7/Artifacts/src/Artifacts.jl\" target=\"_blank\">/Applications/Julia-1.7.app/Contents/Resources/julia/share/julia/stdlib/v1.7/Artifacts/src/Artifacts.jl:639</a><li> var\"@inferred\"(__source__::<b>LineNumberNode</b>, __module__::<b>Module</b>, ex) in Test at <a href=\"file:///Users/sabae/src/julia/usr/share/julia/stdlib/v1.7/Test/src/Test.jl\" target=\"_blank\">/Applications/Julia-1.7.app/Contents/Resources/julia/share/julia/stdlib/v1.7/Test/src/Test.jl:1531</a><li> var\"@inferred\"(__source__::<b>LineNumberNode</b>, __module__::<b>Module</b>, allow, ex) in Test at <a href=\"file:///Users/sabae/src/julia/usr/share/julia/stdlib/v1.7/Test/src/Test.jl\" target=\"_blank\">/Applications/Julia-1.7.app/Contents/Resources/julia/share/julia/stdlib/v1.7/Test/src/Test.jl:1534</a><li> var\"@test\"(__source__::<b>LineNumberNode</b>, __module__::<b>Module</b>, ex, kws...) in Test at <a href=\"file:///Users/sabae/src/julia/usr/share/julia/stdlib/v1.7/Test/src/Test.jl\" target=\"_blank\">/Applications/Julia-1.7.app/Contents/Resources/julia/share/julia/stdlib/v1.7/Test/src/Test.jl:419</a><li> var\"@test_broken\"(__source__::<b>LineNumberNode</b>, __module__::<b>Module</b>, ex, kws...) in Test at <a href=\"file:///Users/sabae/src/julia/usr/share/julia/stdlib/v1.7/Test/src/Test.jl\" target=\"_blank\">/Applications/Julia-1.7.app/Contents/Resources/julia/share/julia/stdlib/v1.7/Test/src/Test.jl:474</a><li> var\"@test_deprecated\"(__source__::<b>LineNumberNode</b>, __module__::<b>Module</b>, exs...) in Test at <a href=\"file:///Users/sabae/src/julia/usr/share/julia/stdlib/v1.7/Test/src/logging.jl\" target=\"_blank\">/Applications/Julia-1.7.app/Contents/Resources/julia/share/julia/stdlib/v1.7/Test/src/logging.jl:250</a><li> var\"@test_logs\"(__source__::<b>LineNumberNode</b>, __module__::<b>Module</b>, exs...) in Test at <a href=\"file:///Users/sabae/src/julia/usr/share/julia/stdlib/v1.7/Test/src/logging.jl\" target=\"_blank\">/Applications/Julia-1.7.app/Contents/Resources/julia/share/julia/stdlib/v1.7/Test/src/logging.jl:159</a><li> var\"@test_nowarn\"(__source__::<b>LineNumberNode</b>, __module__::<b>Module</b>, expr) in Test at <a href=\"file:///Users/sabae/src/julia/usr/share/julia/stdlib/v1.7/Test/src/Test.jl\" target=\"_blank\">/Applications/Julia-1.7.app/Contents/Resources/julia/share/julia/stdlib/v1.7/Test/src/Test.jl:790</a><li> var\"@test_skip\"(__source__::<b>LineNumberNode</b>, __module__::<b>Module</b>, ex, kws...) in Test at <a href=\"file:///Users/sabae/src/julia/usr/share/julia/stdlib/v1.7/Test/src/Test.jl\" target=\"_blank\">/Applications/Julia-1.7.app/Contents/Resources/julia/share/julia/stdlib/v1.7/Test/src/Test.jl:504</a><li> var\"@test_throws\"(__source__::<b>LineNumberNode</b>, __module__::<b>Module</b>, extype, ex) in Test at <a href=\"file:///Users/sabae/src/julia/usr/share/julia/stdlib/v1.7/Test/src/Test.jl\" target=\"_blank\">/Applications/Julia-1.7.app/Contents/Resources/julia/share/julia/stdlib/v1.7/Test/src/Test.jl:675</a><li> var\"@test_warn\"(__source__::<b>LineNumberNode</b>, __module__::<b>Module</b>, msg, expr) in Test at <a href=\"file:///Users/sabae/src/julia/usr/share/julia/stdlib/v1.7/Test/src/Test.jl\" target=\"_blank\">/Applications/Julia-1.7.app/Contents/Resources/julia/share/julia/stdlib/v1.7/Test/src/Test.jl:763</a><li> var\"@testset\"(__source__::<b>LineNumberNode</b>, __module__::<b>Module</b>, args...) in Test at <a href=\"file:///Users/sabae/src/julia/usr/share/julia/stdlib/v1.7/Test/src/Test.jl\" target=\"_blank\">/Applications/Julia-1.7.app/Contents/Resources/julia/share/julia/stdlib/v1.7/Test/src/Test.jl:1233</a><li> var\"@ip_str\"(__source__::<b>LineNumberNode</b>, __module__::<b>Module</b>, str) in Sockets at <a href=\"file:///Users/sabae/src/julia/usr/share/julia/stdlib/v1.7/Sockets/src/IPAddr.jl\" target=\"_blank\">/Applications/Julia-1.7.app/Contents/Resources/julia/share/julia/stdlib/v1.7/Sockets/src/IPAddr.jl:268</a><li> var\"@pkg_str\"(__source__::<b>LineNumberNode</b>, __module__::<b>Module</b>, str::<b>String</b>) in Pkg.REPLMode at <a href=\"file:///Users/sabae/src/julia/usr/share/julia/stdlib/v1.7/Pkg/src/REPLMode/REPLMode.jl\" target=\"_blank\">/Applications/Julia-1.7.app/Contents/Resources/julia/share/julia/stdlib/v1.7/Pkg/src/REPLMode/REPLMode.jl:463</a><li> var\"@dateformat_str\"(__source__::<b>LineNumberNode</b>, __module__::<b>Module</b>, str) in Dates at <a href=\"file:///Users/sabae/src/julia/usr/share/julia/stdlib/v1.7/Dates/src/io.jl\" target=\"_blank\">/Applications/Julia-1.7.app/Contents/Resources/julia/share/julia/stdlib/v1.7/Dates/src/io.jl:442</a><li> var\"@code_llvm\"(__source__::<b>LineNumberNode</b>, __module__::<b>Module</b>, ex0...) in InteractiveUtils at <a href=\"file:///Users/sabae/src/julia/usr/share/julia/stdlib/v1.7/InteractiveUtils/src/macros.jl\" target=\"_blank\">/Applications/Julia-1.7.app/Contents/Resources/julia/share/julia/stdlib/v1.7/InteractiveUtils/src/macros.jl:213</a><li> var\"@code_lowered\"(__source__::<b>LineNumberNode</b>, __module__::<b>Module</b>, ex0...) in InteractiveUtils at <a href=\"file:///Users/sabae/src/julia/usr/share/julia/stdlib/v1.7/InteractiveUtils/src/macros.jl\" target=\"_blank\">/Applications/Julia-1.7.app/Contents/Resources/julia/share/julia/stdlib/v1.7/InteractiveUtils/src/macros.jl:227</a><li> var\"@code_native\"(__source__::<b>LineNumberNode</b>, __module__::<b>Module</b>, ex0...) in InteractiveUtils at <a href=\"file:///Users/sabae/src/julia/usr/share/julia/stdlib/v1.7/InteractiveUtils/src/macros.jl\" target=\"_blank\">/Applications/Julia-1.7.app/Contents/Resources/julia/share/julia/stdlib/v1.7/InteractiveUtils/src/macros.jl:213</a><li> var\"@code_typed\"(__source__::<b>LineNumberNode</b>, __module__::<b>Module</b>, ex0...) in InteractiveUtils at <a href=\"file:///Users/sabae/src/julia/usr/share/julia/stdlib/v1.7/InteractiveUtils/src/macros.jl\" target=\"_blank\">/Applications/Julia-1.7.app/Contents/Resources/julia/share/julia/stdlib/v1.7/InteractiveUtils/src/macros.jl:219</a><li> var\"@code_warntype\"(__source__::<b>LineNumberNode</b>, __module__::<b>Module</b>, ex0...) in InteractiveUtils at <a href=\"file:///Users/sabae/src/julia/usr/share/julia/stdlib/v1.7/InteractiveUtils/src/macros.jl\" target=\"_blank\">/Applications/Julia-1.7.app/Contents/Resources/julia/share/julia/stdlib/v1.7/InteractiveUtils/src/macros.jl:213</a><li> var\"@edit\"(__source__::<b>LineNumberNode</b>, __module__::<b>Module</b>, ex0) in InteractiveUtils at <a href=\"file:///Users/sabae/src/julia/usr/share/julia/stdlib/v1.7/InteractiveUtils/src/macros.jl\" target=\"_blank\">/Applications/Julia-1.7.app/Contents/Resources/julia/share/julia/stdlib/v1.7/InteractiveUtils/src/macros.jl:200</a><li> var\"@functionloc\"(__source__::<b>LineNumberNode</b>, __module__::<b>Module</b>, ex0) in InteractiveUtils at <a href=\"file:///Users/sabae/src/julia/usr/share/julia/stdlib/v1.7/InteractiveUtils/src/macros.jl\" target=\"_blank\">/Applications/Julia-1.7.app/Contents/Resources/julia/share/julia/stdlib/v1.7/InteractiveUtils/src/macros.jl:200</a><li> var\"@less\"(__source__::<b>LineNumberNode</b>, __module__::<b>Module</b>, ex0) in InteractiveUtils at <a href=\"file:///Users/sabae/src/julia/usr/share/julia/stdlib/v1.7/InteractiveUtils/src/macros.jl\" target=\"_blank\">/Applications/Julia-1.7.app/Contents/Resources/julia/share/julia/stdlib/v1.7/InteractiveUtils/src/macros.jl:200</a><li> var\"@which\"(__source__::<b>LineNumberNode</b>, __module__::<b>Module</b>, ex0::<b>Symbol</b>) in InteractiveUtils at <a href=\"file:///Users/sabae/src/julia/usr/share/julia/stdlib/v1.7/InteractiveUtils/src/macros.jl\" target=\"_blank\">/Applications/Julia-1.7.app/Contents/Resources/julia/share/julia/stdlib/v1.7/InteractiveUtils/src/macros.jl:206</a><li> var\"@which\"(__source__::<b>LineNumberNode</b>, __module__::<b>Module</b>, ex0) in InteractiveUtils at <a href=\"file:///Users/sabae/src/julia/usr/share/julia/stdlib/v1.7/InteractiveUtils/src/macros.jl\" target=\"_blank\">/Applications/Julia-1.7.app/Contents/Resources/julia/share/julia/stdlib/v1.7/InteractiveUtils/src/macros.jl:200</a><li> edit(m::<b>Module</b>) in InteractiveUtils at <a href=\"file:///Users/sabae/src/julia/usr/share/julia/stdlib/v1.7/InteractiveUtils/src/editless.jl\" target=\"_blank\">/Applications/Julia-1.7.app/Contents/Resources/julia/share/julia/stdlib/v1.7/InteractiveUtils/src/editless.jl:236</a><li> methodswith(t::<b>Type</b>, m::<b>Module</b>; <i>supertypes</i>) in InteractiveUtils at <a href=\"file:///Users/sabae/src/julia/usr/share/julia/stdlib/v1.7/InteractiveUtils/src/InteractiveUtils.jl\" target=\"_blank\">/Applications/Julia-1.7.app/Contents/Resources/julia/share/julia/stdlib/v1.7/InteractiveUtils/src/InteractiveUtils.jl:200</a><li> subtypes(m::<b>Module</b>, x::<b>Type</b>) in InteractiveUtils at <a href=\"file:///Users/sabae/src/julia/usr/share/julia/stdlib/v1.7/InteractiveUtils/src/InteractiveUtils.jl\" target=\"_blank\">/Applications/Julia-1.7.app/Contents/Resources/julia/share/julia/stdlib/v1.7/InteractiveUtils/src/InteractiveUtils.jl:239</a><li> varinfo(m::<b>Module</b>) in InteractiveUtils at <a href=\"file:///Users/sabae/src/julia/usr/share/julia/stdlib/v1.7/InteractiveUtils/src/InteractiveUtils.jl\" target=\"_blank\">/Applications/Julia-1.7.app/Contents/Resources/julia/share/julia/stdlib/v1.7/InteractiveUtils/src/InteractiveUtils.jl:36</a><li> varinfo(m::<b>Module</b>, pattern::<b>Regex</b>; <i>all, imported, sortby, recursive</i>) in InteractiveUtils at <a href=\"file:///Users/sabae/src/julia/usr/share/julia/stdlib/v1.7/InteractiveUtils/src/InteractiveUtils.jl\" target=\"_blank\">/Applications/Julia-1.7.app/Contents/Resources/julia/share/julia/stdlib/v1.7/InteractiveUtils/src/InteractiveUtils.jl:36</a><li> var\"@MIME_str\"(__source__::<b>LineNumberNode</b>, __module__::<b>Module</b>, s) in Base.Multimedia at <a href=\"https://github.com/JuliaLang/julia/tree/ac5cc99908d463582e66db3368b9b48fae1e2525/base/multimedia.jl#L42\" target=\"_blank\">multimedia.jl:42</a><li> var\"@NamedTuple\"(__source__::<b>LineNumberNode</b>, __module__::<b>Module</b>, ex) in Base at <a href=\"https://github.com/JuliaLang/julia/tree/ac5cc99908d463582e66db3368b9b48fae1e2525/base/namedtuple.jl#L398\" target=\"_blank\">namedtuple.jl:398</a><li> var\"@__DIR__\"(__source__::<b>LineNumberNode</b>, __module__::<b>Module</b>) in Base at <a href=\"https://github.com/JuliaLang/julia/tree/ac5cc99908d463582e66db3368b9b48fae1e2525/base/loading.jl#L1930\" target=\"_blank\">loading.jl:1930</a><li> var\"@__FILE__\"(__source__::<b>LineNumberNode</b>, __module__::<b>Module</b>) in Base at <a href=\"https://github.com/JuliaLang/julia/tree/ac5cc99908d463582e66db3368b9b48fae1e2525/base/loading.jl#L1918\" target=\"_blank\">loading.jl:1918</a><li> var\"@__LINE__\"(__source__::<b>LineNumberNode</b>, __module__::<b>Module</b>) in Base at <a href=\"https://github.com/JuliaLang/julia/tree/ac5cc99908d463582e66db3368b9b48fae1e2525/base/essentials.jl#L864\" target=\"_blank\">essentials.jl:864</a><li> var\"@__MODULE__\"(__source__::<b>LineNumberNode</b>, __module__::<b>Module</b>) in Base at <a href=\"https://github.com/JuliaLang/julia/tree/ac5cc99908d463582e66db3368b9b48fae1e2525/base/reflection.jl#L58\" target=\"_blank\">reflection.jl:58</a><li> var\"@__dot__\"(__source__::<b>LineNumberNode</b>, __module__::<b>Module</b>, x) in Base.Broadcast at <a href=\"https://github.com/JuliaLang/julia/tree/ac5cc99908d463582e66db3368b9b48fae1e2525/base/broadcast.jl#L1275\" target=\"_blank\">broadcast.jl:1275</a><li> var\"@allocated\"(__source__::<b>LineNumberNode</b>, __module__::<b>Module</b>, ex) in Base at <a href=\"https://github.com/JuliaLang/julia/tree/ac5cc99908d463582e66db3368b9b48fae1e2525/base/timing.jl#L327\" target=\"_blank\">timing.jl:327</a><li> var\"@assert\"(__source__::<b>LineNumberNode</b>, __module__::<b>Module</b>, ex, msgs...) in Base at <a href=\"https://github.com/JuliaLang/julia/tree/ac5cc99908d463582e66db3368b9b48fae1e2525/base/error.jl#L216\" target=\"_blank\">error.jl:216</a><li> var\"@async\"(__source__::<b>LineNumberNode</b>, __module__::<b>Module</b>, expr) in Base at <a href=\"https://github.com/JuliaLang/julia/tree/ac5cc99908d463582e66db3368b9b48fae1e2525/base/task.jl#L420\" target=\"_blank\">task.jl:420</a><li> var\"@atomic\"(__source__::<b>LineNumberNode</b>, __module__::<b>Module</b>, ex) in Base at <a href=\"https://github.com/JuliaLang/julia/tree/ac5cc99908d463582e66db3368b9b48fae1e2525/base/expr.jl#L523\" target=\"_blank\">expr.jl:523</a><li> var\"@atomic\"(__source__::<b>LineNumberNode</b>, __module__::<b>Module</b>, order, ex) in Base at <a href=\"https://github.com/JuliaLang/julia/tree/ac5cc99908d463582e66db3368b9b48fae1e2525/base/expr.jl#L529\" target=\"_blank\">expr.jl:529</a><li> var\"@atomic\"(__source__::<b>LineNumberNode</b>, __module__::<b>Module</b>, a1, op, a2) in Base at <a href=\"https://github.com/JuliaLang/julia/tree/ac5cc99908d463582e66db3368b9b48fae1e2525/base/expr.jl#L533\" target=\"_blank\">expr.jl:533</a><li> var\"@atomic\"(__source__::<b>LineNumberNode</b>, __module__::<b>Module</b>, order, a1, op, a2) in Base at <a href=\"https://github.com/JuliaLang/julia/tree/ac5cc99908d463582e66db3368b9b48fae1e2525/base/expr.jl#L536\" target=\"_blank\">expr.jl:536</a><li> var\"@atomicreplace\"(__source__::<b>LineNumberNode</b>, __module__::<b>Module</b>, ex, old_new) in Base at <a href=\"https://github.com/JuliaLang/julia/tree/ac5cc99908d463582e66db3368b9b48fae1e2525/base/expr.jl#L673\" target=\"_blank\">expr.jl:673</a><li> var\"@atomicreplace\"(__source__::<b>LineNumberNode</b>, __module__::<b>Module</b>, order, ex, old_new) in Base at <a href=\"https://github.com/JuliaLang/julia/tree/ac5cc99908d463582e66db3368b9b48fae1e2525/base/expr.jl#L669\" target=\"_blank\">expr.jl:669</a><li> var\"@atomicreplace\"(__source__::<b>LineNumberNode</b>, __module__::<b>Module</b>, success_order, fail_order, ex, old_new) in Base at <a href=\"https://github.com/JuliaLang/julia/tree/ac5cc99908d463582e66db3368b9b48fae1e2525/base/expr.jl#L664\" target=\"_blank\">expr.jl:664</a><li> var\"@atomicswap\"(__source__::<b>LineNumberNode</b>, __module__::<b>Module</b>, ex) in Base at <a href=\"https://github.com/JuliaLang/julia/tree/ac5cc99908d463582e66db3368b9b48fae1e2525/base/expr.jl#L611\" target=\"_blank\">expr.jl:611</a><li> var\"@atomicswap\"(__source__::<b>LineNumberNode</b>, __module__::<b>Module</b>, order, ex) in Base at <a href=\"https://github.com/JuliaLang/julia/tree/ac5cc99908d463582e66db3368b9b48fae1e2525/base/expr.jl#L607\" target=\"_blank\">expr.jl:607</a><li> var\"@b_str\"(__source__::<b>LineNumberNode</b>, __module__::<b>Module</b>, s) in Base at <a href=\"https://github.com/JuliaLang/julia/tree/ac5cc99908d463582e66db3368b9b48fae1e2525/base/strings/io.jl#L556\" target=\"_blank\">strings/io.jl:556</a><li> var\"@big_str\"(__source__::<b>LineNumberNode</b>, __module__::<b>Module</b>, s) in Base at <a href=\"https://github.com/JuliaLang/julia/tree/ac5cc99908d463582e66db3368b9b48fae1e2525/base/int.jl#L691\" target=\"_blank\">int.jl:691</a><li> var\"@boundscheck\"(__source__::<b>LineNumberNode</b>, __module__::<b>Module</b>, blk) in Base at <a href=\"https://github.com/JuliaLang/julia/tree/ac5cc99908d463582e66db3368b9b48fae1e2525/base/essentials.jl#L534\" target=\"_blank\">essentials.jl:534</a><li> var\"@ccall\"(__source__::<b>LineNumberNode</b>, __module__::<b>Module</b>, expr) in Base at <a href=\"https://github.com/JuliaLang/julia/tree/ac5cc99908d463582e66db3368b9b48fae1e2525/base/c.jl#L712\" target=\"_blank\">c.jl:712</a><li> var\"@cfunction\"(__source__::<b>LineNumberNode</b>, __module__::<b>Module</b>, f, rt, at) in Base at <a href=\"https://github.com/JuliaLang/julia/tree/ac5cc99908d463582e66db3368b9b48fae1e2525/base/c.jl#L64\" target=\"_blank\">c.jl:64</a><li> var\"@cmd\"(__source__::<b>LineNumberNode</b>, __module__::<b>Module</b>, str) in Base at <a href=\"https://github.com/JuliaLang/julia/tree/ac5cc99908d463582e66db3368b9b48fae1e2525/base/cmd.jl#L430\" target=\"_blank\">cmd.jl:430</a><li> var\"@coalesce\"(__source__::<b>LineNumberNode</b>, __module__::<b>Module</b>, args...) in Base at <a href=\"https://github.com/JuliaLang/julia/tree/ac5cc99908d463582e66db3368b9b48fae1e2525/base/missing.jl#L459\" target=\"_blank\">missing.jl:459</a><li> var\"@deprecate\"(__source__::<b>LineNumberNode</b>, __module__::<b>Module</b>, old, new) in Base at <a href=\"https://github.com/JuliaLang/julia/tree/ac5cc99908d463582e66db3368b9b48fae1e2525/base/deprecated.jl#L38\" target=\"_blank\">deprecated.jl:38</a><li> var\"@deprecate\"(__source__::<b>LineNumberNode</b>, __module__::<b>Module</b>, old, new, ex) in Base at <a href=\"https://github.com/JuliaLang/julia/tree/ac5cc99908d463582e66db3368b9b48fae1e2525/base/deprecated.jl#L38\" target=\"_blank\">deprecated.jl:38</a><li> var\"@doc\"(__source__::<b>LineNumberNode</b>, __module__::<b>Module</b>, x...) in Core at <a href=\"file:///Applications/Julia-1.7.app/Contents/Resources/julia/share/julia/base/boot.jl\" target=\"_blank\">boot.jl:516</a><li> var\"@elapsed\"(__source__::<b>LineNumberNode</b>, __module__::<b>Module</b>, ex) in Base at <a href=\"https://github.com/JuliaLang/julia/tree/ac5cc99908d463582e66db3368b9b48fae1e2525/base/timing.jl#L295\" target=\"_blank\">timing.jl:295</a><li> var\"@enum\"(__source__::<b>LineNumberNode</b>, __module__::<b>Module</b>, T::<b>Union{Expr, Symbol}</b>, syms...) in Base.Enums at <a href=\"https://github.com/JuliaLang/julia/tree/ac5cc99908d463582e66db3368b9b48fae1e2525/base/Enums.jl#L129\" target=\"_blank\">Enums.jl:129</a><li> var\"@eval\"(__source__::<b>LineNumberNode</b>, __module__::<b>Module</b>, ex) in Base at <a href=\"https://github.com/JuliaLang/julia/tree/ac5cc99908d463582e66db3368b9b48fae1e2525/base/essentials.jl#L231\" target=\"_blank\">essentials.jl:231</a><li> var\"@eval\"(__source__::<b>LineNumberNode</b>, __module__::<b>Module</b>, mod, ex) in Base at <a href=\"https://github.com/JuliaLang/julia/tree/ac5cc99908d463582e66db3368b9b48fae1e2525/base/essentials.jl#L234\" target=\"_blank\">essentials.jl:234</a><li> var\"@evalpoly\"(__source__::<b>LineNumberNode</b>, __module__::<b>Module</b>, z, p...) in Base.Math at <a href=\"https://github.com/JuliaLang/julia/tree/ac5cc99908d463582e66db3368b9b48fae1e2525/base/math.jl#L264\" target=\"_blank\">math.jl:264</a><li> var\"@fastmath\"(__source__::<b>LineNumberNode</b>, __module__::<b>Module</b>, expr) in Base.FastMath at <a href=\"https://github.com/JuliaLang/julia/tree/ac5cc99908d463582e66db3368b9b48fae1e2525/base/fastmath.jl#L154\" target=\"_blank\">fastmath.jl:154</a><li> var\"@generated\"(__source__::<b>LineNumberNode</b>, __module__::<b>Module</b>) in Base at <a href=\"https://github.com/JuliaLang/julia/tree/ac5cc99908d463582e66db3368b9b48fae1e2525/base/expr.jl#L407\" target=\"_blank\">expr.jl:407</a><li> var\"@generated\"(__source__::<b>LineNumberNode</b>, __module__::<b>Module</b>, f) in Base at <a href=\"https://github.com/JuliaLang/julia/tree/ac5cc99908d463582e66db3368b9b48fae1e2525/base/expr.jl#L440\" target=\"_blank\">expr.jl:440</a><li> var\"@gensym\"(__source__::<b>LineNumberNode</b>, __module__::<b>Module</b>, names...) in Base at <a href=\"https://github.com/JuliaLang/julia/tree/ac5cc99908d463582e66db3368b9b48fae1e2525/base/expr.jl#L23\" target=\"_blank\">expr.jl:23</a><li> var\"@goto\"(__source__::<b>LineNumberNode</b>, __module__::<b>Module</b>, name::<b>Symbol</b>) in Base at <a href=\"https://github.com/JuliaLang/julia/tree/ac5cc99908d463582e66db3368b9b48fae1e2525/base/essentials.jl#L589\" target=\"_blank\">essentials.jl:589</a><li> var\"@html_str\"(__source__::<b>LineNumberNode</b>, __module__::<b>Module</b>, s) in Base.Docs at <a href=\"https://github.com/JuliaLang/julia/tree/ac5cc99908d463582e66db3368b9b48fae1e2525/base/docs/utils.jl#L53\" target=\"_blank\">docs/utils.jl:53</a><li> var\"@inbounds\"(__source__::<b>LineNumberNode</b>, __module__::<b>Module</b>, blk) in Base at <a href=\"https://github.com/JuliaLang/julia/tree/ac5cc99908d463582e66db3368b9b48fae1e2525/base/essentials.jl#L563\" target=\"_blank\">essentials.jl:563</a><li> var\"@inline\"(__source__::<b>LineNumberNode</b>, __module__::<b>Module</b>, ex) in Base at <a href=\"https://github.com/JuliaLang/julia/tree/ac5cc99908d463582e66db3368b9b48fae1e2525/base/expr.jl#L201\" target=\"_blank\">expr.jl:201</a><li> var\"@int128_str\"(__source__::<b>LineNumberNode</b>, __module__::<b>Module</b>, s) in Base at <a href=\"https://github.com/JuliaLang/julia/tree/ac5cc99908d463582e66db3368b9b48fae1e2525/base/int.jl#L659\" target=\"_blank\">int.jl:659</a><li> var\"@isdefined\"(__source__::<b>LineNumberNode</b>, __module__::<b>Module</b>, s::<b>Symbol</b>) in Base at <a href=\"https://github.com/JuliaLang/julia/tree/ac5cc99908d463582e66db3368b9b48fae1e2525/base/essentials.jl#L150\" target=\"_blank\">essentials.jl:150</a><li> var\"@label\"(__source__::<b>LineNumberNode</b>, __module__::<b>Module</b>, name::<b>Symbol</b>) in Base at <a href=\"https://github.com/JuliaLang/julia/tree/ac5cc99908d463582e66db3368b9b48fae1e2525/base/essentials.jl#L577\" target=\"_blank\">essentials.jl:577</a><li> var\"@lock\"(__source__::<b>LineNumberNode</b>, __module__::<b>Module</b>, l, expr) in Base at <a href=\"https://github.com/JuliaLang/julia/tree/ac5cc99908d463582e66db3368b9b48fae1e2525/base/lock.jl#L223\" target=\"_blank\">lock.jl:223</a><li> var\"@macroexpand\"(__source__::<b>LineNumberNode</b>, __module__::<b>Module</b>, code) in Base at <a href=\"https://github.com/JuliaLang/julia/tree/ac5cc99908d463582e66db3368b9b48fae1e2525/base/expr.jl#L160\" target=\"_blank\">expr.jl:160</a><li> var\"@macroexpand1\"(__source__::<b>LineNumberNode</b>, __module__::<b>Module</b>, code) in Base at <a href=\"https://github.com/JuliaLang/julia/tree/ac5cc99908d463582e66db3368b9b48fae1e2525/base/expr.jl#L170\" target=\"_blank\">expr.jl:170</a><li> var\"@noinline\"(__source__::<b>LineNumberNode</b>, __module__::<b>Module</b>, ex) in Base at <a href=\"https://github.com/JuliaLang/julia/tree/ac5cc99908d463582e66db3368b9b48fae1e2525/base/expr.jl#L225\" target=\"_blank\">expr.jl:225</a><li> var\"@nospecialize\"(__source__::<b>LineNumberNode</b>, __module__::<b>Module</b>, vars...) in Base at <a href=\"https://github.com/JuliaLang/julia/tree/ac5cc99908d463582e66db3368b9b48fae1e2525/base/essentials.jl#L91\" target=\"_blank\">essentials.jl:91</a><li> var\"@polly\"(__source__::<b>LineNumberNode</b>, __module__::<b>Module</b>, ex) in Base at <a href=\"https://github.com/JuliaLang/julia/tree/ac5cc99908d463582e66db3368b9b48fae1e2525/base/expr.jl#L282\" target=\"_blank\">expr.jl:282</a><li> var\"@r_str\"(__source__::<b>LineNumberNode</b>, __module__::<b>Module</b>, pattern, flags...) in Base at <a href=\"https://github.com/JuliaLang/julia/tree/ac5cc99908d463582e66db3368b9b48fae1e2525/base/regex.jl#L119\" target=\"_blank\">regex.jl:119</a><li> var\"@raw_str\"(__source__::<b>LineNumberNode</b>, __module__::<b>Module</b>, s) in Base at <a href=\"https://github.com/JuliaLang/julia/tree/ac5cc99908d463582e66db3368b9b48fae1e2525/base/strings/io.jl#L586\" target=\"_blank\">strings/io.jl:586</a><li> var\"@s_str\"(__source__::<b>LineNumberNode</b>, __module__::<b>Module</b>, string) in Base at <a href=\"https://github.com/JuliaLang/julia/tree/ac5cc99908d463582e66db3368b9b48fae1e2525/base/regex.jl#L574\" target=\"_blank\">regex.jl:574</a><li> var\"@show\"(__source__::<b>LineNumberNode</b>, __module__::<b>Module</b>, exs...) in Base at <a href=\"https://github.com/JuliaLang/julia/tree/ac5cc99908d463582e66db3368b9b48fae1e2525/base/show.jl#L1043\" target=\"_blank\">show.jl:1043</a><li> var\"@simd\"(__source__::<b>LineNumberNode</b>, __module__::<b>Module</b>, forloop) in Base.SimdLoop at <a href=\"https://github.com/JuliaLang/julia/tree/ac5cc99908d463582e66db3368b9b48fae1e2525/base/simdloop.jl#L127\" target=\"_blank\">simdloop.jl:127</a><li> var\"@simd\"(__source__::<b>LineNumberNode</b>, __module__::<b>Module</b>, ivdep, forloop) in Base.SimdLoop at <a href=\"https://github.com/JuliaLang/julia/tree/ac5cc99908d463582e66db3368b9b48fae1e2525/base/simdloop.jl#L131\" target=\"_blank\">simdloop.jl:131</a><li> var\"@something\"(__source__::<b>LineNumberNode</b>, __module__::<b>Module</b>, args...) in Base at <a href=\"https://github.com/JuliaLang/julia/tree/ac5cc99908d463582e66db3368b9b48fae1e2525/base/some.jl#L138\" target=\"_blank\">some.jl:138</a><li> var\"@specialize\"(__source__::<b>LineNumberNode</b>, __module__::<b>Module</b>, vars...) in Base at <a href=\"https://github.com/JuliaLang/julia/tree/ac5cc99908d463582e66db3368b9b48fae1e2525/base/essentials.jl#L108\" target=\"_blank\">essentials.jl:108</a><li> var\"@static\"(__source__::<b>LineNumberNode</b>, __module__::<b>Module</b>, ex) in Base at <a href=\"https://github.com/JuliaLang/julia/tree/ac5cc99908d463582e66db3368b9b48fae1e2525/base/osutils.jl#L14\" target=\"_blank\">osutils.jl:14</a><li> var\"@sync\"(__source__::<b>LineNumberNode</b>, __module__::<b>Module</b>, block) in Base at <a href=\"https://github.com/JuliaLang/julia/tree/ac5cc99908d463582e66db3368b9b48fae1e2525/base/task.jl#L395\" target=\"_blank\">task.jl:395</a><li> var\"@task\"(__source__::<b>LineNumberNode</b>, __module__::<b>Module</b>, ex) in Base at <a href=\"https://github.com/JuliaLang/julia/tree/ac5cc99908d463582e66db3368b9b48fae1e2525/base/task.jl#L122\" target=\"_blank\">task.jl:122</a><li> var\"@text_str\"(__source__::<b>LineNumberNode</b>, __module__::<b>Module</b>, s) in Base.Docs at <a href=\"https://github.com/JuliaLang/julia/tree/ac5cc99908d463582e66db3368b9b48fae1e2525/base/docs/utils.jl#L105\" target=\"_blank\">docs/utils.jl:105</a><li> var\"@threadcall\"(__source__::<b>LineNumberNode</b>, __module__::<b>Module</b>, f, rettype, argtypes, argvals...) in Base at <a href=\"https://github.com/JuliaLang/julia/tree/ac5cc99908d463582e66db3368b9b48fae1e2525/base/threadcall.jl#L19\" target=\"_blank\">threadcall.jl:19</a><li> var\"@time\"(__source__::<b>LineNumberNode</b>, __module__::<b>Module</b>, ex) in Base at <a href=\"https://github.com/JuliaLang/julia/tree/ac5cc99908d463582e66db3368b9b48fae1e2525/base/timing.jl#L214\" target=\"_blank\">timing.jl:214</a><li> var\"@timed\"(__source__::<b>LineNumberNode</b>, __module__::<b>Module</b>, ex) in Base at <a href=\"https://github.com/JuliaLang/julia/tree/ac5cc99908d463582e66db3368b9b48fae1e2525/base/timing.jl#L375\" target=\"_blank\">timing.jl:375</a><li> var\"@timev\"(__source__::<b>LineNumberNode</b>, __module__::<b>Module</b>, ex) in Base at <a href=\"https://github.com/JuliaLang/julia/tree/ac5cc99908d463582e66db3368b9b48fae1e2525/base/timing.jl#L261\" target=\"_blank\">timing.jl:261</a><li> var\"@uint128_str\"(__source__::<b>LineNumberNode</b>, __module__::<b>Module</b>, s) in Base at <a href=\"https://github.com/JuliaLang/julia/tree/ac5cc99908d463582e66db3368b9b48fae1e2525/base/int.jl#L670\" target=\"_blank\">int.jl:670</a><li> var\"@v_str\"(__source__::<b>LineNumberNode</b>, __module__::<b>Module</b>, v) in Base at <a href=\"https://github.com/JuliaLang/julia/tree/ac5cc99908d463582e66db3368b9b48fae1e2525/base/version.jl#L146\" target=\"_blank\">version.jl:146</a><li> var\"@view\"(__source__::<b>LineNumberNode</b>, __module__::<b>Module</b>, ex) in Base at <a href=\"https://github.com/JuliaLang/julia/tree/ac5cc99908d463582e66db3368b9b48fae1e2525/base/views.jl#L125\" target=\"_blank\">views.jl:125</a><li> var\"@views\"(__source__::<b>LineNumberNode</b>, __module__::<b>Module</b>, x) in Base at <a href=\"https://github.com/JuliaLang/julia/tree/ac5cc99908d463582e66db3368b9b48fae1e2525/base/views.jl#L242\" target=\"_blank\">views.jl:242</a><li> dump(io::<b>IOContext</b>, x::<b>Module</b>, n::<b>Int64</b>, indent) in Base at <a href=\"https://github.com/JuliaLang/julia/tree/ac5cc99908d463582e66db3368b9b48fae1e2525/base/show.jl#L2599\" target=\"_blank\">show.jl:2599</a><li> fullname(m::<b>Module</b>) in Base at <a href=\"https://github.com/JuliaLang/julia/tree/ac5cc99908d463582e66db3368b9b48fae1e2525/base/reflection.jl#L76\" target=\"_blank\">reflection.jl:76</a><li> getproperty(x::<b>Module</b>, f::<b>Symbol</b>) in Base at <a href=\"https://github.com/JuliaLang/julia/tree/ac5cc99908d463582e66db3368b9b48fae1e2525/base/Base.jl#L35\" target=\"_blank\">Base.jl:35</a><li> getproperty(x::<b>Module</b>, f::<b>Symbol</b>, order::<b>Symbol</b>) in Base at <a href=\"https://github.com/JuliaLang/julia/tree/ac5cc99908d463582e66db3368b9b48fae1e2525/base/Base.jl#L47\" target=\"_blank\">Base.jl:47</a><li> include_string(mapexpr::<b>Function</b>, mod::<b>Module</b>, code::<b>AbstractString</b>) in Base at <a href=\"https://github.com/JuliaLang/julia/tree/ac5cc99908d463582e66db3368b9b48fae1e2525/base/loading.jl#L1178\" target=\"_blank\">loading.jl:1178</a><li> include_string(mapexpr::<b>Function</b>, mod::<b>Module</b>, code::<b>AbstractString</b>, filename::<b>AbstractString</b>) in Base at <a href=\"https://github.com/JuliaLang/julia/tree/ac5cc99908d463582e66db3368b9b48fae1e2525/base/loading.jl#L1178\" target=\"_blank\">loading.jl:1178</a><li> include_string(m::<b>Module</b>, txt::<b>AbstractString</b>) in Base at <a href=\"https://github.com/JuliaLang/julia/tree/ac5cc99908d463582e66db3368b9b48fae1e2525/base/loading.jl#L1206\" target=\"_blank\">loading.jl:1206</a><li> include_string(m::<b>Module</b>, txt::<b>AbstractString</b>, fname::<b>AbstractString</b>) in Base at <a href=\"https://github.com/JuliaLang/julia/tree/ac5cc99908d463582e66db3368b9b48fae1e2525/base/loading.jl#L1206\" target=\"_blank\">loading.jl:1206</a><li> isconst(m::<b>Module</b>, s::<b>Symbol</b>) in Base at <a href=\"https://github.com/JuliaLang/julia/tree/ac5cc99908d463582e66db3368b9b48fae1e2525/base/reflection.jl#L253\" target=\"_blank\">reflection.jl:253</a><li> macroexpand(m::<b>Module</b>, x; <i>recursive</i>) in Base at <a href=\"https://github.com/JuliaLang/julia/tree/ac5cc99908d463582e66db3368b9b48fae1e2525/base/expr.jl#L113\" target=\"_blank\">expr.jl:113</a><li> methods(f, mod::<b>Union{Nothing, Module, AbstractArray{Module}}</b>) in Base at <a href=\"https://github.com/JuliaLang/julia/tree/ac5cc99908d463582e66db3368b9b48fae1e2525/base/reflection.jl#L981\" target=\"_blank\">reflection.jl:981</a><li> methods(f, t, mod::<b>Module</b>) in Base at <a href=\"https://github.com/JuliaLang/julia/tree/ac5cc99908d463582e66db3368b9b48fae1e2525/base/reflection.jl#L967\" target=\"_blank\">reflection.jl:967</a><li> nameof(m::<b>Module</b>) in Base at <a href=\"https://github.com/JuliaLang/julia/tree/ac5cc99908d463582e66db3368b9b48fae1e2525/base/reflection.jl#L16\" target=\"_blank\">reflection.jl:16</a><li> names(m::<b>Module</b>; <i>all, imported</i>) in Base at <a href=\"https://github.com/JuliaLang/julia/tree/ac5cc99908d463582e66db3368b9b48fae1e2525/base/reflection.jl#L102\" target=\"_blank\">reflection.jl:102</a><li> parentmodule(m::<b>Module</b>) in Base at <a href=\"https://github.com/JuliaLang/julia/tree/ac5cc99908d463582e66db3368b9b48fae1e2525/base/reflection.jl#L34\" target=\"_blank\">reflection.jl:34</a><li> pathof(m::<b>Module</b>) in Base at <a href=\"https://github.com/JuliaLang/julia/tree/ac5cc99908d463582e66db3368b9b48fae1e2525/base/loading.jl#L339\" target=\"_blank\">loading.jl:339</a><li> pkgdir(m::<b>Module</b>, paths::<b>String...</b>) in Base at <a href=\"https://github.com/JuliaLang/julia/tree/ac5cc99908d463582e66db3368b9b48fae1e2525/base/loading.jl#L368\" target=\"_blank\">loading.jl:368</a><li> propertynames(m::<b>Module</b>) in Base at <a href=\"https://github.com/JuliaLang/julia/tree/ac5cc99908d463582e66db3368b9b48fae1e2525/base/reflection.jl#L1665\" target=\"_blank\">reflection.jl:1665</a><li> setproperty!(x::<b>Module</b>, f::<b>Symbol</b>, v) in Base at <a href=\"https://github.com/JuliaLang/julia/tree/ac5cc99908d463582e66db3368b9b48fae1e2525/base/Base.jl#L36\" target=\"_blank\">Base.jl:36</a><li> setproperty!(x::<b>Module</b>, f::<b>Symbol</b>, v, order::<b>Symbol</b>) in Base at <a href=\"https://github.com/JuliaLang/julia/tree/ac5cc99908d463582e66db3368b9b48fae1e2525/base/Base.jl#L48\" target=\"_blank\">Base.jl:48</a><li> show(io::<b>IO</b>, m::<b>Module</b>) in Base at <a href=\"https://github.com/JuliaLang/julia/tree/ac5cc99908d463582e66db3368b9b48fae1e2525/base/show.jl#L1102\" target=\"_blank\">show.jl:1102</a><li> which(m::<b>Module</b>, s::<b>Symbol</b>) in Base at <a href=\"https://github.com/JuliaLang/julia/tree/ac5cc99908d463582e66db3368b9b48fae1e2525/base/reflection.jl#L1341\" target=\"_blank\">reflection.jl:1341</a></ul>"
      ],
      "text/plain": [
       "[1] serialize(s::Serialization.AbstractSerializer, m::Module) in Serialization at /Applications/Julia-1.7.app/Contents/Resources/julia/share/julia/stdlib/v1.7/Serialization/src/Serialization.jl:375\n",
       "[2] var\"@profile\"(__source__::LineNumberNode, __module__::Module, ex) in Profile at /Applications/Julia-1.7.app/Contents/Resources/julia/share/julia/stdlib/v1.7/Profile/src/Profile.jl:21\n",
       "[3] var\"@debug\"(__source__::LineNumberNode, __module__::Module, exs...) in Base.CoreLogging at logging.jl:257\n",
       "[4] var\"@error\"(__source__::LineNumberNode, __module__::Module, exs...) in Base.CoreLogging at logging.jl:260\n",
       "[5] var\"@info\"(__source__::LineNumberNode, __module__::Module, exs...) in Base.CoreLogging at logging.jl:258\n",
       "[6] var\"@logmsg\"(__source__::LineNumberNode, __module__::Module, level, exs...) in Base.CoreLogging at logging.jl:256\n",
       "[7] var\"@warn\"(__source__::LineNumberNode, __module__::Module, exs...) in Base.CoreLogging at logging.jl:259\n",
       "[8] var\"@printf\"(__source__::LineNumberNode, __module__::Module, io_or_fmt, args...) in Printf at /Applications/Julia-1.7.app/Contents/Resources/julia/share/julia/stdlib/v1.7/Printf/src/Printf.jl:876\n",
       "[9] var\"@sprintf\"(__source__::LineNumberNode, __module__::Module, fmt, args...) in Printf at /Applications/Julia-1.7.app/Contents/Resources/julia/share/julia/stdlib/v1.7/Printf/src/Printf.jl:899\n",
       "[10] var\"@arg_test\"(__source__::LineNumberNode, __module__::Module, args...) in ArgTools at /Applications/Julia-1.7.app/Contents/Resources/julia/share/julia/stdlib/v1.7/ArgTools/src/ArgTools.jl:304\n",
       "[11] var\"@doc_str\"(__source__::LineNumberNode, __module__::Module, s::AbstractString, t...) in Markdown at /Applications/Julia-1.7.app/Contents/Resources/julia/share/julia/stdlib/v1.7/Markdown/src/Markdown.jl:54\n",
       "[12] var\"@md_str\"(__source__::LineNumberNode, __module__::Module, s, t...) in Markdown at /Applications/Julia-1.7.app/Contents/Resources/julia/share/julia/stdlib/v1.7/Markdown/src/Markdown.jl:43\n",
       "[13] var\"@distributed\"(__source__::LineNumberNode, __module__::Module, args...) in Distributed at /Applications/Julia-1.7.app/Contents/Resources/julia/share/julia/stdlib/v1.7/Distributed/src/macros.jl:330\n",
       "[14] var\"@everywhere\"(__source__::LineNumberNode, __module__::Module, ex) in Distributed at /Applications/Julia-1.7.app/Contents/Resources/julia/share/julia/stdlib/v1.7/Distributed/src/macros.jl:192\n",
       "[15] var\"@everywhere\"(__source__::LineNumberNode, __module__::Module, procs, ex) in Distributed at /Applications/Julia-1.7.app/Contents/Resources/julia/share/julia/stdlib/v1.7/Distributed/src/macros.jl:197\n",
       "[16] var\"@fetch\"(__source__::LineNumberNode, __module__::Module, expr) in Distributed at /Applications/Julia-1.7.app/Contents/Resources/julia/share/julia/stdlib/v1.7/Distributed/src/macros.jl:122\n",
       "[17] var\"@fetchfrom\"(__source__::LineNumberNode, __module__::Module, p, expr) in Distributed at /Applications/Julia-1.7.app/Contents/Resources/julia/share/julia/stdlib/v1.7/Distributed/src/macros.jl:144\n",
       "[18] var\"@spawn\"(__source__::LineNumberNode, __module__::Module, expr) in Distributed at /Applications/Julia-1.7.app/Contents/Resources/julia/share/julia/stdlib/v1.7/Distributed/src/macros.jl:42\n",
       "[19] var\"@spawnat\"(__source__::LineNumberNode, __module__::Module, p, expr) in Distributed at /Applications/Julia-1.7.app/Contents/Resources/julia/share/julia/stdlib/v1.7/Distributed/src/macros.jl:82\n",
       "[20] var\"@enter\"(__source__::LineNumberNode, __module__::Module, command) in VSCodeServer at /Users/hongdali/.vscode/extensions/julialang.language-julia-1.5.8/scripts/packages/VSCodeServer/src/debugger.jl:96\n",
       "[21] var\"@profview\"(__source__::LineNumberNode, __module__::Module, ex, args...) in VSCodeServer at /Users/hongdali/.vscode/extensions/julialang.language-julia-1.5.8/scripts/packages/VSCodeServer/src/profiler.jl:20\n",
       "[22] var\"@run\"(__source__::LineNumberNode, __module__::Module, command) in VSCodeServer at /Users/hongdali/.vscode/extensions/julialang.language-julia-1.5.8/scripts/packages/VSCodeServer/src/debugger.jl:101\n",
       "[23] var\"@vscodedisplay\"(__source__::LineNumberNode, __module__::Module, x) in VSCodeServer at /Users/hongdali/.vscode/extensions/julialang.language-julia-1.5.8/scripts/packages/VSCodeServer/src/display.jl:202\n",
       "[24] GlobalRef(m::Module, s::Symbol) in Core at boot.jl:414\n",
       "[25] eval(m::Module, e) in Core at boot.jl:373\n",
       "[26] var\"@artifact_str\"(__source__::LineNumberNode, __module__::Module, name) in Artifacts at /Applications/Julia-1.7.app/Contents/Resources/julia/share/julia/stdlib/v1.7/Artifacts/src/Artifacts.jl:639\n",
       "[27] var\"@artifact_str\"(__source__::LineNumberNode, __module__::Module, name, platform) in Artifacts at /Applications/Julia-1.7.app/Contents/Resources/julia/share/julia/stdlib/v1.7/Artifacts/src/Artifacts.jl:639\n",
       "[28] var\"@inferred\"(__source__::LineNumberNode, __module__::Module, ex) in Test at /Applications/Julia-1.7.app/Contents/Resources/julia/share/julia/stdlib/v1.7/Test/src/Test.jl:1531\n",
       "[29] var\"@inferred\"(__source__::LineNumberNode, __module__::Module, allow, ex) in Test at /Applications/Julia-1.7.app/Contents/Resources/julia/share/julia/stdlib/v1.7/Test/src/Test.jl:1534\n",
       "[30] var\"@test\"(__source__::LineNumberNode, __module__::Module, ex, kws...) in Test at /Applications/Julia-1.7.app/Contents/Resources/julia/share/julia/stdlib/v1.7/Test/src/Test.jl:419\n",
       "[31] var\"@test_broken\"(__source__::LineNumberNode, __module__::Module, ex, kws...) in Test at /Applications/Julia-1.7.app/Contents/Resources/julia/share/julia/stdlib/v1.7/Test/src/Test.jl:474\n",
       "[32] var\"@test_deprecated\"(__source__::LineNumberNode, __module__::Module, exs...) in Test at /Applications/Julia-1.7.app/Contents/Resources/julia/share/julia/stdlib/v1.7/Test/src/logging.jl:250\n",
       "[33] var\"@test_logs\"(__source__::LineNumberNode, __module__::Module, exs...) in Test at /Applications/Julia-1.7.app/Contents/Resources/julia/share/julia/stdlib/v1.7/Test/src/logging.jl:159\n",
       "[34] var\"@test_nowarn\"(__source__::LineNumberNode, __module__::Module, expr) in Test at /Applications/Julia-1.7.app/Contents/Resources/julia/share/julia/stdlib/v1.7/Test/src/Test.jl:790\n",
       "[35] var\"@test_skip\"(__source__::LineNumberNode, __module__::Module, ex, kws...) in Test at /Applications/Julia-1.7.app/Contents/Resources/julia/share/julia/stdlib/v1.7/Test/src/Test.jl:504\n",
       "[36] var\"@test_throws\"(__source__::LineNumberNode, __module__::Module, extype, ex) in Test at /Applications/Julia-1.7.app/Contents/Resources/julia/share/julia/stdlib/v1.7/Test/src/Test.jl:675\n",
       "[37] var\"@test_warn\"(__source__::LineNumberNode, __module__::Module, msg, expr) in Test at /Applications/Julia-1.7.app/Contents/Resources/julia/share/julia/stdlib/v1.7/Test/src/Test.jl:763\n",
       "[38] var\"@testset\"(__source__::LineNumberNode, __module__::Module, args...) in Test at /Applications/Julia-1.7.app/Contents/Resources/julia/share/julia/stdlib/v1.7/Test/src/Test.jl:1233\n",
       "[39] var\"@ip_str\"(__source__::LineNumberNode, __module__::Module, str) in Sockets at /Applications/Julia-1.7.app/Contents/Resources/julia/share/julia/stdlib/v1.7/Sockets/src/IPAddr.jl:268\n",
       "[40] var\"@pkg_str\"(__source__::LineNumberNode, __module__::Module, str::String) in Pkg.REPLMode at /Applications/Julia-1.7.app/Contents/Resources/julia/share/julia/stdlib/v1.7/Pkg/src/REPLMode/REPLMode.jl:463\n",
       "[41] var\"@dateformat_str\"(__source__::LineNumberNode, __module__::Module, str) in Dates at /Applications/Julia-1.7.app/Contents/Resources/julia/share/julia/stdlib/v1.7/Dates/src/io.jl:442\n",
       "[42] var\"@code_llvm\"(__source__::LineNumberNode, __module__::Module, ex0...) in InteractiveUtils at /Applications/Julia-1.7.app/Contents/Resources/julia/share/julia/stdlib/v1.7/InteractiveUtils/src/macros.jl:213\n",
       "[43] var\"@code_lowered\"(__source__::LineNumberNode, __module__::Module, ex0...) in InteractiveUtils at /Applications/Julia-1.7.app/Contents/Resources/julia/share/julia/stdlib/v1.7/InteractiveUtils/src/macros.jl:227\n",
       "[44] var\"@code_native\"(__source__::LineNumberNode, __module__::Module, ex0...) in InteractiveUtils at /Applications/Julia-1.7.app/Contents/Resources/julia/share/julia/stdlib/v1.7/InteractiveUtils/src/macros.jl:213\n",
       "[45] var\"@code_typed\"(__source__::LineNumberNode, __module__::Module, ex0...) in InteractiveUtils at /Applications/Julia-1.7.app/Contents/Resources/julia/share/julia/stdlib/v1.7/InteractiveUtils/src/macros.jl:219\n",
       "[46] var\"@code_warntype\"(__source__::LineNumberNode, __module__::Module, ex0...) in InteractiveUtils at /Applications/Julia-1.7.app/Contents/Resources/julia/share/julia/stdlib/v1.7/InteractiveUtils/src/macros.jl:213\n",
       "[47] var\"@edit\"(__source__::LineNumberNode, __module__::Module, ex0) in InteractiveUtils at /Applications/Julia-1.7.app/Contents/Resources/julia/share/julia/stdlib/v1.7/InteractiveUtils/src/macros.jl:200\n",
       "[48] var\"@functionloc\"(__source__::LineNumberNode, __module__::Module, ex0) in InteractiveUtils at /Applications/Julia-1.7.app/Contents/Resources/julia/share/julia/stdlib/v1.7/InteractiveUtils/src/macros.jl:200\n",
       "[49] var\"@less\"(__source__::LineNumberNode, __module__::Module, ex0) in InteractiveUtils at /Applications/Julia-1.7.app/Contents/Resources/julia/share/julia/stdlib/v1.7/InteractiveUtils/src/macros.jl:200\n",
       "[50] var\"@which\"(__source__::LineNumberNode, __module__::Module, ex0::Symbol) in InteractiveUtils at /Applications/Julia-1.7.app/Contents/Resources/julia/share/julia/stdlib/v1.7/InteractiveUtils/src/macros.jl:206\n",
       "[51] var\"@which\"(__source__::LineNumberNode, __module__::Module, ex0) in InteractiveUtils at /Applications/Julia-1.7.app/Contents/Resources/julia/share/julia/stdlib/v1.7/InteractiveUtils/src/macros.jl:200\n",
       "[52] edit(m::Module) in InteractiveUtils at /Applications/Julia-1.7.app/Contents/Resources/julia/share/julia/stdlib/v1.7/InteractiveUtils/src/editless.jl:236\n",
       "[53] methodswith(t::Type, m::Module; supertypes) in InteractiveUtils at /Applications/Julia-1.7.app/Contents/Resources/julia/share/julia/stdlib/v1.7/InteractiveUtils/src/InteractiveUtils.jl:200\n",
       "[54] subtypes(m::Module, x::Type) in InteractiveUtils at /Applications/Julia-1.7.app/Contents/Resources/julia/share/julia/stdlib/v1.7/InteractiveUtils/src/InteractiveUtils.jl:239\n",
       "[55] varinfo(m::Module) in InteractiveUtils at /Applications/Julia-1.7.app/Contents/Resources/julia/share/julia/stdlib/v1.7/InteractiveUtils/src/InteractiveUtils.jl:36\n",
       "[56] varinfo(m::Module, pattern::Regex; all, imported, sortby, recursive) in InteractiveUtils at /Applications/Julia-1.7.app/Contents/Resources/julia/share/julia/stdlib/v1.7/InteractiveUtils/src/InteractiveUtils.jl:36\n",
       "[57] var\"@MIME_str\"(__source__::LineNumberNode, __module__::Module, s) in Base.Multimedia at multimedia.jl:42\n",
       "[58] var\"@NamedTuple\"(__source__::LineNumberNode, __module__::Module, ex) in Base at namedtuple.jl:398\n",
       "[59] var\"@__DIR__\"(__source__::LineNumberNode, __module__::Module) in Base at loading.jl:1930\n",
       "[60] var\"@__FILE__\"(__source__::LineNumberNode, __module__::Module) in Base at loading.jl:1918\n",
       "[61] var\"@__LINE__\"(__source__::LineNumberNode, __module__::Module) in Base at essentials.jl:864\n",
       "[62] var\"@__MODULE__\"(__source__::LineNumberNode, __module__::Module) in Base at reflection.jl:58\n",
       "[63] var\"@__dot__\"(__source__::LineNumberNode, __module__::Module, x) in Base.Broadcast at broadcast.jl:1275\n",
       "[64] var\"@allocated\"(__source__::LineNumberNode, __module__::Module, ex) in Base at timing.jl:327\n",
       "[65] var\"@assert\"(__source__::LineNumberNode, __module__::Module, ex, msgs...) in Base at error.jl:216\n",
       "[66] var\"@async\"(__source__::LineNumberNode, __module__::Module, expr) in Base at task.jl:420\n",
       "[67] var\"@atomic\"(__source__::LineNumberNode, __module__::Module, ex) in Base at expr.jl:523\n",
       "[68] var\"@atomic\"(__source__::LineNumberNode, __module__::Module, order, ex) in Base at expr.jl:529\n",
       "[69] var\"@atomic\"(__source__::LineNumberNode, __module__::Module, a1, op, a2) in Base at expr.jl:533\n",
       "[70] var\"@atomic\"(__source__::LineNumberNode, __module__::Module, order, a1, op, a2) in Base at expr.jl:536\n",
       "[71] var\"@atomicreplace\"(__source__::LineNumberNode, __module__::Module, ex, old_new) in Base at expr.jl:673\n",
       "[72] var\"@atomicreplace\"(__source__::LineNumberNode, __module__::Module, order, ex, old_new) in Base at expr.jl:669\n",
       "[73] var\"@atomicreplace\"(__source__::LineNumberNode, __module__::Module, success_order, fail_order, ex, old_new) in Base at expr.jl:664\n",
       "[74] var\"@atomicswap\"(__source__::LineNumberNode, __module__::Module, ex) in Base at expr.jl:611\n",
       "[75] var\"@atomicswap\"(__source__::LineNumberNode, __module__::Module, order, ex) in Base at expr.jl:607\n",
       "[76] var\"@b_str\"(__source__::LineNumberNode, __module__::Module, s) in Base at strings/io.jl:556\n",
       "[77] var\"@big_str\"(__source__::LineNumberNode, __module__::Module, s) in Base at int.jl:691\n",
       "[78] var\"@boundscheck\"(__source__::LineNumberNode, __module__::Module, blk) in Base at essentials.jl:534\n",
       "[79] var\"@ccall\"(__source__::LineNumberNode, __module__::Module, expr) in Base at c.jl:712\n",
       "[80] var\"@cfunction\"(__source__::LineNumberNode, __module__::Module, f, rt, at) in Base at c.jl:64\n",
       "[81] var\"@cmd\"(__source__::LineNumberNode, __module__::Module, str) in Base at cmd.jl:430\n",
       "[82] var\"@coalesce\"(__source__::LineNumberNode, __module__::Module, args...) in Base at missing.jl:459\n",
       "[83] var\"@deprecate\"(__source__::LineNumberNode, __module__::Module, old, new) in Base at deprecated.jl:38\n",
       "[84] var\"@deprecate\"(__source__::LineNumberNode, __module__::Module, old, new, ex) in Base at deprecated.jl:38\n",
       "[85] var\"@doc\"(__source__::LineNumberNode, __module__::Module, x...) in Core at boot.jl:516\n",
       "[86] var\"@elapsed\"(__source__::LineNumberNode, __module__::Module, ex) in Base at timing.jl:295\n",
       "[87] var\"@enum\"(__source__::LineNumberNode, __module__::Module, T::Union{Expr, Symbol}, syms...) in Base.Enums at Enums.jl:129\n",
       "[88] var\"@eval\"(__source__::LineNumberNode, __module__::Module, ex) in Base at essentials.jl:231\n",
       "[89] var\"@eval\"(__source__::LineNumberNode, __module__::Module, mod, ex) in Base at essentials.jl:234\n",
       "[90] var\"@evalpoly\"(__source__::LineNumberNode, __module__::Module, z, p...) in Base.Math at math.jl:264\n",
       "[91] var\"@fastmath\"(__source__::LineNumberNode, __module__::Module, expr) in Base.FastMath at fastmath.jl:154\n",
       "[92] var\"@generated\"(__source__::LineNumberNode, __module__::Module) in Base at expr.jl:407\n",
       "[93] var\"@generated\"(__source__::LineNumberNode, __module__::Module, f) in Base at expr.jl:440\n",
       "[94] var\"@gensym\"(__source__::LineNumberNode, __module__::Module, names...) in Base at expr.jl:23\n",
       "[95] var\"@goto\"(__source__::LineNumberNode, __module__::Module, name::Symbol) in Base at essentials.jl:589\n",
       "[96] var\"@html_str\"(__source__::LineNumberNode, __module__::Module, s) in Base.Docs at docs/utils.jl:53\n",
       "[97] var\"@inbounds\"(__source__::LineNumberNode, __module__::Module, blk) in Base at essentials.jl:563\n",
       "[98] var\"@inline\"(__source__::LineNumberNode, __module__::Module, ex) in Base at expr.jl:201\n",
       "[99] var\"@int128_str\"(__source__::LineNumberNode, __module__::Module, s) in Base at int.jl:659\n",
       "[100] var\"@isdefined\"(__source__::LineNumberNode, __module__::Module, s::Symbol) in Base at essentials.jl:150\n",
       "[101] var\"@label\"(__source__::LineNumberNode, __module__::Module, name::Symbol) in Base at essentials.jl:577\n",
       "[102] var\"@lock\"(__source__::LineNumberNode, __module__::Module, l, expr) in Base at lock.jl:223\n",
       "[103] var\"@macroexpand\"(__source__::LineNumberNode, __module__::Module, code) in Base at expr.jl:160\n",
       "[104] var\"@macroexpand1\"(__source__::LineNumberNode, __module__::Module, code) in Base at expr.jl:170\n",
       "[105] var\"@noinline\"(__source__::LineNumberNode, __module__::Module, ex) in Base at expr.jl:225\n",
       "[106] var\"@nospecialize\"(__source__::LineNumberNode, __module__::Module, vars...) in Base at essentials.jl:91\n",
       "[107] var\"@polly\"(__source__::LineNumberNode, __module__::Module, ex) in Base at expr.jl:282\n",
       "[108] var\"@r_str\"(__source__::LineNumberNode, __module__::Module, pattern, flags...) in Base at regex.jl:119\n",
       "[109] var\"@raw_str\"(__source__::LineNumberNode, __module__::Module, s) in Base at strings/io.jl:586\n",
       "[110] var\"@s_str\"(__source__::LineNumberNode, __module__::Module, string) in Base at regex.jl:574\n",
       "[111] var\"@show\"(__source__::LineNumberNode, __module__::Module, exs...) in Base at show.jl:1043\n",
       "[112] var\"@simd\"(__source__::LineNumberNode, __module__::Module, forloop) in Base.SimdLoop at simdloop.jl:127\n",
       "[113] var\"@simd\"(__source__::LineNumberNode, __module__::Module, ivdep, forloop) in Base.SimdLoop at simdloop.jl:131\n",
       "[114] var\"@something\"(__source__::LineNumberNode, __module__::Module, args...) in Base at some.jl:138\n",
       "[115] var\"@specialize\"(__source__::LineNumberNode, __module__::Module, vars...) in Base at essentials.jl:108\n",
       "[116] var\"@static\"(__source__::LineNumberNode, __module__::Module, ex) in Base at osutils.jl:14\n",
       "[117] var\"@sync\"(__source__::LineNumberNode, __module__::Module, block) in Base at task.jl:395\n",
       "[118] var\"@task\"(__source__::LineNumberNode, __module__::Module, ex) in Base at task.jl:122\n",
       "[119] var\"@text_str\"(__source__::LineNumberNode, __module__::Module, s) in Base.Docs at docs/utils.jl:105\n",
       "[120] var\"@threadcall\"(__source__::LineNumberNode, __module__::Module, f, rettype, argtypes, argvals...) in Base at threadcall.jl:19\n",
       "[121] var\"@time\"(__source__::LineNumberNode, __module__::Module, ex) in Base at timing.jl:214\n",
       "[122] var\"@timed\"(__source__::LineNumberNode, __module__::Module, ex) in Base at timing.jl:375\n",
       "[123] var\"@timev\"(__source__::LineNumberNode, __module__::Module, ex) in Base at timing.jl:261\n",
       "[124] var\"@uint128_str\"(__source__::LineNumberNode, __module__::Module, s) in Base at int.jl:670\n",
       "[125] var\"@v_str\"(__source__::LineNumberNode, __module__::Module, v) in Base at version.jl:146\n",
       "[126] var\"@view\"(__source__::LineNumberNode, __module__::Module, ex) in Base at views.jl:125\n",
       "[127] var\"@views\"(__source__::LineNumberNode, __module__::Module, x) in Base at views.jl:242\n",
       "[128] dump(io::IOContext, x::Module, n::Int64, indent) in Base at show.jl:2599\n",
       "[129] fullname(m::Module) in Base at reflection.jl:76\n",
       "[130] getproperty(x::Module, f::Symbol) in Base at Base.jl:35\n",
       "[131] getproperty(x::Module, f::Symbol, order::Symbol) in Base at Base.jl:47\n",
       "[132] include_string(mapexpr::Function, mod::Module, code::AbstractString) in Base at loading.jl:1178\n",
       "[133] include_string(mapexpr::Function, mod::Module, code::AbstractString, filename::AbstractString) in Base at loading.jl:1178\n",
       "[134] include_string(m::Module, txt::AbstractString) in Base at loading.jl:1206\n",
       "[135] include_string(m::Module, txt::AbstractString, fname::AbstractString) in Base at loading.jl:1206\n",
       "[136] isconst(m::Module, s::Symbol) in Base at reflection.jl:253\n",
       "[137] macroexpand(m::Module, x; recursive) in Base at expr.jl:113\n",
       "[138] methods(f, mod::Union{Nothing, Module, AbstractArray{Module}}) in Base at reflection.jl:981\n",
       "[139] methods(f, t, mod::Module) in Base at reflection.jl:967\n",
       "[140] nameof(m::Module) in Base at reflection.jl:16\n",
       "[141] names(m::Module; all, imported) in Base at reflection.jl:102\n",
       "[142] parentmodule(m::Module) in Base at reflection.jl:34\n",
       "[143] pathof(m::Module) in Base at loading.jl:339\n",
       "[144] pkgdir(m::Module, paths::String...) in Base at loading.jl:368\n",
       "[145] propertynames(m::Module) in Base at reflection.jl:1665\n",
       "[146] setproperty!(x::Module, f::Symbol, v) in Base at Base.jl:36\n",
       "[147] setproperty!(x::Module, f::Symbol, v, order::Symbol) in Base at Base.jl:48\n",
       "[148] show(io::IO, m::Module) in Base at show.jl:1102\n",
       "[149] which(m::Module, s::Symbol) in Base at reflection.jl:1341"
      ]
     },
     "metadata": {},
     "output_type": "display_data"
    }
   ],
   "source": [
    "# Let's use a native module\n",
    "using LinearAlgebra # using everything exported by the module\n",
    "import LinearAlgebra as LinAlg\n",
    "\n",
    "methodswith(Module) # they can be referred to as a type: `Modules`"
   ]
  },
  {
   "cell_type": "code",
   "execution_count": 2,
   "metadata": {},
   "outputs": [
    {
     "data": {
      "text/plain": [
       "\"/Applications/Julia-1.7.app/Contents/Resources/julia/share/julia/stdlib/v1.7/LinearAlgebra/src/LinearAlgebra.jl\""
      ]
     },
     "metadata": {},
     "output_type": "display_data"
    },
    {
     "data": {
      "text/plain": [
       "\"/Applications/Julia-1.7.app/Contents/Resources/julia/share/julia/stdlib/v1.7/LinearAlgebra\""
      ]
     },
     "metadata": {},
     "output_type": "display_data"
    },
    {
     "name": "stdout",
     "output_type": "stream",
     "text": [
      "/, Adjoint, BLAS, Bidiagonal, BunchKaufman, Cholesky, CholeskyPivoted, ColumnNorm, Diagonal, Eigen, Factorization, GeneralizedEigen, GeneralizedSVD, GeneralizedSchur, Hermitian, Hessenberg, I, LAPACK, LAPACKException, LDLt, LQ, LU, LinearAlgebra, LowerTriangular, NoPivot, PosDefException, QR, QRPivoted, RankDeficientException, RowMaximum, SVD, Schur, SingularException, SymTridiagonal, Symmetric, Transpose, Tridiagonal, UniformScaling, UnitLowerTriangular, UnitUpperTriangular, UpperHessenberg, UpperTriangular, ZeroPivotException, \\, adjoint, adjoint!, axpby!, axpy!, bunchkaufman, bunchkaufman!, cholesky, cholesky!, cond, condskeel, copy_transpose!, copyto!, cross, det, diag, diagind, diagm, dot, eigen, eigen!, eigmax, eigmin, eigvals, eigvals!, eigvecs, factorize, givens, hessenberg, hessenberg!, isdiag, ishermitian, isposdef, isposdef!, issuccess, issymmetric, istril, istriu, kron, ldiv!, ldlt, ldlt!, lmul!, logabsdet, logdet, lowrankdowndate, lowrankdowndate!, lowrankupdate, lowrankupdate!, lq, lq!, lu, lu!, lyap, mul!, norm, normalize, normalize!, nullspace, opnorm, ordschur, ordschur!, pinv, qr, qr!, rank, rdiv!, reflect!, rmul!, rotate!, schur, schur!, svd, svd!, svdvals, svdvals!, sylvester, tr, transpose, transpose!, tril, tril!, triu, triu!, ×, ⋅, "
     ]
    },
    {
     "data": {
      "text/plain": [
       "Module"
      ]
     },
     "metadata": {},
     "output_type": "display_data"
    }
   ],
   "source": [
    "display(pathof(LinAlg))\n",
    "display(pkgdir(LinAlg))\n",
    "fullname(LinAlg)\n",
    "for Item in names(LinAlg)\n",
    "    print(string(Item, \", \"))\n",
    "end\n",
    "names(LinAlg.LAPACK)\n",
    "typeof(LinAlg.LAPACK)"
   ]
  },
  {
   "cell_type": "markdown",
   "metadata": {},
   "source": [
    "### **How to Import and Namescape Management**\n",
    "\n",
    "We are interested in getting specific functions, types from a modules. \n",
    "\n",
    "* `using ModuleNames: Functionname1, Function Name2`  <-- This is the way to import specific functions from the modules identified. \n",
    "* And we can rename it using the `as` keyword. \n",
    "* Managing namespace. "
   ]
  },
  {
   "cell_type": "code",
   "execution_count": 3,
   "metadata": {},
   "outputs": [],
   "source": [
    "using LinearAlgebra: qr, qr!, lu, lu!"
   ]
  },
  {
   "cell_type": "code",
   "execution_count": 4,
   "metadata": {},
   "outputs": [
    {
     "data": {
      "text/plain": [
       "LinearAlgebra.QRCompactWY{Float64, Matrix{Float64}}\n",
       "Q factor:\n",
       "10×10 LinearAlgebra.QRCompactWYQ{Float64, Matrix{Float64}}:\n",
       " -0.221152   -0.293738    0.211137   …  -0.0801129   0.588396    0.302094\n",
       " -0.219316   -0.632446    0.238902      -0.159017   -0.603141    0.0362831\n",
       " -0.447268    0.190613   -0.519789      -0.255393   -0.249519    0.0130424\n",
       " -0.435639    0.0425055   0.133999       0.685465    0.122849   -0.249842\n",
       " -0.42434     0.476513    0.398648      -0.151883   -0.171855   -0.151613\n",
       " -0.293156   -0.354352   -0.254866   …  -0.352807    0.390034   -0.505606\n",
       " -0.0884518  -0.052746    0.324841      -0.142232    0.0590224   0.449969\n",
       " -0.138279    0.0947732   0.471441      -0.246755    0.0584264  -0.258607\n",
       " -0.060061   -0.332272   -0.0164456      0.4356     -0.152017   -0.139441\n",
       " -0.46541     0.028121   -0.241424       0.121661    0.0314823   0.526702\n",
       "R factor:\n",
       "10×10 Matrix{Float64}:\n",
       " -1.9417  -1.72486  -1.45524   …  -1.6943     -1.33314    -1.11076\n",
       "  0.0     -0.98156  -0.219702     -0.590218   -0.262682   -0.958914\n",
       "  0.0      0.0       1.10756       0.539023    0.938187   -0.120226\n",
       "  0.0      0.0       0.0           0.0691135   0.506584   -0.0619334\n",
       "  0.0      0.0       0.0           0.204726   -0.0593287  -0.167688\n",
       "  0.0      0.0       0.0       …  -0.476177   -0.424067   -0.0942955\n",
       "  0.0      0.0       0.0           0.0239673   0.0171218   0.129957\n",
       "  0.0      0.0       0.0          -0.641227   -0.123707   -0.406312\n",
       "  0.0      0.0       0.0           0.0         0.470328    0.313087\n",
       "  0.0      0.0       0.0           0.0         0.0        -0.030037"
      ]
     },
     "metadata": {},
     "output_type": "display_data"
    }
   ],
   "source": [
    "using LinearAlgebra: qr as QROrthogonalization\n",
    "Q, R = QROrthogonalization(rand(10, 10))\n"
   ]
  },
  {
   "cell_type": "code",
   "execution_count": 5,
   "metadata": {},
   "outputs": [
    {
     "data": {
      "text/plain": [
       "qr (generic function with 11 methods)"
      ]
     },
     "metadata": {},
     "output_type": "display_data"
    }
   ],
   "source": [
    "import LinearAlgebra as LA  # This import the whole package under a namespace: LA. \n",
    "LA.qr  # Referring to a function in the module."
   ]
  }
 ],
 "metadata": {
  "kernelspec": {
   "display_name": "Julia 1.7.1",
   "language": "julia",
   "name": "julia-1.7"
  },
  "language_info": {
   "file_extension": ".jl",
   "mimetype": "application/julia",
   "name": "julia",
   "version": "1.7.1"
  },
  "orig_nbformat": 4
 },
 "nbformat": 4,
 "nbformat_minor": 2
}
