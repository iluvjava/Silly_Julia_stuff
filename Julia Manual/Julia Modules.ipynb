{
 "cells": [
  {
   "cell_type": "markdown",
   "source": [
    "### **Intro**\r\n",
    "\r\n",
    "Using Modules allows us to make big projects in Julia\r\n",
    "\r\n",
    "* Compnents\r\n",
    "* Namespace\r\n",
    "* How to use modules\r\n",
    "\r\n"
   ],
   "metadata": {}
  }
 ],
 "metadata": {
  "orig_nbformat": 4,
  "language_info": {
   "name": "julia"
  }
 },
 "nbformat": 4,
 "nbformat_minor": 2
}