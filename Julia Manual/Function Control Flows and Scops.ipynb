{
 "cells": [
  {
   "cell_type": "markdown",
   "source": [
    "### **Intro**\r\n",
    "\r\n",
    "Because the programming langue Julia is functional, we have a lot of to talk about. \r\n",
    "\r\n",
    "We assume you know the basic syntax of function and know about broadcasting, then the next step is advance usage of functions. \r\n",
    "\r\n",
    "* Lambda\r\n",
    "* Let, do, and, begins and end\r\n",
    "* Function Piplining \r\n",
    "* Function Composition \r\n",
    "* Function Vectorization "
   ],
   "metadata": {}
  },
  {
   "cell_type": "code",
   "execution_count": 1,
   "source": [
    "f = () -> 2\r\n",
    "f()"
   ],
   "outputs": [
    {
     "output_type": "execute_result",
     "data": {
      "text/plain": [
       "2"
      ]
     },
     "metadata": {},
     "execution_count": 1
    }
   ],
   "metadata": {}
  },
  {
   "cell_type": "markdown",
   "source": [
    "* Lambda can capture variables in the scope it's in\r\n",
    "* **Let bock can create a scope**, locking the variables inside, locking outter variables. \r\n",
    "  * `global, local` keywords are needed to access/change a variable that is outside the current scope. \r\n",
    "  * variable inside the scope is not defined outside the scope"
   ],
   "metadata": {}
  },
  {
   "cell_type": "code",
   "execution_count": 10,
   "source": [
    "# variable capturing\r\n",
    "let \r\n",
    "    x = 3\r\n",
    "end\r\n",
    "@isdefined x  # check if a variable is defined. \r\n",
    "\r\n",
    "# The let scope can capture and rename outter variable\r\n",
    "# and it will also lock out the outter variables that are not declared in the header, \r\n",
    "y = 8\r\n",
    "let x = y\r\n",
    "    x += 1\r\n",
    "    println(\"inner x = $(x)\")\r\n",
    "    global y += 2 \r\n",
    "end\r\n",
    "println(\"y = $(y)\")"
   ],
   "outputs": [
    {
     "output_type": "stream",
     "name": "stdout",
     "text": [
      "inner x = 9\n",
      "y = 10\n"
     ]
    }
   ],
   "metadata": {}
  },
  {
   "cell_type": "markdown",
   "source": [],
   "metadata": {}
  },
  {
   "cell_type": "code",
   "execution_count": 11,
   "source": [
    "# Now let's capture some variables in this scope into a Lambda expression. \r\n",
    "y = 3\r\n",
    "container = []\r\n",
    "let x = y\r\n",
    "    x += 1\r\n",
    "    push!(container, ()-> x)\r\n",
    "end\r\n",
    "container[1]()\r\n",
    "\r\n",
    "# A lambda function that is hold by a container, still have reference to a scope that is not visible in the scope that it's called. \r\n"
   ],
   "outputs": [
    {
     "output_type": "execute_result",
     "data": {
      "text/plain": [
       "4"
      ]
     },
     "metadata": {},
     "execution_count": 11
    }
   ],
   "metadata": {}
  },
  {
   "cell_type": "code",
   "execution_count": 39,
   "source": [
    "# The body of the lambda can be made more complex with the begin and end block \r\n",
    "g = x::Number -> begin\r\n",
    "    return 2x\r\n",
    "end\r\n",
    "\r\n",
    "g(3)\r\n",
    "g(4)\r\n"
   ],
   "outputs": [
    {
     "output_type": "execute_result",
     "data": {
      "text/plain": [
       "8"
      ]
     },
     "metadata": {},
     "execution_count": 39
    }
   ],
   "metadata": {}
  },
  {
   "cell_type": "markdown",
   "source": [
    "### **Functional Composition and Vectorization**\r\n",
    "\r\n"
   ],
   "metadata": {}
  },
  {
   "cell_type": "code",
   "execution_count": 47,
   "source": [
    "inner = (sqrt ∘ sum ∘ (x->x.^2))\r\n",
    "inner([3,3]) # Get the inner product with itself \r\n"
   ],
   "outputs": [
    {
     "output_type": "execute_result",
     "data": {
      "text/plain": [
       "4.242640687119285"
      ]
     },
     "metadata": {},
     "execution_count": 47
    }
   ],
   "metadata": {}
  },
  {
   "cell_type": "code",
   "execution_count": 52,
   "source": [
    "\"Every word in this setence is gonna get reversed,\"*\r\n",
    "\" and upper cased, then the whole sentence is reversed\" |> \r\n",
    "x -> split(x, r\"\\W+\") .|> uppercase .|> reverse |> reverse"
   ],
   "outputs": [
    {
     "output_type": "execute_result",
     "data": {
      "text/plain": [
       "18-element Vector{String}:\n",
       " \"DESREVER\"\n",
       " \"SI\"\n",
       " \"ECNETNES\"\n",
       " \"ELOHW\"\n",
       " \"EHT\"\n",
       " \"NEHT\"\n",
       " \"DESAC\"\n",
       " \"REPPU\"\n",
       " \"DNA\"\n",
       " \"DESREVER\"\n",
       " \"TEG\"\n",
       " \"ANNOG\"\n",
       " \"SI\"\n",
       " \"ECNETES\"\n",
       " \"SIHT\"\n",
       " \"NI\"\n",
       " \"DROW\"\n",
       " \"YREVE\""
      ]
     },
     "metadata": {},
     "execution_count": 52
    }
   ],
   "metadata": {}
  },
  {
   "cell_type": "code",
   "execution_count": null,
   "source": [],
   "outputs": [],
   "metadata": {}
  }
 ],
 "metadata": {
  "orig_nbformat": 4,
  "language_info": {
   "file_extension": ".jl",
   "name": "julia",
   "mimetype": "application/julia",
   "version": "1.6.2"
  },
  "kernelspec": {
   "name": "julia-1.6",
   "display_name": "Julia 1.6.2",
   "language": "julia"
  }
 },
 "nbformat": 4,
 "nbformat_minor": 2
}