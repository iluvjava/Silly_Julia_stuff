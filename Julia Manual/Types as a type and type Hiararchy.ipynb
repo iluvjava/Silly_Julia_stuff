{
 "cells": [
  {
   "cell_type": "markdown",
   "source": [
    "### **Typing in Julia**\r\n",
    "\r\n",
    "Type is a tangible thing in julia and can be investigated via programming because of the meta nature of julia. \r\n",
    "\r\n",
    "* `<:` is a subtype of\r\n",
    "* `A<:B` A is a subtype of B, viewed as boolean\r\n",
    "* `Array{T}()` Instantiate with a type\r\n",
    "* `Convert(A, b)` try Converting b to type A. \r\n",
    "* `subtypes()` get the subtypes of the current types\r\n",
    "* `supertype()` get the super type of the current types\r\n",
    "* `typeof()` get the Type object representing the type. \r\n",
    "* `isa(instance, type)` runtime check on the type. \r\n",
    "* `eltype()`: check the types indie of the container. \r\n",
    "\r\n"
   ],
   "metadata": {}
  },
  {
   "cell_type": "code",
   "execution_count": 10,
   "source": [
    "# a function that prints types hiearchy\r\n",
    "function SubTypeTree(t, level=1, indent=4)\r\n",
    "    level == 1 && println(t)\r\n",
    "    for s in subtypes(t)\r\n",
    "      println(join(fill(\" \", level * indent)) * string(s))\r\n",
    "      SubTypeTree(s, level+1, indent)\r\n",
    "    end\r\n",
    "end\r\n",
    "SubTypeTree(Number)"
   ],
   "outputs": [
    {
     "output_type": "stream",
     "name": "stdout",
     "text": [
      "Number\n",
      "    Complex\n",
      "    Real\n",
      "        AbstractFloat\n",
      "            BigFloat\n",
      "            Float16\n",
      "            Float32\n",
      "            Float64\n",
      "        AbstractIrrational\n",
      "            Irrational\n",
      "        Integer\n",
      "            Bool\n",
      "            Signed\n",
      "                BigInt\n",
      "                Int128\n",
      "                Int16\n",
      "                Int32\n",
      "                Int64\n",
      "                Int8\n",
      "            Unsigned\n",
      "                UInt128\n",
      "                UInt16\n",
      "                UInt32\n",
      "                UInt64\n",
      "                UInt8\n",
      "        Rational\n"
     ]
    }
   ],
   "metadata": {}
  },
  {
   "cell_type": "code",
   "execution_count": 26,
   "source": [
    "# Type hirarchy \r\n",
    "display(BigInt <: Signed)\r\n",
    "display(Rational <: Real)\r\n",
    "display(Real <: Complex)\r\n",
    "display(Complex<: Number)"
   ],
   "outputs": [
    {
     "output_type": "display_data",
     "data": {
      "text/plain": [
       "true"
      ]
     },
     "metadata": {}
    },
    {
     "output_type": "display_data",
     "data": {
      "text/plain": [
       "true"
      ]
     },
     "metadata": {}
    },
    {
     "output_type": "display_data",
     "data": {
      "text/plain": [
       "false"
      ]
     },
     "metadata": {}
    },
    {
     "output_type": "display_data",
     "data": {
      "text/plain": [
       "true"
      ]
     },
     "metadata": {}
    }
   ],
   "metadata": {}
  },
  {
   "cell_type": "markdown",
   "source": [
    "When a container's inner type is not paramaterized. \r\n",
    "\r\n",
    "* Compare the inner type, if not matches then false, if matches, then let the results be determined by the type of the container. \r\n",
    "* any parametric type is a subtype of itself as a non-parametric type. "
   ],
   "metadata": {}
  },
  {
   "cell_type": "code",
   "execution_count": 19,
   "source": [
    "# Think carefully about these examples. \r\n",
    "display(Vector <: Array)\r\n",
    "display(Array{Complex} <: Array{Number})\r\n",
    "display(Array{Complex} <: Array{Complex})\r\n",
    "display(Vector{Complex} <: Array{Complex})\r\n",
    "display(Vector{Complex} <: Vector)\r\n",
    "display(Vector{Any} <: Array)"
   ],
   "outputs": [
    {
     "output_type": "display_data",
     "data": {
      "text/plain": [
       "true"
      ]
     },
     "metadata": {}
    },
    {
     "output_type": "display_data",
     "data": {
      "text/plain": [
       "false"
      ]
     },
     "metadata": {}
    },
    {
     "output_type": "display_data",
     "data": {
      "text/plain": [
       "true"
      ]
     },
     "metadata": {}
    },
    {
     "output_type": "display_data",
     "data": {
      "text/plain": [
       "true"
      ]
     },
     "metadata": {}
    },
    {
     "output_type": "display_data",
     "data": {
      "text/plain": [
       "true"
      ]
     },
     "metadata": {}
    },
    {
     "output_type": "display_data",
     "data": {
      "text/plain": [
       "true"
      ]
     },
     "metadata": {}
    }
   ],
   "metadata": {}
  },
  {
   "cell_type": "markdown",
   "source": [
    "To make correct comparison involving the parametric types, we need to do this: "
   ],
   "metadata": {}
  },
  {
   "cell_type": "code",
   "execution_count": 28,
   "source": [
    "display(Vector{Complex} <: Array{<:Number})\r\n",
    "display(Vector{<:Complex} <: Array{<:Number})\r\n",
    "display(Array{Int128} <: Array{<:Integer})"
   ],
   "outputs": [
    {
     "output_type": "display_data",
     "data": {
      "text/plain": [
       "true"
      ]
     },
     "metadata": {}
    },
    {
     "output_type": "display_data",
     "data": {
      "text/plain": [
       "true"
      ]
     },
     "metadata": {}
    },
    {
     "output_type": "display_data",
     "data": {
      "text/plain": [
       "true"
      ]
     },
     "metadata": {}
    }
   ],
   "metadata": {}
  },
  {
   "cell_type": "markdown",
   "source": [
    "Union types are combining 2 types together. \r\n",
    "\r\n",
    "There are 2 special types I need to point out: \r\n",
    "* Nothing: This is just the null type. \r\n",
    "* Any: This is literally everything. \r\n",
    "\r\n",
    "WARNING: Only use `Union{T, Nothing}` for functions parameters! \r\n",
    "WARNING: Cannot use `Where` on struct definition. "
   ],
   "metadata": {}
  },
  {
   "cell_type": "code",
   "execution_count": 29,
   "source": [
    "display(Integer<:Number<:Any)\r\n",
    "display(Nothing <: Nothing)\r\n",
    "function Nullable(arg::Union{Nothing, <:Number})\r\n",
    "    if arg == nothing\r\n",
    "        return \"It's nothing.\"\r\n",
    "    end\r\n",
    "    return \"It's something\"\r\n",
    "end\r\n",
    "display(Nullable(3.4))\r\n",
    "display(Nullable(nothing))"
   ],
   "outputs": [
    {
     "output_type": "display_data",
     "data": {
      "text/plain": [
       "true"
      ]
     },
     "metadata": {}
    },
    {
     "output_type": "display_data",
     "data": {
      "text/plain": [
       "true"
      ]
     },
     "metadata": {}
    },
    {
     "output_type": "display_data",
     "data": {
      "text/plain": [
       "\"It's something\""
      ]
     },
     "metadata": {}
    },
    {
     "output_type": "display_data",
     "data": {
      "text/plain": [
       "\"It's nothing.\""
      ]
     },
     "metadata": {}
    }
   ],
   "metadata": {}
  },
  {
   "cell_type": "code",
   "execution_count": 23,
   "source": [
    "# Nothing is just itself on the hierarchy tree. \r\n",
    "display(supertype(Nothing))\r\n",
    "display(SubTypeTree(Nothing))"
   ],
   "outputs": [
    {
     "output_type": "display_data",
     "data": {
      "text/plain": [
       "Any"
      ]
     },
     "metadata": {}
    },
    {
     "output_type": "display_data",
     "data": {
      "text/plain": [
       "nothing"
      ]
     },
     "metadata": {}
    },
    {
     "output_type": "stream",
     "name": "stdout",
     "text": [
      "Nothing\n"
     ]
    }
   ],
   "metadata": {}
  },
  {
   "cell_type": "markdown",
   "source": [
    "Binded Parametric Type\r\n",
    "\r\n",
    "* `A{T} <: B{T}` where `T` is the same, this is usually used for type and function definition \r\n",
    "* `where {T<:Type1, S <:Type1}` this is the syntax. "
   ],
   "metadata": {}
  },
  {
   "cell_type": "code",
   "execution_count": 30,
   "source": [
    "\r\n",
    "# T is regarded as the same type for both parameters, this is convenient\r\n",
    "function dotProduct(a::AbstractArray{T}, v::Vector{T})::AbstractArray{T} where {T<:Real}\r\n",
    "\"\"\"\r\n",
    "    Dot on the last dimension and then sum it up along the last dimension\r\n",
    "\"\"\"\r\n",
    "    \r\n",
    "\r\n",
    "end\r\n",
    "# where {T} is qually legit as where {T<:Any}. But, if T were to be Nullable, it needs toe be declared. "
   ],
   "outputs": [
    {
     "output_type": "execute_result",
     "data": {
      "text/plain": [
       "dotProduct (generic function with 1 method)"
      ]
     },
     "metadata": {},
     "execution_count": 30
    }
   ],
   "metadata": {}
  },
  {
   "cell_type": "markdown",
   "source": [
    "Converting between different types.\r\n",
    "\r\n",
    "Conversion is only possible if it's been implemented, usually you can go with the feels regardng whether 2 native types have conversion between them. \r\n",
    "\r\n",
    "**Potential Gotacha**\r\n",
    "\r\n",
    "However, becareful, Julia will convert stuff automatically, it doesn't have type promotions, but it will convert implicitly under the following context: \r\n",
    "\r\n",
    "* Assigning to an array converts to the array's element type.\r\n",
    "* Assigning to a field of an object converts to the declared type of the field.\r\n",
    "* Constructing an object with new converts to the object's declared field types.\r\n",
    "* Assigning to a variable with a declared type (e.g. local x::T) converts to that type.\r\n",
    "* A function with a declared return type converts its return value to that type.\r\n",
    "* Passing a value to ccall converts it to the corresponding argument type.\r\n",
    "\r\n",
    "We can run type checking using the function `isa(instance, type)`\r\n",
    "\r\n",
    "\r\n"
   ],
   "metadata": {}
  },
  {
   "cell_type": "code",
   "execution_count": 17,
   "source": [
    "z = convert(Complex, 3.4)\r\n",
    "display(isa(z, Number))"
   ],
   "outputs": [
    {
     "output_type": "display_data",
     "data": {
      "text/plain": [
       "true"
      ]
     },
     "metadata": {}
    }
   ],
   "metadata": {}
  },
  {
   "cell_type": "code",
   "execution_count": 34,
   "source": [
    "convert(Int64, 's')"
   ],
   "outputs": [
    {
     "output_type": "execute_result",
     "data": {
      "text/plain": [
       "115"
      ]
     },
     "metadata": {},
     "execution_count": 34
    }
   ],
   "metadata": {}
  },
  {
   "cell_type": "markdown",
   "source": [
    "* The type of a type of a number is a datatype \r\n",
    "* A Datatype is it's own type. \r\n",
    "* Union type cannot have super type. \r\n",
    "* Union Type is something on it's own, it doesn't join the hierarchy due to how it's paramaterized. \r\n",
    "* You can only `dump` on a union type. "
   ],
   "metadata": {}
  },
  {
   "cell_type": "code",
   "execution_count": 40,
   "source": [
    "display(typeof(typeof(Number)))\r\n",
    "display(typeof(typeof(Array)))\r\n",
    "display(typeof(typeof(AbstractArray)))\r\n",
    "display(typeof(typeof(DataType)))"
   ],
   "outputs": [
    {
     "output_type": "display_data",
     "data": {
      "text/plain": [
       "DataType"
      ]
     },
     "metadata": {}
    },
    {
     "output_type": "display_data",
     "data": {
      "text/plain": [
       "DataType"
      ]
     },
     "metadata": {}
    },
    {
     "output_type": "display_data",
     "data": {
      "text/plain": [
       "DataType"
      ]
     },
     "metadata": {}
    },
    {
     "output_type": "display_data",
     "data": {
      "text/plain": [
       "DataType"
      ]
     },
     "metadata": {}
    }
   ],
   "metadata": {}
  },
  {
   "cell_type": "code",
   "execution_count": 41,
   "source": [
    "supertype(Union{Number, Array})"
   ],
   "outputs": [
    {
     "output_type": "error",
     "ename": "LoadError",
     "evalue": "MethodError: no method matching supertype(::Type{Union{Number, Array}})\n\u001b[0mClosest candidates are:\n\u001b[0m  supertype(\u001b[91m::DataType\u001b[39m) at operators.jl:43\n\u001b[0m  supertype(\u001b[91m::UnionAll\u001b[39m) at operators.jl:48",
     "traceback": [
      "MethodError: no method matching supertype(::Type{Union{Number, Array}})\n\u001b[0mClosest candidates are:\n\u001b[0m  supertype(\u001b[91m::DataType\u001b[39m) at operators.jl:43\n\u001b[0m  supertype(\u001b[91m::UnionAll\u001b[39m) at operators.jl:48",
      "",
      "Stacktrace:",
      " [1] top-level scope",
      "   @ In[41]:1",
      " [2] eval",
      "   @ .\\boot.jl:360 [inlined]",
      " [3] include_string(mapexpr::typeof(REPL.softscope), mod::Module, code::String, filename::String)",
      "   @ Base .\\loading.jl:1116"
     ]
    }
   ],
   "metadata": {}
  },
  {
   "cell_type": "code",
   "execution_count": 5,
   "source": [
    "display(subtypes(Union))\r\n",
    "# It's empty\r\n",
    "methodswith(Union)\r\n",
    "dump(Union{Number, Array, Matrix})\r\n"
   ],
   "outputs": [
    {
     "output_type": "display_data",
     "data": {
      "text/plain": [
       "Type[]"
      ]
     },
     "metadata": {}
    },
    {
     "output_type": "stream",
     "name": "stdout",
     "text": [
      "Union{Number, Array}\n"
     ]
    }
   ],
   "metadata": {}
  },
  {
   "cell_type": "code",
   "execution_count": 34,
   "source": [
    "display(eltype([1, 2, 3]))\r\n",
    "display(eltype([1, 2, 3.0]))\r\n"
   ],
   "outputs": [
    {
     "output_type": "execute_result",
     "data": {
      "text/plain": [
       "Float64"
      ]
     },
     "metadata": {},
     "execution_count": 34
    }
   ],
   "metadata": {}
  },
  {
   "cell_type": "markdown",
   "source": [
    "**Type Alias** \r\n",
    "\r\n",
    "We can define a type that refers to some other types, Uniontypes as a global constant. \r\n",
    "\r\n",
    "Certain existing types are also Alias for other types. They are equivalent and just having a different names for clairty. "
   ],
   "metadata": {}
  },
  {
   "cell_type": "code",
   "execution_count": 20,
   "source": [
    "const RationalNumber = Union{Integer, Rational}\r\n",
    "dump(RationalNumber)"
   ],
   "outputs": [
    {
     "output_type": "stream",
     "name": "stdout",
     "text": [
      "Union{Integer, Rational}\n"
     ]
    }
   ],
   "metadata": {}
  },
  {
   "cell_type": "code",
   "execution_count": 31,
   "source": [
    "display(Vector)\r\n",
    "display(Matrix)\r\n",
    "A =  Array{Int64}(undef, 3, 3)\r\n",
    "B = view(A, 1:2, 1:2)\r\n",
    "display(typeof(B)) # I digressed, but subarray window does have a lot of types. "
   ],
   "outputs": [
    {
     "output_type": "display_data",
     "data": {
      "text/plain": [
       "Vector{T} where T (alias for Array{T, 1} where T)"
      ]
     },
     "metadata": {}
    },
    {
     "output_type": "display_data",
     "data": {
      "text/plain": [
       "Matrix{T} where T (alias for Array{T, 2} where T)"
      ]
     },
     "metadata": {}
    },
    {
     "output_type": "display_data",
     "data": {
      "text/plain": [
       "SubArray{Int64, 2, Matrix{Int64}, Tuple{UnitRange{Int64}, UnitRange{Int64}}, false}"
      ]
     },
     "metadata": {}
    }
   ],
   "metadata": {}
  },
  {
   "cell_type": "code",
   "execution_count": null,
   "source": [],
   "outputs": [],
   "metadata": {}
  },
  {
   "cell_type": "markdown",
   "source": [
    "### **Is an Instace of a Type defined**\r\n",
    "\r\n"
   ],
   "metadata": {}
  }
 ],
 "metadata": {
  "orig_nbformat": 4,
  "language_info": {
   "file_extension": ".jl",
   "name": "julia",
   "mimetype": "application/julia",
   "version": "1.6.2"
  },
  "kernelspec": {
   "name": "julia-1.6",
   "display_name": "Julia 1.6.2",
   "language": "julia"
  }
 },
 "nbformat": 4,
 "nbformat_minor": 2
}