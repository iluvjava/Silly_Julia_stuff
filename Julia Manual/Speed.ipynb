{
 "cells": [
  {
   "cell_type": "code",
   "execution_count": 3,
   "source": [
    "using BenchmarkTools\r\n",
    "\r\n",
    "function innerDot(a::Vector{Float64}, b::Vector{Float64})\r\n",
    "    l::Int32 = min(length(a), length(b))\r\n",
    "    s::Float64 = 0\r\n",
    "    @simd for II in 1:l\r\n",
    "        @inbounds s += a[II]*b[II]\r\n",
    "    end\r\n",
    "    return s\r\n",
    "end\r\n",
    "\r\n",
    "function innerdotSlow(a, b)\r\n",
    "    l = min(length(a), length(b))\r\n",
    "    s = 0\r\n",
    "    for II in 1:l\r\n",
    "        s += a[II]*b[II]\r\n",
    "    end\r\n",
    "    return s\r\n",
    "end\r\n"
   ],
   "outputs": [
    {
     "output_type": "execute_result",
     "data": {
      "text/plain": [
       "innerDot (generic function with 1 method)"
      ]
     },
     "metadata": {},
     "execution_count": 3
    }
   ],
   "metadata": {}
  },
  {
   "cell_type": "code",
   "execution_count": 7,
   "source": [
    "@time innerDot(rand(9999999), rand(9999999))\r\n",
    "@time innerDot(rand(99999999), rand(99999999))"
   ],
   "outputs": [
    {
     "output_type": "stream",
     "name": "stdout",
     "text": [
      "  0.067657 seconds (4 allocations: 152.588 MiB, 20.33% gc time)\n",
      "  0.522674 seconds (4 allocations: 1.490 GiB, 23.16% gc time)\n"
     ]
    }
   ],
   "metadata": {}
  },
  {
   "cell_type": "code",
   "execution_count": null,
   "source": [],
   "outputs": [],
   "metadata": {}
  }
 ],
 "metadata": {
  "orig_nbformat": 4,
  "language_info": {
   "file_extension": ".jl",
   "name": "julia",
   "mimetype": "application/julia",
   "version": "1.6.2"
  },
  "kernelspec": {
   "name": "julia-1.6",
   "display_name": "Julia 1.6.2",
   "language": "julia"
  }
 },
 "nbformat": 4,
 "nbformat_minor": 2
}