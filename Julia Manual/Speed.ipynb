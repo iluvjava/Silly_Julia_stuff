{
 "cells": [
  {
   "cell_type": "markdown",
   "source": [
    "### **Intro**\r\n",
    "\r\n",
    "See [here](http://web.mit.edu/julia_v0.6.2/julia/share/doc/julia/html/en/manual/performance-tips.html) for more info about getting performance out of Julia. "
   ],
   "metadata": {}
  },
  {
   "cell_type": "code",
   "execution_count": 37,
   "source": [
    "using BenchmarkTools\r\n",
    "\r\n",
    "function innerDot(a::Vector{Float64}, b::Vector{Float64})\r\n",
    "    l = min(length(a), length(b)) ::Int64\r\n",
    "    s = 0.0\r\n",
    "    @simd for II in 1:l\r\n",
    "        @inbounds s += a[II]*b[II]\r\n",
    "    end\r\n",
    "    return s\r\n",
    "end\r\n",
    "\r\n",
    "function innerdotSlow(a, b)\r\n",
    "    l = min(length(a), length(b))\r\n",
    "    s = 0\r\n",
    "    for II in 1:l\r\n",
    "        s += a[II]*b[II]\r\n",
    "    end\r\n",
    "    return s\r\n",
    "end\r\n",
    "# For compilation\r\n",
    "innerDot([1.1, 2,2], [2.2, 2.2])\r\n",
    "innerdotSlow([1.1, 2,2], [2.2, 2.2])"
   ],
   "outputs": [
    {
     "output_type": "execute_result",
     "data": {
      "text/plain": [
       "6.82"
      ]
     },
     "metadata": {},
     "execution_count": 37
    }
   ],
   "metadata": {}
  },
  {
   "cell_type": "code",
   "execution_count": 52,
   "source": [
    "GC.gc() \r\n",
    "function timeIt()\r\n",
    "    N = 2^20\r\n",
    "    a, b = rand(N), rand(N)\r\n",
    "    println(\"Random vector Generated \")\r\n",
    "    GC.gc() \r\n",
    "    @time for II in 1:100\r\n",
    "         innerDot(a, b)\r\n",
    "    end\r\n",
    "    \r\n",
    "end\r\n",
    "timeIt()"
   ],
   "outputs": [
    {
     "output_type": "stream",
     "name": "stdout",
     "text": [
      "Random vector Generated \n",
      "  0.000000 seconds\n"
     ]
    }
   ],
   "metadata": {}
  },
  {
   "cell_type": "code",
   "execution_count": null,
   "source": [],
   "outputs": [],
   "metadata": {}
  },
  {
   "cell_type": "code",
   "execution_count": 63,
   "source": [
    "function inner(x, y)\r\n",
    "    s = zero(eltype(x))\r\n",
    "    for i=1:length(x)\r\n",
    "        @inbounds s += x[i]*y[i]\r\n",
    "    end\r\n",
    "    s\r\n",
    "end\r\n",
    "\r\n",
    "function innersimd(x, y)\r\n",
    "    s = zero(eltype(x))\r\n",
    "    @simd for i=1:length(x)\r\n",
    "        @inbounds s += x[i]*y[i]\r\n",
    "    end\r\n",
    "    s\r\n",
    "end\r\n",
    "\r\n",
    "function timeit(n, reps)\r\n",
    "    x = rand(Float32,n)\r\n",
    "    y = rand(Float32,n)\r\n",
    "    s = zero(Float64)\r\n",
    "    @time for j in 1:reps\r\n",
    "        s+=inner(x,y)\r\n",
    "    end\r\n",
    "    # println(\"GFlop/sec        = \",2.0*n*reps/time*1E-9)\r\n",
    "    # println(\"time = \", time)\r\n",
    "    @time for j in 1:reps\r\n",
    "        s+=innersimd(x,y)\r\n",
    "    end\r\n",
    "    # println(\"GFlop/sec (SIMD) = \",2.0*n*reps/time*1E-9)\r\n",
    "    # println(\"time (SIMD) = \", time)\r\n",
    "end\r\n",
    "\r\n",
    "timeit(2^23,2^2)"
   ],
   "outputs": [
    {
     "output_type": "stream",
     "name": "stdout",
     "text": [
      "  0.000000 seconds\n",
      "  0.000000 seconds\n"
     ]
    }
   ],
   "metadata": {}
  },
  {
   "cell_type": "code",
   "execution_count": null,
   "source": [],
   "outputs": [],
   "metadata": {}
  }
 ],
 "metadata": {
  "orig_nbformat": 4,
  "language_info": {
   "file_extension": ".jl",
   "name": "julia",
   "mimetype": "application/julia",
   "version": "1.6.2"
  },
  "kernelspec": {
   "name": "julia-1.6",
   "display_name": "Julia 1.6.2",
   "language": "julia"
  }
 },
 "nbformat": 4,
 "nbformat_minor": 2
}