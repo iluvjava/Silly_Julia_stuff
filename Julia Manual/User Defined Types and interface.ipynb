{
 "cells": [
  {
   "cell_type": "markdown",
   "source": [
    "### **Intro**\r\n",
    "\r\n",
    "Topics: \r\n",
    "1. Defining a parametric types\r\n",
    "2. Define Hierachy for the type\r\n",
    "3. Constructors\r\n",
    "4. Special Methods for the type\r\n",
    "   1. Iterator method\r\n",
    "   2. Size method\r\n",
    "   3. Etc \r\n"
   ],
   "metadata": {}
  },
  {
   "cell_type": "code",
   "execution_count": 1,
   "source": [
    "writeLine(x...)=(println ∘ string)(x...)"
   ],
   "outputs": [
    {
     "output_type": "execute_result",
     "data": {
      "text/plain": [
       "writeLine (generic function with 1 method)"
      ]
     },
     "metadata": {},
     "execution_count": 1
    }
   ],
   "metadata": {}
  },
  {
   "cell_type": "code",
   "execution_count": 2,
   "source": [
    "# An abstract type, that is like, purely a type and no other usage, you can't instantiante it. \r\n",
    "abstract type SortedSet{T}\r\n",
    "\r\n",
    "end"
   ],
   "outputs": [],
   "metadata": {}
  },
  {
   "cell_type": "markdown",
   "source": [
    "Implement 2 types\r\n",
    "* A binary search tree \r\n",
    "* A sorted linked list\r\n",
    "\r\n",
    "\r\n",
    "* Take notice that, inner constructor will override existing default constructor, and inside the inner constructor, we can see how the default constructor is being used. \r\n",
    "\r\n",
    "* Take notice that the inner constructor has a different declarations for types compare to static functions, `function constructor{T}(Arg:T) where T`, there is an extra type parameter after the name of the function. "
   ],
   "metadata": {}
  },
  {
   "cell_type": "code",
   "execution_count": 7,
   "source": [
    "# binary Node\r\n",
    "mutable struct BinaryNode{T}\r\n",
    "    # Nullable type\r\n",
    "    left::Union{BinaryNode{T}, Nothing}\r\n",
    "    right::Union{BinaryNode{T}, Nothing}\r\n",
    "    \r\n",
    "    data:: T # non nullable type\r\n",
    "\r\n",
    "    # This disable the default constructor. \r\n",
    "    function BinaryNode{T}(item) where T \r\n",
    "        new(nothing, nothing, item)\r\n",
    "    end\r\n",
    "end\r\n",
    "\r\n",
    "\r\n",
    "# Binary Search tree\r\n",
    "mutable struct BinaryTree{T} <: SortedSet{T}\r\n",
    "    # It has a root to it\r\n",
    "    root::Union{BinaryNode{T}, Nothing}\r\n",
    "\r\n",
    "    function BinaryTree{T}() where T\r\n",
    "        new(nothing)\r\n",
    "    end\r\n",
    "end\r\n",
    "\r\n",
    "\r\n",
    "function add!(this::BinaryTree{T}, item::T) where T\r\n",
    "    function insert!(\r\n",
    "            this::Union{BinaryNode{T}, Nothing},\r\n",
    "            item::T\r\n",
    "        )::BinaryNode{T} where T\r\n",
    "\r\n",
    "        if this == nothing\r\n",
    "            return BinaryNode{T}(item)\r\n",
    "        end\r\n",
    "        if item <= this.data\r\n",
    "            this.left = insert!(this.left, item)\r\n",
    "        else\r\n",
    "            this.right = insert!(this.right, item)\r\n",
    "        end\r\n",
    "        return this\r\n",
    "    end\r\n",
    "    \r\n",
    "    if this.root == nothing\r\n",
    "        this.root = BinaryNode{T}( item)\r\n",
    "    else\r\n",
    "        insert!(this.root, item)      \r\n",
    "    end\r\n",
    "\r\n",
    "end\r\n",
    "\r\n"
   ],
   "outputs": [
    {
     "output_type": "execute_result",
     "data": {
      "text/plain": [
       "add! (generic function with 1 method)"
      ]
     },
     "metadata": {},
     "execution_count": 7
    }
   ],
   "metadata": {}
  },
  {
   "cell_type": "markdown",
   "source": [
    "let's define a list of methods for Binary tree and then the sorted list and see how they get dispatch dynamically. "
   ],
   "metadata": {}
  },
  {
   "cell_type": "code",
   "execution_count": 8,
   "source": [
    "tree = BinaryTree{Int64}()\r\n",
    "add!(tree, 3)\r\n",
    "add!(tree, 4)\r\n",
    "add!(tree, 2)\r\n",
    "display(tree.root.data)\r\n",
    "display(tree.root.left.data)\r\n",
    "display(tree.root.right.data)"
   ],
   "outputs": [
    {
     "output_type": "display_data",
     "data": {
      "text/plain": [
       "3"
      ]
     },
     "metadata": {}
    },
    {
     "output_type": "display_data",
     "data": {
      "text/plain": [
       "2"
      ]
     },
     "metadata": {}
    },
    {
     "output_type": "display_data",
     "data": {
      "text/plain": [
       "4"
      ]
     },
     "metadata": {}
    }
   ],
   "metadata": {}
  },
  {
   "cell_type": "markdown",
   "source": [
    "### **Interfacing with Julia Base**\r\n",
    "\r\n",
    "Similar to the special methods in python, and the object methods in Java, in julia, we can override a static method for how types, so it can integrate with the programming languages like other native Julia types. \r\n",
    "\r\n",
    "* The itreator\r\n",
    "* To string method. "
   ],
   "metadata": {}
  },
  {
   "cell_type": "code",
   "execution_count": null,
   "source": [],
   "outputs": [],
   "metadata": {}
  }
 ],
 "metadata": {
  "orig_nbformat": 4,
  "language_info": {
   "file_extension": ".jl",
   "name": "julia",
   "mimetype": "application/julia",
   "version": "1.6.2"
  },
  "kernelspec": {
   "name": "julia-1.6",
   "display_name": "Julia 1.6.2",
   "language": "julia"
  }
 },
 "nbformat": 4,
 "nbformat_minor": 2
}