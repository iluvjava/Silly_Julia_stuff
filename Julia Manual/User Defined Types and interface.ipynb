{
 "cells": [
  {
   "cell_type": "markdown",
   "source": [
    "### **Intro**\r\n",
    "\r\n",
    "Topics: \r\n",
    "1. Defining a parametric types\r\n",
    "2. Define Hierachy for the type\r\n",
    "3. Constructors\r\n",
    "4. Special Methods for the type\r\n",
    "   1. Iterator method\r\n",
    "   2. Size method\r\n",
    "   3. Etc \r\n"
   ],
   "metadata": {}
  },
  {
   "cell_type": "code",
   "execution_count": 1,
   "source": [
    "writeLine(x...)=(println ∘ string)(x...)"
   ],
   "outputs": [
    {
     "output_type": "execute_result",
     "data": {
      "text/plain": [
       "writeLine (generic function with 1 method)"
      ]
     },
     "metadata": {},
     "execution_count": 1
    }
   ],
   "metadata": {}
  },
  {
   "cell_type": "code",
   "execution_count": 2,
   "source": [
    "# An abstract type, that is like, purely a type and no other usage, you can't instantiante it. \r\n",
    "abstract type SortedSet{T}\r\n",
    "\r\n",
    "end"
   ],
   "outputs": [],
   "metadata": {}
  },
  {
   "cell_type": "markdown",
   "source": [
    "Implement 2 types\r\n",
    "* A binary search tree \r\n",
    "* A sorted linked list\r\n",
    "\r\n",
    "\r\n",
    "* Take notice that, inner constructor will override existing default constructor, and inside the inner constructor, we can see how the default constructor is being used. \r\n",
    "\r\n",
    "* Take notice that the inner constructor has a different declarations for types compare to static functions, `function constructor{T}(Arg:T) where T`, there is an extra type parameter after the name of the function. "
   ],
   "metadata": {}
  },
  {
   "cell_type": "code",
   "execution_count": 3,
   "source": [
    "# binary Node\r\n",
    "\r\n",
    "mutable struct BinaryNode{T}\r\n",
    "\r\n",
    "    # for iterator \r\n",
    "    parent::Union{BinaryNode{T}, Nothing}\r\n",
    "\r\n",
    "    # Nullable type\r\n",
    "    left::Union{BinaryNode{T}, Nothing}\r\n",
    "    right::Union{BinaryNode{T}, Nothing}\r\n",
    "    data:: T # non nullable type\r\n",
    "\r\n",
    "    # This disable the default constructor. \r\n",
    "    function BinaryNode{T}(item) where T \r\n",
    "        new(nothing, nothing, item, nothing)\r\n",
    "    end\r\n",
    "end\r\n",
    "\r\n",
    "\r\n",
    "# Binary Search tree\r\n",
    "mutable struct BinaryTree{T} <: SortedSet{T}\r\n",
    "    # It has a root to it\r\n",
    "    root::Union{BinaryNode{T}, Nothing}\r\n",
    "    count::UInt32\r\n",
    "    \r\n",
    "    function BinaryTree{T}() where T\r\n",
    "        new(nothing, 0)\r\n",
    "    end\r\n",
    "end\r\n",
    "\r\n",
    "\r\n",
    "function add!(this::BinaryTree{T}, item::T)::Nothing where T\r\n",
    "    \r\n",
    "    function insert!(\r\n",
    "            this::Union{BinaryNode{T}, Nothing},\r\n",
    "            parent::Union{BinaryNode{T}, Nothing},\r\n",
    "            item::T\r\n",
    "        )::BinaryNode{T} where T\r\n",
    "        \r\n",
    "        if this === nothing\r\n",
    "            NewNode = BinaryNode{T}(item)\r\n",
    "            NewNode.parent = parent\r\n",
    "            return NewNode\r\n",
    "        end\r\n",
    "\r\n",
    "        if this.data === item  \r\n",
    "            # don't put this in. \r\n",
    "            return this\r\n",
    "        end\r\n",
    "\r\n",
    "        if item <= this.data\r\n",
    "            this.left = insert!(this.left, this, item)\r\n",
    "        else\r\n",
    "            this.right = insert!(this.right, this, item)\r\n",
    "        end\r\n",
    "\r\n",
    "        return this\r\n",
    "    end\r\n",
    "    \r\n",
    "    this.root = insert!(this.root, nothing ,item)      \r\n",
    "    return nothing # has to be here or it will return to return this.root\r\n",
    "end\r\n"
   ],
   "outputs": [
    {
     "output_type": "execute_result",
     "data": {
      "text/plain": [
       "add! (generic function with 1 method)"
      ]
     },
     "metadata": {},
     "execution_count": 3
    }
   ],
   "metadata": {}
  },
  {
   "cell_type": "markdown",
   "source": [
    "let's define a list of methods for Binary tree and then the sorted list and see how they get dispatch dynamically. "
   ],
   "metadata": {}
  },
  {
   "cell_type": "code",
   "execution_count": 4,
   "source": [
    "tree = BinaryTree{Int64}()\r\n",
    "add!(tree, 3)\r\n",
    "\r\n",
    "# add!(tree, 4)\r\n",
    "# add!(tree, 2)\r\n",
    "# display(tree.root.data)\r\n",
    "# display(tree.root.left.data)\r\n",
    "# display(tree.root.right.data)"
   ],
   "outputs": [
    {
     "output_type": "error",
     "ename": "LoadError",
     "evalue": "MethodError: \u001b[0mCannot `convert` an object of type \u001b[92mInt64\u001b[39m\u001b[0m to an object of type \u001b[91mBinaryNode{Int64}\u001b[39m\n\u001b[0mClosest candidates are:\n\u001b[0m  convert(::Type{T}, \u001b[91m::T\u001b[39m) where T at essentials.jl:205\n\u001b[0m  BinaryNode{T}(::Any) where T at In[3]:14",
     "traceback": [
      "MethodError: \u001b[0mCannot `convert` an object of type \u001b[92mInt64\u001b[39m\u001b[0m to an object of type \u001b[91mBinaryNode{Int64}\u001b[39m\n\u001b[0mClosest candidates are:\n\u001b[0m  convert(::Type{T}, \u001b[91m::T\u001b[39m) where T at essentials.jl:205\n\u001b[0m  BinaryNode{T}(::Any) where T at In[3]:14",
      "",
      "Stacktrace:",
      " [1] convert(#unused#::Type{Union{Nothing, BinaryNode{Int64}}}, x::Int64)",
      "   @ Base .\\some.jl:36",
      " [2] BinaryNode{Int64}(item::Int64)",
      "   @ Main .\\In[3]:15",
      " [3] (::var\"#insert!#1\")(this::Nothing, parent::Nothing, item::Int64)",
      "   @ Main .\\In[3]:41",
      " [4] add!(this::BinaryTree{Int64}, item::Int64)",
      "   @ Main .\\In[3]:60",
      " [5] top-level scope",
      "   @ In[4]:2",
      " [6] eval",
      "   @ .\\boot.jl:360 [inlined]",
      " [7] include_string(mapexpr::typeof(REPL.softscope), mod::Module, code::String, filename::String)",
      "   @ Base .\\loading.jl:1116"
     ]
    }
   ],
   "metadata": {}
  },
  {
   "cell_type": "markdown",
   "source": [
    "### **Interfacing with Julia Base**\r\n",
    "\r\n",
    "Similar to the special methods in python, and the object methods in Java, in julia, we can override a static method for how types, so it can integrate with the programming languages like other native Julia types. \r\n",
    "\r\n",
    "* The itreator\r\n",
    "* To string method. "
   ],
   "metadata": {}
  },
  {
   "cell_type": "markdown",
   "source": [
    "**Iterater**\r\n",
    "\r\n",
    "\r\n",
    "\r\n",
    "There are 3 method that we need to implemented. Say that our type is `A`m then we need: \r\n",
    "\r\n",
    "|Function | Explanation|\r\n",
    "|---------|------------|\r\n",
    "|iterate(A)  |  initialze the first itration for our type, return a tuple of the first item and a state, nothing if it's epty |\r\n",
    "| Iterate(A, state)|  receive a state and return a new item the next state of the object |\r\n",
    "| length(A)   |  The size of the container.   |\r\n"
   ],
   "metadata": {}
  },
  {
   "cell_type": "code",
   "execution_count": null,
   "source": [
    "# The traversal will be in order \r\n",
    "function iterator(this::BinaryTree{T}) where T\r\n",
    "    if this.root === nothing\r\n",
    "        return nothing\r\n",
    "    end\r\n",
    "    return (this.root.data this.root)\r\n",
    "end\r\n",
    "\r\n",
    "function iterator(A::BinaryTree{T}, state::BinaryNode{T}) where T\r\n",
    "    \r\n",
    "\r\n",
    "\r\n",
    "end"
   ],
   "outputs": [
    {
     "output_type": "error",
     "ename": "LoadError",
     "evalue": "UndefVarError: ItrType not defined",
     "traceback": [
      "UndefVarError: ItrType not defined",
      "",
      "Stacktrace:",
      " [1] top-level scope",
      "   @ In[5]:1",
      " [2] eval",
      "   @ .\\boot.jl:360 [inlined]",
      " [3] include_string(mapexpr::typeof(REPL.softscope), mod::Module, code::String, filename::String)",
      "   @ Base .\\loading.jl:1116"
     ]
    }
   ],
   "metadata": {}
  },
  {
   "cell_type": "markdown",
   "source": [
    "### **List of ALL Interface Functions**\r\n",
    "\r\n",
    "Reference [here](https://docs.julialang.org/en/v1/manual/interfaces/)\r\n",
    "\r\n",
    "\r\n"
   ],
   "metadata": {}
  }
 ],
 "metadata": {
  "orig_nbformat": 4,
  "language_info": {
   "file_extension": ".jl",
   "name": "julia",
   "mimetype": "application/julia",
   "version": "1.6.2"
  },
  "kernelspec": {
   "name": "julia-1.6",
   "display_name": "Julia 1.6.2",
   "language": "julia"
  }
 },
 "nbformat": 4,
 "nbformat_minor": 2
}