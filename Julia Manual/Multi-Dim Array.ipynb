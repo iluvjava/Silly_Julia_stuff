{
 "cells": [
  {
   "cell_type": "markdown",
   "source": [
    "## **Intro**\r\n",
    "\r\n",
    "* Julia is more powerful than python when it comes to manipulating arrays more than 3 dimensions. \r\n"
   ],
   "metadata": {}
  },
  {
   "cell_type": "markdown",
   "source": [
    "### **Initialization** \r\n",
    "\r\n",
    "|Function              |\tDescription|\r\n",
    "|----------------------|-------------|\r\n",
    "|Array{T}(undef, dims...) |\tan uninitialized dense Array|\r\n",
    "| zeros(T, dims...)\t| an Array of all zeros |\r\n",
    "| ones(T, dims...)\t| an Array of all ones |\r\n",
    "| trues(dims...)\t| a BitArray with all values true | \r\n",
    "| falses(dims...)   | \ta BitArray with all values false | \r\n",
    "| reshape(A, dims...)\t|an array containing the same data as A, but with different dimensions|\r\n",
    "copy(A)\t| copy A |\r\n",
    "| deepcopy(A)|\tcopy A, recursively copying its elements|\r\n",
    "| similar(A, T, dims...)\t|an uninitialized array of the same type as A (dense, sparse, etc.),but with the specified element type and dimensions. The second and third arguments are both optional, defaulting to the element type and dimensions of A if omitted.|\r\n",
    "| reinterpret(T, A)\t|an array with the same binary data as A, but with element type T|\r\n",
    "| rand(T, dims...) |\tan Array with random, iid [1] and uniformly distributed values in the half-open interval [0, 1)[0,1)|\r\n",
    "| randn(T, dims...)\t| an Array with random, iid and standard normally distributed values |\r\n",
    "|Matrix{T}(I, m, n)\t| m-by-n identity matrix. Requires using LinearAlgebra for I. |\r\n",
    "| range(start, stop=stop, length=n)\t| range of n linearly spaced elements from start to stop|\r\n",
    "| fill!(A, x)\t| fill the array A with the value x|\r\n",
    "| fill(x, dims...)\t|an Array filled with the value x|\r\n",
    "\r\n"
   ],
   "metadata": {}
  },
  {
   "cell_type": "code",
   "execution_count": 2,
   "source": [
    "# let's initialize some data. \r\n",
    "A = zeros(Int64, 3, 4)\r\n",
    "B = reinterpret(Float64, A)\r\n"
   ],
   "outputs": [
    {
     "output_type": "execute_result",
     "data": {
      "text/plain": [
       "3×4 reinterpret(Float64, ::Matrix{Int64}):\n",
       " 0.0  0.0  0.0  0.0\n",
       " 0.0  0.0  0.0  0.0\n",
       " 0.0  0.0  0.0  0.0"
      ]
     },
     "metadata": {},
     "execution_count": 2
    }
   ],
   "metadata": {}
  },
  {
   "cell_type": "code",
   "execution_count": 11,
   "source": [
    "display(range(1, 2, length=100))\r\n",
    "# stepping is not going to include both end. \r\n",
    "display(range(0, 1, step=0.1))\r\n",
    "# the returned type is an iterator, so this is like, and it's inclusive at both end. \r\n",
    "(display∘collect)(0:0.1:1)"
   ],
   "outputs": [
    {
     "output_type": "display_data",
     "data": {
      "text/plain": [
       "1.0:0.010101010101010102:2.0"
      ]
     },
     "metadata": {}
    },
    {
     "output_type": "display_data",
     "data": {
      "text/plain": [
       "0.0:0.1:1.0"
      ]
     },
     "metadata": {}
    },
    {
     "output_type": "display_data",
     "data": {
      "text/plain": [
       "11-element Vector{Float64}:\n",
       " 0.0\n",
       " 0.1\n",
       " 0.2\n",
       " 0.3\n",
       " 0.4\n",
       " 0.5\n",
       " 0.6\n",
       " 0.7\n",
       " 0.8\n",
       " 0.9\n",
       " 1.0"
      ]
     },
     "metadata": {}
    }
   ],
   "metadata": {}
  },
  {
   "cell_type": "code",
   "execution_count": 35,
   "source": [
    "A = Matrix{Int64}(undef, 3, 3)\r\n",
    "A[begin:end] .= 3\r\n",
    "display(A)\r\n",
    "B = fill(4, (3, 3))\r\n",
    "display(B)\r\n",
    "D = fill(\"Brugh\", (3, 3))\r\n",
    "display(C)"
   ],
   "outputs": [
    {
     "output_type": "display_data",
     "data": {
      "text/plain": [
       "3×3 Matrix{Int64}:\n",
       " 3  3  3\n",
       " 3  3  3\n",
       " 3  3  3"
      ]
     },
     "metadata": {}
    },
    {
     "output_type": "display_data",
     "data": {
      "text/plain": [
       "3×3 Matrix{Int64}:\n",
       " 4  4  4\n",
       " 4  4  4\n",
       " 4  4  4"
      ]
     },
     "metadata": {}
    },
    {
     "output_type": "display_data",
     "data": {
      "text/plain": [
       "3×3 Matrix{String}:\n",
       " \"Brugh\"  \"Brugh\"  \"Brugh\"\n",
       " \"Brugh\"  \"Brugh\"  \"Brugh\"\n",
       " \"Brugh\"  \"Brugh\"  \"Brugh\""
      ]
     },
     "metadata": {}
    }
   ],
   "metadata": {}
  },
  {
   "cell_type": "markdown",
   "source": [
    "### **Basic Manipulations**\r\n",
    "\r\n",
    "|Function\t| Description| \r\n",
    "|----------|--------------|\r\n",
    "| eltype(A)\t    | the type of the elements contained in A  | \r\n",
    "| length(A)\t    | the number of elements in A  | \r\n",
    "| ndims(A)\t    | the number of dimensions of A  | \r\n",
    "| size(A)\t    | a tuple containing the dimensions of A  | \r\n",
    "| size(A,n)\t    | the size of A along dimension n  | \r\n",
    "| axes(A)\t    | a tuple containing the valid indices of A  | \r\n",
    "| axes(A,n)\t    | a range expressing the valid indices along dimension n  | \r\n",
    "| eachindex(A)\t| an efficient iterator for visiting each position in A  | \r\n",
    "| stride(A,k)\t| the stride (linear index distance between adjacent elements) along dimension k  | \r\n",
    "| strides(A)\t| a tuple of the strides in each dimension  | "
   ],
   "metadata": {}
  },
  {
   "cell_type": "code",
   "execution_count": 2,
   "source": [
    "A = fill(0, (3, 3))\r\n",
    "display(eltype(A))\r\n",
    "display(length(A))"
   ],
   "outputs": [
    {
     "output_type": "display_data",
     "data": {
      "text/plain": [
       "Int64"
      ]
     },
     "metadata": {}
    },
    {
     "output_type": "display_data",
     "data": {
      "text/plain": [
       "9"
      ]
     },
     "metadata": {}
    }
   ],
   "metadata": {}
  },
  {
   "cell_type": "code",
   "execution_count": 27,
   "source": [
    "A = fill(0, (3, 4, 5))\r\n",
    "axis1 = (collect ∘ axes)(A)\r\n",
    "for II = axis1[1], JJ = axis1[2]\r\n",
    "    (println ∘ string)(II, \" \",JJ)\r\n",
    "end\r\n"
   ],
   "outputs": [
    {
     "output_type": "stream",
     "name": "stdout",
     "text": [
      "1 1\n",
      "1 2\n",
      "1 3\n",
      "1 4\n",
      "2 1\n",
      "2 2\n",
      "2 3\n",
      "2 4\n",
      "3 1\n",
      "3 2\n",
      "3 3\n",
      "3 4\n"
     ]
    }
   ],
   "metadata": {}
  },
  {
   "cell_type": "markdown",
   "source": [
    "**Stride**\r\n",
    "Say, I have `m by n by k` tensor, to stride across the first dimension, we make linear index with distance `m`, to strice across different pages, we stride across `m by n` elements in the linear index. \r\n",
    "\r\n"
   ],
   "metadata": {}
  },
  {
   "cell_type": "code",
   "execution_count": 49,
   "source": [
    "A = zeros(2, 3, 4)\r\n",
    "display(stride(A, 2))\r\n",
    "display(strides(A))\r\n",
    "# Check out the second fibre of the tensor: \r\n",
    "Indices = []\r\n",
    "for II in 1: stride(A, 2): length(A)\r\n",
    "    append!(Indices, II)\r\n",
    "end\r\n",
    "length(Indices) \r\n",
    "# 3 x 4, we are fixing the first element and then stride through each indices for the second 2 dimensions. "
   ],
   "outputs": [
    {
     "output_type": "display_data",
     "data": {
      "text/plain": [
       "2"
      ]
     },
     "metadata": {}
    },
    {
     "output_type": "display_data",
     "data": {
      "text/plain": [
       "(1, 2, 6)"
      ]
     },
     "metadata": {}
    },
    {
     "output_type": "execute_result",
     "data": {
      "text/plain": [
       "12"
      ]
     },
     "metadata": {},
     "execution_count": 49
    }
   ],
   "metadata": {}
  },
  {
   "cell_type": "code",
   "execution_count": null,
   "source": [],
   "outputs": [],
   "metadata": {}
  },
  {
   "cell_type": "code",
   "execution_count": null,
   "source": [],
   "outputs": [],
   "metadata": {}
  }
 ],
 "metadata": {
  "orig_nbformat": 4,
  "language_info": {
   "file_extension": ".jl",
   "name": "julia",
   "mimetype": "application/julia",
   "version": "1.6.2"
  },
  "kernelspec": {
   "name": "julia-1.6",
   "display_name": "Julia 1.6.2",
   "language": "julia"
  }
 },
 "nbformat": 4,
 "nbformat_minor": 2
}