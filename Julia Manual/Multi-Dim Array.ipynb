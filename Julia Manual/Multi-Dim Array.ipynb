{
 "cells": [
  {
   "cell_type": "markdown",
   "source": [
    "## **Intro**\r\n",
    "\r\n",
    "* Julia is more powerful than python when it comes to manipulating arrays more than 3 dimensions. \r\n"
   ],
   "metadata": {}
  },
  {
   "cell_type": "markdown",
   "source": [
    "### **Initialization** \r\n",
    "\r\n",
    "|Function              |\tDescription|\r\n",
    "|----------------------|-------------|\r\n",
    "|Array{T}(undef, dims...) |\tan uninitialized dense Array|\r\n",
    "| zeros(T, dims...)\t| an Array of all zeros |\r\n",
    "| ones(T, dims...)\t| an Array of all ones |\r\n",
    "| trues(dims...)\t| a BitArray with all values true | \r\n",
    "| falses(dims...)   | \ta BitArray with all values false | \r\n",
    "| reshape(A, dims...)\t|an array containing the same data as A, but with different dimensions|\r\n",
    "copy(A)\t| copy A |\r\n",
    "| deepcopy(A)|\tcopy A, recursively copying its elements|\r\n",
    "| similar(A, T, dims...)\t|an uninitialized array of the same type as A (dense, sparse, etc.),but with the specified element type and dimensions. The second and third arguments are both optional, defaulting to the element type and dimensions of A if omitted.|\r\n",
    "| reinterpret(T, A)\t|an array with the same binary data as A, but with element type T|\r\n",
    "| rand(T, dims...) |\tan Array with random, iid [1] and uniformly distributed values in the half-open interval [0, 1)[0,1)|\r\n",
    "| randn(T, dims...)\t| an Array with random, iid and standard normally distributed values |\r\n",
    "|Matrix{T}(I, m, n)\t| m-by-n identity matrix. Requires using LinearAlgebra for I. |\r\n",
    "| range(start, stop=stop, length=n)\t| range of n linearly spaced elements from start to stop|\r\n",
    "| fill!(A, x)\t| fill the array A with the value x|\r\n",
    "| fill(x, dims...)\t|an Array filled with the value x|\r\n",
    "\r\n"
   ],
   "metadata": {}
  },
  {
   "cell_type": "code",
   "execution_count": 2,
   "source": [
    "# let's initialize some data. \r\n",
    "A = zeros(Int64, 3, 4)\r\n",
    "B = reinterpret(Float64, A)\r\n"
   ],
   "outputs": [
    {
     "output_type": "execute_result",
     "data": {
      "text/plain": [
       "3×4 reinterpret(Float64, ::Matrix{Int64}):\n",
       " 0.0  0.0  0.0  0.0\n",
       " 0.0  0.0  0.0  0.0\n",
       " 0.0  0.0  0.0  0.0"
      ]
     },
     "metadata": {},
     "execution_count": 2
    }
   ],
   "metadata": {}
  },
  {
   "cell_type": "code",
   "execution_count": 11,
   "source": [
    "display(range(1, 2, length=100))\r\n",
    "# stepping is not going to include both end. \r\n",
    "display(range(0, 1, step=0.1))\r\n",
    "# the returned type is an iterator, so this is like, and it's inclusive at both end. \r\n",
    "(display∘collect)(0:0.1:1)"
   ],
   "outputs": [
    {
     "output_type": "display_data",
     "data": {
      "text/plain": [
       "1.0:0.010101010101010102:2.0"
      ]
     },
     "metadata": {}
    },
    {
     "output_type": "display_data",
     "data": {
      "text/plain": [
       "0.0:0.1:1.0"
      ]
     },
     "metadata": {}
    },
    {
     "output_type": "display_data",
     "data": {
      "text/plain": [
       "11-element Vector{Float64}:\n",
       " 0.0\n",
       " 0.1\n",
       " 0.2\n",
       " 0.3\n",
       " 0.4\n",
       " 0.5\n",
       " 0.6\n",
       " 0.7\n",
       " 0.8\n",
       " 0.9\n",
       " 1.0"
      ]
     },
     "metadata": {}
    }
   ],
   "metadata": {}
  },
  {
   "cell_type": "code",
   "execution_count": 35,
   "source": [
    "A = Matrix{Int64}(undef, 3, 3)\r\n",
    "A[begin:end] .= 3\r\n",
    "display(A)\r\n",
    "B = fill(4, (3, 3))\r\n",
    "display(B)\r\n",
    "D = fill(\"Brugh\", (3, 3))\r\n",
    "display(C)"
   ],
   "outputs": [
    {
     "output_type": "display_data",
     "data": {
      "text/plain": [
       "3×3 Matrix{Int64}:\n",
       " 3  3  3\n",
       " 3  3  3\n",
       " 3  3  3"
      ]
     },
     "metadata": {}
    },
    {
     "output_type": "display_data",
     "data": {
      "text/plain": [
       "3×3 Matrix{Int64}:\n",
       " 4  4  4\n",
       " 4  4  4\n",
       " 4  4  4"
      ]
     },
     "metadata": {}
    },
    {
     "output_type": "display_data",
     "data": {
      "text/plain": [
       "3×3 Matrix{String}:\n",
       " \"Brugh\"  \"Brugh\"  \"Brugh\"\n",
       " \"Brugh\"  \"Brugh\"  \"Brugh\"\n",
       " \"Brugh\"  \"Brugh\"  \"Brugh\""
      ]
     },
     "metadata": {}
    }
   ],
   "metadata": {}
  },
  {
   "cell_type": "markdown",
   "source": [
    "### **Basic Manipulations**\r\n",
    "\r\n",
    "|Function\t| Description| \r\n",
    "|----------|--------------|\r\n",
    "| eltype(A)\t    | the type of the elements contained in A  | \r\n",
    "| length(A)\t    | the number of elements in A  | \r\n",
    "| ndims(A)\t    | the number of dimensions of A  | \r\n",
    "| size(A)\t    | a tuple containing the dimensions of A  | \r\n",
    "| size(A,n)\t    | the size of A along dimension n  | \r\n",
    "| axes(A)\t    | a tuple containing the valid indices of A  | \r\n",
    "| axes(A,n)\t    | a range expressing the valid indices along dimension n  | \r\n",
    "| eachindex(A)\t| an efficient iterator for visiting each position in A  | \r\n",
    "| stride(A,k)\t| the stride (linear index distance between adjacent elements) along dimension k  | \r\n",
    "| strides(A)\t| a tuple of the strides in each dimension  | "
   ],
   "metadata": {}
  },
  {
   "cell_type": "code",
   "execution_count": 2,
   "source": [
    "A = fill(0, (3, 3))\r\n",
    "display(eltype(A))\r\n",
    "display(length(A))"
   ],
   "outputs": [
    {
     "output_type": "display_data",
     "data": {
      "text/plain": [
       "Int64"
      ]
     },
     "metadata": {}
    },
    {
     "output_type": "display_data",
     "data": {
      "text/plain": [
       "9"
      ]
     },
     "metadata": {}
    }
   ],
   "metadata": {}
  },
  {
   "cell_type": "code",
   "execution_count": 27,
   "source": [
    "A = fill(0, (3, 4, 5))\r\n",
    "axis1 = (collect ∘ axes)(A)\r\n",
    "for II = axis1[1], JJ = axis1[2]\r\n",
    "    (println ∘ string)(II, \" \",JJ)\r\n",
    "end\r\n"
   ],
   "outputs": [
    {
     "output_type": "stream",
     "name": "stdout",
     "text": [
      "1 1\n",
      "1 2\n",
      "1 3\n",
      "1 4\n",
      "2 1\n",
      "2 2\n",
      "2 3\n",
      "2 4\n",
      "3 1\n",
      "3 2\n",
      "3 3\n",
      "3 4\n"
     ]
    }
   ],
   "metadata": {}
  },
  {
   "cell_type": "markdown",
   "source": [
    "**Stride**\r\n",
    "Say, I have `m by n by k` tensor, to stride across the first dimension, we make linear index with distance `m`, to strice across different pages, we stride across `m by n` elements in the linear index. \r\n",
    "\r\n"
   ],
   "metadata": {}
  },
  {
   "cell_type": "code",
   "execution_count": 49,
   "source": [
    "A = zeros(2, 3, 4)\r\n",
    "display(stride(A, 2))\r\n",
    "display(strides(A))\r\n",
    "# Check out the second fibre of the tensor: \r\n",
    "Indices = []\r\n",
    "for II in 1: stride(A, 2): length(A)\r\n",
    "    append!(Indices, II)\r\n",
    "end\r\n",
    "length(Indices) \r\n",
    "# 3 x 4, we are fixing the first element and then stride through each indices for the second 2 dimensions. "
   ],
   "outputs": [
    {
     "output_type": "display_data",
     "data": {
      "text/plain": [
       "2"
      ]
     },
     "metadata": {}
    },
    {
     "output_type": "display_data",
     "data": {
      "text/plain": [
       "(1, 2, 6)"
      ]
     },
     "metadata": {}
    },
    {
     "output_type": "execute_result",
     "data": {
      "text/plain": [
       "12"
      ]
     },
     "metadata": {},
     "execution_count": 49
    }
   ],
   "metadata": {}
  },
  {
   "cell_type": "markdown",
   "source": [
    "### **Fancier Tensors Reductions, BoardCasting**\r\n",
    "* Map\r\n",
    "* Filter\r\n",
    "* Reduce\r\n",
    "  * Reduce the tensor along a certain dimension, with a binary operator.\r\n",
    "  * If the operator has left/right associated property, use `foldr`  and `foldl` instead. \r\n",
    "  * Reduction might accumulate errors. It's a linear reduction of some kind. \r\n",
    "\r\n",
    "\r\n",
    "* `map`, `map!`, `mapfoldr`, `mapfoldl`, `mapslices`, `mapreduce`, `asyncmap`, `asyncmap!`\r\n",
    "* Map Reduce\r\n",
    "  * Function, binary reduction, and along certain dimension of the tensor. "
   ],
   "metadata": {}
  },
  {
   "cell_type": "code",
   "execution_count": 1,
   "source": [
    "map((x)->x^2, 1:10)"
   ],
   "outputs": [
    {
     "output_type": "execute_result",
     "data": {
      "text/plain": [
       "10-element Vector{Int64}:\n",
       "   1\n",
       "   4\n",
       "   9\n",
       "  16\n",
       "  25\n",
       "  36\n",
       "  49\n",
       "  64\n",
       "  81\n",
       " 100"
      ]
     },
     "metadata": {},
     "execution_count": 1
    }
   ],
   "metadata": {}
  },
  {
   "cell_type": "code",
   "execution_count": 3,
   "source": [
    "f(x) = x^2 + 1\r\n",
    "A = rand(3,3)\r\n",
    "display(A)\r\n",
    "map(f, A)"
   ],
   "outputs": [
    {
     "output_type": "display_data",
     "data": {
      "text/plain": [
       "3×3 Matrix{Float64}:\n",
       " 0.778609  0.330053  0.189242\n",
       " 0.545945  0.123249  0.522528\n",
       " 0.12579   0.285666  0.204248"
      ]
     },
     "metadata": {}
    },
    {
     "output_type": "execute_result",
     "data": {
      "text/plain": [
       "3×3 Matrix{Float64}:\n",
       " 1.60623  1.10893  1.03581\n",
       " 1.29806  1.01519  1.27304\n",
       " 1.01582  1.08161  1.04172"
      ]
     },
     "metadata": {},
     "execution_count": 3
    }
   ],
   "metadata": {}
  },
  {
   "cell_type": "code",
   "execution_count": 9,
   "source": [
    "# inner product in disguise. \r\n",
    "sum(map(*, [1, 2, 3], [1, 2, 3]))"
   ],
   "outputs": [
    {
     "output_type": "execute_result",
     "data": {
      "text/plain": [
       "14"
      ]
     },
     "metadata": {},
     "execution_count": 9
    }
   ],
   "metadata": {}
  },
  {
   "cell_type": "code",
   "execution_count": 8,
   "source": [
    "x = [1, 2, 3]\r\n",
    "display(x)\r\n",
    "reduce((x, y) -> abs(x - y), x)"
   ],
   "outputs": [
    {
     "output_type": "display_data",
     "data": {
      "text/plain": [
       "3-element Vector{Int64}:\n",
       " 1\n",
       " 2\n",
       " 3"
      ]
     },
     "metadata": {}
    },
    {
     "output_type": "execute_result",
     "data": {
      "text/plain": [
       "2"
      ]
     },
     "metadata": {},
     "execution_count": 8
    }
   ],
   "metadata": {}
  },
  {
   "cell_type": "code",
   "execution_count": 4,
   "source": [
    "# map reduce \r\n",
    "mapreduce(x -> x^2, +, [1 2 3; 4 5 6], dims=1)"
   ],
   "outputs": [
    {
     "output_type": "execute_result",
     "data": {
      "text/plain": [
       "1×3 Matrix{Int64}:\n",
       " 17  29  45"
      ]
     },
     "metadata": {},
     "execution_count": 4
    }
   ],
   "metadata": {}
  },
  {
   "cell_type": "code",
   "execution_count": 5,
   "source": [
    "# Filter out elements from a tensor\r\n",
    "out = filter(isodd, [1 2 3; 4 5 6])\r\n",
    "display(out)"
   ],
   "outputs": [
    {
     "output_type": "display_data",
     "data": {
      "text/plain": [
       "3-element Vector{Int64}:\n",
       " 1\n",
       " 5\n",
       " 3"
      ]
     },
     "metadata": {}
    }
   ],
   "metadata": {}
  },
  {
   "cell_type": "markdown",
   "source": [
    "### **Common Reductions Techniques**\r\n",
    "1. maximum\r\n",
    "2. minimum\r\n",
    "3. sum\r\n",
    "4. prod\r\n",
    "5. any \r\n",
    "6. all"
   ],
   "metadata": {}
  },
  {
   "cell_type": "markdown",
   "source": [],
   "metadata": {}
  },
  {
   "cell_type": "code",
   "execution_count": null,
   "source": [],
   "outputs": [],
   "metadata": {}
  },
  {
   "cell_type": "code",
   "execution_count": null,
   "source": [],
   "outputs": [],
   "metadata": {}
  },
  {
   "cell_type": "code",
   "execution_count": null,
   "source": [],
   "outputs": [],
   "metadata": {}
  },
  {
   "cell_type": "markdown",
   "source": [
    "### **Linear Algebra**\r\n",
    "\r\n"
   ],
   "metadata": {}
  },
  {
   "cell_type": "code",
   "execution_count": null,
   "source": [],
   "outputs": [],
   "metadata": {}
  },
  {
   "cell_type": "code",
   "execution_count": null,
   "source": [],
   "outputs": [],
   "metadata": {}
  }
 ],
 "metadata": {
  "orig_nbformat": 4,
  "language_info": {
   "file_extension": ".jl",
   "name": "julia",
   "mimetype": "application/julia",
   "version": "1.6.2"
  },
  "kernelspec": {
   "name": "julia-1.6",
   "display_name": "Julia 1.6.2",
   "language": "julia"
  }
 },
 "nbformat": 4,
 "nbformat_minor": 2
}