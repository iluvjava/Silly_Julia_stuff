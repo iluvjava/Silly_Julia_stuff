{
 "cells": [
  {
   "cell_type": "markdown",
   "source": [
    "### **Intro**\r\n",
    "\r\n",
    "Here, we will be introducing some GOTCHAS for variables and their operations. and we are skipping the basic stuff and will only look at the quirky stuff. \r\n",
    "\r\n",
    "* Chained Operations and new lines. "
   ],
   "metadata": {}
  },
  {
   "cell_type": "code",
   "execution_count": 2,
   "source": [
    "s = 1 + 2 + 3 +    # write like this\r\n",
    "    4 + 5\r\n",
    "display(s)\r\n",
    "s = 1 + 2 + 3      # never do this \r\n",
    "    + 4 + 5\r\n",
    "display(s)\r\n"
   ],
   "outputs": [
    {
     "data": {
      "text/plain": [
       "15"
      ]
     },
     "metadata": {},
     "output_type": "display_data"
    },
    {
     "data": {
      "text/plain": [
       "6"
      ]
     },
     "metadata": {},
     "output_type": "display_data"
    }
   ],
   "metadata": {}
  },
  {
   "cell_type": "markdown",
   "source": [],
   "metadata": {}
  },
  {
   "cell_type": "markdown",
   "source": [
    "### **Basic Types in Julia (Not including arrays and numbers)**\r\n",
    "* set\r\n",
    "* vector\r\n",
    "* dictionary\r\n",
    "* string"
   ],
   "metadata": {}
  },
  {
   "cell_type": "code",
   "execution_count": null,
   "source": [],
   "outputs": [],
   "metadata": {}
  }
 ],
 "metadata": {
  "orig_nbformat": 4,
  "language_info": {
   "file_extension": ".jl",
   "name": "julia",
   "mimetype": "application/julia",
   "version": "1.6.2"
  },
  "kernelspec": {
   "name": "julia-1.6",
   "display_name": "Julia 1.6.2",
   "language": "julia"
  }
 },
 "nbformat": 4,
 "nbformat_minor": 2
}