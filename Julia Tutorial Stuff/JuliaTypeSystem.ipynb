{
 "cells": [
  {
   "cell_type": "markdown",
   "source": [
    "## **Type System in Julia** \r\n",
    "\r\n",
    "We are going to investigate the Julia Type and casting system in this file. \r\n",
    "\r\n",
    "When doing typing, we need to becareful about Parametric Types, how they works are important. "
   ],
   "metadata": {}
  },
  {
   "cell_type": "code",
   "execution_count": 14,
   "source": [
    "# Hiearchy of the primitive types\r\n",
    "display(Float64 <: Number)\r\n",
    "display(Float64 <: Complex)\r\n",
    "display(Int64 <: Float64)\r\n",
    "display(Vector <: Array)"
   ],
   "outputs": [
    {
     "output_type": "display_data",
     "data": {
      "text/plain": [
       "true"
      ]
     },
     "metadata": {}
    },
    {
     "output_type": "display_data",
     "data": {
      "text/plain": [
       "false"
      ]
     },
     "metadata": {}
    },
    {
     "output_type": "display_data",
     "data": {
      "text/plain": [
       "false"
      ]
     },
     "metadata": {}
    },
    {
     "output_type": "display_data",
     "data": {
      "text/plain": [
       "true"
      ]
     },
     "metadata": {}
    }
   ],
   "metadata": {}
  },
  {
   "cell_type": "code",
   "execution_count": 9,
   "source": [
    "# Casting for Primitive Types: convert(targetType, instance)\r\n",
    "x = convert(Int64, 3.0) # Successful \r\n",
    "x = convert(Int64, 3.5) # Not good\r\n"
   ],
   "outputs": [
    {
     "output_type": "error",
     "ename": "LoadError",
     "evalue": "InexactError: Int64(3.5)",
     "traceback": [
      "InexactError: Int64(3.5)",
      "",
      "Stacktrace:",
      " [1] Int64",
      "   @ .\\float.jl:723 [inlined]",
      " [2] convert(#unused#::Type{Int64}, x::Float64)",
      "   @ Base .\\number.jl:7",
      " [3] top-level scope",
      "   @ In[9]:3",
      " [4] eval",
      "   @ .\\boot.jl:360 [inlined]",
      " [5] include_string(mapexpr::typeof(REPL.softscope), mod::Module, code::String, filename::String)",
      "   @ Base .\\loading.jl:1116"
     ]
    }
   ],
   "metadata": {}
  },
  {
   "cell_type": "code",
   "execution_count": 12,
   "source": [
    "# Parametric Type casting \r\n",
    "x = Array{Int64}(undef, 3, 3)\r\n",
    "y = convert(Array{Float64}, x)\r\n",
    "display(y)\r\n",
    "z = convert(Array{Complex}, x)\r\n",
    "# Don't use these method too much it's slow. "
   ],
   "outputs": [
    {
     "output_type": "display_data",
     "data": {
      "text/plain": [
       "3×3 Matrix{Float64}:\n",
       " 0.0  0.0  0.0\n",
       " 0.0  0.0  0.0\n",
       " 0.0  0.0  0.0"
      ]
     },
     "metadata": {}
    },
    {
     "output_type": "execute_result",
     "data": {
      "text/plain": [
       "3×3 Matrix{Complex}:\n",
       " 0+0im  0+0im  0+0im\n",
       " 0+0im  0+0im  0+0im\n",
       " 0+0im  0+0im  0+0im"
      ]
     },
     "metadata": {},
     "execution_count": 12
    }
   ],
   "metadata": {}
  },
  {
   "cell_type": "code",
   "execution_count": 16,
   "source": [
    "# Parametric Composite Types, \r\n",
    "# the Inner Type must be equal then the outter type determine Hiearchy. \r\n",
    "display(Array{Int64} <: Array{Int64})\r\n",
    "display(Vector{Int64} <: Array{Int64})\r\n"
   ],
   "outputs": [
    {
     "output_type": "display_data",
     "data": {
      "text/plain": [
       "true"
      ]
     },
     "metadata": {}
    },
    {
     "output_type": "display_data",
     "data": {
      "text/plain": [
       "true"
      ]
     },
     "metadata": {}
    }
   ],
   "metadata": {}
  },
  {
   "cell_type": "code",
   "execution_count": null,
   "source": [],
   "outputs": [],
   "metadata": {}
  }
 ],
 "metadata": {
  "orig_nbformat": 4,
  "language_info": {
   "file_extension": ".jl",
   "name": "julia",
   "mimetype": "application/julia",
   "version": "1.6.2"
  },
  "kernelspec": {
   "name": "julia-1.6",
   "display_name": "Julia 1.6.2",
   "language": "julia"
  }
 },
 "nbformat": 4,
 "nbformat_minor": 2
}