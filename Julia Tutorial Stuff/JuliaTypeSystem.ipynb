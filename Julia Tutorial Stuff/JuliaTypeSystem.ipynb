{
 "cells": [
  {
   "cell_type": "markdown",
   "source": [
    "## **Type System in Julia** \r\n",
    "\r\n",
    "We are going to investigate the Julia Type and casting system in this file. \r\n",
    "\r\n",
    "There are 2 types of type in julia\r\n",
    "* Types that are type by itself. \r\n",
    "* Types that are paramaterized by another type. \r\n",
    "\r\n",
    "When doing typing, we need to becareful about Parametric Types, how they works are important. \r\n",
    "\r\n",
    "* Subtypes \r\n",
    "* Type conversion \r\n",
    "* Parametric Types\r\n",
    "* Paramaterized parametric types and subtypes. \r\n",
    "* THERE ARE NO TYPE PROMOTIONS IN JULIA\r\n",
    "  * This is achieved via parametric types of function parameters, and, method overriding. \r\n",
    "\r\n",
    "\r\n",
    "Functions dispatch are based on **Subtyping**, no promotions or conversion is involved. Voided type declarations is default to type `Any`. "
   ],
   "metadata": {}
  },
  {
   "cell_type": "code",
   "execution_count": 14,
   "source": [
    "# Hiearchy of the primitive types\r\n",
    "display(Float64 <: Number)\r\n",
    "display(Float64 <: Complex)\r\n",
    "display(Int64 <: Float64)\r\n",
    "display(Vector <: Array)"
   ],
   "outputs": [
    {
     "output_type": "display_data",
     "data": {
      "text/plain": [
       "true"
      ]
     },
     "metadata": {}
    },
    {
     "output_type": "display_data",
     "data": {
      "text/plain": [
       "false"
      ]
     },
     "metadata": {}
    },
    {
     "output_type": "display_data",
     "data": {
      "text/plain": [
       "false"
      ]
     },
     "metadata": {}
    },
    {
     "output_type": "display_data",
     "data": {
      "text/plain": [
       "true"
      ]
     },
     "metadata": {}
    }
   ],
   "metadata": {}
  },
  {
   "cell_type": "code",
   "execution_count": 9,
   "source": [
    "# Casting for Primitive Types: convert(targetType, instance)\r\n",
    "x = convert(Int64, 3.0) # Successful \r\n",
    "x = convert(Int64, 3.5) # Not good"
   ],
   "outputs": [
    {
     "output_type": "error",
     "ename": "LoadError",
     "evalue": "InexactError: Int64(3.5)",
     "traceback": [
      "InexactError: Int64(3.5)",
      "",
      "Stacktrace:",
      " [1] Int64",
      "   @ .\\float.jl:723 [inlined]",
      " [2] convert(#unused#::Type{Int64}, x::Float64)",
      "   @ Base .\\number.jl:7",
      " [3] top-level scope",
      "   @ In[9]:3",
      " [4] eval",
      "   @ .\\boot.jl:360 [inlined]",
      " [5] include_string(mapexpr::typeof(REPL.softscope), mod::Module, code::String, filename::String)",
      "   @ Base .\\loading.jl:1116"
     ]
    }
   ],
   "metadata": {}
  },
  {
   "cell_type": "code",
   "execution_count": 1,
   "source": [
    "# Parametric Type casting \r\n",
    "x = Array{Int64}(undef, 3, 3)\r\n",
    "y = convert(Array{Float64}, x)\r\n",
    "display(y)\r\n",
    "z = convert(Array{Complex}, x)\r\n",
    "# Don't use these method too much it's slow. "
   ],
   "outputs": [
    {
     "output_type": "display_data",
     "data": {
      "text/plain": [
       "3×3 Matrix{Float64}:\n",
       " 4.87804e8  4.87805e8  4.53295e8\n",
       " 4.87804e8  3.19098e8  4.52487e8\n",
       " 4.87804e8  4.53428e8  4.88171e8"
      ]
     },
     "metadata": {}
    },
    {
     "output_type": "execute_result",
     "data": {
      "text/plain": [
       "3×3 Matrix{Complex}:\n",
       " 487804432+0im  487804528+0im  453295376+0im\n",
       " 487804464+0im  319098416+0im  452487440+0im\n",
       " 487804496+0im  453428336+0im  488171280+0im"
      ]
     },
     "metadata": {},
     "execution_count": 1
    }
   ],
   "metadata": {}
  },
  {
   "cell_type": "code",
   "execution_count": 2,
   "source": [
    "# Parametric Composite Types, \r\n",
    "# the Inner Type must be equal then the outter type determine Hiearchy. \r\n",
    "display(Array{Int64} <: Array{Int64})\r\n",
    "display(Vector{Int64} <: Array{Int64})\r\n",
    "\r\n"
   ],
   "outputs": [
    {
     "output_type": "display_data",
     "data": {
      "text/plain": [
       "true"
      ]
     },
     "metadata": {}
    },
    {
     "output_type": "display_data",
     "data": {
      "text/plain": [
       "true"
      ]
     },
     "metadata": {}
    }
   ],
   "metadata": {}
  },
  {
   "cell_type": "code",
   "execution_count": 24,
   "source": [
    "# Unequal inner types breaks typing for the container\r\n",
    "display(Array{Int64} <: Array{Number})\r\n",
    "display(Vector{Int64} <: Array{Int64})\r\n",
    "display(Vector{Int64} <: Array{Number})\r\n",
    "display(Vector{Int64} <: Array)\r\n",
    "# Not even any can help\r\n",
    "display(Vector{Int64} <: Array{Any})\r\n",
    "display(Vector <: Array{Any})\r\n"
   ],
   "outputs": [
    {
     "output_type": "display_data",
     "data": {
      "text/plain": [
       "false"
      ]
     },
     "metadata": {}
    },
    {
     "output_type": "display_data",
     "data": {
      "text/plain": [
       "true"
      ]
     },
     "metadata": {}
    },
    {
     "output_type": "display_data",
     "data": {
      "text/plain": [
       "false"
      ]
     },
     "metadata": {}
    },
    {
     "output_type": "display_data",
     "data": {
      "text/plain": [
       "true"
      ]
     },
     "metadata": {}
    },
    {
     "output_type": "display_data",
     "data": {
      "text/plain": [
       "false"
      ]
     },
     "metadata": {}
    },
    {
     "output_type": "display_data",
     "data": {
      "text/plain": [
       "false"
      ]
     },
     "metadata": {}
    }
   ],
   "metadata": {}
  },
  {
   "cell_type": "markdown",
   "source": [
    "**A Guess on the Rules here**\r\n",
    "\r\n",
    "Compare the inner paramatric type first, if it's matching (Like exactly), then it will compare the outer container type. \r\n",
    "\r\n",
    "A voided parametric type is a pass for comparing the inner types. \r\n",
    "\r\n",
    "To make a parametric type that contains a lot of other parametric type, we need to paramaterized the paramatric type. "
   ],
   "metadata": {}
  },
  {
   "cell_type": "code",
   "execution_count": 30,
   "source": [
    "function IsNumericalVector(arr::Vector{T}) where {T<: Number}\r\n",
    "    println(\"Good, it's a numerical Vector\")\r\n",
    "end"
   ],
   "outputs": [
    {
     "output_type": "execute_result",
     "data": {
      "text/plain": [
       "IsNumericalVector (generic function with 1 method)"
      ]
     },
     "metadata": {},
     "execution_count": 30
    }
   ],
   "metadata": {}
  },
  {
   "cell_type": "code",
   "execution_count": 34,
   "source": [
    "arr = Vector{Int64}(undef, 3)\r\n",
    "IsNumericalVector(arr)\r\n",
    "arr = Vector{Complex{Int64}}(undef, 3)\r\n",
    "IsNumericalVector(arr)\r\n",
    "arr = Vector{Array}(undef, 3) # Parametric type not a subtype of Number\r\n",
    "IsNumericalVector(arr)\r\n"
   ],
   "outputs": [
    {
     "output_type": "stream",
     "name": "stdout",
     "text": [
      "Good, it's a numerical Vector\n",
      "Good, it's a numerical Vector\n"
     ]
    },
    {
     "output_type": "error",
     "ename": "LoadError",
     "evalue": "MethodError: no method matching IsNumericalVector(::Vector{Array})\n\u001b[0mClosest candidates are:\n\u001b[0m  IsNumericalVector(\u001b[91m::Vector{T}\u001b[39m) where T<:Number at In[30]:1",
     "traceback": [
      "MethodError: no method matching IsNumericalVector(::Vector{Array})\n\u001b[0mClosest candidates are:\n\u001b[0m  IsNumericalVector(\u001b[91m::Vector{T}\u001b[39m) where T<:Number at In[30]:1",
      "",
      "Stacktrace:",
      " [1] top-level scope",
      "   @ In[34]:6",
      " [2] eval",
      "   @ .\\boot.jl:360 [inlined]",
      " [3] include_string(mapexpr::typeof(REPL.softscope), mod::Module, code::String, filename::String)",
      "   @ Base .\\loading.jl:1116"
     ]
    }
   ],
   "metadata": {}
  },
  {
   "cell_type": "code",
   "execution_count": 1,
   "source": [
    "# One last thing: \r\n",
    "display(Array{Int64} <: Array{T} where {T<:Number})\r\n",
    "\r\n",
    "display(Array{Int64} <: Array{<:Number})"
   ],
   "outputs": [
    {
     "output_type": "display_data",
     "data": {
      "text/plain": [
       "true"
      ]
     },
     "metadata": {}
    },
    {
     "output_type": "display_data",
     "data": {
      "text/plain": [
       "true"
      ]
     },
     "metadata": {}
    }
   ],
   "metadata": {}
  },
  {
   "cell_type": "code",
   "execution_count": 5,
   "source": [
    "# containers without parametric types\r\n",
    "display(typeof(Array))\r\n",
    "# The output is UnionAll it's because this is a constructor\r\n",
    "dump(Array)"
   ],
   "outputs": [
    {
     "output_type": "display_data",
     "data": {
      "text/plain": [
       "UnionAll"
      ]
     },
     "metadata": {}
    },
    {
     "output_type": "stream",
     "name": "stdout",
     "text": [
      "UnionAll\n",
      "  var: TypeVar\n",
      "    name: Symbol T\n",
      "    lb: Union{}\n",
      "    ub: Any\n",
      "  body: UnionAll\n",
      "    var: TypeVar\n",
      "      name: Symbol N\n",
      "      lb: Union{}\n",
      "      ub: Any\n",
      "    body: Array{T, N} <: DenseArray{T, N}\n"
     ]
    }
   ],
   "metadata": {}
  },
  {
   "cell_type": "code",
   "execution_count": 10,
   "source": [
    "display(typeof([]))\r\n",
    "# Empty vector has the potential to be anyelement\r\n",
    "display(typeof([1.2, 3, 3]))"
   ],
   "outputs": [
    {
     "output_type": "display_data",
     "data": {
      "text/plain": [
       "Vector{Any} (alias for Array{Any, 1})"
      ]
     },
     "metadata": {}
    },
    {
     "output_type": "display_data",
     "data": {
      "text/plain": [
       "Vector{Float64} (alias for Array{Float64, 1})"
      ]
     },
     "metadata": {}
    }
   ],
   "metadata": {}
  },
  {
   "cell_type": "code",
   "execution_count": 17,
   "source": [
    "# There are NO AUTOMATIC PROMOTIONS IN JULIA"
   ],
   "outputs": [
    {
     "output_type": "execute_result",
     "data": {
      "text/plain": [
       "\",1:3 \""
      ]
     },
     "metadata": {},
     "execution_count": 17
    }
   ],
   "metadata": {}
  },
  {
   "cell_type": "markdown",
   "source": [
    "### **Meta Programming and Types**\r\n",
    "\r\n",
    "* `subtypes()` is a function that returns the subtype of a given type, it goes down by one leve. \r\n"
   ],
   "metadata": {}
  },
  {
   "cell_type": "code",
   "execution_count": 7,
   "source": [
    "# a function that prints types hiearchy\r\n",
    "function SubTypeTree(t, level=1, indent=4)\r\n",
    "    level == 1 && println(t)\r\n",
    "    for s in subtypes(t)\r\n",
    "      println(join(fill(\" \", level * indent)) * string(s))\r\n",
    "      SubTypeTree(s, level+1, indent)\r\n",
    "    end\r\n",
    "end"
   ],
   "outputs": [
    {
     "output_type": "execute_result",
     "data": {
      "text/plain": [
       "SubTypeTree (generic function with 3 methods)"
      ]
     },
     "metadata": {},
     "execution_count": 7
    }
   ],
   "metadata": {}
  },
  {
   "cell_type": "code",
   "execution_count": 9,
   "source": [
    "# Visualize all non-container types. \r\n",
    "SubTypeTree(Number)"
   ],
   "outputs": [
    {
     "output_type": "stream",
     "name": "stdout",
     "text": [
      "Number\n",
      "    Complex\n",
      "    Real\n",
      "        AbstractFloat\n",
      "            BigFloat\n",
      "            Float16\n",
      "            Float32\n",
      "            Float64\n",
      "        AbstractIrrational\n",
      "            Irrational\n",
      "        Integer\n",
      "            Bool\n",
      "            Signed\n",
      "                BigInt\n",
      "                Int128\n",
      "                Int16\n",
      "                Int32\n",
      "                Int64\n",
      "                Int8\n",
      "            Unsigned\n",
      "                UInt128\n",
      "                UInt16\n",
      "                UInt32\n",
      "                UInt64\n",
      "                UInt8\n",
      "        Rational\n",
      "Complex{var\"#s28\"} where var\"#s28\"<:Number\n"
     ]
    }
   ],
   "metadata": {}
  },
  {
   "cell_type": "code",
   "execution_count": 10,
   "source": [
    "SubTypeTree(AbstractArray)"
   ],
   "outputs": [
    {
     "output_type": "stream",
     "name": "stdout",
     "text": [
      "AbstractArray\n",
      "    AbstractRange\n",
      "        LinRange\n",
      "        OrdinalRange\n",
      "            AbstractUnitRange\n",
      "                Base.IdentityUnitRange\n",
      "                Base.OneTo\n",
      "                Base.Slice\n",
      "                UnitRange\n",
      "            StepRange\n",
      "        StepRangeLen\n",
      "    Base.LogicalIndex\n",
      "    Base.ReinterpretArray\n",
      "    Base.ReshapedArray\n",
      "    Base.SCartesianIndices2\n",
      "    BitArray\n",
      "    CartesianIndices\n",
      "    Core.Compiler.AbstractRange\n",
      "        Core.Compiler.LinRange\n",
      "        Core.Compiler.OrdinalRange\n",
      "            Core.Compiler.AbstractUnitRange\n",
      "                Core.Compiler.IdentityUnitRange\n",
      "                Core.Compiler.OneTo\n",
      "                Core.Compiler.Slice\n",
      "                Core.Compiler.StmtRange\n",
      "                Core.Compiler.UnitRange\n",
      "            Core.Compiler.StepRange\n",
      "        Core.Compiler.StepRangeLen\n",
      "    Core.Compiler.BitArray\n",
      "    Core.Compiler.LinearIndices\n",
      "    DenseArray\n",
      "        Array\n",
      "        Base.CodeUnits\n",
      "        Base.Experimental.Const\n",
      "        Random.UnsafeView\n",
      "        SharedArrays.SharedArray\n",
      "        SuiteSparse.CHOLMOD.Dense\n",
      "    LinearAlgebra.AbstractQ\n",
      "        LinearAlgebra.HessenbergQ\n",
      "        LinearAlgebra.QRCompactWYQ\n",
      "        LinearAlgebra.QRPackedQ\n",
      "        SuiteSparse.SPQR.QRSparseQ\n",
      "    LinearAlgebra.AbstractTriangular\n",
      "        LinearAlgebra.LowerTriangular\n",
      "        LinearAlgebra.UnitLowerTriangular\n",
      "        LinearAlgebra.UnitUpperTriangular\n",
      "        LinearAlgebra.UpperTriangular\n",
      "    LinearAlgebra.Adjoint\n",
      "    LinearAlgebra.Bidiagonal\n",
      "    LinearAlgebra.Diagonal\n",
      "    LinearAlgebra.Hermitian\n",
      "    LinearAlgebra.LQPackedQ\n",
      "    LinearAlgebra.SymTridiagonal\n",
      "    LinearAlgebra.Symmetric\n",
      "    LinearAlgebra.Transpose\n",
      "    LinearAlgebra.Tridiagonal\n",
      "    LinearAlgebra.UpperHessenberg\n",
      "    LinearIndices\n",
      "    PermutedDimsArray\n",
      "    SparseArrays.AbstractSparseArray\n",
      "        SparseArrays.AbstractSparseMatrixCSC\n",
      "            SparseArrays.SparseMatrixCSC\n",
      "        SparseArrays.SparseVector\n",
      "        SuiteSparse.CHOLMOD.Sparse\n",
      "    SubArray\n",
      "    SuiteSparse.CHOLMOD.FactorComponent\n",
      "    Test.GenericArray\n",
      "    ZMQ.Message\n"
     ]
    }
   ],
   "metadata": {}
  },
  {
   "cell_type": "code",
   "execution_count": 7,
   "source": [
    "# Don't call the function on type: Any"
   ],
   "outputs": [],
   "metadata": {}
  },
  {
   "cell_type": "markdown",
   "source": [
    "### **Variable Types for Local Variables**\r\n",
    "\r\n",
    "* Global variable doesn't support typing\r\n",
    "* Only local varaible can be declared with types. "
   ],
   "metadata": {}
  }
 ],
 "metadata": {
  "orig_nbformat": 4,
  "language_info": {
   "file_extension": ".jl",
   "name": "julia",
   "mimetype": "application/julia",
   "version": "1.6.2"
  },
  "kernelspec": {
   "name": "julia-1.6",
   "display_name": "Julia 1.6.2",
   "language": "julia"
  }
 },
 "nbformat": 4,
 "nbformat_minor": 2
}