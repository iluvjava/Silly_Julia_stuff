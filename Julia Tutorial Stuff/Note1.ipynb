{
 "metadata": {
  "language_info": {
   "file_extension": ".jl",
   "name": "julia",
   "mimetype": "application/julia",
   "version": "1.6.2"
  },
  "orig_nbformat": 2,
  "kernelspec": {
   "name": "julia-1.6",
   "display_name": "Julia 1.6.2",
   "language": "julia"
  }
 },
 "nbformat": 4,
 "nbformat_minor": 2,
 "cells": [
  {
   "cell_type": "markdown",
   "source": [
    "Welcome, this is going to be a quick reference sheet whenever I go back to Julia and want to review and quickly start making stuff again. \r\n",
    "\r\n",
    "It's also made with the intentions to teach myself, systematically. \r\n",
    "\r\n",
    "[here](http://ucidatascienceinitiative.github.io/IntroToJulia/),  \\<A Deep Introduction to Julia\\>\r\n",
    "\r\n"
   ],
   "metadata": {}
  },
  {
   "cell_type": "markdown",
   "source": [
    "### **Standard Tricks and How to Help Yourself**\r\n",
    "`methodswith()`, `methods()`, `fieldsnames()`, `@which copy()`\r\n",
    "We are addressing questions like: \r\n",
    "* What are the methods that are associated with a particular type? \r\n",
    "* That are the methods bind to a particular type? \r\n",
    "* Which is function is called when I execute this command? \r\n",
    "* What is the type of this variable/entity/literal? \r\n"
   ],
   "metadata": {}
  },
  {
   "cell_type": "code",
   "execution_count": null,
   "source": [
    "# Check functions associated with a Julia Type. \r\n",
    "methodswith(AbstractArray)\r\n"
   ],
   "outputs": [],
   "metadata": {}
  },
  {
   "cell_type": "code",
   "execution_count": null,
   "source": [
    "# Query a methd defined for a operator, say, plus, \r\n",
    "# we can Query for the name of the method too. \r\n",
    "methods(+)\r\n",
    "\r\n"
   ],
   "outputs": [],
   "metadata": {}
  },
  {
   "cell_type": "code",
   "execution_count": 6,
   "source": [
    "# Exam fields of a given type\r\n",
    "fieldnames(UnitRange)"
   ],
   "outputs": [
    {
     "output_type": "execute_result",
     "data": {
      "text/plain": [
       "(:start, :stop)"
      ]
     },
     "metadata": {},
     "execution_count": 6
    }
   ],
   "metadata": {}
  },
  {
   "cell_type": "code",
   "execution_count": 7,
   "source": [
    "# Find what method is used when it's called on an instance of some types: \r\n",
    "@which copy([1, 2, 3])"
   ],
   "outputs": [
    {
     "output_type": "execute_result",
     "data": {
      "text/plain": [
       "copy(a::T) where T<:Array in Base at array.jl:349"
      ],
      "text/html": [
       "copy(a::<b>T</b>)<i> where T<:Array</i> in Base at <a href=\"https://github.com/JuliaLang/julia/tree/1b93d53fc4bb59350ada898038ed4de2994cce33/base/array.jl#L349\" target=\"_blank\">array.jl:349</a>"
      ]
     },
     "metadata": {},
     "execution_count": 7
    }
   ],
   "metadata": {}
  },
  {
   "cell_type": "code",
   "execution_count": 8,
   "source": [
    "# Check type \r\n",
    "typeof([1, 2, 3])"
   ],
   "outputs": [
    {
     "output_type": "execute_result",
     "data": {
      "text/plain": [
       "Vector{Int64} (alias for Array{Int64, 1})"
      ]
     },
     "metadata": {},
     "execution_count": 8
    }
   ],
   "metadata": {}
  },
  {
   "cell_type": "markdown",
   "source": [
    "### **Arrays Basics**\r\n",
    "\r\n",
    "* Making Arrays with types and `udef` init. \r\n",
    "* Indexing with `[]` and it starts with 1.\r\n",
    "* Making reference to a whole array.\r\n",
    "* Slicing is Copying subarray. \r\n",
    "* Copy an simple array.\r\n",
    "* Deepcopy a nested array.\r\n"
   ],
   "metadata": {}
  },
  {
   "cell_type": "code",
   "execution_count": 18,
   "source": [
    "# Making Arrays\r\n",
    "a = Vector{Float64}(undef, 3) # undef sets everything to smallest float value. \r\n",
    "println(a)\r\n",
    "a = Vector{Int64}(undef, 3) # different type \r\n",
    "println(a)\r\n",
    "a = [1 2\r\n",
    "     3 4] # Literal Initialization of a matrix\r\n",
    "println(a)\r\n",
    "typeof(a)\r\n"
   ],
   "outputs": [
    {
     "output_type": "stream",
     "name": "stdout",
     "text": [
      "[5.0e-324, 5.0e-324, 1.012029595e-314]\n",
      "[1, 1, 0]\n",
      "[1 2; 3 4]\n"
     ]
    },
    {
     "output_type": "execute_result",
     "data": {
      "text/plain": [
       "Matrix{Int64} (alias for Array{Int64, 2})"
      ]
     },
     "metadata": {},
     "execution_count": 18
    }
   ],
   "metadata": {}
  },
  {
   "cell_type": "code",
   "execution_count": 20,
   "source": [
    "# Array indexing. \r\n",
    "a = [1, 2]\r\n",
    "a[1] = 0\r\n",
    "println(a)"
   ],
   "outputs": [
    {
     "output_type": "stream",
     "name": "stdout",
     "text": [
      "[0, 2]\n"
     ]
    }
   ],
   "metadata": {}
  },
  {
   "cell_type": "code",
   "execution_count": 23,
   "source": [
    "# Taking Reference of a whole array. \r\n",
    "a = [1, 2]\r\n",
    "b = a\r\n",
    "b[1] = 0\r\n",
    "println(a)"
   ],
   "outputs": [
    {
     "output_type": "stream",
     "name": "stdout",
     "text": [
      "[0, 2]\n"
     ]
    }
   ],
   "metadata": {}
  },
  {
   "cell_type": "code",
   "execution_count": 32,
   "source": [
    "# Array slicing, slicing is deep copying. \r\n",
    "a = [1 2 3\r\n",
    "     4 5 6\r\n",
    "     7 8 9]\r\n",
    "println(a[1:2, 1:2])\r\n",
    "b = a[1:2, 1:end]\r\n",
    "println(b)\r\n",
    "b[1, 1] = 0\r\n",
    "println(a)\r\n"
   ],
   "outputs": [
    {
     "output_type": "stream",
     "name": "stdout",
     "text": [
      "[1 2; 4 5]\n",
      "[1 2 3; 4 5 6]\n",
      "[1 2 3; 4 5 6; 7 8 9]\n"
     ]
    }
   ],
   "metadata": {}
  },
  {
   "cell_type": "code",
   "execution_count": 41,
   "source": [
    "# zagged nested array \r\n",
    "a = Array{Array{Int32}}(undef, 3)\r\n",
    "a[1] = [1]\r\n",
    "a[2] = [1, 2]\r\n",
    "a[3] = [1, 2, 3]\r\n",
    "println(a)\r\n",
    "# To make copy, use deepcopy()\r\n",
    "aDeep = deepcopy(a)\r\n",
    "aShallow = copy(a)\r\n",
    "aDeep[1][1] = -1\r\n",
    "println(\"Deep nested copy, No changes involved\")\r\n",
    "println(a)\r\n",
    "aShallow[1][1] = -1 \r\n",
    "println(\"Shallow copy just take the reference of the inner arrays.\")\r\n",
    "println(a)\r\n"
   ],
   "outputs": [
    {
     "output_type": "stream",
     "name": "stdout",
     "text": [
      "Array{Int32, N} where N[[1], [1, 2], [1, 2, 3]]\n",
      "Deep nested copy, No changes involved\n",
      "Array{Int32, N} where N[[1], [1, 2], [1, 2, 3]]\n",
      "Shallow copy just take the reference of the inner arrays.\n",
      "Array{Int32, N} where N[[-1], [1, 2], [1, 2, 3]]\n"
     ]
    }
   ],
   "metadata": {}
  },
  {
   "cell_type": "code",
   "execution_count": 48,
   "source": [
    "# size of the array, shape of the array, and dimension of the array. \r\n",
    "a = [1, 2, 3]\r\n",
    "println(size(a))\r\n",
    "println(typeof(size(a)))\r\n",
    "a = [1 2\r\n",
    "     3 4]\r\n",
    "println(size(a)) # shape\r\n",
    "println(length(size(a))) # dimension\r\n"
   ],
   "outputs": [
    {
     "output_type": "stream",
     "name": "stdout",
     "text": [
      "(3,)\n",
      "Tuple{Int64}\n",
      "(2, 2)\n",
      "2\n"
     ]
    }
   ],
   "metadata": {}
  },
  {
   "cell_type": "markdown",
   "source": [
    "### **Function Basics**\r\n",
    "* using mutating array for array copying. \r\n",
    "\r\n"
   ],
   "metadata": {}
  },
  {
   "cell_type": "markdown",
   "source": [],
   "metadata": {}
  },
  {
   "cell_type": "code",
   "execution_count": 50,
   "source": [
    "# If there already exists resource for a array that is going to be copied, consider mutating \r\n",
    "# functions\r\n",
    "source = [1, 2, 3]\r\n",
    "target = similar(source) # make b the same shape as a\r\n",
    "copyto!(target, source) \r\n",
    "println(target)\r\n",
    "\r\n"
   ],
   "outputs": [
    {
     "output_type": "stream",
     "name": "stdout",
     "text": [
      "[1, 2, 3]\n"
     ]
    }
   ],
   "metadata": {}
  },
  {
   "cell_type": "markdown",
   "source": [
    "### **Control Flow**\r\n",
    "\r\n"
   ],
   "metadata": {}
  },
  {
   "cell_type": "code",
   "execution_count": null,
   "source": [
    "# basic "
   ],
   "outputs": [],
   "metadata": {}
  },
  {
   "cell_type": "code",
   "execution_count": null,
   "source": [],
   "outputs": [],
   "metadata": {}
  }
 ]
}