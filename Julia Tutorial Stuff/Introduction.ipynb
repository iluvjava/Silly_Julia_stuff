{
 "metadata": {
  "language_info": {
   "file_extension": ".jl",
   "name": "julia",
   "mimetype": "application/julia",
   "version": "1.6.2"
  },
  "orig_nbformat": 2,
  "kernelspec": {
   "name": "julia-1.6",
   "display_name": "Julia 1.6.2",
   "language": "julia"
  }
 },
 "nbformat": 4,
 "nbformat_minor": 2,
 "cells": [
  {
   "cell_type": "markdown",
   "source": [
    "Welcome, this is going to be a quick reference sheet whenever I go back to Julia and want to review and quickly start making stuff again. \r\n",
    "\r\n",
    "It's also made with the intentions to teach myself, systematically. \r\n",
    "\r\n",
    "[here](http://ucidatascienceinitiative.github.io/IntroToJulia/),  \\<A Deep Introduction to Julia\\>\r\n",
    "\r\n",
    "Julia Documentation [here](https://docs.julialang.org/en/v1/)\r\n",
    "\r\n"
   ],
   "metadata": {}
  },
  {
   "cell_type": "markdown",
   "source": [
    "### **Standard Tricks and How to Help Yourself**\r\n",
    "`methodswith()`, `methods()`, `fieldsnames()`, `@which copy()`\r\n",
    "We are addressing questions like: \r\n",
    "* What are the methods that are associated with a particular type? \r\n",
    "* That are the methods bind to a particular type? \r\n",
    "* Which is function is called when I execute this command? \r\n",
    "* What is the type of this variable/entity/literal? \r\n",
    "* What is a symbol? \r\n"
   ],
   "metadata": {}
  },
  {
   "cell_type": "code",
   "execution_count": null,
   "source": [
    "# Check functions associated with a Julia Type. \r\n",
    "methodswith(AbstractArray)\r\n"
   ],
   "outputs": [],
   "metadata": {}
  },
  {
   "cell_type": "code",
   "execution_count": null,
   "source": [
    "# Query a methd defined for a operator, say, plus, \r\n",
    "# we can Query for the name of the method too. \r\n",
    "methods(+)\r\n",
    "\r\n"
   ],
   "outputs": [],
   "metadata": {}
  },
  {
   "cell_type": "code",
   "execution_count": 6,
   "source": [
    "# Exam fields of a given type\r\n",
    "fieldnames(UnitRange)"
   ],
   "outputs": [
    {
     "output_type": "execute_result",
     "data": {
      "text/plain": [
       "(:start, :stop)"
      ]
     },
     "metadata": {},
     "execution_count": 6
    }
   ],
   "metadata": {}
  },
  {
   "cell_type": "code",
   "execution_count": 7,
   "source": [
    "# Find what method is used when it's called on an instance of some types: \r\n",
    "@which copy([1, 2, 3])"
   ],
   "outputs": [
    {
     "output_type": "execute_result",
     "data": {
      "text/plain": [
       "copy(a::T) where T<:Array in Base at array.jl:349"
      ],
      "text/html": [
       "copy(a::<b>T</b>)<i> where T<:Array</i> in Base at <a href=\"https://github.com/JuliaLang/julia/tree/1b93d53fc4bb59350ada898038ed4de2994cce33/base/array.jl#L349\" target=\"_blank\">array.jl:349</a>"
      ]
     },
     "metadata": {},
     "execution_count": 7
    }
   ],
   "metadata": {}
  },
  {
   "cell_type": "code",
   "execution_count": 8,
   "source": [
    "# Check type \r\n",
    "typeof([1, 2, 3])"
   ],
   "outputs": [
    {
     "output_type": "execute_result",
     "data": {
      "text/plain": [
       "Vector{Int64} (alias for Array{Int64, 1})"
      ]
     },
     "metadata": {},
     "execution_count": 8
    }
   ],
   "metadata": {}
  },
  {
   "cell_type": "code",
   "execution_count": 67,
   "source": [
    "# Symbol is something meta, nore on that later I think. \r\n",
    "sym = :Twilight\r\n",
    "typeof(sym) \r\n",
    "dump(sym)\r\n",
    "sym = :(foo = \"bar\")\r\n",
    "dump(sym)"
   ],
   "outputs": [
    {
     "output_type": "stream",
     "name": "stdout",
     "text": [
      "Symbol Twilight\n",
      "Expr\n",
      "  head: Symbol =\n",
      "  args: Array{Any}((2,))\n",
      "    1: Symbol foo\n",
      "    2: String \"bar\"\n"
     ]
    }
   ],
   "metadata": {}
  },
  {
   "cell_type": "code",
   "execution_count": 70,
   "source": [
    "# more Symbol\r\n",
    "ex = :(2a + b + 1)\r\n",
    "dump(ex)\r\n",
    "Meta.show_sexpr(ex)"
   ],
   "outputs": [
    {
     "output_type": "stream",
     "name": "stdout",
     "text": [
      "Expr\n",
      "  head: Symbol call\n",
      "  args: Array{Any}((4,))\n",
      "    1: Symbol +\n",
      "    2: Expr\n",
      "      head: Symbol call\n",
      "      args: Array{Any}((3,))\n",
      "        1: Symbol *\n",
      "        2: Int64 2\n",
      "        3: Symbol a\n",
      "    3: Symbol b\n",
      "    4: Int64 1\n",
      "(:call, :+, (:call, :*, 2, :a), :b, 1)"
     ]
    }
   ],
   "metadata": {}
  },
  {
   "cell_type": "markdown",
   "source": [
    "### **Arrays Basics**\r\n",
    "\r\n",
    "* Making Arrays with types and `udef` init. \r\n",
    "* Indexing with `[]` and it starts with 1.\r\n",
    "* Making reference to a whole array.\r\n",
    "* Slicing is Copying subarray. \r\n",
    "* Copy an simple array.\r\n",
    "* Deepcopy a nested array.\r\n"
   ],
   "metadata": {}
  },
  {
   "cell_type": "code",
   "execution_count": 18,
   "source": [
    "# Making Arrays\r\n",
    "a = Vector{Float64}(undef, 3) # undef sets everything to smallest float value. \r\n",
    "println(a)\r\n",
    "a = Vector{Int64}(undef, 3) # different type \r\n",
    "println(a)\r\n",
    "a = [1 2\r\n",
    "     3 4] # Literal Initialization of a matrix\r\n",
    "println(a)\r\n",
    "typeof(a)\r\n"
   ],
   "outputs": [
    {
     "output_type": "stream",
     "name": "stdout",
     "text": [
      "[5.0e-324, 5.0e-324, 1.012029595e-314]\n",
      "[1, 1, 0]\n",
      "[1 2; 3 4]\n"
     ]
    },
    {
     "output_type": "execute_result",
     "data": {
      "text/plain": [
       "Matrix{Int64} (alias for Array{Int64, 2})"
      ]
     },
     "metadata": {},
     "execution_count": 18
    }
   ],
   "metadata": {}
  },
  {
   "cell_type": "code",
   "execution_count": 20,
   "source": [
    "# Array indexing. \r\n",
    "a = [1, 2]\r\n",
    "a[1] = 0\r\n",
    "println(a)"
   ],
   "outputs": [
    {
     "output_type": "stream",
     "name": "stdout",
     "text": [
      "[0, 2]\n"
     ]
    }
   ],
   "metadata": {}
  },
  {
   "cell_type": "code",
   "execution_count": 23,
   "source": [
    "# Taking Reference of a whole array. \r\n",
    "a = [1, 2]\r\n",
    "b = a\r\n",
    "b[1] = 0\r\n",
    "println(a)"
   ],
   "outputs": [
    {
     "output_type": "stream",
     "name": "stdout",
     "text": [
      "[0, 2]\n"
     ]
    }
   ],
   "metadata": {}
  },
  {
   "cell_type": "code",
   "execution_count": 32,
   "source": [
    "# Array slicing, slicing is copying. \r\n",
    "a = [1 2 3\r\n",
    "     4 5 6\r\n",
    "     7 8 9]\r\n",
    "println(a[1:2, 1:2])\r\n",
    "b = a[1:2, 1:end]\r\n",
    "println(b)\r\n",
    "b[1, 1] = 0\r\n",
    "println(a)\r\n"
   ],
   "outputs": [
    {
     "output_type": "stream",
     "name": "stdout",
     "text": [
      "[1 2; 4 5]\n",
      "[1 2 3; 4 5 6]\n",
      "[1 2 3; 4 5 6; 7 8 9]\n"
     ]
    }
   ],
   "metadata": {}
  },
  {
   "cell_type": "code",
   "execution_count": 41,
   "source": [
    "# zagged nested array \r\n",
    "a = Array{Array{Int32}}(undef, 3)\r\n",
    "a[1] = [1]\r\n",
    "a[2] = [1, 2]\r\n",
    "a[3] = [1, 2, 3]\r\n",
    "println(a)\r\n",
    "# To make copy, use deepcopy()\r\n",
    "aDeep = deepcopy(a)\r\n",
    "aShallow = copy(a)\r\n",
    "aDeep[1][1] = -1\r\n",
    "println(\"Deep nested copy, No changes involved\")\r\n",
    "println(a)\r\n",
    "aShallow[1][1] = -1 \r\n",
    "println(\"Shallow copy just take the reference of the inner arrays.\")\r\n",
    "println(a)\r\n"
   ],
   "outputs": [
    {
     "output_type": "stream",
     "name": "stdout",
     "text": [
      "Array{Int32, N} where N[[1], [1, 2], [1, 2, 3]]\n",
      "Deep nested copy, No changes involved\n",
      "Array{Int32, N} where N[[1], [1, 2], [1, 2, 3]]\n",
      "Shallow copy just take the reference of the inner arrays.\n",
      "Array{Int32, N} where N[[-1], [1, 2], [1, 2, 3]]\n"
     ]
    }
   ],
   "metadata": {}
  },
  {
   "cell_type": "code",
   "execution_count": 48,
   "source": [
    "# size of the array, shape of the array, and dimension of the array. \r\n",
    "a = [1, 2, 3]\r\n",
    "println(size(a))\r\n",
    "println(typeof(size(a)))\r\n",
    "a = [1 2\r\n",
    "     3 4]\r\n",
    "println(size(a)) # shape\r\n",
    "println(length(size(a))) # dimension\r\n"
   ],
   "outputs": [
    {
     "output_type": "stream",
     "name": "stdout",
     "text": [
      "(3,)\n",
      "Tuple{Int64}\n",
      "(2, 2)\n",
      "2\n"
     ]
    }
   ],
   "metadata": {}
  },
  {
   "cell_type": "markdown",
   "source": [
    "### **Function Basics**\r\n",
    "* using mutating function for array copying.\r\n",
    "  * A mutating function has a `!` in the end, it will mutate the content of the parameters.  \r\n",
    "\r\n"
   ],
   "metadata": {}
  },
  {
   "cell_type": "markdown",
   "source": [],
   "metadata": {}
  },
  {
   "cell_type": "code",
   "execution_count": 50,
   "source": [
    "# If there already exists resource for a array that is going to be copied, consider mutating \r\n",
    "# functions\r\n",
    "source = [1, 2, 3]\r\n",
    "target = similar(source) # make b the same shape as a\r\n",
    "copyto!(target, source) \r\n",
    "println(target)\r\n",
    "\r\n"
   ],
   "outputs": [
    {
     "output_type": "stream",
     "name": "stdout",
     "text": [
      "[1, 2, 3]\n"
     ]
    }
   ],
   "metadata": {}
  },
  {
   "cell_type": "markdown",
   "source": [
    "### **Control Flow**\r\n",
    "* For loop, mult-forloop \r\n",
    "* if statement with symbols, (what is a [symbols](https://stackoverflow.com/questions/23480722/what-is-a-symbol-in-julia)?)\r\n",
    "\r\n"
   ],
   "metadata": {}
  },
  {
   "cell_type": "code",
   "execution_count": 76,
   "source": [
    "# for loops\r\n",
    "for i = 1:3\r\n",
    "    println(i)\r\n",
    "end\r\n",
    "a = Array{Int32}(undef, 3, 3)\r\n",
    "for i = 1:3, j = 1:3\r\n",
    "    a[i, j] = i*j\r\n",
    "end\r\n",
    "println(a)\r\n",
    "t = 1\r\n",
    "while t < 4\r\n",
    "    print(string(t) * \" \")\r\n",
    "    t += 1\r\n",
    "end\r\n"
   ],
   "outputs": [
    {
     "output_type": "stream",
     "name": "stdout",
     "text": [
      "1\n",
      "2\n",
      "3\n",
      "Int32[1 2 3; 2 4 6; 3 6 9]\n",
      "1 2 3 "
     ]
    }
   ],
   "metadata": {}
  },
  {
   "cell_type": "code",
   "execution_count": 60,
   "source": [
    "# if statement with symbols. \r\n",
    "Pony = :twilight_sparkle\r\n",
    "if Pony == :twilight_sparkle\r\n",
    "    println(\"Yay it' twilight sparkle\")\r\n",
    "else\r\n",
    "    println(\"Who is it? \")\r\n",
    "end \r\n",
    "typeof(Pony)\r\n"
   ],
   "outputs": [
    {
     "output_type": "stream",
     "name": "stdout",
     "text": [
      "Yay it' twilight sparkle\n"
     ]
    },
    {
     "output_type": "execute_result",
     "data": {
      "text/plain": [
       "Symbol"
      ]
     },
     "metadata": {},
     "execution_count": 60
    }
   ],
   "metadata": {}
  },
  {
   "cell_type": "markdown",
   "source": [
    "### **Functions: Basics**\r\n",
    "* inline function \r\n",
    "* Block function with types\r\n",
    "* Block functions with parametric typess\r\n",
    "* Block function with parametri types and optional parameters. \r\n",
    "  * Optional parameters need to be called by keyword and separated from required parameters using `;` when addressing the function. \r\n"
   ],
   "metadata": {}
  },
  {
   "cell_type": "code",
   "execution_count": 81,
   "source": [
    "# Define 2 functions\r\n",
    "f(x, y) = x + y # inline function\r\n",
    "println(f(1, 2)) \r\n",
    "function f(x) # block function\r\n",
    "    x += 1\r\n",
    "end\r\n",
    "# Function override applies. \r\n",
    "println(f(1))\r\n",
    "println(f(2, 2))"
   ],
   "outputs": [
    {
     "output_type": "stream",
     "name": "stdout",
     "text": [
      "3\n",
      "2\n",
      "4\n"
     ]
    }
   ],
   "metadata": {}
  },
  {
   "cell_type": "code",
   "execution_count": 83,
   "source": [
    "# Function with types on the parameters\r\n",
    "function f(a::Int16, b::Int16)\r\n",
    "    a + b\r\n",
    "end\r\n",
    "# Function with paramatric types\r\n",
    "function f(a::T, b::T)where {T<: Number}\r\n",
    "    a + b\r\n",
    "end\r\n",
    "methods(f)"
   ],
   "outputs": [
    {
     "output_type": "execute_result",
     "data": {
      "text/plain": [
       "# 4 methods for generic function \"f\":\n",
       "[1] f(a::Int16, b::Int16) in Main at In[83]:2\n",
       "[2] f(a::T, b::T) where T<:Number in Main at In[83]:6\n",
       "[3] f(x) in Main at In[81]:3\n",
       "[4] f(x, y) in Main at In[81]:1"
      ],
      "text/html": [
       "# 4 methods for generic function <b>f</b>:<ul><li> f(a::<b>Int16</b>, b::<b>Int16</b>) in Main at In[83]:2</li> <li> f(a::<b>T</b>, b::<b>T</b>)<i> where T<:Number</i> in Main at In[83]:6</li> <li> f(x) in Main at In[81]:3</li> <li> f(x, y) in Main at In[81]:1</li> </ul>"
      ]
     },
     "metadata": {},
     "execution_count": 83
    }
   ],
   "metadata": {}
  },
  {
   "cell_type": "code",
   "execution_count": 100,
   "source": [
    "# Optional parameters need to be called by keyword. \r\n",
    "function InnerProd(a::T; b::T=nothing) where {T<:Array}\r\n",
    "    sum(a.*b)\r\n",
    "end\r\n",
    "InnerProd([1 2]; b=[3  4])"
   ],
   "outputs": [
    {
     "output_type": "execute_result",
     "data": {
      "text/plain": [
       "11"
      ]
     },
     "metadata": {},
     "execution_count": 100
    }
   ],
   "metadata": {}
  },
  {
   "cell_type": "code",
   "execution_count": 94,
   "source": [
    "# Anonymous function.\r\n",
    "g = (x, y) -> x + y\r\n",
    "g(1, 2)"
   ],
   "outputs": [
    {
     "output_type": "execute_result",
     "data": {
      "text/plain": [
       "3"
      ]
     },
     "metadata": {},
     "execution_count": 94
    }
   ],
   "metadata": {}
  },
  {
   "cell_type": "markdown",
   "source": [
    "### **Arithmetic**\r\n",
    "* Elementwise product\r\n",
    "* Elemebtwise product with boardcasting\r\n",
    "* Matrix vector product\r\n"
   ],
   "metadata": {}
  },
  {
   "cell_type": "code",
   "execution_count": 89,
   "source": [
    "# Elementwises Product \r\n",
    "a = [1, 2, 3]\r\n",
    "b = [1,2, 3]\r\n",
    "a.*b"
   ],
   "outputs": [
    {
     "output_type": "execute_result",
     "data": {
      "text/plain": [
       "3-element Vector{Int64}:\n",
       " 1\n",
       " 4\n",
       " 9"
      ]
     },
     "metadata": {},
     "execution_count": 89
    }
   ],
   "metadata": {}
  },
  {
   "cell_type": "code",
   "execution_count": 92,
   "source": [
    "# Elementwise is boardcasting. \r\n",
    "a = [1 2 3]\r\n",
    "b = [1 2 3\r\n",
    "     4 5 6]\r\n",
    "a.*b"
   ],
   "outputs": [
    {
     "output_type": "execute_result",
     "data": {
      "text/plain": [
       "2×3 Matrix{Int64}:\n",
       " 1   4   9\n",
       " 4  10  18"
      ]
     },
     "metadata": {},
     "execution_count": 92
    }
   ],
   "metadata": {}
  },
  {
   "cell_type": "code",
   "execution_count": 93,
   "source": [
    "# Matrix Vector \r\n",
    "B = [1 2 3\r\n",
    "     4 5 6]\r\n",
    "x = [1, 2, 3]\r\n",
    "B*x "
   ],
   "outputs": [
    {
     "output_type": "execute_result",
     "data": {
      "text/plain": [
       "2-element Vector{Int64}:\n",
       " 14\n",
       " 32"
      ]
     },
     "metadata": {},
     "execution_count": 93
    }
   ],
   "metadata": {}
  },
  {
   "cell_type": "code",
   "execution_count": 95,
   "source": [
    "# reduction along axis\r\n",
    "a = [1 2 3; 4 5 6]\r\n",
    "sum(a, dims=1)"
   ],
   "outputs": [
    {
     "output_type": "execute_result",
     "data": {
      "text/plain": [
       "1×3 Matrix{Int64}:\n",
       " 5  7  9"
      ]
     },
     "metadata": {},
     "execution_count": 95
    }
   ],
   "metadata": {}
  },
  {
   "cell_type": "code",
   "execution_count": null,
   "source": [],
   "outputs": [],
   "metadata": {}
  }
 ]
}