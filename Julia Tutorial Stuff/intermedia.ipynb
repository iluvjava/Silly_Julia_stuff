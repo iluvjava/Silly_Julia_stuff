{
 "cells": [
  {
   "cell_type": "markdown",
   "source": [
    "# Intro\r\n",
    "It's about programming in Julia, but this time we are looking for intermediate concepts in Julia Programming. "
   ],
   "metadata": {}
  },
  {
   "cell_type": "code",
   "execution_count": 7,
   "source": [
    "# Preparations\r\n",
    "using Pkg\r\n",
    "Pkg.add(\"BenchmarkTools\")\r\n",
    "using BenchmarkTools"
   ],
   "outputs": [
    {
     "output_type": "stream",
     "name": "stderr",
     "text": [
      "\u001b[32m\u001b[1m    Updating\u001b[22m\u001b[39m registry at `C:\\Users\\victo\\.julia\\registries\\General`\n",
      "\u001b[32m\u001b[1m    Updating\u001b[22m\u001b[39m git-repo `https://github.com/JuliaRegistries/General.git`\n",
      "\u001b[32m\u001b[1m   Resolving\u001b[22m\u001b[39m package versions...\n",
      "\u001b[32m\u001b[1m   Installed\u001b[22m\u001b[39m BenchmarkTools ─ v1.1.1\n",
      "\u001b[32m\u001b[1m    Updating\u001b[22m\u001b[39m `C:\\Users\\victo\\.julia\\environments\\v1.6\\Project.toml`\n",
      " \u001b[90m [6e4b80f9] \u001b[39m\u001b[92m+ BenchmarkTools v1.1.1\u001b[39m\n",
      "\u001b[32m\u001b[1m    Updating\u001b[22m\u001b[39m `C:\\Users\\victo\\.julia\\environments\\v1.6\\Manifest.toml`\n",
      " \u001b[90m [6e4b80f9] \u001b[39m\u001b[92m+ BenchmarkTools v1.1.1\u001b[39m\n",
      " \u001b[90m [37e2e46d] \u001b[39m\u001b[92m+ LinearAlgebra\u001b[39m\n",
      " \u001b[90m [2f01184e] \u001b[39m\u001b[92m+ SparseArrays\u001b[39m\n",
      " \u001b[90m [10745b16] \u001b[39m\u001b[92m+ Statistics\u001b[39m\n",
      "\u001b[32m\u001b[1mPrecompiling\u001b[22m\u001b[39m project...\n",
      "\u001b[32m  ✓ \u001b[39mBenchmarkTools\n",
      "  1 dependency successfully precompiled in 2 seconds (15 already precompiled)\n"
     ]
    }
   ],
   "metadata": {}
  },
  {
   "cell_type": "markdown",
   "source": [
    "### **Arrays, Speed, Operations and Arithmetic**\r\n",
    "* iterable as column vectors\r\n",
    "* Elementwise operations and assignments\r\n",
    "* Linear indexing of array and fast memory indexing via `eachindex`\r\n",
    "* Array in Julia is Column Major. \r\n",
    "  * Boardcase assignment via slicer. \r\n"
   ],
   "metadata": {}
  },
  {
   "cell_type": "code",
   "execution_count": null,
   "source": [],
   "outputs": [],
   "metadata": {}
  },
  {
   "cell_type": "code",
   "execution_count": 2,
   "source": [
    "# iterable type and arrays\r\n",
    "a = 1:5\r\n",
    "println(typeof(a))\r\n",
    "b = [1, 2, 3, 4, 5]\r\n",
    "println(a + b)\r\n",
    "# iterable are like column vectors. "
   ],
   "outputs": [
    {
     "output_type": "stream",
     "name": "stdout",
     "text": [
      "UnitRange{Int64}\n"
     ]
    },
    {
     "output_type": "execute_result",
     "data": {
      "text/plain": [
       "5-element Vector{Int64}:\n",
       "  2\n",
       "  4\n",
       "  6\n",
       "  8\n",
       " 10"
      ]
     },
     "metadata": {},
     "execution_count": 2
    }
   ],
   "metadata": {}
  },
  {
   "cell_type": "code",
   "execution_count": 11,
   "source": [
    "# Elementwise opeartions with elementwise assignment \r\n",
    "A = rand(3, 3)\r\n",
    "B = rand(3, 3)\r\n",
    "C = rand(3, 3)\r\n",
    "D = zeros(3, 3)\r\n",
    "D .= A.*B.+C\r\n"
   ],
   "outputs": [
    {
     "output_type": "execute_result",
     "data": {
      "text/plain": [
       "3×3 Matrix{Float64}:\n",
       " 0.840454  1.36908   1.08135\n",
       " 0.817489  0.833859  1.55651\n",
       " 0.558566  0.541098  0.78451"
      ]
     },
     "metadata": {},
     "execution_count": 11
    }
   ],
   "metadata": {}
  },
  {
   "cell_type": "code",
   "execution_count": 16,
   "source": [
    "# Memory optimized iterations\r\n",
    "A = rand(3, 3)\r\n",
    "s = 0\r\n",
    "for II in eachindex(A)\r\n",
    "    print(string(II)*\" \")\r\n",
    "end\r\n",
    "# Linear indexing for multi-dimensional array, becareful about that part. "
   ],
   "outputs": [
    {
     "output_type": "stream",
     "name": "stdout",
     "text": [
      "1 2 3 4 5 6 7 8 9 "
     ]
    }
   ],
   "metadata": {}
  },
  {
   "cell_type": "code",
   "execution_count": 24,
   "source": [
    "# Linear indexing reveals that Julia is COLUMN MAJOR\r\n",
    "A = rand(3, 3)\r\n",
    "A[8] = -Inf\r\n",
    "display(A)\r\n",
    "# Boardcase assignmend via linear indexing. \r\n",
    "A[1:2] .= +NaN\r\n",
    "display(A)"
   ],
   "outputs": [
    {
     "output_type": "display_data",
     "data": {
      "text/plain": [
       "3×3 Matrix{Float64}:\n",
       " 0.958409  0.82296     0.035831\n",
       " 0.911869  0.737836  -Inf\n",
       " 0.026668  0.911474    0.405428"
      ]
     },
     "metadata": {}
    },
    {
     "output_type": "display_data",
     "data": {
      "text/plain": [
       "3×3 Matrix{Float64}:\n",
       " NaN         0.82296     0.035831\n",
       " NaN         0.737836  -Inf\n",
       "   0.026668  0.911474    0.405428"
      ]
     },
     "metadata": {}
    }
   ],
   "metadata": {}
  },
  {
   "cell_type": "code",
   "execution_count": null,
   "source": [],
   "outputs": [],
   "metadata": {}
  }
 ],
 "metadata": {
  "orig_nbformat": 4,
  "language_info": {
   "file_extension": ".jl",
   "name": "julia",
   "mimetype": "application/julia",
   "version": "1.6.2"
  },
  "kernelspec": {
   "name": "julia-1.6",
   "display_name": "Julia 1.6.2",
   "language": "julia"
  }
 },
 "nbformat": 4,
 "nbformat_minor": 2
}