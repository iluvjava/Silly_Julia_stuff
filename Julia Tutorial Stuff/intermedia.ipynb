{
 "cells": [
  {
   "cell_type": "markdown",
   "source": [
    "# Intro\r\n",
    "It's about programming in Julia, but this time we are looking for intermediate concepts in Julia Programming. \r\n",
    "\r\n",
    "[here](http://ucidatascienceinitiative.github.io/IntroToJulia/),  \\<A Deep Introduction to Julia\\>\r\n",
    "\r\n",
    "Julia Documentation [here](https://docs.julialang.org/en/v1/)"
   ],
   "metadata": {}
  },
  {
   "cell_type": "code",
   "execution_count": 14,
   "source": [
    "# Preparations\r\n",
    "using Pkg\r\n",
    "Pkg.add(\"BenchmarkTools\")\r\n",
    "using BenchmarkTools\r\n",
    "using SparseArrays\r\n",
    "using LinearAlgebra"
   ],
   "outputs": [
    {
     "output_type": "stream",
     "name": "stderr",
     "text": [
      "\u001b[32m\u001b[1m   Resolving\u001b[22m\u001b[39m package versions...\n",
      "\u001b[32m\u001b[1m  No Changes\u001b[22m\u001b[39m to `C:\\Users\\victo\\.julia\\environments\\v1.6\\Project.toml`\n",
      "\u001b[32m\u001b[1m  No Changes\u001b[22m\u001b[39m to `C:\\Users\\victo\\.julia\\environments\\v1.6\\Manifest.toml`\n"
     ]
    }
   ],
   "metadata": {}
  },
  {
   "cell_type": "markdown",
   "source": [
    "### **Arrays, Speed, Operations and Arithmetic**\r\n",
    "* iterable as column vectors\r\n",
    "* Elementwise operations and assignments\r\n",
    "* Linear indexing of array and fast memory indexing via `eachindex`\r\n",
    "* Array in Julia is Column Major. \r\n",
    "  * Boardcase assignment via slicer. \r\n",
    "* Using `view()` to get reference to sub-array\r\n",
    "* `reshape(), vec()` are column majors and they don't copy, changes on references will cause mutations. \r\n"
   ],
   "metadata": {}
  },
  {
   "cell_type": "code",
   "execution_count": null,
   "source": [
    "# iterable type and arrays\r\n",
    "a = 1:5\r\n",
    "println(typeof(a))\r\n",
    "b = [1, 2, 3, 4, 5]\r\n",
    "println(a + b)\r\n",
    "# iterable are like column vectors. "
   ],
   "outputs": [],
   "metadata": {}
  },
  {
   "cell_type": "code",
   "execution_count": null,
   "source": [
    "# Elementwise opeartions with elementwise assignment \r\n",
    "A = rand(3, 3)\r\n",
    "B = rand(3, 3)\r\n",
    "C = rand(3, 3)\r\n",
    "D = zeros(3, 3)\r\n",
    "D .= A.*B.+C\r\n"
   ],
   "outputs": [],
   "metadata": {}
  },
  {
   "cell_type": "code",
   "execution_count": null,
   "source": [
    "# Memory optimized iterations\r\n",
    "A = rand(3, 3)\r\n",
    "s = 0\r\n",
    "for II in eachindex(A)\r\n",
    "    print(string(II)*\" \")\r\n",
    "end\r\n",
    "# Linear indexing for multi-dimensional array, becareful about that part. "
   ],
   "outputs": [],
   "metadata": {}
  },
  {
   "cell_type": "code",
   "execution_count": null,
   "source": [
    "# Linear indexing reveals that Julia is COLUMN MAJOR\r\n",
    "A = rand(3, 3)\r\n",
    "A[8] = -Inf\r\n",
    "display(A)\r\n",
    "# Boardcase assignmend via linear indexing. \r\n",
    "A[1:2] .= +NaN\r\n",
    "display(A)"
   ],
   "outputs": [],
   "metadata": {}
  },
  {
   "cell_type": "code",
   "execution_count": null,
   "source": [
    "# Recall that slicing is copying, to get reference to sub array, use view()\r\n",
    "A = rand(3, 3)\r\n",
    "B = view(A, 1:2, 1:2)\r\n",
    "B .= 0\r\n",
    "display(A)"
   ],
   "outputs": [],
   "metadata": {}
  },
  {
   "cell_type": "code",
   "execution_count": null,
   "source": [
    "# Reshape and vecorization without copying\r\n",
    "A = rand(3, 4)\r\n",
    "B = vec(A)\r\n",
    "display(B)\r\n",
    "B = reshape(B, 2, 6)\r\n",
    "display(B)\r\n",
    "# Notice, it's Column major type of reshaping, things are tiled into the columns first. \r\n",
    "B = reshape(B, 2, 2, 3)"
   ],
   "outputs": [],
   "metadata": {}
  },
  {
   "cell_type": "code",
   "execution_count": null,
   "source": [
    "# Because there are no copying, this means that: \r\n",
    "A = rand(3, 3)\r\n",
    "B = vec(A)\r\n",
    "B[1:3] .= 0\r\n",
    "display(A)\r\n",
    "# Manipulating the reshaped will cause mutations to the original. "
   ],
   "outputs": [],
   "metadata": {}
  },
  {
   "cell_type": "markdown",
   "source": [
    "**Note**: There are no performance gain over vectorization operators, forloops with types restriction can give the same performance as using vectorized operations. "
   ],
   "metadata": {}
  },
  {
   "cell_type": "markdown",
   "source": [
    "### **Special Matrix Forms for Speed Optimizations**\r\n",
    "* Tridiagonal Matrix \r\n",
    "* Sparse Array\r\n",
    "\r\n",
    "More about SparseArrays [here](https://docs.julialang.org/en/v1/stdlib/SparseArrays/) "
   ],
   "metadata": {}
  },
  {
   "cell_type": "code",
   "execution_count": 15,
   "source": [
    "A = Tridiagonal(1:5, 1:6, 1:5)\r\n"
   ],
   "outputs": [
    {
     "output_type": "execute_result",
     "data": {
      "text/plain": [
       "3×3 Tridiagonal{Int64, UnitRange{Int64}}:\n",
       " 1  1  ⋅\n",
       " 1  2  2\n",
       " ⋅  2  3"
      ]
     },
     "metadata": {},
     "execution_count": 15
    }
   ],
   "metadata": {}
  },
  {
   "cell_type": "code",
   "execution_count": 21,
   "source": [
    "# At least 3 elements are needed to make a sparse matrix \r\n",
    "# Because it cannot infer shape from just 2 nonzero elements\r\n",
    "A = sparse([1, 2, 3], [2, 2, 1], [2, 1, 1])"
   ],
   "outputs": [
    {
     "output_type": "execute_result",
     "data": {
      "text/plain": [
       "3×2 SparseMatrixCSC{Int64, Int64} with 3 stored entries:\n",
       " ⋅  2\n",
       " ⋅  1\n",
       " 1  ⋅"
      ]
     },
     "metadata": {},
     "execution_count": 21
    }
   ],
   "metadata": {}
  },
  {
   "cell_type": "markdown",
   "source": [
    "### **More Data Types**\r\n",
    "* Complex Number, a Nested Type\r\n",
    "* Big Integers and big floats \r\n",
    "* Strings and characters \r\n",
    "* Tuples \r\n",
    "* Dictionary\r\n",
    "* Keyvalues pairs \r\n",
    "* Set \r\n",
    "* Vector as list in Julia. "
   ],
   "metadata": {}
  },
  {
   "cell_type": "code",
   "execution_count": 24,
   "source": [
    "# Complex Number\r\n",
    "display(typeof(1 + 1im))\r\n",
    "display(typeof(1 + 1.1im))"
   ],
   "outputs": [
    {
     "output_type": "display_data",
     "data": {
      "text/plain": [
       "Complex{Int64}"
      ]
     },
     "metadata": {}
    },
    {
     "output_type": "display_data",
     "data": {
      "text/plain": [
       "ComplexF64 (alias for Complex{Float64})"
      ]
     },
     "metadata": {}
    }
   ],
   "metadata": {}
  },
  {
   "cell_type": "code",
   "execution_count": 28,
   "source": [
    "# Big integers and floats\r\n",
    "display(big(2)^big(128))\r\n",
    "display(big(pi)^big(128))"
   ],
   "outputs": [
    {
     "output_type": "display_data",
     "data": {
      "text/plain": [
       "340282366920938463463374607431768211456"
      ]
     },
     "metadata": {}
    },
    {
     "output_type": "display_data",
     "data": {
      "text/plain": [
       "4.317016463018832196709083625024446012604641993892727664123878478947451563342099e+63"
      ]
     },
     "metadata": {}
    }
   ],
   "metadata": {}
  },
  {
   "cell_type": "code",
   "execution_count": 30,
   "source": [
    "# characters and strings, differentiated by single/double quotations. \r\n",
    "display(typeof(\"bruh\"))\r\n",
    "display(typeof('h'))\r\n",
    "display(typeof(\"h\"))"
   ],
   "outputs": [
    {
     "output_type": "display_data",
     "data": {
      "text/plain": [
       "String"
      ]
     },
     "metadata": {}
    },
    {
     "output_type": "display_data",
     "data": {
      "text/plain": [
       "Char"
      ]
     },
     "metadata": {}
    },
    {
     "output_type": "display_data",
     "data": {
      "text/plain": [
       "String"
      ]
     },
     "metadata": {}
    }
   ],
   "metadata": {}
  },
  {
   "cell_type": "code",
   "execution_count": 33,
   "source": [
    "# The tuple type\r\n",
    "A = 1, 2, 3, 4\r\n",
    "typeof(A)"
   ],
   "outputs": [
    {
     "output_type": "execute_result",
     "data": {
      "text/plain": [
       "NTuple{4, Int64}"
      ]
     },
     "metadata": {},
     "execution_count": 33
    }
   ],
   "metadata": {}
  },
  {
   "cell_type": "code",
   "execution_count": 38,
   "source": [
    "# Dictionary type, can put a lot of different things into it.  \r\n",
    "f(x, y) = x + y \r\n",
    "data = Dict(\"A\" => 3, 'h'=> \"characters\", :symbol => \"bruh\", :f => f)\r\n",
    "display(data[\"A\"])\r\n",
    "display(data['h'])\r\n",
    "display(data[:symbol])\r\n",
    "display(data[:f])"
   ],
   "outputs": [
    {
     "output_type": "display_data",
     "data": {
      "text/plain": [
       "3"
      ]
     },
     "metadata": {}
    },
    {
     "output_type": "display_data",
     "data": {
      "text/plain": [
       "\"characters\""
      ]
     },
     "metadata": {}
    },
    {
     "output_type": "display_data",
     "data": {
      "text/plain": [
       "\"bruh\""
      ]
     },
     "metadata": {}
    },
    {
     "output_type": "display_data",
     "data": {
      "text/plain": [
       "f (generic function with 1 method)"
      ]
     },
     "metadata": {}
    }
   ],
   "metadata": {}
  },
  {
   "cell_type": "code",
   "execution_count": 44,
   "source": [
    "# key value pairs\r\n",
    "kvpair = :A => [1, 2, 3]\r\n",
    "display(kvpair)\r\n",
    "for (k, v) in data\r\n",
    "    display(string(k)*\"; \"*string(v)* \"; \")\r\n",
    "end"
   ],
   "outputs": [
    {
     "output_type": "display_data",
     "data": {
      "text/plain": [
       ":A => [1, 2, 3]"
      ]
     },
     "metadata": {}
    },
    {
     "output_type": "display_data",
     "data": {
      "text/plain": [
       "\"symbol; bruh\""
      ]
     },
     "metadata": {}
    },
    {
     "output_type": "display_data",
     "data": {
      "text/plain": [
       "\"f; f\""
      ]
     },
     "metadata": {}
    },
    {
     "output_type": "display_data",
     "data": {
      "text/plain": [
       "\"A; 3\""
      ]
     },
     "metadata": {}
    },
    {
     "output_type": "display_data",
     "data": {
      "text/plain": [
       "\"h; characters\""
      ]
     },
     "metadata": {}
    }
   ],
   "metadata": {}
  },
  {
   "cell_type": "code",
   "execution_count": 47,
   "source": [
    "# set \r\n",
    "myset = Set(1:5)  \r\n",
    "4 in myset"
   ],
   "outputs": [
    {
     "output_type": "execute_result",
     "data": {
      "text/plain": [
       "true"
      ]
     },
     "metadata": {},
     "execution_count": 47
    }
   ],
   "metadata": {}
  },
  {
   "cell_type": "code",
   "execution_count": 7,
   "source": [
    "# Array in julia, you can't append into row array, or array because they are matrices. \r\n",
    "arr = Array{Float64}(undef, 1, 10)\r\n",
    "display(arr)\r\n",
    "append!(arr, 3)\r\n"
   ],
   "outputs": [
    {
     "output_type": "display_data",
     "data": {
      "text/plain": [
       "1×10 Matrix{Float64}:\n",
       " 1.16047e-315  1.16047e-315  1.16047e-315  …  1.16047e-315  1.29982e-315"
      ]
     },
     "metadata": {}
    },
    {
     "output_type": "error",
     "ename": "LoadError",
     "evalue": "MethodError: no method matching append!(::Matrix{Float64}, ::Int64)\n\nYou might have used a 2d row vector where a 1d column vector was required.\nNote the difference between 1d column vector [1,2,3] and 2d row vector [1 2 3].\nYou can convert to a column vector with the vec() function.\n\u001b[0mClosest candidates are:\n\u001b[0m  append!(\u001b[91m::BitVector\u001b[39m, ::Any) at bitarray.jl:782\n\u001b[0m  append!(\u001b[91m::AbstractVector{T} where T\u001b[39m, ::Any) at array.jl:981\n\u001b[0m  append!(\u001b[91m::AbstractVector{T} where T\u001b[39m, ::Any...) at array.jl:984",
     "traceback": [
      "MethodError: no method matching append!(::Matrix{Float64}, ::Int64)\n\nYou might have used a 2d row vector where a 1d column vector was required.\nNote the difference between 1d column vector [1,2,3] and 2d row vector [1 2 3].\nYou can convert to a column vector with the vec() function.\n\u001b[0mClosest candidates are:\n\u001b[0m  append!(\u001b[91m::BitVector\u001b[39m, ::Any) at bitarray.jl:782\n\u001b[0m  append!(\u001b[91m::AbstractVector{T} where T\u001b[39m, ::Any) at array.jl:981\n\u001b[0m  append!(\u001b[91m::AbstractVector{T} where T\u001b[39m, ::Any...) at array.jl:984",
      "",
      "Stacktrace:",
      " [1] top-level scope",
      "   @ In[7]:4",
      " [2] eval",
      "   @ .\\boot.jl:360 [inlined]",
      " [3] include_string(mapexpr::typeof(REPL.softscope), mod::Module, code::String, filename::String)",
      "   @ Base .\\loading.jl:1116"
     ]
    }
   ],
   "metadata": {}
  },
  {
   "cell_type": "code",
   "execution_count": 6,
   "source": [
    "# To append, use VECTOR \r\n",
    "arr = Vector{Int64}(undef, 10)\r\n",
    "append!(arr, 2)\r\n",
    "push!(arr, 3, 1)\r\n",
    "display(arr)\r\n"
   ],
   "outputs": [
    {
     "output_type": "display_data",
     "data": {
      "text/plain": [
       "13-element Vector{Int64}:\n",
       "         1\n",
       "         1\n",
       "         1\n",
       "         1\n",
       "         1\n",
       "         1\n",
       "         1\n",
       "         0\n",
       "         0\n",
       " 451027713\n",
       "         2\n",
       "         3\n",
       "         1"
      ]
     },
     "metadata": {}
    }
   ],
   "metadata": {}
  },
  {
   "cell_type": "code",
   "execution_count": 81,
   "source": [
    "# Finally, for viewing pleasures on introduced types: \r\n",
    "display(methodswith(Set))\r\n",
    "display(methodswith(Dict))\r\n",
    "methodswith(Vector)\r\n"
   ],
   "outputs": [
    {
     "output_type": "display_data",
     "data": {
      "text/plain": [
       "[1] copy(s::Set) in Base at set.jl:68\n",
       "[2] delete!(s::Set, x) in Base at set.jl:66\n",
       "[3] empty!(s::Set) in Base at set.jl:75\n",
       "[4] filter!(f, s::Set) in Base at set.jl:411\n",
       "[5] in(x, s::Set) in Base at set.jl:56\n",
       "[6] isempty(s::Set) in Base at set.jl:54\n",
       "[7] iterate(s::Set, i...) in Base at set.jl:78\n",
       "[8] length(s::Set) in Base at set.jl:55\n",
       "[9] pop!(s::Set) in Base at set.jl:61\n",
       "[10] pop!(s::Set, x) in Base at set.jl:58\n",
       "[11] pop!(s::Set, x, default) in Base at set.jl:59\n",
       "[12] push!(s::Set, x) in Base at set.jl:57\n",
       "[13] setdiff!(s::Set, t::Set) in Base at set.jl:87\n",
       "[14] show(io::IO, s::Set) in Base at set.jl:39\n",
       "[15] sizehint!(s::Set, newsz) in Base at set.jl:74"
      ],
      "text/html": [
       "15-element Vector{Method}:<ul><li> copy(s::<b>Set</b>) in Base at <a href=\"https://github.com/JuliaLang/julia/tree/1b93d53fc4bb59350ada898038ed4de2994cce33/base/set.jl#L68\" target=\"_blank\">set.jl:68</a><li> delete!(s::<b>Set</b>, x) in Base at <a href=\"https://github.com/JuliaLang/julia/tree/1b93d53fc4bb59350ada898038ed4de2994cce33/base/set.jl#L66\" target=\"_blank\">set.jl:66</a><li> empty!(s::<b>Set</b>) in Base at <a href=\"https://github.com/JuliaLang/julia/tree/1b93d53fc4bb59350ada898038ed4de2994cce33/base/set.jl#L75\" target=\"_blank\">set.jl:75</a><li> filter!(f, s::<b>Set</b>) in Base at <a href=\"https://github.com/JuliaLang/julia/tree/1b93d53fc4bb59350ada898038ed4de2994cce33/base/set.jl#L411\" target=\"_blank\">set.jl:411</a><li> in(x, s::<b>Set</b>) in Base at <a href=\"https://github.com/JuliaLang/julia/tree/1b93d53fc4bb59350ada898038ed4de2994cce33/base/set.jl#L56\" target=\"_blank\">set.jl:56</a><li> isempty(s::<b>Set</b>) in Base at <a href=\"https://github.com/JuliaLang/julia/tree/1b93d53fc4bb59350ada898038ed4de2994cce33/base/set.jl#L54\" target=\"_blank\">set.jl:54</a><li> iterate(s::<b>Set</b>, i...) in Base at <a href=\"https://github.com/JuliaLang/julia/tree/1b93d53fc4bb59350ada898038ed4de2994cce33/base/set.jl#L78\" target=\"_blank\">set.jl:78</a><li> length(s::<b>Set</b>) in Base at <a href=\"https://github.com/JuliaLang/julia/tree/1b93d53fc4bb59350ada898038ed4de2994cce33/base/set.jl#L55\" target=\"_blank\">set.jl:55</a><li> pop!(s::<b>Set</b>) in Base at <a href=\"https://github.com/JuliaLang/julia/tree/1b93d53fc4bb59350ada898038ed4de2994cce33/base/set.jl#L61\" target=\"_blank\">set.jl:61</a><li> pop!(s::<b>Set</b>, x) in Base at <a href=\"https://github.com/JuliaLang/julia/tree/1b93d53fc4bb59350ada898038ed4de2994cce33/base/set.jl#L58\" target=\"_blank\">set.jl:58</a><li> pop!(s::<b>Set</b>, x, default) in Base at <a href=\"https://github.com/JuliaLang/julia/tree/1b93d53fc4bb59350ada898038ed4de2994cce33/base/set.jl#L59\" target=\"_blank\">set.jl:59</a><li> push!(s::<b>Set</b>, x) in Base at <a href=\"https://github.com/JuliaLang/julia/tree/1b93d53fc4bb59350ada898038ed4de2994cce33/base/set.jl#L57\" target=\"_blank\">set.jl:57</a><li> setdiff!(s::<b>Set</b>, t::<b>Set</b>) in Base at <a href=\"https://github.com/JuliaLang/julia/tree/1b93d53fc4bb59350ada898038ed4de2994cce33/base/set.jl#L87\" target=\"_blank\">set.jl:87</a><li> show(io::<b>IO</b>, s::<b>Set</b>) in Base at <a href=\"https://github.com/JuliaLang/julia/tree/1b93d53fc4bb59350ada898038ed4de2994cce33/base/set.jl#L39\" target=\"_blank\">set.jl:39</a><li> sizehint!(s::<b>Set</b>, newsz) in Base at <a href=\"https://github.com/JuliaLang/julia/tree/1b93d53fc4bb59350ada898038ed4de2994cce33/base/set.jl#L74\" target=\"_blank\">set.jl:74</a></ul>"
      ]
     },
     "metadata": {}
    },
    {
     "output_type": "display_data",
     "data": {
      "text/plain": [
       "[1] artifact_meta(name::String, artifact_dict::Dict, artifacts_toml::String; platform) in Artifacts at C:\\Users\\victo\\AppData\\Local\\Programs\\Julia-1.6.2\\share\\julia\\stdlib\\v1.6\\Artifacts\\src\\Artifacts.jl:378\n",
       "[2] artifact_meta(name::AbstractString, artifact_dict::Dict, artifacts_toml::AbstractString; kwargs...) in Artifacts at C:\\Users\\victo\\AppData\\Local\\Programs\\Julia-1.6.2\\share\\julia\\stdlib\\v1.6\\Artifacts\\src\\Artifacts.jl:706\n",
       "[3] select_downloadable_artifacts(artifact_dict::Dict, artifacts_toml::String; platform, pkg_uuid, include_lazy) in Artifacts at C:\\Users\\victo\\AppData\\Local\\Programs\\Julia-1.6.2\\share\\julia\\stdlib\\v1.6\\Artifacts\\src\\Artifacts.jl:430\n",
       "[4] select_downloadable_artifacts(artifact_dict::Dict, artifacts_toml::AbstractString; kwargs...) in Artifacts at C:\\Users\\victo\\AppData\\Local\\Programs\\Julia-1.6.2\\share\\julia\\stdlib\\v1.6\\Artifacts\\src\\Artifacts.jl:710\n",
       "[5] serialize(s::Serialization.AbstractSerializer, d::Dict) in Serialization at C:\\Users\\victo\\AppData\\Local\\Programs\\Julia-1.6.2\\share\\julia\\stdlib\\v1.6\\Serialization\\src\\Serialization.jl:347\n",
       "[6] launch(manager::Distributed.SSHManager, params::Dict, launched::Array, launch_ntfy::Condition) in Distributed at C:\\Users\\victo\\AppData\\Local\\Programs\\Julia-1.6.2\\share\\julia\\stdlib\\v1.6\\Distributed\\src\\managers.jl:158\n",
       "[7] launch(manager::Distributed.LocalManager, params::Dict, launched::Array, c::Condition) in Distributed at C:\\Users\\victo\\AppData\\Local\\Programs\\Julia-1.6.2\\share\\julia\\stdlib\\v1.6\\Distributed\\src\\managers.jl:448\n",
       "[8] addenv(cmd::Cmd, env::Dict; inherit) in Base at cmd.jl:258\n",
       "[9] copy(d::Dict) in Base at dict.jl:120\n",
       "[10] delete!(h::Dict, key) in Base at dict.jl:659\n",
       "[11] empty!(h::Dict{K, V}) where {K, V} in Base at dict.jl:265\n",
       "[12] filter!(pred, h::Dict{K, V}) where {K, V} in Base at dict.jl:701\n",
       "[13] get(default::Union{Function, Type}, h::Dict{K, V}, key) where {K, V} in Base at dict.jl:526\n",
       "[14] get(h::Dict{K, V}, key, default) where {K, V} in Base at dict.jl:504\n",
       "[15] get!(default::Union{Function, Type}, h::Dict{K, V}, key::K) where {K, V} in Base at dict.jl:459\n",
       "[16] get!(default::Union{Function, Type}, h::Dict{K, V}, key0) where {K, V} in Base at dict.jl:451\n",
       "[17] getindex(h::Dict{K, V}, key) where {K, V} in Base at dict.jl:480\n",
       "[18] getkey(h::Dict{K, V}, key, default) where {K, V} in Base at dict.jl:572\n",
       "[19] haskey(h::Dict, key) in Base at dict.jl:550\n",
       "[20] isempty(t::Dict) in Base at dict.jl:690\n",
       "[21] iterate(t::Dict) in Base at dict.jl:685\n",
       "[22] iterate(t::Dict, i) in Base at dict.jl:688\n",
       "[23] length(t::Dict) in Base at dict.jl:691\n",
       "[24] pop!(h::Dict) in Base at dict.jl:617\n",
       "[25] pop!(h::Dict, key) in Base at dict.jl:583\n",
       "[26] pop!(h::Dict, key, default) in Base at dict.jl:612\n",
       "[27] setindex!(h::Dict{K, V}, v0, key::K) where {K, V} in Base at dict.jl:381\n",
       "[28] setindex!(h::Dict{K, V}, v0, key0) where {K, V} in Base at dict.jl:373\n",
       "[29] sizehint!(d::Dict{T, V} where V, newsz) where T in Base at dict.jl:232"
      ],
      "text/html": [
       "29-element Vector{Method}:<ul><li> artifact_meta(name::<b>String</b>, artifact_dict::<b>Dict</b>, artifacts_toml::<b>String</b>; <i>platform</i>) in Artifacts at <a href=\"file://C:/buildbot/worker/package_win64/build/usr/share/julia/stdlib/v1.6/Artifacts/src/Artifacts.jl\" target=\"_blank\">C:\\Users\\victo\\AppData\\Local\\Programs\\Julia-1.6.2\\share\\julia\\stdlib\\v1.6\\Artifacts\\src\\Artifacts.jl:378</a><li> artifact_meta(name::<b>AbstractString</b>, artifact_dict::<b>Dict</b>, artifacts_toml::<b>AbstractString</b>; <i>kwargs...</i>) in Artifacts at <a href=\"file://C:/buildbot/worker/package_win64/build/usr/share/julia/stdlib/v1.6/Artifacts/src/Artifacts.jl\" target=\"_blank\">C:\\Users\\victo\\AppData\\Local\\Programs\\Julia-1.6.2\\share\\julia\\stdlib\\v1.6\\Artifacts\\src\\Artifacts.jl:706</a><li> select_downloadable_artifacts(artifact_dict::<b>Dict</b>, artifacts_toml::<b>String</b>; <i>platform, pkg_uuid, include_lazy</i>) in Artifacts at <a href=\"file://C:/buildbot/worker/package_win64/build/usr/share/julia/stdlib/v1.6/Artifacts/src/Artifacts.jl\" target=\"_blank\">C:\\Users\\victo\\AppData\\Local\\Programs\\Julia-1.6.2\\share\\julia\\stdlib\\v1.6\\Artifacts\\src\\Artifacts.jl:430</a><li> select_downloadable_artifacts(artifact_dict::<b>Dict</b>, artifacts_toml::<b>AbstractString</b>; <i>kwargs...</i>) in Artifacts at <a href=\"file://C:/buildbot/worker/package_win64/build/usr/share/julia/stdlib/v1.6/Artifacts/src/Artifacts.jl\" target=\"_blank\">C:\\Users\\victo\\AppData\\Local\\Programs\\Julia-1.6.2\\share\\julia\\stdlib\\v1.6\\Artifacts\\src\\Artifacts.jl:710</a><li> serialize(s::<b>Serialization.AbstractSerializer</b>, d::<b>Dict</b>) in Serialization at <a href=\"file://C:/buildbot/worker/package_win64/build/usr/share/julia/stdlib/v1.6/Serialization/src/Serialization.jl\" target=\"_blank\">C:\\Users\\victo\\AppData\\Local\\Programs\\Julia-1.6.2\\share\\julia\\stdlib\\v1.6\\Serialization\\src\\Serialization.jl:347</a><li> launch(manager::<b>Distributed.SSHManager</b>, params::<b>Dict</b>, launched::<b>Array</b>, launch_ntfy::<b>Condition</b>) in Distributed at <a href=\"file://C:/buildbot/worker/package_win64/build/usr/share/julia/stdlib/v1.6/Distributed/src/managers.jl\" target=\"_blank\">C:\\Users\\victo\\AppData\\Local\\Programs\\Julia-1.6.2\\share\\julia\\stdlib\\v1.6\\Distributed\\src\\managers.jl:158</a><li> launch(manager::<b>Distributed.LocalManager</b>, params::<b>Dict</b>, launched::<b>Array</b>, c::<b>Condition</b>) in Distributed at <a href=\"file://C:/buildbot/worker/package_win64/build/usr/share/julia/stdlib/v1.6/Distributed/src/managers.jl\" target=\"_blank\">C:\\Users\\victo\\AppData\\Local\\Programs\\Julia-1.6.2\\share\\julia\\stdlib\\v1.6\\Distributed\\src\\managers.jl:448</a><li> addenv(cmd::<b>Cmd</b>, env::<b>Dict</b>; <i>inherit</i>) in Base at <a href=\"https://github.com/JuliaLang/julia/tree/1b93d53fc4bb59350ada898038ed4de2994cce33/base/cmd.jl#L258\" target=\"_blank\">cmd.jl:258</a><li> copy(d::<b>Dict</b>) in Base at <a href=\"https://github.com/JuliaLang/julia/tree/1b93d53fc4bb59350ada898038ed4de2994cce33/base/dict.jl#L120\" target=\"_blank\">dict.jl:120</a><li> delete!(h::<b>Dict</b>, key) in Base at <a href=\"https://github.com/JuliaLang/julia/tree/1b93d53fc4bb59350ada898038ed4de2994cce33/base/dict.jl#L659\" target=\"_blank\">dict.jl:659</a><li> empty!(h::<b>Dict{K, V}</b>)<i> where {K, V}</i> in Base at <a href=\"https://github.com/JuliaLang/julia/tree/1b93d53fc4bb59350ada898038ed4de2994cce33/base/dict.jl#L265\" target=\"_blank\">dict.jl:265</a><li> filter!(pred, h::<b>Dict{K, V}</b>)<i> where {K, V}</i> in Base at <a href=\"https://github.com/JuliaLang/julia/tree/1b93d53fc4bb59350ada898038ed4de2994cce33/base/dict.jl#L701\" target=\"_blank\">dict.jl:701</a><li> get(default::<b>Union{Function, Type}</b>, h::<b>Dict{K, V}</b>, key)<i> where {K, V}</i> in Base at <a href=\"https://github.com/JuliaLang/julia/tree/1b93d53fc4bb59350ada898038ed4de2994cce33/base/dict.jl#L526\" target=\"_blank\">dict.jl:526</a><li> get(h::<b>Dict{K, V}</b>, key, default)<i> where {K, V}</i> in Base at <a href=\"https://github.com/JuliaLang/julia/tree/1b93d53fc4bb59350ada898038ed4de2994cce33/base/dict.jl#L504\" target=\"_blank\">dict.jl:504</a><li> get!(default::<b>Union{Function, Type}</b>, h::<b>Dict{K, V}</b>, key::<b>K</b>)<i> where {K, V}</i> in Base at <a href=\"https://github.com/JuliaLang/julia/tree/1b93d53fc4bb59350ada898038ed4de2994cce33/base/dict.jl#L459\" target=\"_blank\">dict.jl:459</a><li> get!(default::<b>Union{Function, Type}</b>, h::<b>Dict{K, V}</b>, key0)<i> where {K, V}</i> in Base at <a href=\"https://github.com/JuliaLang/julia/tree/1b93d53fc4bb59350ada898038ed4de2994cce33/base/dict.jl#L451\" target=\"_blank\">dict.jl:451</a><li> getindex(h::<b>Dict{K, V}</b>, key)<i> where {K, V}</i> in Base at <a href=\"https://github.com/JuliaLang/julia/tree/1b93d53fc4bb59350ada898038ed4de2994cce33/base/dict.jl#L480\" target=\"_blank\">dict.jl:480</a><li> getkey(h::<b>Dict{K, V}</b>, key, default)<i> where {K, V}</i> in Base at <a href=\"https://github.com/JuliaLang/julia/tree/1b93d53fc4bb59350ada898038ed4de2994cce33/base/dict.jl#L572\" target=\"_blank\">dict.jl:572</a><li> haskey(h::<b>Dict</b>, key) in Base at <a href=\"https://github.com/JuliaLang/julia/tree/1b93d53fc4bb59350ada898038ed4de2994cce33/base/dict.jl#L550\" target=\"_blank\">dict.jl:550</a><li> isempty(t::<b>Dict</b>) in Base at <a href=\"https://github.com/JuliaLang/julia/tree/1b93d53fc4bb59350ada898038ed4de2994cce33/base/dict.jl#L690\" target=\"_blank\">dict.jl:690</a><li> iterate(t::<b>Dict</b>) in Base at <a href=\"https://github.com/JuliaLang/julia/tree/1b93d53fc4bb59350ada898038ed4de2994cce33/base/dict.jl#L685\" target=\"_blank\">dict.jl:685</a><li> iterate(t::<b>Dict</b>, i) in Base at <a href=\"https://github.com/JuliaLang/julia/tree/1b93d53fc4bb59350ada898038ed4de2994cce33/base/dict.jl#L688\" target=\"_blank\">dict.jl:688</a><li> length(t::<b>Dict</b>) in Base at <a href=\"https://github.com/JuliaLang/julia/tree/1b93d53fc4bb59350ada898038ed4de2994cce33/base/dict.jl#L691\" target=\"_blank\">dict.jl:691</a><li> pop!(h::<b>Dict</b>) in Base at <a href=\"https://github.com/JuliaLang/julia/tree/1b93d53fc4bb59350ada898038ed4de2994cce33/base/dict.jl#L617\" target=\"_blank\">dict.jl:617</a><li> pop!(h::<b>Dict</b>, key) in Base at <a href=\"https://github.com/JuliaLang/julia/tree/1b93d53fc4bb59350ada898038ed4de2994cce33/base/dict.jl#L583\" target=\"_blank\">dict.jl:583</a><li> pop!(h::<b>Dict</b>, key, default) in Base at <a href=\"https://github.com/JuliaLang/julia/tree/1b93d53fc4bb59350ada898038ed4de2994cce33/base/dict.jl#L612\" target=\"_blank\">dict.jl:612</a><li> setindex!(h::<b>Dict{K, V}</b>, v0, key::<b>K</b>)<i> where {K, V}</i> in Base at <a href=\"https://github.com/JuliaLang/julia/tree/1b93d53fc4bb59350ada898038ed4de2994cce33/base/dict.jl#L381\" target=\"_blank\">dict.jl:381</a><li> setindex!(h::<b>Dict{K, V}</b>, v0, key0)<i> where {K, V}</i> in Base at <a href=\"https://github.com/JuliaLang/julia/tree/1b93d53fc4bb59350ada898038ed4de2994cce33/base/dict.jl#L373\" target=\"_blank\">dict.jl:373</a><li> sizehint!(d::<b>Dict{T, V} where V</b>, newsz)<i> where T</i> in Base at <a href=\"https://github.com/JuliaLang/julia/tree/1b93d53fc4bb59350ada898038ed4de2994cce33/base/dict.jl#L232\" target=\"_blank\">dict.jl:232</a></ul>"
      ]
     },
     "metadata": {}
    },
    {
     "output_type": "execute_result",
     "data": {
      "text/plain": [
       "[1] html(io::IO, content::Vector{T} where T) in Markdown at C:\\Users\\victo\\AppData\\Local\\Programs\\Julia-1.6.2\\share\\julia\\stdlib\\v1.6\\Markdown\\src\\render\\html.jl:53\n",
       "[2] latex(io::IO, content::Vector{T} where T) in Markdown at C:\\Users\\victo\\AppData\\Local\\Programs\\Julia-1.6.2\\share\\julia\\stdlib\\v1.6\\Markdown\\src\\render\\latex.jl:21\n",
       "[3] \\(L::SuiteSparse.CHOLMOD.FactorComponent, b::Vector{T} where T) in SuiteSparse.CHOLMOD at C:\\Users\\victo\\AppData\\Local\\Programs\\Julia-1.6.2\\share\\julia\\stdlib\\v1.6\\SuiteSparse\\src\\cholmod.jl:1689\n",
       "[4] \\(A::Transpose{var\"#s832\", var\"#s831\"} where {var\"#s832\"<:Real, var\"#s831\"<:(Hermitian{var\"#s830\", var\"#s829\"} where {var\"#s830\"<:Real, var\"#s829\"<:SparseArrays.AbstractSparseMatrixCSC})}, B::Vector{T} where T) in SparseArrays at C:\\Users\\victo\\AppData\\Local\\Programs\\Julia-1.6.2\\share\\julia\\stdlib\\v1.6\\SparseArrays\\src\\linalg.jl:872\n",
       "[5] \\(A::Transpose{var\"#s832\", var\"#s831\"} where {var\"#s832\"<:Complex, var\"#s831\"<:(Hermitian{var\"#s830\", var\"#s829\"} where {var\"#s830\"<:Complex, var\"#s829\"<:SparseArrays.AbstractSparseMatrixCSC})}, B::Vector{T} where T) in SparseArrays at C:\\Users\\victo\\AppData\\Local\\Programs\\Julia-1.6.2\\share\\julia\\stdlib\\v1.6\\SparseArrays\\src\\linalg.jl:873\n",
       "[6] \\(A::Transpose{var\"#s832\", var\"#s831\"} where {var\"#s832\"<:Number, var\"#s831\"<:(Symmetric{var\"#s830\", var\"#s829\"} where {var\"#s830\"<:Number, var\"#s829\"<:SparseArrays.AbstractSparseMatrixCSC})}, B::Vector{T} where T) in SparseArrays at C:\\Users\\victo\\AppData\\Local\\Programs\\Julia-1.6.2\\share\\julia\\stdlib\\v1.6\\SparseArrays\\src\\linalg.jl:874\n",
       "[7] append!(a::Vector{T} where T, items::AbstractVector{T} where T) in Base at array.jl:973\n",
       "[8] deleteat!(a::Vector{T} where T, i::Integer) in Base at array.jl:1339\n",
       "[9] deleteat!(a::Vector{T} where T, r::UnitRange{var\"#s79\"} where var\"#s79\"<:Integer) in Base at array.jl:1341\n",
       "[10] deleteat!(a::Vector{T} where T, inds::AbstractVector{Bool}) in Base at array.jl:1417\n",
       "[11] deleteat!(a::Vector{T} where T, inds::AbstractVector{T} where T) in Base at array.jl:1377\n",
       "[12] deleteat!(a::Vector{T} where T, inds) in Base at array.jl:1376\n",
       "[13] empty!(a::Vector{T} where T) in Base at array.jl:1560\n",
       "[14] evalfile(path::AbstractString, args::Vector{T} where T) in Base at loading.jl:1195\n",
       "[15] getindex(group::BenchmarkGroup, keys::Vector{T} where T) in BenchmarkTools at C:\\Users\\victo\\.julia\\packages\\BenchmarkTools\\tGTCy\\src\\groups.jl:143\n",
       "[16] insert!(a::Vector{T}, i::Integer, item) where T in Base at array.jl:1313\n",
       "[17] permute!(A::SparseArrays.AbstractSparseMatrixCSC{Tv, Ti}, p::AbstractVector{var\"#s832\"} where var\"#s832\"<:Integer, q::AbstractVector{var\"#s831\"} where var\"#s831\"<:Integer, C::SparseArrays.AbstractSparseMatrixCSC{Tv, Ti}, workcolptr::Vector{Ti}) where {Tv, Ti} in SparseArrays at C:\\Users\\victo\\AppData\\Local\\Programs\\Julia-1.6.2\\share\\julia\\stdlib\\v1.6\\SparseArrays\\src\\sparsematrix.jl:1312\n",
       "[18] pop!(a::Vector{T} where T) in Base at array.jl:1178\n",
       "[19] popat!(a::Vector{T} where T, i::Integer) in Base at array.jl:1218\n",
       "[20] popat!(a::Vector{T} where T, i::Integer, default) in Base at array.jl:1224\n",
       "[21] popfirst!(a::Vector{T} where T) in Base at array.jl:1286\n",
       "[22] prepend!(a::Vector{T} where T, items::AbstractVector{T} where T) in Base at array.jl:1034\n",
       "[23] prepend!(a::Vector{T} where T, iter) in Base at array.jl:1046\n",
       "[24] push!(a::Vector{T}, item) where T in Base at array.jl:926\n",
       "[25] pushfirst!(a::Vector{T}, item) where T in Base at array.jl:1251\n",
       "[26] pushfirst!(a::Vector{T} where T, iter...) in Base at array.jl:1047\n",
       "[27] resize!(a::Vector{T} where T, nl::Integer) in Base at array.jl:1101\n",
       "[28] setindex!(group::BenchmarkGroup, x, keys::Vector{T} where T) in BenchmarkTools at C:\\Users\\victo\\.julia\\packages\\BenchmarkTools\\tGTCy\\src\\groups.jl:149\n",
       "[29] similar(a::Vector{T}) where T in Base at array.jl:353\n",
       "[30] similar(a::Vector{T}, S::Type) where T in Base at array.jl:355\n",
       "[31] size(a::Vector{T} where T) in Base at array.jl:133\n",
       "[32] sizehint!(a::Vector{T} where T, sz::Integer) in Base at array.jl:1134\n",
       "[33] splice!(a::Vector{T} where T, i::Integer) in Base at array.jl:1480\n",
       "[34] splice!(a::Vector{T} where T, i::Integer, ins) in Base at array.jl:1480\n",
       "[35] splice!(a::Vector{T} where T, r::UnitRange{var\"#s79\"} where var\"#s79\"<:Integer) in Base at array.jl:1530\n",
       "[36] splice!(a::Vector{T} where T, r::UnitRange{var\"#s78\"} where var\"#s78\"<:Integer, ins) in Base at array.jl:1530\n",
       "[37] splice!(a::Vector{T} where T, inds) in Base at array.jl:1558\n",
       "[38] write(ctx::MbedTLS.MD, buf::Vector{T} where T) in MbedTLS at C:\\Users\\victo\\.julia\\packages\\MbedTLS\\4YY6E\\src\\md.jl:133"
      ],
      "text/html": [
       "38-element Vector{Method}:<ul><li> html(io::<b>IO</b>, content::<b>Vector{T} where T</b>) in Markdown at <a href=\"file://C:/buildbot/worker/package_win64/build/usr/share/julia/stdlib/v1.6/Markdown/src/render/html.jl\" target=\"_blank\">C:\\Users\\victo\\AppData\\Local\\Programs\\Julia-1.6.2\\share\\julia\\stdlib\\v1.6\\Markdown\\src\\render\\html.jl:53</a><li> latex(io::<b>IO</b>, content::<b>Vector{T} where T</b>) in Markdown at <a href=\"file://C:/buildbot/worker/package_win64/build/usr/share/julia/stdlib/v1.6/Markdown/src/render/latex.jl\" target=\"_blank\">C:\\Users\\victo\\AppData\\Local\\Programs\\Julia-1.6.2\\share\\julia\\stdlib\\v1.6\\Markdown\\src\\render\\latex.jl:21</a><li> \\(L::<b>SuiteSparse.CHOLMOD.FactorComponent</b>, b::<b>Vector{T} where T</b>) in SuiteSparse.CHOLMOD at <a href=\"file://C:/buildbot/worker/package_win64/build/usr/share/julia/stdlib/v1.6/SuiteSparse/src/cholmod.jl\" target=\"_blank\">C:\\Users\\victo\\AppData\\Local\\Programs\\Julia-1.6.2\\share\\julia\\stdlib\\v1.6\\SuiteSparse\\src\\cholmod.jl:1689</a><li> \\(A::<b>Transpose{var\"#s832\", var\"#s831\"} where {var\"#s832\"<:Real, var\"#s831\"<:(Hermitian{var\"#s830\", var\"#s829\"} where {var\"#s830\"<:Real, var\"#s829\"<:SparseArrays.AbstractSparseMatrixCSC})}</b>, B::<b>Vector{T} where T</b>) in SparseArrays at <a href=\"file://C:/buildbot/worker/package_win64/build/usr/share/julia/stdlib/v1.6/SparseArrays/src/linalg.jl\" target=\"_blank\">C:\\Users\\victo\\AppData\\Local\\Programs\\Julia-1.6.2\\share\\julia\\stdlib\\v1.6\\SparseArrays\\src\\linalg.jl:872</a><li> \\(A::<b>Transpose{var\"#s832\", var\"#s831\"} where {var\"#s832\"<:Complex, var\"#s831\"<:(Hermitian{var\"#s830\", var\"#s829\"} where {var\"#s830\"<:Complex, var\"#s829\"<:SparseArrays.AbstractSparseMatrixCSC})}</b>, B::<b>Vector{T} where T</b>) in SparseArrays at <a href=\"file://C:/buildbot/worker/package_win64/build/usr/share/julia/stdlib/v1.6/SparseArrays/src/linalg.jl\" target=\"_blank\">C:\\Users\\victo\\AppData\\Local\\Programs\\Julia-1.6.2\\share\\julia\\stdlib\\v1.6\\SparseArrays\\src\\linalg.jl:873</a><li> \\(A::<b>Transpose{var\"#s832\", var\"#s831\"} where {var\"#s832\"<:Number, var\"#s831\"<:(Symmetric{var\"#s830\", var\"#s829\"} where {var\"#s830\"<:Number, var\"#s829\"<:SparseArrays.AbstractSparseMatrixCSC})}</b>, B::<b>Vector{T} where T</b>) in SparseArrays at <a href=\"file://C:/buildbot/worker/package_win64/build/usr/share/julia/stdlib/v1.6/SparseArrays/src/linalg.jl\" target=\"_blank\">C:\\Users\\victo\\AppData\\Local\\Programs\\Julia-1.6.2\\share\\julia\\stdlib\\v1.6\\SparseArrays\\src\\linalg.jl:874</a><li> append!(a::<b>Vector{T} where T</b>, items::<b>AbstractVector{T} where T</b>) in Base at <a href=\"https://github.com/JuliaLang/julia/tree/1b93d53fc4bb59350ada898038ed4de2994cce33/base/array.jl#L973\" target=\"_blank\">array.jl:973</a><li> deleteat!(a::<b>Vector{T} where T</b>, i::<b>Integer</b>) in Base at <a href=\"https://github.com/JuliaLang/julia/tree/1b93d53fc4bb59350ada898038ed4de2994cce33/base/array.jl#L1339\" target=\"_blank\">array.jl:1339</a><li> deleteat!(a::<b>Vector{T} where T</b>, r::<b>UnitRange{var\"#s79\"} where var\"#s79\"<:Integer</b>) in Base at <a href=\"https://github.com/JuliaLang/julia/tree/1b93d53fc4bb59350ada898038ed4de2994cce33/base/array.jl#L1341\" target=\"_blank\">array.jl:1341</a><li> deleteat!(a::<b>Vector{T} where T</b>, inds::<b>AbstractVector{Bool}</b>) in Base at <a href=\"https://github.com/JuliaLang/julia/tree/1b93d53fc4bb59350ada898038ed4de2994cce33/base/array.jl#L1417\" target=\"_blank\">array.jl:1417</a><li> deleteat!(a::<b>Vector{T} where T</b>, inds::<b>AbstractVector{T} where T</b>) in Base at <a href=\"https://github.com/JuliaLang/julia/tree/1b93d53fc4bb59350ada898038ed4de2994cce33/base/array.jl#L1377\" target=\"_blank\">array.jl:1377</a><li> deleteat!(a::<b>Vector{T} where T</b>, inds) in Base at <a href=\"https://github.com/JuliaLang/julia/tree/1b93d53fc4bb59350ada898038ed4de2994cce33/base/array.jl#L1376\" target=\"_blank\">array.jl:1376</a><li> empty!(a::<b>Vector{T} where T</b>) in Base at <a href=\"https://github.com/JuliaLang/julia/tree/1b93d53fc4bb59350ada898038ed4de2994cce33/base/array.jl#L1560\" target=\"_blank\">array.jl:1560</a><li> evalfile(path::<b>AbstractString</b>, args::<b>Vector{T} where T</b>) in Base at <a href=\"https://github.com/JuliaLang/julia/tree/1b93d53fc4bb59350ada898038ed4de2994cce33/base/loading.jl#L1195\" target=\"_blank\">loading.jl:1195</a><li> getindex(group::<b>BenchmarkGroup</b>, keys::<b>Vector{T} where T</b>) in BenchmarkTools at <a href=\"file://C:/Users/victo/.julia/packages/BenchmarkTools/tGTCy/src/groups.jl\" target=\"_blank\">C:\\Users\\victo\\.julia\\packages\\BenchmarkTools\\tGTCy\\src\\groups.jl:143</a><li> insert!(a::<b>Vector{T}</b>, i::<b>Integer</b>, item)<i> where T</i> in Base at <a href=\"https://github.com/JuliaLang/julia/tree/1b93d53fc4bb59350ada898038ed4de2994cce33/base/array.jl#L1313\" target=\"_blank\">array.jl:1313</a><li> permute!(A::<b>SparseArrays.AbstractSparseMatrixCSC{Tv, Ti}</b>, p::<b>AbstractVector{var\"#s832\"} where var\"#s832\"<:Integer</b>, q::<b>AbstractVector{var\"#s831\"} where var\"#s831\"<:Integer</b>, C::<b>SparseArrays.AbstractSparseMatrixCSC{Tv, Ti}</b>, workcolptr::<b>Vector{Ti}</b>)<i> where {Tv, Ti}</i> in SparseArrays at <a href=\"file://C:/buildbot/worker/package_win64/build/usr/share/julia/stdlib/v1.6/SparseArrays/src/sparsematrix.jl\" target=\"_blank\">C:\\Users\\victo\\AppData\\Local\\Programs\\Julia-1.6.2\\share\\julia\\stdlib\\v1.6\\SparseArrays\\src\\sparsematrix.jl:1312</a><li> pop!(a::<b>Vector{T} where T</b>) in Base at <a href=\"https://github.com/JuliaLang/julia/tree/1b93d53fc4bb59350ada898038ed4de2994cce33/base/array.jl#L1178\" target=\"_blank\">array.jl:1178</a><li> popat!(a::<b>Vector{T} where T</b>, i::<b>Integer</b>) in Base at <a href=\"https://github.com/JuliaLang/julia/tree/1b93d53fc4bb59350ada898038ed4de2994cce33/base/array.jl#L1218\" target=\"_blank\">array.jl:1218</a><li> popat!(a::<b>Vector{T} where T</b>, i::<b>Integer</b>, default) in Base at <a href=\"https://github.com/JuliaLang/julia/tree/1b93d53fc4bb59350ada898038ed4de2994cce33/base/array.jl#L1224\" target=\"_blank\">array.jl:1224</a><li> popfirst!(a::<b>Vector{T} where T</b>) in Base at <a href=\"https://github.com/JuliaLang/julia/tree/1b93d53fc4bb59350ada898038ed4de2994cce33/base/array.jl#L1286\" target=\"_blank\">array.jl:1286</a><li> prepend!(a::<b>Vector{T} where T</b>, items::<b>AbstractVector{T} where T</b>) in Base at <a href=\"https://github.com/JuliaLang/julia/tree/1b93d53fc4bb59350ada898038ed4de2994cce33/base/array.jl#L1034\" target=\"_blank\">array.jl:1034</a><li> prepend!(a::<b>Vector{T} where T</b>, iter) in Base at <a href=\"https://github.com/JuliaLang/julia/tree/1b93d53fc4bb59350ada898038ed4de2994cce33/base/array.jl#L1046\" target=\"_blank\">array.jl:1046</a><li> push!(a::<b>Vector{T}</b>, item)<i> where T</i> in Base at <a href=\"https://github.com/JuliaLang/julia/tree/1b93d53fc4bb59350ada898038ed4de2994cce33/base/array.jl#L926\" target=\"_blank\">array.jl:926</a><li> pushfirst!(a::<b>Vector{T}</b>, item)<i> where T</i> in Base at <a href=\"https://github.com/JuliaLang/julia/tree/1b93d53fc4bb59350ada898038ed4de2994cce33/base/array.jl#L1251\" target=\"_blank\">array.jl:1251</a><li> pushfirst!(a::<b>Vector{T} where T</b>, iter...) in Base at <a href=\"https://github.com/JuliaLang/julia/tree/1b93d53fc4bb59350ada898038ed4de2994cce33/base/array.jl#L1047\" target=\"_blank\">array.jl:1047</a><li> resize!(a::<b>Vector{T} where T</b>, nl::<b>Integer</b>) in Base at <a href=\"https://github.com/JuliaLang/julia/tree/1b93d53fc4bb59350ada898038ed4de2994cce33/base/array.jl#L1101\" target=\"_blank\">array.jl:1101</a><li> setindex!(group::<b>BenchmarkGroup</b>, x, keys::<b>Vector{T} where T</b>) in BenchmarkTools at <a href=\"file://C:/Users/victo/.julia/packages/BenchmarkTools/tGTCy/src/groups.jl\" target=\"_blank\">C:\\Users\\victo\\.julia\\packages\\BenchmarkTools\\tGTCy\\src\\groups.jl:149</a><li> similar(a::<b>Vector{T}</b>)<i> where T</i> in Base at <a href=\"https://github.com/JuliaLang/julia/tree/1b93d53fc4bb59350ada898038ed4de2994cce33/base/array.jl#L353\" target=\"_blank\">array.jl:353</a><li> similar(a::<b>Vector{T}</b>, S::<b>Type</b>)<i> where T</i> in Base at <a href=\"https://github.com/JuliaLang/julia/tree/1b93d53fc4bb59350ada898038ed4de2994cce33/base/array.jl#L355\" target=\"_blank\">array.jl:355</a><li> size(a::<b>Vector{T} where T</b>) in Base at <a href=\"https://github.com/JuliaLang/julia/tree/1b93d53fc4bb59350ada898038ed4de2994cce33/base/array.jl#L133\" target=\"_blank\">array.jl:133</a><li> sizehint!(a::<b>Vector{T} where T</b>, sz::<b>Integer</b>) in Base at <a href=\"https://github.com/JuliaLang/julia/tree/1b93d53fc4bb59350ada898038ed4de2994cce33/base/array.jl#L1134\" target=\"_blank\">array.jl:1134</a><li> splice!(a::<b>Vector{T} where T</b>, i::<b>Integer</b>) in Base at <a href=\"https://github.com/JuliaLang/julia/tree/1b93d53fc4bb59350ada898038ed4de2994cce33/base/array.jl#L1480\" target=\"_blank\">array.jl:1480</a><li> splice!(a::<b>Vector{T} where T</b>, i::<b>Integer</b>, ins) in Base at <a href=\"https://github.com/JuliaLang/julia/tree/1b93d53fc4bb59350ada898038ed4de2994cce33/base/array.jl#L1480\" target=\"_blank\">array.jl:1480</a><li> splice!(a::<b>Vector{T} where T</b>, r::<b>UnitRange{var\"#s79\"} where var\"#s79\"<:Integer</b>) in Base at <a href=\"https://github.com/JuliaLang/julia/tree/1b93d53fc4bb59350ada898038ed4de2994cce33/base/array.jl#L1530\" target=\"_blank\">array.jl:1530</a><li> splice!(a::<b>Vector{T} where T</b>, r::<b>UnitRange{var\"#s78\"} where var\"#s78\"<:Integer</b>, ins) in Base at <a href=\"https://github.com/JuliaLang/julia/tree/1b93d53fc4bb59350ada898038ed4de2994cce33/base/array.jl#L1530\" target=\"_blank\">array.jl:1530</a><li> splice!(a::<b>Vector{T} where T</b>, inds) in Base at <a href=\"https://github.com/JuliaLang/julia/tree/1b93d53fc4bb59350ada898038ed4de2994cce33/base/array.jl#L1558\" target=\"_blank\">array.jl:1558</a><li> write(ctx::<b>MbedTLS.MD</b>, buf::<b>Vector{T} where T</b>) in MbedTLS at <a href=\"file://C:/Users/victo/.julia/packages/MbedTLS/4YY6E/src/md.jl\" target=\"_blank\">C:\\Users\\victo\\.julia\\packages\\MbedTLS\\4YY6E\\src\\md.jl:133</a></ul>"
      ]
     },
     "metadata": {},
     "execution_count": 81
    }
   ],
   "metadata": {}
  },
  {
   "cell_type": "markdown",
   "source": [
    "### **The String Type**\r\n",
    "* Basic \r\n",
    "* Conversion between ints and characters. \r\n",
    "* Character Comparison\r\n",
    "* String indexing and slicing \r\n",
    "* Multi-byte representation of characters.\r\n",
    "  * How to index\r\n",
    "  * how to iterate \r\n",
    "  * how to slice    \r\n",
    "* concatenation\r\n",
    "\r\n",
    "\r\n",
    "\r\n",
    "Reference [here](https://docs.julialang.org/en/v1/manual/strings/)"
   ],
   "metadata": {}
  },
  {
   "cell_type": "markdown",
   "source": [
    "### **User Defined Types**\r\n",
    "* Define types and its function, paramaterized by another type, the type will be mutable. \r\n",
    "* Abstract types and the hierachy. \r\n",
    "\r\n",
    "Julia Typing: \r\n",
    "  * Empty non-instatiatable abstract types for making the hierachy\r\n",
    "  * mutable and immutable structs for conrete implementations\r\n",
    "  * Methods that are static and get associated via type definition on the method header. \r\n",
    "\r\n",
    "\r\n",
    "**The type above all types**\r\n",
    "\r\n",
    "More about julia typing, see [here](https://docs.julialang.org/en/v1/manual/types/) for more. "
   ],
   "metadata": {}
  },
  {
   "cell_type": "code",
   "execution_count": 2,
   "source": [
    "# restart kernel if you redefiend it. \r\n",
    "# This is a struct with fields and paramaterized types\r\n",
    "mutable struct MyStruct{T<:Number}\r\n",
    "    name:: String\r\n",
    "    field:: Any\r\n",
    "    num:: T\r\n",
    "end\r\n",
    "function MyStructName(this:: MyStruct)\r\n",
    "    display(this.name)\r\n",
    "end\r\n",
    "function MyStructField(this:: MyStruct)\r\n",
    "    display(this.field)\r\n",
    "end\r\n"
   ],
   "outputs": [
    {
     "output_type": "execute_result",
     "data": {
      "text/plain": [
       "MyStructField (generic function with 1 method)"
      ]
     },
     "metadata": {},
     "execution_count": 2
    }
   ],
   "metadata": {}
  },
  {
   "cell_type": "code",
   "execution_count": 4,
   "source": [
    "mystruct = MyStruct(\"myname\", \"bruh\", 3) \r\n",
    "display(mystruct)\r\n",
    "MyStructField(mystruct)\r\n",
    "MyStructName(mystruct)\r\n",
    "display(mystruct.num)\r\n"
   ],
   "outputs": [
    {
     "output_type": "display_data",
     "data": {
      "text/plain": [
       "MyStruct{Int64}(\"myname\", \"bruh\", 3)"
      ]
     },
     "metadata": {}
    },
    {
     "output_type": "display_data",
     "data": {
      "text/plain": [
       "\"bruh\""
      ]
     },
     "metadata": {}
    },
    {
     "output_type": "display_data",
     "data": {
      "text/plain": [
       "\"myname\""
      ]
     },
     "metadata": {}
    },
    {
     "output_type": "display_data",
     "data": {
      "text/plain": [
       "3"
      ]
     },
     "metadata": {}
    }
   ],
   "metadata": {}
  },
  {
   "cell_type": "markdown",
   "source": [
    "**Abstract Type**:\r\n",
    "\r\n",
    "Abstract types are types that cannot be instantiated, they are nodes on the type graph. \r\n",
    "\r\n",
    "They forms type hiearchy, linking different concrete types together. \r\n",
    "\r\n",
    "For example for numbers, Julia does the following to introduce their typing system: \r\n",
    "\r\n",
    "```julia\r\n",
    "abstract type Number end\r\n",
    "abstract type Real     <: Number end\r\n",
    "abstract type AbstractFloat <: Real end\r\n",
    "abstract type Integer  <: Real end\r\n",
    "abstract type Signed   <: Integer end\r\n",
    "abstract type Unsigned <: Integer end\r\n",
    "```\r\n",
    "\r\n",
    "Methods associated with Numbers will be applicable to all numbeers. But the conjugate transpose will only be defined for complex number. This is just an example. \r\n",
    "\r\n"
   ],
   "metadata": {}
  },
  {
   "cell_type": "code",
   "execution_count": 27,
   "source": [
    "# A student is a person with a grade, a worker is a person with a job\r\n",
    "abstract type Person \r\n",
    "end\r\n",
    "\r\n",
    "mutable struct Student{T<:Number} <: Person\r\n",
    "    name:: String\r\n",
    "    grade::T\r\n",
    "end\r\n",
    "function Getgrade(this::Student)\r\n",
    "    display(\"GPA \"* string(this.grade))\r\n",
    "end\r\n",
    "\r\n",
    "mutable struct Worker{T<:Number} <: Person \r\n",
    "    name:: String \r\n",
    "    salary:: T\r\n",
    "end\r\n",
    "function GetSalary(this::Worker)\r\n",
    "    display(\"salary: \"* string(this.salary))\r\n",
    "end\r\n",
    "function GetName(this::Person)\r\n",
    "    display(this.name)\r\n",
    "end\r\n"
   ],
   "outputs": [
    {
     "output_type": "execute_result",
     "data": {
      "text/plain": [
       "GetName (generic function with 1 method)"
      ]
     },
     "metadata": {},
     "execution_count": 27
    }
   ],
   "metadata": {}
  },
  {
   "cell_type": "code",
   "execution_count": 11,
   "source": [
    "# Try linking to a non-abstract type\r\n",
    "# And you get an error. \r\n",
    "mutable struct GoodStudent <: Student\r\n",
    "\r\n",
    "end"
   ],
   "outputs": [
    {
     "output_type": "error",
     "ename": "LoadError",
     "evalue": "invalid subtyping in definition of GoodStudent",
     "traceback": [
      "invalid subtyping in definition of GoodStudent",
      "",
      "Stacktrace:",
      " [1] top-level scope",
      "   @ In[11]:3",
      " [2] eval",
      "   @ .\\boot.jl:360 [inlined]",
      " [3] include_string(mapexpr::typeof(REPL.softscope), mod::Module, code::String, filename::String)",
      "   @ Base .\\loading.jl:1116"
     ]
    }
   ],
   "metadata": {}
  },
  {
   "cell_type": "code",
   "execution_count": 29,
   "source": [
    "theStudent = Student(\"T\", 3.9)\r\n",
    "Getgrade(theStudent)\r\n",
    "GetName(theStudent)"
   ],
   "outputs": [
    {
     "output_type": "display_data",
     "data": {
      "text/plain": [
       "\"GPA 3.9\""
      ]
     },
     "metadata": {}
    },
    {
     "output_type": "display_data",
     "data": {
      "text/plain": [
       "\"T\""
      ]
     },
     "metadata": {}
    }
   ],
   "metadata": {}
  }
 ],
 "metadata": {
  "orig_nbformat": 4,
  "language_info": {
   "file_extension": ".jl",
   "name": "julia",
   "mimetype": "application/julia",
   "version": "1.6.2"
  },
  "kernelspec": {
   "name": "julia-1.6",
   "display_name": "Julia 1.6.2",
   "language": "julia"
  }
 },
 "nbformat": 4,
 "nbformat_minor": 2
}