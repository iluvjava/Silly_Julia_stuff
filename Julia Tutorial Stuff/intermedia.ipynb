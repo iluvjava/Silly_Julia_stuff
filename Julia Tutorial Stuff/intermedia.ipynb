{
 "cells": [
  {
   "cell_type": "markdown",
   "source": [
    "# Intro\r\n",
    "It's about programming in Julia, but this time we are looking for intermediate concepts in Julia Programming. \r\n",
    "\r\n",
    "[here](http://ucidatascienceinitiative.github.io/IntroToJulia/),  \\<A Deep Introduction to Julia\\>\r\n",
    "\r\n",
    "Julia Documentation [here](https://docs.julialang.org/en/v1/)"
   ],
   "metadata": {}
  },
  {
   "cell_type": "code",
   "execution_count": 14,
   "source": [
    "# Preparations\r\n",
    "using Pkg\r\n",
    "Pkg.add(\"BenchmarkTools\")\r\n",
    "using BenchmarkTools\r\n",
    "using SparseArrays\r\n",
    "using LinearAlgebra"
   ],
   "outputs": [
    {
     "output_type": "stream",
     "name": "stderr",
     "text": [
      "\u001b[32m\u001b[1m   Resolving\u001b[22m\u001b[39m package versions...\n",
      "\u001b[32m\u001b[1m  No Changes\u001b[22m\u001b[39m to `C:\\Users\\victo\\.julia\\environments\\v1.6\\Project.toml`\n",
      "\u001b[32m\u001b[1m  No Changes\u001b[22m\u001b[39m to `C:\\Users\\victo\\.julia\\environments\\v1.6\\Manifest.toml`\n"
     ]
    }
   ],
   "metadata": {}
  },
  {
   "cell_type": "markdown",
   "source": [
    "### **Arrays, Speed, Operations and Arithmetic**\r\n",
    "* iterable as column vectors\r\n",
    "* Elementwise operations and assignments\r\n",
    "* Linear indexing of array and fast memory indexing via `eachindex`\r\n",
    "* Array in Julia is Column Major. \r\n",
    "  * Boardcase assignment via slicer. \r\n",
    "* Using `view()` to get reference to sub-array\r\n",
    "* `reshape(), vec()` are column majors and they don't copy, changes on references will cause mutations. \r\n"
   ],
   "metadata": {}
  },
  {
   "cell_type": "code",
   "execution_count": null,
   "source": [
    "# iterable type and arrays\r\n",
    "a = 1:5\r\n",
    "println(typeof(a))\r\n",
    "b = [1, 2, 3, 4, 5]\r\n",
    "println(a + b)\r\n",
    "# iterable are like column vectors. "
   ],
   "outputs": [],
   "metadata": {}
  },
  {
   "cell_type": "code",
   "execution_count": null,
   "source": [
    "# Elementwise opeartions with elementwise assignment \r\n",
    "A = rand(3, 3)\r\n",
    "B = rand(3, 3)\r\n",
    "C = rand(3, 3)\r\n",
    "D = zeros(3, 3)\r\n",
    "D .= A.*B.+C\r\n"
   ],
   "outputs": [],
   "metadata": {}
  },
  {
   "cell_type": "code",
   "execution_count": null,
   "source": [
    "# Memory optimized iterations\r\n",
    "A = rand(3, 3)\r\n",
    "s = 0\r\n",
    "for II in eachindex(A)\r\n",
    "    print(string(II)*\" \")\r\n",
    "end\r\n",
    "# Linear indexing for multi-dimensional array, becareful about that part. "
   ],
   "outputs": [],
   "metadata": {}
  },
  {
   "cell_type": "code",
   "execution_count": null,
   "source": [
    "# Linear indexing reveals that Julia is COLUMN MAJOR\r\n",
    "A = rand(3, 3)\r\n",
    "A[8] = -Inf\r\n",
    "display(A)\r\n",
    "# Boardcase assignmend via linear indexing. \r\n",
    "A[1:2] .= +NaN\r\n",
    "display(A)"
   ],
   "outputs": [],
   "metadata": {}
  },
  {
   "cell_type": "code",
   "execution_count": null,
   "source": [
    "# Recall that slicing is copying, to get reference to sub array, use view()\r\n",
    "A = rand(3, 3)\r\n",
    "B = view(A, 1:2, 1:2)\r\n",
    "B .= 0\r\n",
    "display(A)"
   ],
   "outputs": [],
   "metadata": {}
  },
  {
   "cell_type": "code",
   "execution_count": null,
   "source": [
    "# Reshape and vecorization without copying\r\n",
    "A = rand(3, 4)\r\n",
    "B = vec(A)\r\n",
    "display(B)\r\n",
    "B = reshape(B, 2, 6)\r\n",
    "display(B)\r\n",
    "# Notice, it's Column major type of reshaping, things are tiled into the columns first. \r\n",
    "B = reshape(B, 2, 2, 3)"
   ],
   "outputs": [],
   "metadata": {}
  },
  {
   "cell_type": "code",
   "execution_count": null,
   "source": [
    "# Because there are no copying, this means that: \r\n",
    "A = rand(3, 3)\r\n",
    "B = vec(A)\r\n",
    "B[1:3] .= 0\r\n",
    "display(A)\r\n",
    "# Manipulating the reshaped will cause mutations to the original. "
   ],
   "outputs": [],
   "metadata": {}
  },
  {
   "cell_type": "markdown",
   "source": [
    "**Note**: There are no performance gain over vectorization operators, forloops with types restriction can give the same performance as using vectorized operations. "
   ],
   "metadata": {}
  },
  {
   "cell_type": "markdown",
   "source": [
    "### **Special Matrix Forms for Speed Optimizations**\r\n",
    "* Tridiagonal Matrix \r\n",
    "* Sparse Array\r\n",
    "* \r\n",
    "\r\n",
    "More about SparseArrays [here](https://docs.julialang.org/en/v1/stdlib/SparseArrays/) "
   ],
   "metadata": {}
  },
  {
   "cell_type": "code",
   "execution_count": 15,
   "source": [
    "A = Tridiagonal(1:5, 1:6, 1:5)\r\n"
   ],
   "outputs": [
    {
     "output_type": "execute_result",
     "data": {
      "text/plain": [
       "3×3 Tridiagonal{Int64, UnitRange{Int64}}:\n",
       " 1  1  ⋅\n",
       " 1  2  2\n",
       " ⋅  2  3"
      ]
     },
     "metadata": {},
     "execution_count": 15
    }
   ],
   "metadata": {}
  },
  {
   "cell_type": "code",
   "execution_count": 21,
   "source": [
    "# At least 3 elements are needed to make a sparse matrix \r\n",
    "# Because it cannot infer shape from just 2 nonzero elements\r\n",
    "A = sparse([1, 2, 3], [2, 2, 1], [2, 1, 1])"
   ],
   "outputs": [
    {
     "output_type": "execute_result",
     "data": {
      "text/plain": [
       "3×2 SparseMatrixCSC{Int64, Int64} with 3 stored entries:\n",
       " ⋅  2\n",
       " ⋅  1\n",
       " 1  ⋅"
      ]
     },
     "metadata": {},
     "execution_count": 21
    }
   ],
   "metadata": {}
  },
  {
   "cell_type": "markdown",
   "source": [
    "### **Basic Data Structures**"
   ],
   "metadata": {}
  },
  {
   "cell_type": "code",
   "execution_count": null,
   "source": [],
   "outputs": [],
   "metadata": {}
  },
  {
   "cell_type": "markdown",
   "source": [
    "### **User Defined Types**"
   ],
   "metadata": {}
  },
  {
   "cell_type": "code",
   "execution_count": null,
   "source": [],
   "outputs": [],
   "metadata": {}
  }
 ],
 "metadata": {
  "orig_nbformat": 4,
  "language_info": {
   "file_extension": ".jl",
   "name": "julia",
   "mimetype": "application/julia",
   "version": "1.6.2"
  },
  "kernelspec": {
   "name": "julia-1.6",
   "display_name": "Julia 1.6.2",
   "language": "julia"
  }
 },
 "nbformat": 4,
 "nbformat_minor": 2
}